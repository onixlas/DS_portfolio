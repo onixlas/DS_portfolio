{
  "cells": [
    {
      "cell_type": "markdown",
      "metadata": {
        "id": "W3KNZ0xmLMvW"
      },
      "source": [
        "# Выбор локации для скважины"
      ]
    },
    {
      "cell_type": "markdown",
      "source": [
        "![](https://upload.wikimedia.org/wikipedia/commons/thumb/a/ad/Cromarty_Firth_Oil_Rigs_%2846600042654%29.jpg/640px-Cromarty_Firth_Oil_Rigs_%2846600042654%29.jpg 'joiseyshowaa')"
      ],
      "metadata": {
        "id": "qN-HOe8UbmID"
      }
    },
    {
      "cell_type": "markdown",
      "metadata": {
        "id": "d0IqjZQELRMx"
      },
      "source": [
        "Допустим, мы работаем в добывающей компании «ГлавРосГосНефть». Нужно решить, где бурить новую скважину.\n",
        "\n",
        "Нам предоставлены пробы нефти в трёх регионах: в каждом 10 000 месторождений, где измерили качество нефти и объём её запасов. Построим модель машинного обучения, которая поможет определить регион, где добыча принесёт наибольшую прибыль. Проанализируем возможную прибыль и риски техникой *Bootstrap.*\n",
        "\n",
        "Шаги для выбора локации:\n",
        "\n",
        "- В избранном регионе ищут месторождения, для каждого определяют значения признаков;\n",
        "- Строят модель и оценивают объём запасов;\n",
        "- Выбирают месторождения с самым высокими оценками значений. Количество месторождений зависит от бюджета компании и стоимости разработки одной скважины;\n",
        "- Прибыль равна суммарной прибыли отобранных месторождений."
      ]
    },
    {
      "cell_type": "markdown",
      "metadata": {
        "id": "csUrDIVkLUUg"
      },
      "source": [
        "## Загрузка и подготовка данных\n",
        "Данные хранятся в трёх файлах. Загрузим их и посмотрим на доступную информацию."
      ]
    },
    {
      "cell_type": "code",
      "source": [
        "! gdown 1p-xysk8oZHlv_P-v-HFCV0HZQHIJOB1A"
      ],
      "metadata": {
        "colab": {
          "base_uri": "https://localhost:8080/"
        },
        "id": "FAkedvvhbzE9",
        "outputId": "3c2da70a-0439-4bd7-ddbf-8fd068604dc9"
      },
      "execution_count": 62,
      "outputs": [
        {
          "output_type": "stream",
          "name": "stdout",
          "text": [
            "Downloading...\n",
            "From: https://drive.google.com/uc?id=1p-xysk8oZHlv_P-v-HFCV0HZQHIJOB1A\n",
            "To: /content/geo_data_0.csv\n",
            "\r  0% 0.00/8.21M [00:00<?, ?B/s]\r100% 8.21M/8.21M [00:00<00:00, 152MB/s]\n"
          ]
        }
      ]
    },
    {
      "cell_type": "code",
      "source": [
        "! gdown 1EdU8NpwYoQxMNvfTGh1QuAo5ftcDSjr7"
      ],
      "metadata": {
        "colab": {
          "base_uri": "https://localhost:8080/"
        },
        "id": "8X9_xLKncGGx",
        "outputId": "24e04806-2d8c-4aa4-f00c-358843069b9d"
      },
      "execution_count": 63,
      "outputs": [
        {
          "output_type": "stream",
          "name": "stdout",
          "text": [
            "Downloading...\n",
            "From: https://drive.google.com/uc?id=1EdU8NpwYoQxMNvfTGh1QuAo5ftcDSjr7\n",
            "To: /content/geo_data_1.csv\n",
            "\r  0% 0.00/8.03M [00:00<?, ?B/s]\r100% 8.03M/8.03M [00:00<00:00, 112MB/s]\n"
          ]
        }
      ]
    },
    {
      "cell_type": "code",
      "source": [
        "! gdown 1r8E2qBHYuiGOj9e-snBgdePa3ilSB_ht"
      ],
      "metadata": {
        "colab": {
          "base_uri": "https://localhost:8080/"
        },
        "id": "UFhPmdZQcFSj",
        "outputId": "65baafc1-819b-4f14-ebe3-a3c61d30889c"
      },
      "execution_count": 64,
      "outputs": [
        {
          "output_type": "stream",
          "name": "stdout",
          "text": [
            "Downloading...\n",
            "From: https://drive.google.com/uc?id=1r8E2qBHYuiGOj9e-snBgdePa3ilSB_ht\n",
            "To: /content/geo_data_2.csv\n",
            "\r  0% 0.00/8.19M [00:00<?, ?B/s]\r100% 8.19M/8.19M [00:00<00:00, 107MB/s]\n"
          ]
        }
      ]
    },
    {
      "cell_type": "code",
      "execution_count": 65,
      "metadata": {
        "id": "zzsqvfUoLVcb"
      },
      "outputs": [],
      "source": [
        "import pandas as pd\n",
        "import seaborn as sns\n",
        "import matplotlib.pyplot as plt\n",
        "\n",
        "from sklearn.model_selection import train_test_split\n",
        "from sklearn.linear_model import LinearRegression\n",
        "from sklearn.metrics import mean_squared_error\n",
        "\n",
        "import numpy as np"
      ]
    },
    {
      "cell_type": "code",
      "execution_count": 66,
      "metadata": {
        "id": "lLsfGxgJQnQt"
      },
      "outputs": [],
      "source": [
        "sns.set_style('darkgrid')\n",
        "sns.set(rc={\"figure.figsize\":(15, 5)})"
      ]
    },
    {
      "cell_type": "code",
      "execution_count": 67,
      "metadata": {
        "id": "DrFsHuQaMmw7"
      },
      "outputs": [],
      "source": [
        "df0 = pd.read_csv('/content/geo_data_0.csv')"
      ]
    },
    {
      "cell_type": "markdown",
      "metadata": {
        "id": "Y0eWfcWpMm0W"
      },
      "source": [
        "df0.head()"
      ]
    },
    {
      "cell_type": "code",
      "execution_count": 68,
      "metadata": {
        "colab": {
          "base_uri": "https://localhost:8080/",
          "height": 175
        },
        "id": "lfHRpwaHNQDy",
        "outputId": "baa46ba3-d324-4859-908e-4e9cfd53ce50"
      },
      "outputs": [
        {
          "output_type": "execute_result",
          "data": {
            "text/plain": [
              "            count       mean        std        min        25%        50%  \\\n",
              "f0       100000.0   0.500419   0.871832  -1.408605  -0.072580   0.502360   \n",
              "f1       100000.0   0.250143   0.504433  -0.848218  -0.200881   0.250252   \n",
              "f2       100000.0   2.502647   3.248248 -12.088328   0.287748   2.515969   \n",
              "product  100000.0  92.500000  44.288691   0.000000  56.497507  91.849972   \n",
              "\n",
              "                75%         max  \n",
              "f0         1.073581    2.362331  \n",
              "f1         0.700646    1.343769  \n",
              "f2         4.715088   16.003790  \n",
              "product  128.564089  185.364347  "
            ],
            "text/html": [
              "\n",
              "  <div id=\"df-01748db5-8eca-4eb6-8e05-7e935223d478\">\n",
              "    <div class=\"colab-df-container\">\n",
              "      <div>\n",
              "<style scoped>\n",
              "    .dataframe tbody tr th:only-of-type {\n",
              "        vertical-align: middle;\n",
              "    }\n",
              "\n",
              "    .dataframe tbody tr th {\n",
              "        vertical-align: top;\n",
              "    }\n",
              "\n",
              "    .dataframe thead th {\n",
              "        text-align: right;\n",
              "    }\n",
              "</style>\n",
              "<table border=\"1\" class=\"dataframe\">\n",
              "  <thead>\n",
              "    <tr style=\"text-align: right;\">\n",
              "      <th></th>\n",
              "      <th>count</th>\n",
              "      <th>mean</th>\n",
              "      <th>std</th>\n",
              "      <th>min</th>\n",
              "      <th>25%</th>\n",
              "      <th>50%</th>\n",
              "      <th>75%</th>\n",
              "      <th>max</th>\n",
              "    </tr>\n",
              "  </thead>\n",
              "  <tbody>\n",
              "    <tr>\n",
              "      <th>f0</th>\n",
              "      <td>100000.0</td>\n",
              "      <td>0.500419</td>\n",
              "      <td>0.871832</td>\n",
              "      <td>-1.408605</td>\n",
              "      <td>-0.072580</td>\n",
              "      <td>0.502360</td>\n",
              "      <td>1.073581</td>\n",
              "      <td>2.362331</td>\n",
              "    </tr>\n",
              "    <tr>\n",
              "      <th>f1</th>\n",
              "      <td>100000.0</td>\n",
              "      <td>0.250143</td>\n",
              "      <td>0.504433</td>\n",
              "      <td>-0.848218</td>\n",
              "      <td>-0.200881</td>\n",
              "      <td>0.250252</td>\n",
              "      <td>0.700646</td>\n",
              "      <td>1.343769</td>\n",
              "    </tr>\n",
              "    <tr>\n",
              "      <th>f2</th>\n",
              "      <td>100000.0</td>\n",
              "      <td>2.502647</td>\n",
              "      <td>3.248248</td>\n",
              "      <td>-12.088328</td>\n",
              "      <td>0.287748</td>\n",
              "      <td>2.515969</td>\n",
              "      <td>4.715088</td>\n",
              "      <td>16.003790</td>\n",
              "    </tr>\n",
              "    <tr>\n",
              "      <th>product</th>\n",
              "      <td>100000.0</td>\n",
              "      <td>92.500000</td>\n",
              "      <td>44.288691</td>\n",
              "      <td>0.000000</td>\n",
              "      <td>56.497507</td>\n",
              "      <td>91.849972</td>\n",
              "      <td>128.564089</td>\n",
              "      <td>185.364347</td>\n",
              "    </tr>\n",
              "  </tbody>\n",
              "</table>\n",
              "</div>\n",
              "      <button class=\"colab-df-convert\" onclick=\"convertToInteractive('df-01748db5-8eca-4eb6-8e05-7e935223d478')\"\n",
              "              title=\"Convert this dataframe to an interactive table.\"\n",
              "              style=\"display:none;\">\n",
              "        \n",
              "  <svg xmlns=\"http://www.w3.org/2000/svg\" height=\"24px\"viewBox=\"0 0 24 24\"\n",
              "       width=\"24px\">\n",
              "    <path d=\"M0 0h24v24H0V0z\" fill=\"none\"/>\n",
              "    <path d=\"M18.56 5.44l.94 2.06.94-2.06 2.06-.94-2.06-.94-.94-2.06-.94 2.06-2.06.94zm-11 1L8.5 8.5l.94-2.06 2.06-.94-2.06-.94L8.5 2.5l-.94 2.06-2.06.94zm10 10l.94 2.06.94-2.06 2.06-.94-2.06-.94-.94-2.06-.94 2.06-2.06.94z\"/><path d=\"M17.41 7.96l-1.37-1.37c-.4-.4-.92-.59-1.43-.59-.52 0-1.04.2-1.43.59L10.3 9.45l-7.72 7.72c-.78.78-.78 2.05 0 2.83L4 21.41c.39.39.9.59 1.41.59.51 0 1.02-.2 1.41-.59l7.78-7.78 2.81-2.81c.8-.78.8-2.07 0-2.86zM5.41 20L4 18.59l7.72-7.72 1.47 1.35L5.41 20z\"/>\n",
              "  </svg>\n",
              "      </button>\n",
              "      \n",
              "  <style>\n",
              "    .colab-df-container {\n",
              "      display:flex;\n",
              "      flex-wrap:wrap;\n",
              "      gap: 12px;\n",
              "    }\n",
              "\n",
              "    .colab-df-convert {\n",
              "      background-color: #E8F0FE;\n",
              "      border: none;\n",
              "      border-radius: 50%;\n",
              "      cursor: pointer;\n",
              "      display: none;\n",
              "      fill: #1967D2;\n",
              "      height: 32px;\n",
              "      padding: 0 0 0 0;\n",
              "      width: 32px;\n",
              "    }\n",
              "\n",
              "    .colab-df-convert:hover {\n",
              "      background-color: #E2EBFA;\n",
              "      box-shadow: 0px 1px 2px rgba(60, 64, 67, 0.3), 0px 1px 3px 1px rgba(60, 64, 67, 0.15);\n",
              "      fill: #174EA6;\n",
              "    }\n",
              "\n",
              "    [theme=dark] .colab-df-convert {\n",
              "      background-color: #3B4455;\n",
              "      fill: #D2E3FC;\n",
              "    }\n",
              "\n",
              "    [theme=dark] .colab-df-convert:hover {\n",
              "      background-color: #434B5C;\n",
              "      box-shadow: 0px 1px 3px 1px rgba(0, 0, 0, 0.15);\n",
              "      filter: drop-shadow(0px 1px 2px rgba(0, 0, 0, 0.3));\n",
              "      fill: #FFFFFF;\n",
              "    }\n",
              "  </style>\n",
              "\n",
              "      <script>\n",
              "        const buttonEl =\n",
              "          document.querySelector('#df-01748db5-8eca-4eb6-8e05-7e935223d478 button.colab-df-convert');\n",
              "        buttonEl.style.display =\n",
              "          google.colab.kernel.accessAllowed ? 'block' : 'none';\n",
              "\n",
              "        async function convertToInteractive(key) {\n",
              "          const element = document.querySelector('#df-01748db5-8eca-4eb6-8e05-7e935223d478');\n",
              "          const dataTable =\n",
              "            await google.colab.kernel.invokeFunction('convertToInteractive',\n",
              "                                                     [key], {});\n",
              "          if (!dataTable) return;\n",
              "\n",
              "          const docLinkHtml = 'Like what you see? Visit the ' +\n",
              "            '<a target=\"_blank\" href=https://colab.research.google.com/notebooks/data_table.ipynb>data table notebook</a>'\n",
              "            + ' to learn more about interactive tables.';\n",
              "          element.innerHTML = '';\n",
              "          dataTable['output_type'] = 'display_data';\n",
              "          await google.colab.output.renderOutput(dataTable, element);\n",
              "          const docLink = document.createElement('div');\n",
              "          docLink.innerHTML = docLinkHtml;\n",
              "          element.appendChild(docLink);\n",
              "        }\n",
              "      </script>\n",
              "    </div>\n",
              "  </div>\n",
              "  "
            ]
          },
          "metadata": {},
          "execution_count": 68
        }
      ],
      "source": [
        "df0.describe().T"
      ]
    },
    {
      "cell_type": "code",
      "execution_count": 69,
      "metadata": {
        "colab": {
          "base_uri": "https://localhost:8080/"
        },
        "id": "7fBZ1xmMNtOc",
        "outputId": "b1e1125b-8006-4842-bd95-4ca237d11d85"
      },
      "outputs": [
        {
          "output_type": "stream",
          "name": "stdout",
          "text": [
            "<class 'pandas.core.frame.DataFrame'>\n",
            "RangeIndex: 100000 entries, 0 to 99999\n",
            "Data columns (total 5 columns):\n",
            " #   Column   Non-Null Count   Dtype  \n",
            "---  ------   --------------   -----  \n",
            " 0   id       100000 non-null  object \n",
            " 1   f0       100000 non-null  float64\n",
            " 2   f1       100000 non-null  float64\n",
            " 3   f2       100000 non-null  float64\n",
            " 4   product  100000 non-null  float64\n",
            "dtypes: float64(4), object(1)\n",
            "memory usage: 3.8+ MB\n"
          ]
        }
      ],
      "source": [
        "df0.info()"
      ]
    },
    {
      "cell_type": "code",
      "execution_count": 70,
      "metadata": {
        "colab": {
          "base_uri": "https://localhost:8080/"
        },
        "id": "y6V1SVMaPhET",
        "outputId": "fab4e9e2-2fe6-415e-b85e-986ad804bbfb"
      },
      "outputs": [
        {
          "output_type": "execute_result",
          "data": {
            "text/plain": [
              "0"
            ]
          },
          "metadata": {},
          "execution_count": 70
        }
      ],
      "source": [
        "df0.duplicated().sum()"
      ]
    },
    {
      "cell_type": "code",
      "execution_count": 71,
      "metadata": {
        "id": "Jye4ghxNMm3t"
      },
      "outputs": [],
      "source": [
        "df1 = pd.read_csv('/content/geo_data_1.csv')"
      ]
    },
    {
      "cell_type": "code",
      "execution_count": 72,
      "metadata": {
        "colab": {
          "base_uri": "https://localhost:8080/",
          "height": 206
        },
        "id": "JqcCUtxtM-DX",
        "outputId": "8b4ee9de-c6e1-43d1-e348-c963abab15a6"
      },
      "outputs": [
        {
          "output_type": "execute_result",
          "data": {
            "text/plain": [
              "      id         f0         f1        f2     product\n",
              "0  kBEdx -15.001348  -8.276000 -0.005876    3.179103\n",
              "1  62mP7  14.272088  -3.475083  0.999183   26.953261\n",
              "2  vyE1P   6.263187  -5.948386  5.001160  134.766305\n",
              "3  KcrkZ -13.081196 -11.506057  4.999415  137.945408\n",
              "4  AHL4O  12.702195  -8.147433  5.004363  134.766305"
            ],
            "text/html": [
              "\n",
              "  <div id=\"df-48f8f14f-aece-4a1a-9c13-b14194b2ddcd\">\n",
              "    <div class=\"colab-df-container\">\n",
              "      <div>\n",
              "<style scoped>\n",
              "    .dataframe tbody tr th:only-of-type {\n",
              "        vertical-align: middle;\n",
              "    }\n",
              "\n",
              "    .dataframe tbody tr th {\n",
              "        vertical-align: top;\n",
              "    }\n",
              "\n",
              "    .dataframe thead th {\n",
              "        text-align: right;\n",
              "    }\n",
              "</style>\n",
              "<table border=\"1\" class=\"dataframe\">\n",
              "  <thead>\n",
              "    <tr style=\"text-align: right;\">\n",
              "      <th></th>\n",
              "      <th>id</th>\n",
              "      <th>f0</th>\n",
              "      <th>f1</th>\n",
              "      <th>f2</th>\n",
              "      <th>product</th>\n",
              "    </tr>\n",
              "  </thead>\n",
              "  <tbody>\n",
              "    <tr>\n",
              "      <th>0</th>\n",
              "      <td>kBEdx</td>\n",
              "      <td>-15.001348</td>\n",
              "      <td>-8.276000</td>\n",
              "      <td>-0.005876</td>\n",
              "      <td>3.179103</td>\n",
              "    </tr>\n",
              "    <tr>\n",
              "      <th>1</th>\n",
              "      <td>62mP7</td>\n",
              "      <td>14.272088</td>\n",
              "      <td>-3.475083</td>\n",
              "      <td>0.999183</td>\n",
              "      <td>26.953261</td>\n",
              "    </tr>\n",
              "    <tr>\n",
              "      <th>2</th>\n",
              "      <td>vyE1P</td>\n",
              "      <td>6.263187</td>\n",
              "      <td>-5.948386</td>\n",
              "      <td>5.001160</td>\n",
              "      <td>134.766305</td>\n",
              "    </tr>\n",
              "    <tr>\n",
              "      <th>3</th>\n",
              "      <td>KcrkZ</td>\n",
              "      <td>-13.081196</td>\n",
              "      <td>-11.506057</td>\n",
              "      <td>4.999415</td>\n",
              "      <td>137.945408</td>\n",
              "    </tr>\n",
              "    <tr>\n",
              "      <th>4</th>\n",
              "      <td>AHL4O</td>\n",
              "      <td>12.702195</td>\n",
              "      <td>-8.147433</td>\n",
              "      <td>5.004363</td>\n",
              "      <td>134.766305</td>\n",
              "    </tr>\n",
              "  </tbody>\n",
              "</table>\n",
              "</div>\n",
              "      <button class=\"colab-df-convert\" onclick=\"convertToInteractive('df-48f8f14f-aece-4a1a-9c13-b14194b2ddcd')\"\n",
              "              title=\"Convert this dataframe to an interactive table.\"\n",
              "              style=\"display:none;\">\n",
              "        \n",
              "  <svg xmlns=\"http://www.w3.org/2000/svg\" height=\"24px\"viewBox=\"0 0 24 24\"\n",
              "       width=\"24px\">\n",
              "    <path d=\"M0 0h24v24H0V0z\" fill=\"none\"/>\n",
              "    <path d=\"M18.56 5.44l.94 2.06.94-2.06 2.06-.94-2.06-.94-.94-2.06-.94 2.06-2.06.94zm-11 1L8.5 8.5l.94-2.06 2.06-.94-2.06-.94L8.5 2.5l-.94 2.06-2.06.94zm10 10l.94 2.06.94-2.06 2.06-.94-2.06-.94-.94-2.06-.94 2.06-2.06.94z\"/><path d=\"M17.41 7.96l-1.37-1.37c-.4-.4-.92-.59-1.43-.59-.52 0-1.04.2-1.43.59L10.3 9.45l-7.72 7.72c-.78.78-.78 2.05 0 2.83L4 21.41c.39.39.9.59 1.41.59.51 0 1.02-.2 1.41-.59l7.78-7.78 2.81-2.81c.8-.78.8-2.07 0-2.86zM5.41 20L4 18.59l7.72-7.72 1.47 1.35L5.41 20z\"/>\n",
              "  </svg>\n",
              "      </button>\n",
              "      \n",
              "  <style>\n",
              "    .colab-df-container {\n",
              "      display:flex;\n",
              "      flex-wrap:wrap;\n",
              "      gap: 12px;\n",
              "    }\n",
              "\n",
              "    .colab-df-convert {\n",
              "      background-color: #E8F0FE;\n",
              "      border: none;\n",
              "      border-radius: 50%;\n",
              "      cursor: pointer;\n",
              "      display: none;\n",
              "      fill: #1967D2;\n",
              "      height: 32px;\n",
              "      padding: 0 0 0 0;\n",
              "      width: 32px;\n",
              "    }\n",
              "\n",
              "    .colab-df-convert:hover {\n",
              "      background-color: #E2EBFA;\n",
              "      box-shadow: 0px 1px 2px rgba(60, 64, 67, 0.3), 0px 1px 3px 1px rgba(60, 64, 67, 0.15);\n",
              "      fill: #174EA6;\n",
              "    }\n",
              "\n",
              "    [theme=dark] .colab-df-convert {\n",
              "      background-color: #3B4455;\n",
              "      fill: #D2E3FC;\n",
              "    }\n",
              "\n",
              "    [theme=dark] .colab-df-convert:hover {\n",
              "      background-color: #434B5C;\n",
              "      box-shadow: 0px 1px 3px 1px rgba(0, 0, 0, 0.15);\n",
              "      filter: drop-shadow(0px 1px 2px rgba(0, 0, 0, 0.3));\n",
              "      fill: #FFFFFF;\n",
              "    }\n",
              "  </style>\n",
              "\n",
              "      <script>\n",
              "        const buttonEl =\n",
              "          document.querySelector('#df-48f8f14f-aece-4a1a-9c13-b14194b2ddcd button.colab-df-convert');\n",
              "        buttonEl.style.display =\n",
              "          google.colab.kernel.accessAllowed ? 'block' : 'none';\n",
              "\n",
              "        async function convertToInteractive(key) {\n",
              "          const element = document.querySelector('#df-48f8f14f-aece-4a1a-9c13-b14194b2ddcd');\n",
              "          const dataTable =\n",
              "            await google.colab.kernel.invokeFunction('convertToInteractive',\n",
              "                                                     [key], {});\n",
              "          if (!dataTable) return;\n",
              "\n",
              "          const docLinkHtml = 'Like what you see? Visit the ' +\n",
              "            '<a target=\"_blank\" href=https://colab.research.google.com/notebooks/data_table.ipynb>data table notebook</a>'\n",
              "            + ' to learn more about interactive tables.';\n",
              "          element.innerHTML = '';\n",
              "          dataTable['output_type'] = 'display_data';\n",
              "          await google.colab.output.renderOutput(dataTable, element);\n",
              "          const docLink = document.createElement('div');\n",
              "          docLink.innerHTML = docLinkHtml;\n",
              "          element.appendChild(docLink);\n",
              "        }\n",
              "      </script>\n",
              "    </div>\n",
              "  </div>\n",
              "  "
            ]
          },
          "metadata": {},
          "execution_count": 72
        }
      ],
      "source": [
        "df1.head()"
      ]
    },
    {
      "cell_type": "code",
      "execution_count": 73,
      "metadata": {
        "colab": {
          "base_uri": "https://localhost:8080/",
          "height": 175
        },
        "id": "dXc8YeGtNXBe",
        "outputId": "a1740465-d258-49db-8e7c-70c70ed0f0e8"
      },
      "outputs": [
        {
          "output_type": "execute_result",
          "data": {
            "text/plain": [
              "            count       mean        std        min        25%        50%  \\\n",
              "f0       100000.0   1.141296   8.965932 -31.609576  -6.298551   1.153055   \n",
              "f1       100000.0  -4.796579   5.119872 -26.358598  -8.267985  -4.813172   \n",
              "f2       100000.0   2.494541   1.703572  -0.018144   1.000021   2.011479   \n",
              "product  100000.0  68.825000  45.944423   0.000000  26.953261  57.085625   \n",
              "\n",
              "                75%         max  \n",
              "f0         8.621015   29.421755  \n",
              "f1        -1.332816   18.734063  \n",
              "f2         3.999904    5.019721  \n",
              "product  107.813044  137.945408  "
            ],
            "text/html": [
              "\n",
              "  <div id=\"df-380aca8b-f702-4af1-b5cc-91de51a509a1\">\n",
              "    <div class=\"colab-df-container\">\n",
              "      <div>\n",
              "<style scoped>\n",
              "    .dataframe tbody tr th:only-of-type {\n",
              "        vertical-align: middle;\n",
              "    }\n",
              "\n",
              "    .dataframe tbody tr th {\n",
              "        vertical-align: top;\n",
              "    }\n",
              "\n",
              "    .dataframe thead th {\n",
              "        text-align: right;\n",
              "    }\n",
              "</style>\n",
              "<table border=\"1\" class=\"dataframe\">\n",
              "  <thead>\n",
              "    <tr style=\"text-align: right;\">\n",
              "      <th></th>\n",
              "      <th>count</th>\n",
              "      <th>mean</th>\n",
              "      <th>std</th>\n",
              "      <th>min</th>\n",
              "      <th>25%</th>\n",
              "      <th>50%</th>\n",
              "      <th>75%</th>\n",
              "      <th>max</th>\n",
              "    </tr>\n",
              "  </thead>\n",
              "  <tbody>\n",
              "    <tr>\n",
              "      <th>f0</th>\n",
              "      <td>100000.0</td>\n",
              "      <td>1.141296</td>\n",
              "      <td>8.965932</td>\n",
              "      <td>-31.609576</td>\n",
              "      <td>-6.298551</td>\n",
              "      <td>1.153055</td>\n",
              "      <td>8.621015</td>\n",
              "      <td>29.421755</td>\n",
              "    </tr>\n",
              "    <tr>\n",
              "      <th>f1</th>\n",
              "      <td>100000.0</td>\n",
              "      <td>-4.796579</td>\n",
              "      <td>5.119872</td>\n",
              "      <td>-26.358598</td>\n",
              "      <td>-8.267985</td>\n",
              "      <td>-4.813172</td>\n",
              "      <td>-1.332816</td>\n",
              "      <td>18.734063</td>\n",
              "    </tr>\n",
              "    <tr>\n",
              "      <th>f2</th>\n",
              "      <td>100000.0</td>\n",
              "      <td>2.494541</td>\n",
              "      <td>1.703572</td>\n",
              "      <td>-0.018144</td>\n",
              "      <td>1.000021</td>\n",
              "      <td>2.011479</td>\n",
              "      <td>3.999904</td>\n",
              "      <td>5.019721</td>\n",
              "    </tr>\n",
              "    <tr>\n",
              "      <th>product</th>\n",
              "      <td>100000.0</td>\n",
              "      <td>68.825000</td>\n",
              "      <td>45.944423</td>\n",
              "      <td>0.000000</td>\n",
              "      <td>26.953261</td>\n",
              "      <td>57.085625</td>\n",
              "      <td>107.813044</td>\n",
              "      <td>137.945408</td>\n",
              "    </tr>\n",
              "  </tbody>\n",
              "</table>\n",
              "</div>\n",
              "      <button class=\"colab-df-convert\" onclick=\"convertToInteractive('df-380aca8b-f702-4af1-b5cc-91de51a509a1')\"\n",
              "              title=\"Convert this dataframe to an interactive table.\"\n",
              "              style=\"display:none;\">\n",
              "        \n",
              "  <svg xmlns=\"http://www.w3.org/2000/svg\" height=\"24px\"viewBox=\"0 0 24 24\"\n",
              "       width=\"24px\">\n",
              "    <path d=\"M0 0h24v24H0V0z\" fill=\"none\"/>\n",
              "    <path d=\"M18.56 5.44l.94 2.06.94-2.06 2.06-.94-2.06-.94-.94-2.06-.94 2.06-2.06.94zm-11 1L8.5 8.5l.94-2.06 2.06-.94-2.06-.94L8.5 2.5l-.94 2.06-2.06.94zm10 10l.94 2.06.94-2.06 2.06-.94-2.06-.94-.94-2.06-.94 2.06-2.06.94z\"/><path d=\"M17.41 7.96l-1.37-1.37c-.4-.4-.92-.59-1.43-.59-.52 0-1.04.2-1.43.59L10.3 9.45l-7.72 7.72c-.78.78-.78 2.05 0 2.83L4 21.41c.39.39.9.59 1.41.59.51 0 1.02-.2 1.41-.59l7.78-7.78 2.81-2.81c.8-.78.8-2.07 0-2.86zM5.41 20L4 18.59l7.72-7.72 1.47 1.35L5.41 20z\"/>\n",
              "  </svg>\n",
              "      </button>\n",
              "      \n",
              "  <style>\n",
              "    .colab-df-container {\n",
              "      display:flex;\n",
              "      flex-wrap:wrap;\n",
              "      gap: 12px;\n",
              "    }\n",
              "\n",
              "    .colab-df-convert {\n",
              "      background-color: #E8F0FE;\n",
              "      border: none;\n",
              "      border-radius: 50%;\n",
              "      cursor: pointer;\n",
              "      display: none;\n",
              "      fill: #1967D2;\n",
              "      height: 32px;\n",
              "      padding: 0 0 0 0;\n",
              "      width: 32px;\n",
              "    }\n",
              "\n",
              "    .colab-df-convert:hover {\n",
              "      background-color: #E2EBFA;\n",
              "      box-shadow: 0px 1px 2px rgba(60, 64, 67, 0.3), 0px 1px 3px 1px rgba(60, 64, 67, 0.15);\n",
              "      fill: #174EA6;\n",
              "    }\n",
              "\n",
              "    [theme=dark] .colab-df-convert {\n",
              "      background-color: #3B4455;\n",
              "      fill: #D2E3FC;\n",
              "    }\n",
              "\n",
              "    [theme=dark] .colab-df-convert:hover {\n",
              "      background-color: #434B5C;\n",
              "      box-shadow: 0px 1px 3px 1px rgba(0, 0, 0, 0.15);\n",
              "      filter: drop-shadow(0px 1px 2px rgba(0, 0, 0, 0.3));\n",
              "      fill: #FFFFFF;\n",
              "    }\n",
              "  </style>\n",
              "\n",
              "      <script>\n",
              "        const buttonEl =\n",
              "          document.querySelector('#df-380aca8b-f702-4af1-b5cc-91de51a509a1 button.colab-df-convert');\n",
              "        buttonEl.style.display =\n",
              "          google.colab.kernel.accessAllowed ? 'block' : 'none';\n",
              "\n",
              "        async function convertToInteractive(key) {\n",
              "          const element = document.querySelector('#df-380aca8b-f702-4af1-b5cc-91de51a509a1');\n",
              "          const dataTable =\n",
              "            await google.colab.kernel.invokeFunction('convertToInteractive',\n",
              "                                                     [key], {});\n",
              "          if (!dataTable) return;\n",
              "\n",
              "          const docLinkHtml = 'Like what you see? Visit the ' +\n",
              "            '<a target=\"_blank\" href=https://colab.research.google.com/notebooks/data_table.ipynb>data table notebook</a>'\n",
              "            + ' to learn more about interactive tables.';\n",
              "          element.innerHTML = '';\n",
              "          dataTable['output_type'] = 'display_data';\n",
              "          await google.colab.output.renderOutput(dataTable, element);\n",
              "          const docLink = document.createElement('div');\n",
              "          docLink.innerHTML = docLinkHtml;\n",
              "          element.appendChild(docLink);\n",
              "        }\n",
              "      </script>\n",
              "    </div>\n",
              "  </div>\n",
              "  "
            ]
          },
          "metadata": {},
          "execution_count": 73
        }
      ],
      "source": [
        "df1.describe().T"
      ]
    },
    {
      "cell_type": "code",
      "execution_count": 74,
      "metadata": {
        "colab": {
          "base_uri": "https://localhost:8080/"
        },
        "id": "ykhP7Ep0N3DT",
        "outputId": "5f1b4faf-88d2-4249-8d40-53eaa81bc540"
      },
      "outputs": [
        {
          "output_type": "stream",
          "name": "stdout",
          "text": [
            "<class 'pandas.core.frame.DataFrame'>\n",
            "RangeIndex: 100000 entries, 0 to 99999\n",
            "Data columns (total 5 columns):\n",
            " #   Column   Non-Null Count   Dtype  \n",
            "---  ------   --------------   -----  \n",
            " 0   id       100000 non-null  object \n",
            " 1   f0       100000 non-null  float64\n",
            " 2   f1       100000 non-null  float64\n",
            " 3   f2       100000 non-null  float64\n",
            " 4   product  100000 non-null  float64\n",
            "dtypes: float64(4), object(1)\n",
            "memory usage: 3.8+ MB\n"
          ]
        }
      ],
      "source": [
        "df1.info()"
      ]
    },
    {
      "cell_type": "code",
      "execution_count": 75,
      "metadata": {
        "colab": {
          "base_uri": "https://localhost:8080/"
        },
        "id": "9wXeudy9PoP6",
        "outputId": "5df1666d-43c9-4ce1-8498-492b1c1d4419"
      },
      "outputs": [
        {
          "output_type": "execute_result",
          "data": {
            "text/plain": [
              "0"
            ]
          },
          "metadata": {},
          "execution_count": 75
        }
      ],
      "source": [
        "df1.duplicated().sum()"
      ]
    },
    {
      "cell_type": "code",
      "execution_count": 76,
      "metadata": {
        "id": "sm84qV57NCIn"
      },
      "outputs": [],
      "source": [
        "df2 = pd.read_csv('/content/geo_data_2.csv')"
      ]
    },
    {
      "cell_type": "code",
      "execution_count": 77,
      "metadata": {
        "colab": {
          "base_uri": "https://localhost:8080/",
          "height": 206
        },
        "id": "aFC8jZc_NHyv",
        "outputId": "4ce40001-3f22-4ac7-92c8-d16a25747d93"
      },
      "outputs": [
        {
          "output_type": "execute_result",
          "data": {
            "text/plain": [
              "      id        f0        f1        f2     product\n",
              "0  fwXo0 -1.146987  0.963328 -0.828965   27.758673\n",
              "1  WJtFt  0.262778  0.269839 -2.530187   56.069697\n",
              "2  ovLUW  0.194587  0.289035 -5.586433   62.871910\n",
              "3  q6cA6  2.236060 -0.553760  0.930038  114.572842\n",
              "4  WPMUX -0.515993  1.716266  5.899011  149.600746"
            ],
            "text/html": [
              "\n",
              "  <div id=\"df-5c33ce70-1aee-4d25-9d2d-cb8d62d6abe2\">\n",
              "    <div class=\"colab-df-container\">\n",
              "      <div>\n",
              "<style scoped>\n",
              "    .dataframe tbody tr th:only-of-type {\n",
              "        vertical-align: middle;\n",
              "    }\n",
              "\n",
              "    .dataframe tbody tr th {\n",
              "        vertical-align: top;\n",
              "    }\n",
              "\n",
              "    .dataframe thead th {\n",
              "        text-align: right;\n",
              "    }\n",
              "</style>\n",
              "<table border=\"1\" class=\"dataframe\">\n",
              "  <thead>\n",
              "    <tr style=\"text-align: right;\">\n",
              "      <th></th>\n",
              "      <th>id</th>\n",
              "      <th>f0</th>\n",
              "      <th>f1</th>\n",
              "      <th>f2</th>\n",
              "      <th>product</th>\n",
              "    </tr>\n",
              "  </thead>\n",
              "  <tbody>\n",
              "    <tr>\n",
              "      <th>0</th>\n",
              "      <td>fwXo0</td>\n",
              "      <td>-1.146987</td>\n",
              "      <td>0.963328</td>\n",
              "      <td>-0.828965</td>\n",
              "      <td>27.758673</td>\n",
              "    </tr>\n",
              "    <tr>\n",
              "      <th>1</th>\n",
              "      <td>WJtFt</td>\n",
              "      <td>0.262778</td>\n",
              "      <td>0.269839</td>\n",
              "      <td>-2.530187</td>\n",
              "      <td>56.069697</td>\n",
              "    </tr>\n",
              "    <tr>\n",
              "      <th>2</th>\n",
              "      <td>ovLUW</td>\n",
              "      <td>0.194587</td>\n",
              "      <td>0.289035</td>\n",
              "      <td>-5.586433</td>\n",
              "      <td>62.871910</td>\n",
              "    </tr>\n",
              "    <tr>\n",
              "      <th>3</th>\n",
              "      <td>q6cA6</td>\n",
              "      <td>2.236060</td>\n",
              "      <td>-0.553760</td>\n",
              "      <td>0.930038</td>\n",
              "      <td>114.572842</td>\n",
              "    </tr>\n",
              "    <tr>\n",
              "      <th>4</th>\n",
              "      <td>WPMUX</td>\n",
              "      <td>-0.515993</td>\n",
              "      <td>1.716266</td>\n",
              "      <td>5.899011</td>\n",
              "      <td>149.600746</td>\n",
              "    </tr>\n",
              "  </tbody>\n",
              "</table>\n",
              "</div>\n",
              "      <button class=\"colab-df-convert\" onclick=\"convertToInteractive('df-5c33ce70-1aee-4d25-9d2d-cb8d62d6abe2')\"\n",
              "              title=\"Convert this dataframe to an interactive table.\"\n",
              "              style=\"display:none;\">\n",
              "        \n",
              "  <svg xmlns=\"http://www.w3.org/2000/svg\" height=\"24px\"viewBox=\"0 0 24 24\"\n",
              "       width=\"24px\">\n",
              "    <path d=\"M0 0h24v24H0V0z\" fill=\"none\"/>\n",
              "    <path d=\"M18.56 5.44l.94 2.06.94-2.06 2.06-.94-2.06-.94-.94-2.06-.94 2.06-2.06.94zm-11 1L8.5 8.5l.94-2.06 2.06-.94-2.06-.94L8.5 2.5l-.94 2.06-2.06.94zm10 10l.94 2.06.94-2.06 2.06-.94-2.06-.94-.94-2.06-.94 2.06-2.06.94z\"/><path d=\"M17.41 7.96l-1.37-1.37c-.4-.4-.92-.59-1.43-.59-.52 0-1.04.2-1.43.59L10.3 9.45l-7.72 7.72c-.78.78-.78 2.05 0 2.83L4 21.41c.39.39.9.59 1.41.59.51 0 1.02-.2 1.41-.59l7.78-7.78 2.81-2.81c.8-.78.8-2.07 0-2.86zM5.41 20L4 18.59l7.72-7.72 1.47 1.35L5.41 20z\"/>\n",
              "  </svg>\n",
              "      </button>\n",
              "      \n",
              "  <style>\n",
              "    .colab-df-container {\n",
              "      display:flex;\n",
              "      flex-wrap:wrap;\n",
              "      gap: 12px;\n",
              "    }\n",
              "\n",
              "    .colab-df-convert {\n",
              "      background-color: #E8F0FE;\n",
              "      border: none;\n",
              "      border-radius: 50%;\n",
              "      cursor: pointer;\n",
              "      display: none;\n",
              "      fill: #1967D2;\n",
              "      height: 32px;\n",
              "      padding: 0 0 0 0;\n",
              "      width: 32px;\n",
              "    }\n",
              "\n",
              "    .colab-df-convert:hover {\n",
              "      background-color: #E2EBFA;\n",
              "      box-shadow: 0px 1px 2px rgba(60, 64, 67, 0.3), 0px 1px 3px 1px rgba(60, 64, 67, 0.15);\n",
              "      fill: #174EA6;\n",
              "    }\n",
              "\n",
              "    [theme=dark] .colab-df-convert {\n",
              "      background-color: #3B4455;\n",
              "      fill: #D2E3FC;\n",
              "    }\n",
              "\n",
              "    [theme=dark] .colab-df-convert:hover {\n",
              "      background-color: #434B5C;\n",
              "      box-shadow: 0px 1px 3px 1px rgba(0, 0, 0, 0.15);\n",
              "      filter: drop-shadow(0px 1px 2px rgba(0, 0, 0, 0.3));\n",
              "      fill: #FFFFFF;\n",
              "    }\n",
              "  </style>\n",
              "\n",
              "      <script>\n",
              "        const buttonEl =\n",
              "          document.querySelector('#df-5c33ce70-1aee-4d25-9d2d-cb8d62d6abe2 button.colab-df-convert');\n",
              "        buttonEl.style.display =\n",
              "          google.colab.kernel.accessAllowed ? 'block' : 'none';\n",
              "\n",
              "        async function convertToInteractive(key) {\n",
              "          const element = document.querySelector('#df-5c33ce70-1aee-4d25-9d2d-cb8d62d6abe2');\n",
              "          const dataTable =\n",
              "            await google.colab.kernel.invokeFunction('convertToInteractive',\n",
              "                                                     [key], {});\n",
              "          if (!dataTable) return;\n",
              "\n",
              "          const docLinkHtml = 'Like what you see? Visit the ' +\n",
              "            '<a target=\"_blank\" href=https://colab.research.google.com/notebooks/data_table.ipynb>data table notebook</a>'\n",
              "            + ' to learn more about interactive tables.';\n",
              "          element.innerHTML = '';\n",
              "          dataTable['output_type'] = 'display_data';\n",
              "          await google.colab.output.renderOutput(dataTable, element);\n",
              "          const docLink = document.createElement('div');\n",
              "          docLink.innerHTML = docLinkHtml;\n",
              "          element.appendChild(docLink);\n",
              "        }\n",
              "      </script>\n",
              "    </div>\n",
              "  </div>\n",
              "  "
            ]
          },
          "metadata": {},
          "execution_count": 77
        }
      ],
      "source": [
        "df2.head()"
      ]
    },
    {
      "cell_type": "code",
      "execution_count": 78,
      "metadata": {
        "colab": {
          "base_uri": "https://localhost:8080/",
          "height": 175
        },
        "id": "jcWs1HL7NaNb",
        "outputId": "213163d6-e65a-48db-e0a1-1c2997f4c8b7"
      },
      "outputs": [
        {
          "output_type": "execute_result",
          "data": {
            "text/plain": [
              "            count       mean        std        min        25%        50%  \\\n",
              "f0       100000.0   0.002023   1.732045  -8.760004  -1.162288   0.009424   \n",
              "f1       100000.0  -0.002081   1.730417  -7.084020  -1.174820  -0.009482   \n",
              "f2       100000.0   2.495128   3.473445 -11.970335   0.130359   2.484236   \n",
              "product  100000.0  95.000000  44.749921   0.000000  59.450441  94.925613   \n",
              "\n",
              "                75%         max  \n",
              "f0         1.158535    7.238262  \n",
              "f1         1.163678    7.844801  \n",
              "f2         4.858794   16.739402  \n",
              "product  130.595027  190.029838  "
            ],
            "text/html": [
              "\n",
              "  <div id=\"df-8b2f6397-1eb0-4f26-94ad-95d5adcb914d\">\n",
              "    <div class=\"colab-df-container\">\n",
              "      <div>\n",
              "<style scoped>\n",
              "    .dataframe tbody tr th:only-of-type {\n",
              "        vertical-align: middle;\n",
              "    }\n",
              "\n",
              "    .dataframe tbody tr th {\n",
              "        vertical-align: top;\n",
              "    }\n",
              "\n",
              "    .dataframe thead th {\n",
              "        text-align: right;\n",
              "    }\n",
              "</style>\n",
              "<table border=\"1\" class=\"dataframe\">\n",
              "  <thead>\n",
              "    <tr style=\"text-align: right;\">\n",
              "      <th></th>\n",
              "      <th>count</th>\n",
              "      <th>mean</th>\n",
              "      <th>std</th>\n",
              "      <th>min</th>\n",
              "      <th>25%</th>\n",
              "      <th>50%</th>\n",
              "      <th>75%</th>\n",
              "      <th>max</th>\n",
              "    </tr>\n",
              "  </thead>\n",
              "  <tbody>\n",
              "    <tr>\n",
              "      <th>f0</th>\n",
              "      <td>100000.0</td>\n",
              "      <td>0.002023</td>\n",
              "      <td>1.732045</td>\n",
              "      <td>-8.760004</td>\n",
              "      <td>-1.162288</td>\n",
              "      <td>0.009424</td>\n",
              "      <td>1.158535</td>\n",
              "      <td>7.238262</td>\n",
              "    </tr>\n",
              "    <tr>\n",
              "      <th>f1</th>\n",
              "      <td>100000.0</td>\n",
              "      <td>-0.002081</td>\n",
              "      <td>1.730417</td>\n",
              "      <td>-7.084020</td>\n",
              "      <td>-1.174820</td>\n",
              "      <td>-0.009482</td>\n",
              "      <td>1.163678</td>\n",
              "      <td>7.844801</td>\n",
              "    </tr>\n",
              "    <tr>\n",
              "      <th>f2</th>\n",
              "      <td>100000.0</td>\n",
              "      <td>2.495128</td>\n",
              "      <td>3.473445</td>\n",
              "      <td>-11.970335</td>\n",
              "      <td>0.130359</td>\n",
              "      <td>2.484236</td>\n",
              "      <td>4.858794</td>\n",
              "      <td>16.739402</td>\n",
              "    </tr>\n",
              "    <tr>\n",
              "      <th>product</th>\n",
              "      <td>100000.0</td>\n",
              "      <td>95.000000</td>\n",
              "      <td>44.749921</td>\n",
              "      <td>0.000000</td>\n",
              "      <td>59.450441</td>\n",
              "      <td>94.925613</td>\n",
              "      <td>130.595027</td>\n",
              "      <td>190.029838</td>\n",
              "    </tr>\n",
              "  </tbody>\n",
              "</table>\n",
              "</div>\n",
              "      <button class=\"colab-df-convert\" onclick=\"convertToInteractive('df-8b2f6397-1eb0-4f26-94ad-95d5adcb914d')\"\n",
              "              title=\"Convert this dataframe to an interactive table.\"\n",
              "              style=\"display:none;\">\n",
              "        \n",
              "  <svg xmlns=\"http://www.w3.org/2000/svg\" height=\"24px\"viewBox=\"0 0 24 24\"\n",
              "       width=\"24px\">\n",
              "    <path d=\"M0 0h24v24H0V0z\" fill=\"none\"/>\n",
              "    <path d=\"M18.56 5.44l.94 2.06.94-2.06 2.06-.94-2.06-.94-.94-2.06-.94 2.06-2.06.94zm-11 1L8.5 8.5l.94-2.06 2.06-.94-2.06-.94L8.5 2.5l-.94 2.06-2.06.94zm10 10l.94 2.06.94-2.06 2.06-.94-2.06-.94-.94-2.06-.94 2.06-2.06.94z\"/><path d=\"M17.41 7.96l-1.37-1.37c-.4-.4-.92-.59-1.43-.59-.52 0-1.04.2-1.43.59L10.3 9.45l-7.72 7.72c-.78.78-.78 2.05 0 2.83L4 21.41c.39.39.9.59 1.41.59.51 0 1.02-.2 1.41-.59l7.78-7.78 2.81-2.81c.8-.78.8-2.07 0-2.86zM5.41 20L4 18.59l7.72-7.72 1.47 1.35L5.41 20z\"/>\n",
              "  </svg>\n",
              "      </button>\n",
              "      \n",
              "  <style>\n",
              "    .colab-df-container {\n",
              "      display:flex;\n",
              "      flex-wrap:wrap;\n",
              "      gap: 12px;\n",
              "    }\n",
              "\n",
              "    .colab-df-convert {\n",
              "      background-color: #E8F0FE;\n",
              "      border: none;\n",
              "      border-radius: 50%;\n",
              "      cursor: pointer;\n",
              "      display: none;\n",
              "      fill: #1967D2;\n",
              "      height: 32px;\n",
              "      padding: 0 0 0 0;\n",
              "      width: 32px;\n",
              "    }\n",
              "\n",
              "    .colab-df-convert:hover {\n",
              "      background-color: #E2EBFA;\n",
              "      box-shadow: 0px 1px 2px rgba(60, 64, 67, 0.3), 0px 1px 3px 1px rgba(60, 64, 67, 0.15);\n",
              "      fill: #174EA6;\n",
              "    }\n",
              "\n",
              "    [theme=dark] .colab-df-convert {\n",
              "      background-color: #3B4455;\n",
              "      fill: #D2E3FC;\n",
              "    }\n",
              "\n",
              "    [theme=dark] .colab-df-convert:hover {\n",
              "      background-color: #434B5C;\n",
              "      box-shadow: 0px 1px 3px 1px rgba(0, 0, 0, 0.15);\n",
              "      filter: drop-shadow(0px 1px 2px rgba(0, 0, 0, 0.3));\n",
              "      fill: #FFFFFF;\n",
              "    }\n",
              "  </style>\n",
              "\n",
              "      <script>\n",
              "        const buttonEl =\n",
              "          document.querySelector('#df-8b2f6397-1eb0-4f26-94ad-95d5adcb914d button.colab-df-convert');\n",
              "        buttonEl.style.display =\n",
              "          google.colab.kernel.accessAllowed ? 'block' : 'none';\n",
              "\n",
              "        async function convertToInteractive(key) {\n",
              "          const element = document.querySelector('#df-8b2f6397-1eb0-4f26-94ad-95d5adcb914d');\n",
              "          const dataTable =\n",
              "            await google.colab.kernel.invokeFunction('convertToInteractive',\n",
              "                                                     [key], {});\n",
              "          if (!dataTable) return;\n",
              "\n",
              "          const docLinkHtml = 'Like what you see? Visit the ' +\n",
              "            '<a target=\"_blank\" href=https://colab.research.google.com/notebooks/data_table.ipynb>data table notebook</a>'\n",
              "            + ' to learn more about interactive tables.';\n",
              "          element.innerHTML = '';\n",
              "          dataTable['output_type'] = 'display_data';\n",
              "          await google.colab.output.renderOutput(dataTable, element);\n",
              "          const docLink = document.createElement('div');\n",
              "          docLink.innerHTML = docLinkHtml;\n",
              "          element.appendChild(docLink);\n",
              "        }\n",
              "      </script>\n",
              "    </div>\n",
              "  </div>\n",
              "  "
            ]
          },
          "metadata": {},
          "execution_count": 78
        }
      ],
      "source": [
        "df2.describe().T"
      ]
    },
    {
      "cell_type": "code",
      "execution_count": 79,
      "metadata": {
        "colab": {
          "base_uri": "https://localhost:8080/"
        },
        "id": "Sj7PTCWmN5E0",
        "outputId": "28965be9-c435-46f5-eb20-92bb0efeba9d"
      },
      "outputs": [
        {
          "output_type": "stream",
          "name": "stdout",
          "text": [
            "<class 'pandas.core.frame.DataFrame'>\n",
            "RangeIndex: 100000 entries, 0 to 99999\n",
            "Data columns (total 5 columns):\n",
            " #   Column   Non-Null Count   Dtype  \n",
            "---  ------   --------------   -----  \n",
            " 0   id       100000 non-null  object \n",
            " 1   f0       100000 non-null  float64\n",
            " 2   f1       100000 non-null  float64\n",
            " 3   f2       100000 non-null  float64\n",
            " 4   product  100000 non-null  float64\n",
            "dtypes: float64(4), object(1)\n",
            "memory usage: 3.8+ MB\n"
          ]
        }
      ],
      "source": [
        "df2.info()"
      ]
    },
    {
      "cell_type": "code",
      "execution_count": 80,
      "metadata": {
        "colab": {
          "base_uri": "https://localhost:8080/"
        },
        "id": "UXIRIGg1Pu8n",
        "outputId": "27a445d3-8fe4-4a91-dc0b-c3553d185ffe"
      },
      "outputs": [
        {
          "output_type": "execute_result",
          "data": {
            "text/plain": [
              "0"
            ]
          },
          "metadata": {},
          "execution_count": 80
        }
      ],
      "source": [
        "df2.duplicated().sum()"
      ]
    },
    {
      "cell_type": "markdown",
      "metadata": {
        "id": "9l_50FmBOHUt"
      },
      "source": [
        "Итак, мы загрузили три набора данных. В каждом наборе имеется информация о 100 тысячах месторождений. Для каждого местрождения доступны признаки $f_0$, $f_1$, $f_2$. Что скрывается за этими признаками — неизвестно, но известно, что признаки значимые. Для каждого месторождения в колонке `product` приведена информация об объёме запасов (тысячи баррелей). Пропусков и дупликатов не обнаружено, все типы данных определились корректно."
      ]
    },
    {
      "cell_type": "markdown",
      "metadata": {
        "id": "eHcOjhuOPHwa"
      },
      "source": [
        "### Исследовательский анализ данных\n",
        "\n",
        "Посмотрим на доступные данные подробнее."
      ]
    },
    {
      "cell_type": "code",
      "execution_count": 81,
      "metadata": {
        "id": "DC43LGLfarxW"
      },
      "outputs": [],
      "source": [
        "def eda(parameter_name, parameter_name_for_plots):\n",
        "    #describe\n",
        "    print(f'Параметр {parameter_name} в датафрейме df0:')\n",
        "    display(df0[parameter_name].describe().to_frame())\n",
        "    print(f'Параметр {parameter_name} в датафрейме df1:')\n",
        "    display(df1[parameter_name].describe().to_frame())\n",
        "    print(f'Параметр {parameter_name} в датафрейме df2:')\n",
        "    display(df2[parameter_name].describe().to_frame())\n",
        "    \n",
        "    #plots\n",
        "    f, (ax_hist, ax_box) = plt.subplots(2, sharex=True, \n",
        "                                        gridspec_kw={\"height_ratios\": \n",
        "                                                     (.85, .15)})\n",
        "    sns.histplot(data=df0, x=parameter_name, kde=True, ax=ax_hist)\\\n",
        "    .set(title=f'Гистограмма распределения признака ${parameter_name_for_plots}$, регион 0',\n",
        "         ylabel='Количество записей');\n",
        "    sns.boxplot(data=df0, x=parameter_name, ax=ax_box)\\\n",
        "    .set(xlabel=f'Значения признака ${parameter_name_for_plots}$');\n",
        "    plt.show()\n",
        "    \n",
        "    f, (ax_hist, ax_box) = plt.subplots(2, sharex=True, \n",
        "                                        gridspec_kw={\"height_ratios\": \n",
        "                                                     (.85, .15)})\n",
        "    sns.histplot(data=df1, x=parameter_name, kde=True, ax=ax_hist)\\\n",
        "    .set(title=f'Гистограмма распределения признака ${parameter_name_for_plots}$, регион 1',\n",
        "         ylabel='Количество записей');\n",
        "    sns.boxplot(data=df1, x=parameter_name, ax=ax_box)\\\n",
        "    .set(xlabel=f'Значения признака ${parameter_name_for_plots}$');\n",
        "    plt.show()\n",
        "    \n",
        "    f, (ax_hist, ax_box) = plt.subplots(2, sharex=True, \n",
        "                                        gridspec_kw={\"height_ratios\": \n",
        "                                                     (.85, .15)})\n",
        "    sns.histplot(data=df2, x=parameter_name, kde=True, ax=ax_hist)\\\n",
        "    .set(title=f'Гистограмма распределения признака ${parameter_name_for_plots}$, регион 2',\n",
        "         ylabel='Количество записей');\n",
        "    sns.boxplot(data=df2, x=parameter_name, ax=ax_box)\\\n",
        "    .set(xlabel=f'Значения признака ${parameter_name_for_plots}$');\n",
        "    plt.show()"
      ]
    },
    {
      "cell_type": "markdown",
      "metadata": {
        "id": "PKtj0DQaP6gf"
      },
      "source": [
        "#### Признак $f_0$"
      ]
    },
    {
      "cell_type": "code",
      "execution_count": 82,
      "metadata": {
        "scrolled": false,
        "colab": {
          "base_uri": "https://localhost:8080/",
          "height": 1000
        },
        "id": "D5Vq1WLUarxZ",
        "outputId": "13b73c1b-cbf6-4d9a-c200-fa5614d46389"
      },
      "outputs": [
        {
          "output_type": "stream",
          "name": "stdout",
          "text": [
            "Параметр f0 в датафрейме df0:\n"
          ]
        },
        {
          "output_type": "display_data",
          "data": {
            "text/plain": [
              "                  f0\n",
              "count  100000.000000\n",
              "mean        0.500419\n",
              "std         0.871832\n",
              "min        -1.408605\n",
              "25%        -0.072580\n",
              "50%         0.502360\n",
              "75%         1.073581\n",
              "max         2.362331"
            ],
            "text/html": [
              "\n",
              "  <div id=\"df-9f0bdb9a-e773-4035-9254-1ab04e0cdb6c\">\n",
              "    <div class=\"colab-df-container\">\n",
              "      <div>\n",
              "<style scoped>\n",
              "    .dataframe tbody tr th:only-of-type {\n",
              "        vertical-align: middle;\n",
              "    }\n",
              "\n",
              "    .dataframe tbody tr th {\n",
              "        vertical-align: top;\n",
              "    }\n",
              "\n",
              "    .dataframe thead th {\n",
              "        text-align: right;\n",
              "    }\n",
              "</style>\n",
              "<table border=\"1\" class=\"dataframe\">\n",
              "  <thead>\n",
              "    <tr style=\"text-align: right;\">\n",
              "      <th></th>\n",
              "      <th>f0</th>\n",
              "    </tr>\n",
              "  </thead>\n",
              "  <tbody>\n",
              "    <tr>\n",
              "      <th>count</th>\n",
              "      <td>100000.000000</td>\n",
              "    </tr>\n",
              "    <tr>\n",
              "      <th>mean</th>\n",
              "      <td>0.500419</td>\n",
              "    </tr>\n",
              "    <tr>\n",
              "      <th>std</th>\n",
              "      <td>0.871832</td>\n",
              "    </tr>\n",
              "    <tr>\n",
              "      <th>min</th>\n",
              "      <td>-1.408605</td>\n",
              "    </tr>\n",
              "    <tr>\n",
              "      <th>25%</th>\n",
              "      <td>-0.072580</td>\n",
              "    </tr>\n",
              "    <tr>\n",
              "      <th>50%</th>\n",
              "      <td>0.502360</td>\n",
              "    </tr>\n",
              "    <tr>\n",
              "      <th>75%</th>\n",
              "      <td>1.073581</td>\n",
              "    </tr>\n",
              "    <tr>\n",
              "      <th>max</th>\n",
              "      <td>2.362331</td>\n",
              "    </tr>\n",
              "  </tbody>\n",
              "</table>\n",
              "</div>\n",
              "      <button class=\"colab-df-convert\" onclick=\"convertToInteractive('df-9f0bdb9a-e773-4035-9254-1ab04e0cdb6c')\"\n",
              "              title=\"Convert this dataframe to an interactive table.\"\n",
              "              style=\"display:none;\">\n",
              "        \n",
              "  <svg xmlns=\"http://www.w3.org/2000/svg\" height=\"24px\"viewBox=\"0 0 24 24\"\n",
              "       width=\"24px\">\n",
              "    <path d=\"M0 0h24v24H0V0z\" fill=\"none\"/>\n",
              "    <path d=\"M18.56 5.44l.94 2.06.94-2.06 2.06-.94-2.06-.94-.94-2.06-.94 2.06-2.06.94zm-11 1L8.5 8.5l.94-2.06 2.06-.94-2.06-.94L8.5 2.5l-.94 2.06-2.06.94zm10 10l.94 2.06.94-2.06 2.06-.94-2.06-.94-.94-2.06-.94 2.06-2.06.94z\"/><path d=\"M17.41 7.96l-1.37-1.37c-.4-.4-.92-.59-1.43-.59-.52 0-1.04.2-1.43.59L10.3 9.45l-7.72 7.72c-.78.78-.78 2.05 0 2.83L4 21.41c.39.39.9.59 1.41.59.51 0 1.02-.2 1.41-.59l7.78-7.78 2.81-2.81c.8-.78.8-2.07 0-2.86zM5.41 20L4 18.59l7.72-7.72 1.47 1.35L5.41 20z\"/>\n",
              "  </svg>\n",
              "      </button>\n",
              "      \n",
              "  <style>\n",
              "    .colab-df-container {\n",
              "      display:flex;\n",
              "      flex-wrap:wrap;\n",
              "      gap: 12px;\n",
              "    }\n",
              "\n",
              "    .colab-df-convert {\n",
              "      background-color: #E8F0FE;\n",
              "      border: none;\n",
              "      border-radius: 50%;\n",
              "      cursor: pointer;\n",
              "      display: none;\n",
              "      fill: #1967D2;\n",
              "      height: 32px;\n",
              "      padding: 0 0 0 0;\n",
              "      width: 32px;\n",
              "    }\n",
              "\n",
              "    .colab-df-convert:hover {\n",
              "      background-color: #E2EBFA;\n",
              "      box-shadow: 0px 1px 2px rgba(60, 64, 67, 0.3), 0px 1px 3px 1px rgba(60, 64, 67, 0.15);\n",
              "      fill: #174EA6;\n",
              "    }\n",
              "\n",
              "    [theme=dark] .colab-df-convert {\n",
              "      background-color: #3B4455;\n",
              "      fill: #D2E3FC;\n",
              "    }\n",
              "\n",
              "    [theme=dark] .colab-df-convert:hover {\n",
              "      background-color: #434B5C;\n",
              "      box-shadow: 0px 1px 3px 1px rgba(0, 0, 0, 0.15);\n",
              "      filter: drop-shadow(0px 1px 2px rgba(0, 0, 0, 0.3));\n",
              "      fill: #FFFFFF;\n",
              "    }\n",
              "  </style>\n",
              "\n",
              "      <script>\n",
              "        const buttonEl =\n",
              "          document.querySelector('#df-9f0bdb9a-e773-4035-9254-1ab04e0cdb6c button.colab-df-convert');\n",
              "        buttonEl.style.display =\n",
              "          google.colab.kernel.accessAllowed ? 'block' : 'none';\n",
              "\n",
              "        async function convertToInteractive(key) {\n",
              "          const element = document.querySelector('#df-9f0bdb9a-e773-4035-9254-1ab04e0cdb6c');\n",
              "          const dataTable =\n",
              "            await google.colab.kernel.invokeFunction('convertToInteractive',\n",
              "                                                     [key], {});\n",
              "          if (!dataTable) return;\n",
              "\n",
              "          const docLinkHtml = 'Like what you see? Visit the ' +\n",
              "            '<a target=\"_blank\" href=https://colab.research.google.com/notebooks/data_table.ipynb>data table notebook</a>'\n",
              "            + ' to learn more about interactive tables.';\n",
              "          element.innerHTML = '';\n",
              "          dataTable['output_type'] = 'display_data';\n",
              "          await google.colab.output.renderOutput(dataTable, element);\n",
              "          const docLink = document.createElement('div');\n",
              "          docLink.innerHTML = docLinkHtml;\n",
              "          element.appendChild(docLink);\n",
              "        }\n",
              "      </script>\n",
              "    </div>\n",
              "  </div>\n",
              "  "
            ]
          },
          "metadata": {}
        },
        {
          "output_type": "stream",
          "name": "stdout",
          "text": [
            "Параметр f0 в датафрейме df1:\n"
          ]
        },
        {
          "output_type": "display_data",
          "data": {
            "text/plain": [
              "                  f0\n",
              "count  100000.000000\n",
              "mean        1.141296\n",
              "std         8.965932\n",
              "min       -31.609576\n",
              "25%        -6.298551\n",
              "50%         1.153055\n",
              "75%         8.621015\n",
              "max        29.421755"
            ],
            "text/html": [
              "\n",
              "  <div id=\"df-16fbb418-d630-436a-8f56-c35070e95465\">\n",
              "    <div class=\"colab-df-container\">\n",
              "      <div>\n",
              "<style scoped>\n",
              "    .dataframe tbody tr th:only-of-type {\n",
              "        vertical-align: middle;\n",
              "    }\n",
              "\n",
              "    .dataframe tbody tr th {\n",
              "        vertical-align: top;\n",
              "    }\n",
              "\n",
              "    .dataframe thead th {\n",
              "        text-align: right;\n",
              "    }\n",
              "</style>\n",
              "<table border=\"1\" class=\"dataframe\">\n",
              "  <thead>\n",
              "    <tr style=\"text-align: right;\">\n",
              "      <th></th>\n",
              "      <th>f0</th>\n",
              "    </tr>\n",
              "  </thead>\n",
              "  <tbody>\n",
              "    <tr>\n",
              "      <th>count</th>\n",
              "      <td>100000.000000</td>\n",
              "    </tr>\n",
              "    <tr>\n",
              "      <th>mean</th>\n",
              "      <td>1.141296</td>\n",
              "    </tr>\n",
              "    <tr>\n",
              "      <th>std</th>\n",
              "      <td>8.965932</td>\n",
              "    </tr>\n",
              "    <tr>\n",
              "      <th>min</th>\n",
              "      <td>-31.609576</td>\n",
              "    </tr>\n",
              "    <tr>\n",
              "      <th>25%</th>\n",
              "      <td>-6.298551</td>\n",
              "    </tr>\n",
              "    <tr>\n",
              "      <th>50%</th>\n",
              "      <td>1.153055</td>\n",
              "    </tr>\n",
              "    <tr>\n",
              "      <th>75%</th>\n",
              "      <td>8.621015</td>\n",
              "    </tr>\n",
              "    <tr>\n",
              "      <th>max</th>\n",
              "      <td>29.421755</td>\n",
              "    </tr>\n",
              "  </tbody>\n",
              "</table>\n",
              "</div>\n",
              "      <button class=\"colab-df-convert\" onclick=\"convertToInteractive('df-16fbb418-d630-436a-8f56-c35070e95465')\"\n",
              "              title=\"Convert this dataframe to an interactive table.\"\n",
              "              style=\"display:none;\">\n",
              "        \n",
              "  <svg xmlns=\"http://www.w3.org/2000/svg\" height=\"24px\"viewBox=\"0 0 24 24\"\n",
              "       width=\"24px\">\n",
              "    <path d=\"M0 0h24v24H0V0z\" fill=\"none\"/>\n",
              "    <path d=\"M18.56 5.44l.94 2.06.94-2.06 2.06-.94-2.06-.94-.94-2.06-.94 2.06-2.06.94zm-11 1L8.5 8.5l.94-2.06 2.06-.94-2.06-.94L8.5 2.5l-.94 2.06-2.06.94zm10 10l.94 2.06.94-2.06 2.06-.94-2.06-.94-.94-2.06-.94 2.06-2.06.94z\"/><path d=\"M17.41 7.96l-1.37-1.37c-.4-.4-.92-.59-1.43-.59-.52 0-1.04.2-1.43.59L10.3 9.45l-7.72 7.72c-.78.78-.78 2.05 0 2.83L4 21.41c.39.39.9.59 1.41.59.51 0 1.02-.2 1.41-.59l7.78-7.78 2.81-2.81c.8-.78.8-2.07 0-2.86zM5.41 20L4 18.59l7.72-7.72 1.47 1.35L5.41 20z\"/>\n",
              "  </svg>\n",
              "      </button>\n",
              "      \n",
              "  <style>\n",
              "    .colab-df-container {\n",
              "      display:flex;\n",
              "      flex-wrap:wrap;\n",
              "      gap: 12px;\n",
              "    }\n",
              "\n",
              "    .colab-df-convert {\n",
              "      background-color: #E8F0FE;\n",
              "      border: none;\n",
              "      border-radius: 50%;\n",
              "      cursor: pointer;\n",
              "      display: none;\n",
              "      fill: #1967D2;\n",
              "      height: 32px;\n",
              "      padding: 0 0 0 0;\n",
              "      width: 32px;\n",
              "    }\n",
              "\n",
              "    .colab-df-convert:hover {\n",
              "      background-color: #E2EBFA;\n",
              "      box-shadow: 0px 1px 2px rgba(60, 64, 67, 0.3), 0px 1px 3px 1px rgba(60, 64, 67, 0.15);\n",
              "      fill: #174EA6;\n",
              "    }\n",
              "\n",
              "    [theme=dark] .colab-df-convert {\n",
              "      background-color: #3B4455;\n",
              "      fill: #D2E3FC;\n",
              "    }\n",
              "\n",
              "    [theme=dark] .colab-df-convert:hover {\n",
              "      background-color: #434B5C;\n",
              "      box-shadow: 0px 1px 3px 1px rgba(0, 0, 0, 0.15);\n",
              "      filter: drop-shadow(0px 1px 2px rgba(0, 0, 0, 0.3));\n",
              "      fill: #FFFFFF;\n",
              "    }\n",
              "  </style>\n",
              "\n",
              "      <script>\n",
              "        const buttonEl =\n",
              "          document.querySelector('#df-16fbb418-d630-436a-8f56-c35070e95465 button.colab-df-convert');\n",
              "        buttonEl.style.display =\n",
              "          google.colab.kernel.accessAllowed ? 'block' : 'none';\n",
              "\n",
              "        async function convertToInteractive(key) {\n",
              "          const element = document.querySelector('#df-16fbb418-d630-436a-8f56-c35070e95465');\n",
              "          const dataTable =\n",
              "            await google.colab.kernel.invokeFunction('convertToInteractive',\n",
              "                                                     [key], {});\n",
              "          if (!dataTable) return;\n",
              "\n",
              "          const docLinkHtml = 'Like what you see? Visit the ' +\n",
              "            '<a target=\"_blank\" href=https://colab.research.google.com/notebooks/data_table.ipynb>data table notebook</a>'\n",
              "            + ' to learn more about interactive tables.';\n",
              "          element.innerHTML = '';\n",
              "          dataTable['output_type'] = 'display_data';\n",
              "          await google.colab.output.renderOutput(dataTable, element);\n",
              "          const docLink = document.createElement('div');\n",
              "          docLink.innerHTML = docLinkHtml;\n",
              "          element.appendChild(docLink);\n",
              "        }\n",
              "      </script>\n",
              "    </div>\n",
              "  </div>\n",
              "  "
            ]
          },
          "metadata": {}
        },
        {
          "output_type": "stream",
          "name": "stdout",
          "text": [
            "Параметр f0 в датафрейме df2:\n"
          ]
        },
        {
          "output_type": "display_data",
          "data": {
            "text/plain": [
              "                  f0\n",
              "count  100000.000000\n",
              "mean        0.002023\n",
              "std         1.732045\n",
              "min        -8.760004\n",
              "25%        -1.162288\n",
              "50%         0.009424\n",
              "75%         1.158535\n",
              "max         7.238262"
            ],
            "text/html": [
              "\n",
              "  <div id=\"df-259fc233-c4d2-4fbe-a6d3-e4a46fdfbddd\">\n",
              "    <div class=\"colab-df-container\">\n",
              "      <div>\n",
              "<style scoped>\n",
              "    .dataframe tbody tr th:only-of-type {\n",
              "        vertical-align: middle;\n",
              "    }\n",
              "\n",
              "    .dataframe tbody tr th {\n",
              "        vertical-align: top;\n",
              "    }\n",
              "\n",
              "    .dataframe thead th {\n",
              "        text-align: right;\n",
              "    }\n",
              "</style>\n",
              "<table border=\"1\" class=\"dataframe\">\n",
              "  <thead>\n",
              "    <tr style=\"text-align: right;\">\n",
              "      <th></th>\n",
              "      <th>f0</th>\n",
              "    </tr>\n",
              "  </thead>\n",
              "  <tbody>\n",
              "    <tr>\n",
              "      <th>count</th>\n",
              "      <td>100000.000000</td>\n",
              "    </tr>\n",
              "    <tr>\n",
              "      <th>mean</th>\n",
              "      <td>0.002023</td>\n",
              "    </tr>\n",
              "    <tr>\n",
              "      <th>std</th>\n",
              "      <td>1.732045</td>\n",
              "    </tr>\n",
              "    <tr>\n",
              "      <th>min</th>\n",
              "      <td>-8.760004</td>\n",
              "    </tr>\n",
              "    <tr>\n",
              "      <th>25%</th>\n",
              "      <td>-1.162288</td>\n",
              "    </tr>\n",
              "    <tr>\n",
              "      <th>50%</th>\n",
              "      <td>0.009424</td>\n",
              "    </tr>\n",
              "    <tr>\n",
              "      <th>75%</th>\n",
              "      <td>1.158535</td>\n",
              "    </tr>\n",
              "    <tr>\n",
              "      <th>max</th>\n",
              "      <td>7.238262</td>\n",
              "    </tr>\n",
              "  </tbody>\n",
              "</table>\n",
              "</div>\n",
              "      <button class=\"colab-df-convert\" onclick=\"convertToInteractive('df-259fc233-c4d2-4fbe-a6d3-e4a46fdfbddd')\"\n",
              "              title=\"Convert this dataframe to an interactive table.\"\n",
              "              style=\"display:none;\">\n",
              "        \n",
              "  <svg xmlns=\"http://www.w3.org/2000/svg\" height=\"24px\"viewBox=\"0 0 24 24\"\n",
              "       width=\"24px\">\n",
              "    <path d=\"M0 0h24v24H0V0z\" fill=\"none\"/>\n",
              "    <path d=\"M18.56 5.44l.94 2.06.94-2.06 2.06-.94-2.06-.94-.94-2.06-.94 2.06-2.06.94zm-11 1L8.5 8.5l.94-2.06 2.06-.94-2.06-.94L8.5 2.5l-.94 2.06-2.06.94zm10 10l.94 2.06.94-2.06 2.06-.94-2.06-.94-.94-2.06-.94 2.06-2.06.94z\"/><path d=\"M17.41 7.96l-1.37-1.37c-.4-.4-.92-.59-1.43-.59-.52 0-1.04.2-1.43.59L10.3 9.45l-7.72 7.72c-.78.78-.78 2.05 0 2.83L4 21.41c.39.39.9.59 1.41.59.51 0 1.02-.2 1.41-.59l7.78-7.78 2.81-2.81c.8-.78.8-2.07 0-2.86zM5.41 20L4 18.59l7.72-7.72 1.47 1.35L5.41 20z\"/>\n",
              "  </svg>\n",
              "      </button>\n",
              "      \n",
              "  <style>\n",
              "    .colab-df-container {\n",
              "      display:flex;\n",
              "      flex-wrap:wrap;\n",
              "      gap: 12px;\n",
              "    }\n",
              "\n",
              "    .colab-df-convert {\n",
              "      background-color: #E8F0FE;\n",
              "      border: none;\n",
              "      border-radius: 50%;\n",
              "      cursor: pointer;\n",
              "      display: none;\n",
              "      fill: #1967D2;\n",
              "      height: 32px;\n",
              "      padding: 0 0 0 0;\n",
              "      width: 32px;\n",
              "    }\n",
              "\n",
              "    .colab-df-convert:hover {\n",
              "      background-color: #E2EBFA;\n",
              "      box-shadow: 0px 1px 2px rgba(60, 64, 67, 0.3), 0px 1px 3px 1px rgba(60, 64, 67, 0.15);\n",
              "      fill: #174EA6;\n",
              "    }\n",
              "\n",
              "    [theme=dark] .colab-df-convert {\n",
              "      background-color: #3B4455;\n",
              "      fill: #D2E3FC;\n",
              "    }\n",
              "\n",
              "    [theme=dark] .colab-df-convert:hover {\n",
              "      background-color: #434B5C;\n",
              "      box-shadow: 0px 1px 3px 1px rgba(0, 0, 0, 0.15);\n",
              "      filter: drop-shadow(0px 1px 2px rgba(0, 0, 0, 0.3));\n",
              "      fill: #FFFFFF;\n",
              "    }\n",
              "  </style>\n",
              "\n",
              "      <script>\n",
              "        const buttonEl =\n",
              "          document.querySelector('#df-259fc233-c4d2-4fbe-a6d3-e4a46fdfbddd button.colab-df-convert');\n",
              "        buttonEl.style.display =\n",
              "          google.colab.kernel.accessAllowed ? 'block' : 'none';\n",
              "\n",
              "        async function convertToInteractive(key) {\n",
              "          const element = document.querySelector('#df-259fc233-c4d2-4fbe-a6d3-e4a46fdfbddd');\n",
              "          const dataTable =\n",
              "            await google.colab.kernel.invokeFunction('convertToInteractive',\n",
              "                                                     [key], {});\n",
              "          if (!dataTable) return;\n",
              "\n",
              "          const docLinkHtml = 'Like what you see? Visit the ' +\n",
              "            '<a target=\"_blank\" href=https://colab.research.google.com/notebooks/data_table.ipynb>data table notebook</a>'\n",
              "            + ' to learn more about interactive tables.';\n",
              "          element.innerHTML = '';\n",
              "          dataTable['output_type'] = 'display_data';\n",
              "          await google.colab.output.renderOutput(dataTable, element);\n",
              "          const docLink = document.createElement('div');\n",
              "          docLink.innerHTML = docLinkHtml;\n",
              "          element.appendChild(docLink);\n",
              "        }\n",
              "      </script>\n",
              "    </div>\n",
              "  </div>\n",
              "  "
            ]
          },
          "metadata": {}
        },
        {
          "output_type": "display_data",
          "data": {
            "text/plain": [
              "<Figure size 1080x360 with 2 Axes>"
            ],
            "image/png": "[encoded data removed]"
          },
          "metadata": {}
        },
        {
          "output_type": "display_data",
          "data": {
            "text/plain": [
              "<Figure size 1080x360 with 2 Axes>"
            ],
            "image/png": "[encoded data removed]"
          },
          "metadata": {}
        },
        {
          "output_type": "display_data",
          "data": {
            "text/plain": [
              "<Figure size 1080x360 with 2 Axes>"
            ],
            "image/png": "[encoded data removed]"
          },
          "metadata": {}
        }
      ],
      "source": [
        "eda('f0', 'f_0')"
      ]
    },
    {
      "cell_type": "markdown",
      "metadata": {
        "id": "VkNPhtHlTRul"
      },
      "source": [
        "Видно, что распределения признака $f_0$ для различных регионов сильно отличаются. Для всех трёх регионов значения среднего или медианы близки к диапазону 0—1. Однако размах данных в регионах разный:\n",
        "\n",
        "| Регион         | Минимальное значение     | Максимальное значение |\n",
        "|:--------------:|:-----------:|:------------:|\n",
        "| 0 | -1.4      | 2.4        |\n",
        "| 1      | -31.6  | 29.4       |\n",
        "| 2      | -8.8  | 7.2       |\n",
        "\n",
        "Также различается и характер распределений. Если для региона 2 распределение похоже на нормальное, то распределение признака в первом регионе скорее напоминает иллюстрацию к «Маленькому принцу», а распределение в нулевом регионе имеет четыре выраженных пика."
      ]
    },
    {
      "cell_type": "markdown",
      "metadata": {
        "id": "Ubg87uQAQCcW"
      },
      "source": [
        "#### Признак $f_1$"
      ]
    },
    {
      "cell_type": "code",
      "execution_count": 83,
      "metadata": {
        "scrolled": false,
        "colab": {
          "base_uri": "https://localhost:8080/",
          "height": 1000
        },
        "id": "xBoFDOGiarxc",
        "outputId": "5a3e6499-0ddb-4d43-a1b9-33c282ef267e"
      },
      "outputs": [
        {
          "output_type": "stream",
          "name": "stdout",
          "text": [
            "Параметр f1 в датафрейме df0:\n"
          ]
        },
        {
          "output_type": "display_data",
          "data": {
            "text/plain": [
              "                  f1\n",
              "count  100000.000000\n",
              "mean        0.250143\n",
              "std         0.504433\n",
              "min        -0.848218\n",
              "25%        -0.200881\n",
              "50%         0.250252\n",
              "75%         0.700646\n",
              "max         1.343769"
            ],
            "text/html": [
              "\n",
              "  <div id=\"df-f0e0f17a-638c-4e30-827b-658355bc99a4\">\n",
              "    <div class=\"colab-df-container\">\n",
              "      <div>\n",
              "<style scoped>\n",
              "    .dataframe tbody tr th:only-of-type {\n",
              "        vertical-align: middle;\n",
              "    }\n",
              "\n",
              "    .dataframe tbody tr th {\n",
              "        vertical-align: top;\n",
              "    }\n",
              "\n",
              "    .dataframe thead th {\n",
              "        text-align: right;\n",
              "    }\n",
              "</style>\n",
              "<table border=\"1\" class=\"dataframe\">\n",
              "  <thead>\n",
              "    <tr style=\"text-align: right;\">\n",
              "      <th></th>\n",
              "      <th>f1</th>\n",
              "    </tr>\n",
              "  </thead>\n",
              "  <tbody>\n",
              "    <tr>\n",
              "      <th>count</th>\n",
              "      <td>100000.000000</td>\n",
              "    </tr>\n",
              "    <tr>\n",
              "      <th>mean</th>\n",
              "      <td>0.250143</td>\n",
              "    </tr>\n",
              "    <tr>\n",
              "      <th>std</th>\n",
              "      <td>0.504433</td>\n",
              "    </tr>\n",
              "    <tr>\n",
              "      <th>min</th>\n",
              "      <td>-0.848218</td>\n",
              "    </tr>\n",
              "    <tr>\n",
              "      <th>25%</th>\n",
              "      <td>-0.200881</td>\n",
              "    </tr>\n",
              "    <tr>\n",
              "      <th>50%</th>\n",
              "      <td>0.250252</td>\n",
              "    </tr>\n",
              "    <tr>\n",
              "      <th>75%</th>\n",
              "      <td>0.700646</td>\n",
              "    </tr>\n",
              "    <tr>\n",
              "      <th>max</th>\n",
              "      <td>1.343769</td>\n",
              "    </tr>\n",
              "  </tbody>\n",
              "</table>\n",
              "</div>\n",
              "      <button class=\"colab-df-convert\" onclick=\"convertToInteractive('df-f0e0f17a-638c-4e30-827b-658355bc99a4')\"\n",
              "              title=\"Convert this dataframe to an interactive table.\"\n",
              "              style=\"display:none;\">\n",
              "        \n",
              "  <svg xmlns=\"http://www.w3.org/2000/svg\" height=\"24px\"viewBox=\"0 0 24 24\"\n",
              "       width=\"24px\">\n",
              "    <path d=\"M0 0h24v24H0V0z\" fill=\"none\"/>\n",
              "    <path d=\"M18.56 5.44l.94 2.06.94-2.06 2.06-.94-2.06-.94-.94-2.06-.94 2.06-2.06.94zm-11 1L8.5 8.5l.94-2.06 2.06-.94-2.06-.94L8.5 2.5l-.94 2.06-2.06.94zm10 10l.94 2.06.94-2.06 2.06-.94-2.06-.94-.94-2.06-.94 2.06-2.06.94z\"/><path d=\"M17.41 7.96l-1.37-1.37c-.4-.4-.92-.59-1.43-.59-.52 0-1.04.2-1.43.59L10.3 9.45l-7.72 7.72c-.78.78-.78 2.05 0 2.83L4 21.41c.39.39.9.59 1.41.59.51 0 1.02-.2 1.41-.59l7.78-7.78 2.81-2.81c.8-.78.8-2.07 0-2.86zM5.41 20L4 18.59l7.72-7.72 1.47 1.35L5.41 20z\"/>\n",
              "  </svg>\n",
              "      </button>\n",
              "      \n",
              "  <style>\n",
              "    .colab-df-container {\n",
              "      display:flex;\n",
              "      flex-wrap:wrap;\n",
              "      gap: 12px;\n",
              "    }\n",
              "\n",
              "    .colab-df-convert {\n",
              "      background-color: #E8F0FE;\n",
              "      border: none;\n",
              "      border-radius: 50%;\n",
              "      cursor: pointer;\n",
              "      display: none;\n",
              "      fill: #1967D2;\n",
              "      height: 32px;\n",
              "      padding: 0 0 0 0;\n",
              "      width: 32px;\n",
              "    }\n",
              "\n",
              "    .colab-df-convert:hover {\n",
              "      background-color: #E2EBFA;\n",
              "      box-shadow: 0px 1px 2px rgba(60, 64, 67, 0.3), 0px 1px 3px 1px rgba(60, 64, 67, 0.15);\n",
              "      fill: #174EA6;\n",
              "    }\n",
              "\n",
              "    [theme=dark] .colab-df-convert {\n",
              "      background-color: #3B4455;\n",
              "      fill: #D2E3FC;\n",
              "    }\n",
              "\n",
              "    [theme=dark] .colab-df-convert:hover {\n",
              "      background-color: #434B5C;\n",
              "      box-shadow: 0px 1px 3px 1px rgba(0, 0, 0, 0.15);\n",
              "      filter: drop-shadow(0px 1px 2px rgba(0, 0, 0, 0.3));\n",
              "      fill: #FFFFFF;\n",
              "    }\n",
              "  </style>\n",
              "\n",
              "      <script>\n",
              "        const buttonEl =\n",
              "          document.querySelector('#df-f0e0f17a-638c-4e30-827b-658355bc99a4 button.colab-df-convert');\n",
              "        buttonEl.style.display =\n",
              "          google.colab.kernel.accessAllowed ? 'block' : 'none';\n",
              "\n",
              "        async function convertToInteractive(key) {\n",
              "          const element = document.querySelector('#df-f0e0f17a-638c-4e30-827b-658355bc99a4');\n",
              "          const dataTable =\n",
              "            await google.colab.kernel.invokeFunction('convertToInteractive',\n",
              "                                                     [key], {});\n",
              "          if (!dataTable) return;\n",
              "\n",
              "          const docLinkHtml = 'Like what you see? Visit the ' +\n",
              "            '<a target=\"_blank\" href=https://colab.research.google.com/notebooks/data_table.ipynb>data table notebook</a>'\n",
              "            + ' to learn more about interactive tables.';\n",
              "          element.innerHTML = '';\n",
              "          dataTable['output_type'] = 'display_data';\n",
              "          await google.colab.output.renderOutput(dataTable, element);\n",
              "          const docLink = document.createElement('div');\n",
              "          docLink.innerHTML = docLinkHtml;\n",
              "          element.appendChild(docLink);\n",
              "        }\n",
              "      </script>\n",
              "    </div>\n",
              "  </div>\n",
              "  "
            ]
          },
          "metadata": {}
        },
        {
          "output_type": "stream",
          "name": "stdout",
          "text": [
            "Параметр f1 в датафрейме df1:\n"
          ]
        },
        {
          "output_type": "display_data",
          "data": {
            "text/plain": [
              "                  f1\n",
              "count  100000.000000\n",
              "mean       -4.796579\n",
              "std         5.119872\n",
              "min       -26.358598\n",
              "25%        -8.267985\n",
              "50%        -4.813172\n",
              "75%        -1.332816\n",
              "max        18.734063"
            ],
            "text/html": [
              "\n",
              "  <div id=\"df-99cb38b6-7865-4c8f-bcdf-bb17afc0bd5c\">\n",
              "    <div class=\"colab-df-container\">\n",
              "      <div>\n",
              "<style scoped>\n",
              "    .dataframe tbody tr th:only-of-type {\n",
              "        vertical-align: middle;\n",
              "    }\n",
              "\n",
              "    .dataframe tbody tr th {\n",
              "        vertical-align: top;\n",
              "    }\n",
              "\n",
              "    .dataframe thead th {\n",
              "        text-align: right;\n",
              "    }\n",
              "</style>\n",
              "<table border=\"1\" class=\"dataframe\">\n",
              "  <thead>\n",
              "    <tr style=\"text-align: right;\">\n",
              "      <th></th>\n",
              "      <th>f1</th>\n",
              "    </tr>\n",
              "  </thead>\n",
              "  <tbody>\n",
              "    <tr>\n",
              "      <th>count</th>\n",
              "      <td>100000.000000</td>\n",
              "    </tr>\n",
              "    <tr>\n",
              "      <th>mean</th>\n",
              "      <td>-4.796579</td>\n",
              "    </tr>\n",
              "    <tr>\n",
              "      <th>std</th>\n",
              "      <td>5.119872</td>\n",
              "    </tr>\n",
              "    <tr>\n",
              "      <th>min</th>\n",
              "      <td>-26.358598</td>\n",
              "    </tr>\n",
              "    <tr>\n",
              "      <th>25%</th>\n",
              "      <td>-8.267985</td>\n",
              "    </tr>\n",
              "    <tr>\n",
              "      <th>50%</th>\n",
              "      <td>-4.813172</td>\n",
              "    </tr>\n",
              "    <tr>\n",
              "      <th>75%</th>\n",
              "      <td>-1.332816</td>\n",
              "    </tr>\n",
              "    <tr>\n",
              "      <th>max</th>\n",
              "      <td>18.734063</td>\n",
              "    </tr>\n",
              "  </tbody>\n",
              "</table>\n",
              "</div>\n",
              "      <button class=\"colab-df-convert\" onclick=\"convertToInteractive('df-99cb38b6-7865-4c8f-bcdf-bb17afc0bd5c')\"\n",
              "              title=\"Convert this dataframe to an interactive table.\"\n",
              "              style=\"display:none;\">\n",
              "        \n",
              "  <svg xmlns=\"http://www.w3.org/2000/svg\" height=\"24px\"viewBox=\"0 0 24 24\"\n",
              "       width=\"24px\">\n",
              "    <path d=\"M0 0h24v24H0V0z\" fill=\"none\"/>\n",
              "    <path d=\"M18.56 5.44l.94 2.06.94-2.06 2.06-.94-2.06-.94-.94-2.06-.94 2.06-2.06.94zm-11 1L8.5 8.5l.94-2.06 2.06-.94-2.06-.94L8.5 2.5l-.94 2.06-2.06.94zm10 10l.94 2.06.94-2.06 2.06-.94-2.06-.94-.94-2.06-.94 2.06-2.06.94z\"/><path d=\"M17.41 7.96l-1.37-1.37c-.4-.4-.92-.59-1.43-.59-.52 0-1.04.2-1.43.59L10.3 9.45l-7.72 7.72c-.78.78-.78 2.05 0 2.83L4 21.41c.39.39.9.59 1.41.59.51 0 1.02-.2 1.41-.59l7.78-7.78 2.81-2.81c.8-.78.8-2.07 0-2.86zM5.41 20L4 18.59l7.72-7.72 1.47 1.35L5.41 20z\"/>\n",
              "  </svg>\n",
              "      </button>\n",
              "      \n",
              "  <style>\n",
              "    .colab-df-container {\n",
              "      display:flex;\n",
              "      flex-wrap:wrap;\n",
              "      gap: 12px;\n",
              "    }\n",
              "\n",
              "    .colab-df-convert {\n",
              "      background-color: #E8F0FE;\n",
              "      border: none;\n",
              "      border-radius: 50%;\n",
              "      cursor: pointer;\n",
              "      display: none;\n",
              "      fill: #1967D2;\n",
              "      height: 32px;\n",
              "      padding: 0 0 0 0;\n",
              "      width: 32px;\n",
              "    }\n",
              "\n",
              "    .colab-df-convert:hover {\n",
              "      background-color: #E2EBFA;\n",
              "      box-shadow: 0px 1px 2px rgba(60, 64, 67, 0.3), 0px 1px 3px 1px rgba(60, 64, 67, 0.15);\n",
              "      fill: #174EA6;\n",
              "    }\n",
              "\n",
              "    [theme=dark] .colab-df-convert {\n",
              "      background-color: #3B4455;\n",
              "      fill: #D2E3FC;\n",
              "    }\n",
              "\n",
              "    [theme=dark] .colab-df-convert:hover {\n",
              "      background-color: #434B5C;\n",
              "      box-shadow: 0px 1px 3px 1px rgba(0, 0, 0, 0.15);\n",
              "      filter: drop-shadow(0px 1px 2px rgba(0, 0, 0, 0.3));\n",
              "      fill: #FFFFFF;\n",
              "    }\n",
              "  </style>\n",
              "\n",
              "      <script>\n",
              "        const buttonEl =\n",
              "          document.querySelector('#df-99cb38b6-7865-4c8f-bcdf-bb17afc0bd5c button.colab-df-convert');\n",
              "        buttonEl.style.display =\n",
              "          google.colab.kernel.accessAllowed ? 'block' : 'none';\n",
              "\n",
              "        async function convertToInteractive(key) {\n",
              "          const element = document.querySelector('#df-99cb38b6-7865-4c8f-bcdf-bb17afc0bd5c');\n",
              "          const dataTable =\n",
              "            await google.colab.kernel.invokeFunction('convertToInteractive',\n",
              "                                                     [key], {});\n",
              "          if (!dataTable) return;\n",
              "\n",
              "          const docLinkHtml = 'Like what you see? Visit the ' +\n",
              "            '<a target=\"_blank\" href=https://colab.research.google.com/notebooks/data_table.ipynb>data table notebook</a>'\n",
              "            + ' to learn more about interactive tables.';\n",
              "          element.innerHTML = '';\n",
              "          dataTable['output_type'] = 'display_data';\n",
              "          await google.colab.output.renderOutput(dataTable, element);\n",
              "          const docLink = document.createElement('div');\n",
              "          docLink.innerHTML = docLinkHtml;\n",
              "          element.appendChild(docLink);\n",
              "        }\n",
              "      </script>\n",
              "    </div>\n",
              "  </div>\n",
              "  "
            ]
          },
          "metadata": {}
        },
        {
          "output_type": "stream",
          "name": "stdout",
          "text": [
            "Параметр f1 в датафрейме df2:\n"
          ]
        },
        {
          "output_type": "display_data",
          "data": {
            "text/plain": [
              "                  f1\n",
              "count  100000.000000\n",
              "mean       -0.002081\n",
              "std         1.730417\n",
              "min        -7.084020\n",
              "25%        -1.174820\n",
              "50%        -0.009482\n",
              "75%         1.163678\n",
              "max         7.844801"
            ],
            "text/html": [
              "\n",
              "  <div id=\"df-4ac21b3a-7bc5-4b37-bf21-5b998368096f\">\n",
              "    <div class=\"colab-df-container\">\n",
              "      <div>\n",
              "<style scoped>\n",
              "    .dataframe tbody tr th:only-of-type {\n",
              "        vertical-align: middle;\n",
              "    }\n",
              "\n",
              "    .dataframe tbody tr th {\n",
              "        vertical-align: top;\n",
              "    }\n",
              "\n",
              "    .dataframe thead th {\n",
              "        text-align: right;\n",
              "    }\n",
              "</style>\n",
              "<table border=\"1\" class=\"dataframe\">\n",
              "  <thead>\n",
              "    <tr style=\"text-align: right;\">\n",
              "      <th></th>\n",
              "      <th>f1</th>\n",
              "    </tr>\n",
              "  </thead>\n",
              "  <tbody>\n",
              "    <tr>\n",
              "      <th>count</th>\n",
              "      <td>100000.000000</td>\n",
              "    </tr>\n",
              "    <tr>\n",
              "      <th>mean</th>\n",
              "      <td>-0.002081</td>\n",
              "    </tr>\n",
              "    <tr>\n",
              "      <th>std</th>\n",
              "      <td>1.730417</td>\n",
              "    </tr>\n",
              "    <tr>\n",
              "      <th>min</th>\n",
              "      <td>-7.084020</td>\n",
              "    </tr>\n",
              "    <tr>\n",
              "      <th>25%</th>\n",
              "      <td>-1.174820</td>\n",
              "    </tr>\n",
              "    <tr>\n",
              "      <th>50%</th>\n",
              "      <td>-0.009482</td>\n",
              "    </tr>\n",
              "    <tr>\n",
              "      <th>75%</th>\n",
              "      <td>1.163678</td>\n",
              "    </tr>\n",
              "    <tr>\n",
              "      <th>max</th>\n",
              "      <td>7.844801</td>\n",
              "    </tr>\n",
              "  </tbody>\n",
              "</table>\n",
              "</div>\n",
              "      <button class=\"colab-df-convert\" onclick=\"convertToInteractive('df-4ac21b3a-7bc5-4b37-bf21-5b998368096f')\"\n",
              "              title=\"Convert this dataframe to an interactive table.\"\n",
              "              style=\"display:none;\">\n",
              "        \n",
              "  <svg xmlns=\"http://www.w3.org/2000/svg\" height=\"24px\"viewBox=\"0 0 24 24\"\n",
              "       width=\"24px\">\n",
              "    <path d=\"M0 0h24v24H0V0z\" fill=\"none\"/>\n",
              "    <path d=\"M18.56 5.44l.94 2.06.94-2.06 2.06-.94-2.06-.94-.94-2.06-.94 2.06-2.06.94zm-11 1L8.5 8.5l.94-2.06 2.06-.94-2.06-.94L8.5 2.5l-.94 2.06-2.06.94zm10 10l.94 2.06.94-2.06 2.06-.94-2.06-.94-.94-2.06-.94 2.06-2.06.94z\"/><path d=\"M17.41 7.96l-1.37-1.37c-.4-.4-.92-.59-1.43-.59-.52 0-1.04.2-1.43.59L10.3 9.45l-7.72 7.72c-.78.78-.78 2.05 0 2.83L4 21.41c.39.39.9.59 1.41.59.51 0 1.02-.2 1.41-.59l7.78-7.78 2.81-2.81c.8-.78.8-2.07 0-2.86zM5.41 20L4 18.59l7.72-7.72 1.47 1.35L5.41 20z\"/>\n",
              "  </svg>\n",
              "      </button>\n",
              "      \n",
              "  <style>\n",
              "    .colab-df-container {\n",
              "      display:flex;\n",
              "      flex-wrap:wrap;\n",
              "      gap: 12px;\n",
              "    }\n",
              "\n",
              "    .colab-df-convert {\n",
              "      background-color: #E8F0FE;\n",
              "      border: none;\n",
              "      border-radius: 50%;\n",
              "      cursor: pointer;\n",
              "      display: none;\n",
              "      fill: #1967D2;\n",
              "      height: 32px;\n",
              "      padding: 0 0 0 0;\n",
              "      width: 32px;\n",
              "    }\n",
              "\n",
              "    .colab-df-convert:hover {\n",
              "      background-color: #E2EBFA;\n",
              "      box-shadow: 0px 1px 2px rgba(60, 64, 67, 0.3), 0px 1px 3px 1px rgba(60, 64, 67, 0.15);\n",
              "      fill: #174EA6;\n",
              "    }\n",
              "\n",
              "    [theme=dark] .colab-df-convert {\n",
              "      background-color: #3B4455;\n",
              "      fill: #D2E3FC;\n",
              "    }\n",
              "\n",
              "    [theme=dark] .colab-df-convert:hover {\n",
              "      background-color: #434B5C;\n",
              "      box-shadow: 0px 1px 3px 1px rgba(0, 0, 0, 0.15);\n",
              "      filter: drop-shadow(0px 1px 2px rgba(0, 0, 0, 0.3));\n",
              "      fill: #FFFFFF;\n",
              "    }\n",
              "  </style>\n",
              "\n",
              "      <script>\n",
              "        const buttonEl =\n",
              "          document.querySelector('#df-4ac21b3a-7bc5-4b37-bf21-5b998368096f button.colab-df-convert');\n",
              "        buttonEl.style.display =\n",
              "          google.colab.kernel.accessAllowed ? 'block' : 'none';\n",
              "\n",
              "        async function convertToInteractive(key) {\n",
              "          const element = document.querySelector('#df-4ac21b3a-7bc5-4b37-bf21-5b998368096f');\n",
              "          const dataTable =\n",
              "            await google.colab.kernel.invokeFunction('convertToInteractive',\n",
              "                                                     [key], {});\n",
              "          if (!dataTable) return;\n",
              "\n",
              "          const docLinkHtml = 'Like what you see? Visit the ' +\n",
              "            '<a target=\"_blank\" href=https://colab.research.google.com/notebooks/data_table.ipynb>data table notebook</a>'\n",
              "            + ' to learn more about interactive tables.';\n",
              "          element.innerHTML = '';\n",
              "          dataTable['output_type'] = 'display_data';\n",
              "          await google.colab.output.renderOutput(dataTable, element);\n",
              "          const docLink = document.createElement('div');\n",
              "          docLink.innerHTML = docLinkHtml;\n",
              "          element.appendChild(docLink);\n",
              "        }\n",
              "      </script>\n",
              "    </div>\n",
              "  </div>\n",
              "  "
            ]
          },
          "metadata": {}
        },
        {
          "output_type": "display_data",
          "data": {
            "text/plain": [
              "<Figure size 1080x360 with 2 Axes>"
            ],
            "image/png": "[encoded data removed]"
          },
          "metadata": {}
        },
        {
          "output_type": "display_data",
          "data": {
            "text/plain": [
              "<Figure size 1080x360 with 2 Axes>"
            ],
            "image/png": "[encoded data removed]"
          },
          "metadata": {}
        },
        {
          "output_type": "display_data",
          "data": {
            "text/plain": [
              "<Figure size 1080x360 with 2 Axes>"
            ],
            "image/png": "[encoded data removed]"
          },
          "metadata": {}
        }
      ],
      "source": [
        "eda('f1', 'f_1')"
      ]
    },
    {
      "cell_type": "markdown",
      "metadata": {
        "id": "PGpE1c1OXbIM"
      },
      "source": [
        "Распределения признака $f_1$ для различных регионов также сильно отличаются. Для регионов 0 и 2 значения среднего или медианы близки к нулю, однако для региона 1 они близки к минус пяти. Размах данных в регионах разный:\n",
        "\n",
        "| Регион         | Минимальное значение     | Максимальное значение |\n",
        "|:--------------:|:-----------:|:------------:|\n",
        "| 0 | -0.8      | 1.3        |\n",
        "| 1      | -26.4  | 18.7      |\n",
        "| 2      | -7.1  | 7.8       |\n",
        "\n",
        "Характер распределений различается по регионам. Для регионов 1 и 2 распределение похоже на нормальное, но в распределении для региона 0 наблюдаются три выраженных пика."
      ]
    },
    {
      "cell_type": "markdown",
      "metadata": {
        "id": "wICA7fpXQGZu"
      },
      "source": [
        "#### Признак $f_2$"
      ]
    },
    {
      "cell_type": "code",
      "execution_count": 84,
      "metadata": {
        "scrolled": false,
        "colab": {
          "base_uri": "https://localhost:8080/",
          "height": 1000
        },
        "id": "RZQfkubJarxi",
        "outputId": "cf755ce0-f305-4028-d2de-c141cd725997"
      },
      "outputs": [
        {
          "output_type": "stream",
          "name": "stdout",
          "text": [
            "Параметр f2 в датафрейме df0:\n"
          ]
        },
        {
          "output_type": "display_data",
          "data": {
            "text/plain": [
              "                  f2\n",
              "count  100000.000000\n",
              "mean        2.502647\n",
              "std         3.248248\n",
              "min       -12.088328\n",
              "25%         0.287748\n",
              "50%         2.515969\n",
              "75%         4.715088\n",
              "max        16.003790"
            ],
            "text/html": [
              "\n",
              "  <div id=\"df-66123f49-5d17-4923-97c2-1b01330d35e5\">\n",
              "    <div class=\"colab-df-container\">\n",
              "      <div>\n",
              "<style scoped>\n",
              "    .dataframe tbody tr th:only-of-type {\n",
              "        vertical-align: middle;\n",
              "    }\n",
              "\n",
              "    .dataframe tbody tr th {\n",
              "        vertical-align: top;\n",
              "    }\n",
              "\n",
              "    .dataframe thead th {\n",
              "        text-align: right;\n",
              "    }\n",
              "</style>\n",
              "<table border=\"1\" class=\"dataframe\">\n",
              "  <thead>\n",
              "    <tr style=\"text-align: right;\">\n",
              "      <th></th>\n",
              "      <th>f2</th>\n",
              "    </tr>\n",
              "  </thead>\n",
              "  <tbody>\n",
              "    <tr>\n",
              "      <th>count</th>\n",
              "      <td>100000.000000</td>\n",
              "    </tr>\n",
              "    <tr>\n",
              "      <th>mean</th>\n",
              "      <td>2.502647</td>\n",
              "    </tr>\n",
              "    <tr>\n",
              "      <th>std</th>\n",
              "      <td>3.248248</td>\n",
              "    </tr>\n",
              "    <tr>\n",
              "      <th>min</th>\n",
              "      <td>-12.088328</td>\n",
              "    </tr>\n",
              "    <tr>\n",
              "      <th>25%</th>\n",
              "      <td>0.287748</td>\n",
              "    </tr>\n",
              "    <tr>\n",
              "      <th>50%</th>\n",
              "      <td>2.515969</td>\n",
              "    </tr>\n",
              "    <tr>\n",
              "      <th>75%</th>\n",
              "      <td>4.715088</td>\n",
              "    </tr>\n",
              "    <tr>\n",
              "      <th>max</th>\n",
              "      <td>16.003790</td>\n",
              "    </tr>\n",
              "  </tbody>\n",
              "</table>\n",
              "</div>\n",
              "      <button class=\"colab-df-convert\" onclick=\"convertToInteractive('df-66123f49-5d17-4923-97c2-1b01330d35e5')\"\n",
              "              title=\"Convert this dataframe to an interactive table.\"\n",
              "              style=\"display:none;\">\n",
              "        \n",
              "  <svg xmlns=\"http://www.w3.org/2000/svg\" height=\"24px\"viewBox=\"0 0 24 24\"\n",
              "       width=\"24px\">\n",
              "    <path d=\"M0 0h24v24H0V0z\" fill=\"none\"/>\n",
              "    <path d=\"M18.56 5.44l.94 2.06.94-2.06 2.06-.94-2.06-.94-.94-2.06-.94 2.06-2.06.94zm-11 1L8.5 8.5l.94-2.06 2.06-.94-2.06-.94L8.5 2.5l-.94 2.06-2.06.94zm10 10l.94 2.06.94-2.06 2.06-.94-2.06-.94-.94-2.06-.94 2.06-2.06.94z\"/><path d=\"M17.41 7.96l-1.37-1.37c-.4-.4-.92-.59-1.43-.59-.52 0-1.04.2-1.43.59L10.3 9.45l-7.72 7.72c-.78.78-.78 2.05 0 2.83L4 21.41c.39.39.9.59 1.41.59.51 0 1.02-.2 1.41-.59l7.78-7.78 2.81-2.81c.8-.78.8-2.07 0-2.86zM5.41 20L4 18.59l7.72-7.72 1.47 1.35L5.41 20z\"/>\n",
              "  </svg>\n",
              "      </button>\n",
              "      \n",
              "  <style>\n",
              "    .colab-df-container {\n",
              "      display:flex;\n",
              "      flex-wrap:wrap;\n",
              "      gap: 12px;\n",
              "    }\n",
              "\n",
              "    .colab-df-convert {\n",
              "      background-color: #E8F0FE;\n",
              "      border: none;\n",
              "      border-radius: 50%;\n",
              "      cursor: pointer;\n",
              "      display: none;\n",
              "      fill: #1967D2;\n",
              "      height: 32px;\n",
              "      padding: 0 0 0 0;\n",
              "      width: 32px;\n",
              "    }\n",
              "\n",
              "    .colab-df-convert:hover {\n",
              "      background-color: #E2EBFA;\n",
              "      box-shadow: 0px 1px 2px rgba(60, 64, 67, 0.3), 0px 1px 3px 1px rgba(60, 64, 67, 0.15);\n",
              "      fill: #174EA6;\n",
              "    }\n",
              "\n",
              "    [theme=dark] .colab-df-convert {\n",
              "      background-color: #3B4455;\n",
              "      fill: #D2E3FC;\n",
              "    }\n",
              "\n",
              "    [theme=dark] .colab-df-convert:hover {\n",
              "      background-color: #434B5C;\n",
              "      box-shadow: 0px 1px 3px 1px rgba(0, 0, 0, 0.15);\n",
              "      filter: drop-shadow(0px 1px 2px rgba(0, 0, 0, 0.3));\n",
              "      fill: #FFFFFF;\n",
              "    }\n",
              "  </style>\n",
              "\n",
              "      <script>\n",
              "        const buttonEl =\n",
              "          document.querySelector('#df-66123f49-5d17-4923-97c2-1b01330d35e5 button.colab-df-convert');\n",
              "        buttonEl.style.display =\n",
              "          google.colab.kernel.accessAllowed ? 'block' : 'none';\n",
              "\n",
              "        async function convertToInteractive(key) {\n",
              "          const element = document.querySelector('#df-66123f49-5d17-4923-97c2-1b01330d35e5');\n",
              "          const dataTable =\n",
              "            await google.colab.kernel.invokeFunction('convertToInteractive',\n",
              "                                                     [key], {});\n",
              "          if (!dataTable) return;\n",
              "\n",
              "          const docLinkHtml = 'Like what you see? Visit the ' +\n",
              "            '<a target=\"_blank\" href=https://colab.research.google.com/notebooks/data_table.ipynb>data table notebook</a>'\n",
              "            + ' to learn more about interactive tables.';\n",
              "          element.innerHTML = '';\n",
              "          dataTable['output_type'] = 'display_data';\n",
              "          await google.colab.output.renderOutput(dataTable, element);\n",
              "          const docLink = document.createElement('div');\n",
              "          docLink.innerHTML = docLinkHtml;\n",
              "          element.appendChild(docLink);\n",
              "        }\n",
              "      </script>\n",
              "    </div>\n",
              "  </div>\n",
              "  "
            ]
          },
          "metadata": {}
        },
        {
          "output_type": "stream",
          "name": "stdout",
          "text": [
            "Параметр f2 в датафрейме df1:\n"
          ]
        },
        {
          "output_type": "display_data",
          "data": {
            "text/plain": [
              "                  f2\n",
              "count  100000.000000\n",
              "mean        2.494541\n",
              "std         1.703572\n",
              "min        -0.018144\n",
              "25%         1.000021\n",
              "50%         2.011479\n",
              "75%         3.999904\n",
              "max         5.019721"
            ],
            "text/html": [
              "\n",
              "  <div id=\"df-b5b01482-4d87-48dd-9014-ccf2bf0d2635\">\n",
              "    <div class=\"colab-df-container\">\n",
              "      <div>\n",
              "<style scoped>\n",
              "    .dataframe tbody tr th:only-of-type {\n",
              "        vertical-align: middle;\n",
              "    }\n",
              "\n",
              "    .dataframe tbody tr th {\n",
              "        vertical-align: top;\n",
              "    }\n",
              "\n",
              "    .dataframe thead th {\n",
              "        text-align: right;\n",
              "    }\n",
              "</style>\n",
              "<table border=\"1\" class=\"dataframe\">\n",
              "  <thead>\n",
              "    <tr style=\"text-align: right;\">\n",
              "      <th></th>\n",
              "      <th>f2</th>\n",
              "    </tr>\n",
              "  </thead>\n",
              "  <tbody>\n",
              "    <tr>\n",
              "      <th>count</th>\n",
              "      <td>100000.000000</td>\n",
              "    </tr>\n",
              "    <tr>\n",
              "      <th>mean</th>\n",
              "      <td>2.494541</td>\n",
              "    </tr>\n",
              "    <tr>\n",
              "      <th>std</th>\n",
              "      <td>1.703572</td>\n",
              "    </tr>\n",
              "    <tr>\n",
              "      <th>min</th>\n",
              "      <td>-0.018144</td>\n",
              "    </tr>\n",
              "    <tr>\n",
              "      <th>25%</th>\n",
              "      <td>1.000021</td>\n",
              "    </tr>\n",
              "    <tr>\n",
              "      <th>50%</th>\n",
              "      <td>2.011479</td>\n",
              "    </tr>\n",
              "    <tr>\n",
              "      <th>75%</th>\n",
              "      <td>3.999904</td>\n",
              "    </tr>\n",
              "    <tr>\n",
              "      <th>max</th>\n",
              "      <td>5.019721</td>\n",
              "    </tr>\n",
              "  </tbody>\n",
              "</table>\n",
              "</div>\n",
              "      <button class=\"colab-df-convert\" onclick=\"convertToInteractive('df-b5b01482-4d87-48dd-9014-ccf2bf0d2635')\"\n",
              "              title=\"Convert this dataframe to an interactive table.\"\n",
              "              style=\"display:none;\">\n",
              "        \n",
              "  <svg xmlns=\"http://www.w3.org/2000/svg\" height=\"24px\"viewBox=\"0 0 24 24\"\n",
              "       width=\"24px\">\n",
              "    <path d=\"M0 0h24v24H0V0z\" fill=\"none\"/>\n",
              "    <path d=\"M18.56 5.44l.94 2.06.94-2.06 2.06-.94-2.06-.94-.94-2.06-.94 2.06-2.06.94zm-11 1L8.5 8.5l.94-2.06 2.06-.94-2.06-.94L8.5 2.5l-.94 2.06-2.06.94zm10 10l.94 2.06.94-2.06 2.06-.94-2.06-.94-.94-2.06-.94 2.06-2.06.94z\"/><path d=\"M17.41 7.96l-1.37-1.37c-.4-.4-.92-.59-1.43-.59-.52 0-1.04.2-1.43.59L10.3 9.45l-7.72 7.72c-.78.78-.78 2.05 0 2.83L4 21.41c.39.39.9.59 1.41.59.51 0 1.02-.2 1.41-.59l7.78-7.78 2.81-2.81c.8-.78.8-2.07 0-2.86zM5.41 20L4 18.59l7.72-7.72 1.47 1.35L5.41 20z\"/>\n",
              "  </svg>\n",
              "      </button>\n",
              "      \n",
              "  <style>\n",
              "    .colab-df-container {\n",
              "      display:flex;\n",
              "      flex-wrap:wrap;\n",
              "      gap: 12px;\n",
              "    }\n",
              "\n",
              "    .colab-df-convert {\n",
              "      background-color: #E8F0FE;\n",
              "      border: none;\n",
              "      border-radius: 50%;\n",
              "      cursor: pointer;\n",
              "      display: none;\n",
              "      fill: #1967D2;\n",
              "      height: 32px;\n",
              "      padding: 0 0 0 0;\n",
              "      width: 32px;\n",
              "    }\n",
              "\n",
              "    .colab-df-convert:hover {\n",
              "      background-color: #E2EBFA;\n",
              "      box-shadow: 0px 1px 2px rgba(60, 64, 67, 0.3), 0px 1px 3px 1px rgba(60, 64, 67, 0.15);\n",
              "      fill: #174EA6;\n",
              "    }\n",
              "\n",
              "    [theme=dark] .colab-df-convert {\n",
              "      background-color: #3B4455;\n",
              "      fill: #D2E3FC;\n",
              "    }\n",
              "\n",
              "    [theme=dark] .colab-df-convert:hover {\n",
              "      background-color: #434B5C;\n",
              "      box-shadow: 0px 1px 3px 1px rgba(0, 0, 0, 0.15);\n",
              "      filter: drop-shadow(0px 1px 2px rgba(0, 0, 0, 0.3));\n",
              "      fill: #FFFFFF;\n",
              "    }\n",
              "  </style>\n",
              "\n",
              "      <script>\n",
              "        const buttonEl =\n",
              "          document.querySelector('#df-b5b01482-4d87-48dd-9014-ccf2bf0d2635 button.colab-df-convert');\n",
              "        buttonEl.style.display =\n",
              "          google.colab.kernel.accessAllowed ? 'block' : 'none';\n",
              "\n",
              "        async function convertToInteractive(key) {\n",
              "          const element = document.querySelector('#df-b5b01482-4d87-48dd-9014-ccf2bf0d2635');\n",
              "          const dataTable =\n",
              "            await google.colab.kernel.invokeFunction('convertToInteractive',\n",
              "                                                     [key], {});\n",
              "          if (!dataTable) return;\n",
              "\n",
              "          const docLinkHtml = 'Like what you see? Visit the ' +\n",
              "            '<a target=\"_blank\" href=https://colab.research.google.com/notebooks/data_table.ipynb>data table notebook</a>'\n",
              "            + ' to learn more about interactive tables.';\n",
              "          element.innerHTML = '';\n",
              "          dataTable['output_type'] = 'display_data';\n",
              "          await google.colab.output.renderOutput(dataTable, element);\n",
              "          const docLink = document.createElement('div');\n",
              "          docLink.innerHTML = docLinkHtml;\n",
              "          element.appendChild(docLink);\n",
              "        }\n",
              "      </script>\n",
              "    </div>\n",
              "  </div>\n",
              "  "
            ]
          },
          "metadata": {}
        },
        {
          "output_type": "stream",
          "name": "stdout",
          "text": [
            "Параметр f2 в датафрейме df2:\n"
          ]
        },
        {
          "output_type": "display_data",
          "data": {
            "text/plain": [
              "                  f2\n",
              "count  100000.000000\n",
              "mean        2.495128\n",
              "std         3.473445\n",
              "min       -11.970335\n",
              "25%         0.130359\n",
              "50%         2.484236\n",
              "75%         4.858794\n",
              "max        16.739402"
            ],
            "text/html": [
              "\n",
              "  <div id=\"df-b167560e-898b-473a-ae8f-ca0e65782200\">\n",
              "    <div class=\"colab-df-container\">\n",
              "      <div>\n",
              "<style scoped>\n",
              "    .dataframe tbody tr th:only-of-type {\n",
              "        vertical-align: middle;\n",
              "    }\n",
              "\n",
              "    .dataframe tbody tr th {\n",
              "        vertical-align: top;\n",
              "    }\n",
              "\n",
              "    .dataframe thead th {\n",
              "        text-align: right;\n",
              "    }\n",
              "</style>\n",
              "<table border=\"1\" class=\"dataframe\">\n",
              "  <thead>\n",
              "    <tr style=\"text-align: right;\">\n",
              "      <th></th>\n",
              "      <th>f2</th>\n",
              "    </tr>\n",
              "  </thead>\n",
              "  <tbody>\n",
              "    <tr>\n",
              "      <th>count</th>\n",
              "      <td>100000.000000</td>\n",
              "    </tr>\n",
              "    <tr>\n",
              "      <th>mean</th>\n",
              "      <td>2.495128</td>\n",
              "    </tr>\n",
              "    <tr>\n",
              "      <th>std</th>\n",
              "      <td>3.473445</td>\n",
              "    </tr>\n",
              "    <tr>\n",
              "      <th>min</th>\n",
              "      <td>-11.970335</td>\n",
              "    </tr>\n",
              "    <tr>\n",
              "      <th>25%</th>\n",
              "      <td>0.130359</td>\n",
              "    </tr>\n",
              "    <tr>\n",
              "      <th>50%</th>\n",
              "      <td>2.484236</td>\n",
              "    </tr>\n",
              "    <tr>\n",
              "      <th>75%</th>\n",
              "      <td>4.858794</td>\n",
              "    </tr>\n",
              "    <tr>\n",
              "      <th>max</th>\n",
              "      <td>16.739402</td>\n",
              "    </tr>\n",
              "  </tbody>\n",
              "</table>\n",
              "</div>\n",
              "      <button class=\"colab-df-convert\" onclick=\"convertToInteractive('df-b167560e-898b-473a-ae8f-ca0e65782200')\"\n",
              "              title=\"Convert this dataframe to an interactive table.\"\n",
              "              style=\"display:none;\">\n",
              "        \n",
              "  <svg xmlns=\"http://www.w3.org/2000/svg\" height=\"24px\"viewBox=\"0 0 24 24\"\n",
              "       width=\"24px\">\n",
              "    <path d=\"M0 0h24v24H0V0z\" fill=\"none\"/>\n",
              "    <path d=\"M18.56 5.44l.94 2.06.94-2.06 2.06-.94-2.06-.94-.94-2.06-.94 2.06-2.06.94zm-11 1L8.5 8.5l.94-2.06 2.06-.94-2.06-.94L8.5 2.5l-.94 2.06-2.06.94zm10 10l.94 2.06.94-2.06 2.06-.94-2.06-.94-.94-2.06-.94 2.06-2.06.94z\"/><path d=\"M17.41 7.96l-1.37-1.37c-.4-.4-.92-.59-1.43-.59-.52 0-1.04.2-1.43.59L10.3 9.45l-7.72 7.72c-.78.78-.78 2.05 0 2.83L4 21.41c.39.39.9.59 1.41.59.51 0 1.02-.2 1.41-.59l7.78-7.78 2.81-2.81c.8-.78.8-2.07 0-2.86zM5.41 20L4 18.59l7.72-7.72 1.47 1.35L5.41 20z\"/>\n",
              "  </svg>\n",
              "      </button>\n",
              "      \n",
              "  <style>\n",
              "    .colab-df-container {\n",
              "      display:flex;\n",
              "      flex-wrap:wrap;\n",
              "      gap: 12px;\n",
              "    }\n",
              "\n",
              "    .colab-df-convert {\n",
              "      background-color: #E8F0FE;\n",
              "      border: none;\n",
              "      border-radius: 50%;\n",
              "      cursor: pointer;\n",
              "      display: none;\n",
              "      fill: #1967D2;\n",
              "      height: 32px;\n",
              "      padding: 0 0 0 0;\n",
              "      width: 32px;\n",
              "    }\n",
              "\n",
              "    .colab-df-convert:hover {\n",
              "      background-color: #E2EBFA;\n",
              "      box-shadow: 0px 1px 2px rgba(60, 64, 67, 0.3), 0px 1px 3px 1px rgba(60, 64, 67, 0.15);\n",
              "      fill: #174EA6;\n",
              "    }\n",
              "\n",
              "    [theme=dark] .colab-df-convert {\n",
              "      background-color: #3B4455;\n",
              "      fill: #D2E3FC;\n",
              "    }\n",
              "\n",
              "    [theme=dark] .colab-df-convert:hover {\n",
              "      background-color: #434B5C;\n",
              "      box-shadow: 0px 1px 3px 1px rgba(0, 0, 0, 0.15);\n",
              "      filter: drop-shadow(0px 1px 2px rgba(0, 0, 0, 0.3));\n",
              "      fill: #FFFFFF;\n",
              "    }\n",
              "  </style>\n",
              "\n",
              "      <script>\n",
              "        const buttonEl =\n",
              "          document.querySelector('#df-b167560e-898b-473a-ae8f-ca0e65782200 button.colab-df-convert');\n",
              "        buttonEl.style.display =\n",
              "          google.colab.kernel.accessAllowed ? 'block' : 'none';\n",
              "\n",
              "        async function convertToInteractive(key) {\n",
              "          const element = document.querySelector('#df-b167560e-898b-473a-ae8f-ca0e65782200');\n",
              "          const dataTable =\n",
              "            await google.colab.kernel.invokeFunction('convertToInteractive',\n",
              "                                                     [key], {});\n",
              "          if (!dataTable) return;\n",
              "\n",
              "          const docLinkHtml = 'Like what you see? Visit the ' +\n",
              "            '<a target=\"_blank\" href=https://colab.research.google.com/notebooks/data_table.ipynb>data table notebook</a>'\n",
              "            + ' to learn more about interactive tables.';\n",
              "          element.innerHTML = '';\n",
              "          dataTable['output_type'] = 'display_data';\n",
              "          await google.colab.output.renderOutput(dataTable, element);\n",
              "          const docLink = document.createElement('div');\n",
              "          docLink.innerHTML = docLinkHtml;\n",
              "          element.appendChild(docLink);\n",
              "        }\n",
              "      </script>\n",
              "    </div>\n",
              "  </div>\n",
              "  "
            ]
          },
          "metadata": {}
        },
        {
          "output_type": "display_data",
          "data": {
            "text/plain": [
              "<Figure size 1080x360 with 2 Axes>"
            ],
            "image/png": "[encoded data removed]"
          },
          "metadata": {}
        },
        {
          "output_type": "display_data",
          "data": {
            "text/plain": [
              "<Figure size 1080x360 with 2 Axes>"
            ],
            "image/png": "[encoded data removed]"
          },
          "metadata": {}
        },
        {
          "output_type": "display_data",
          "data": {
            "text/plain": [
              "<Figure size 1080x360 with 2 Axes>"
            ],
            "image/png": "[encoded data removed]"
          },
          "metadata": {}
        }
      ],
      "source": [
        "eda('f2', 'f_2')"
      ]
    },
    {
      "cell_type": "markdown",
      "metadata": {
        "id": "UPLrUciAZOSg"
      },
      "source": [
        "Распределения признака $f_2$ для регионов 0 и 2 различаются не сильно: они похожи на нормальные со средним примерно равным 2.5 и похожими стандартными отклонениями. Однако в регионе 1 характер распределения уже явно другой: данные группируются вокруг значений 0, 1 ... 5."
      ]
    },
    {
      "cell_type": "markdown",
      "metadata": {
        "id": "Jy5kW7NkfEZw"
      },
      "source": [
        "#### Объём запасов"
      ]
    },
    {
      "cell_type": "code",
      "execution_count": 85,
      "metadata": {
        "scrolled": false,
        "colab": {
          "base_uri": "https://localhost:8080/",
          "height": 1000
        },
        "id": "CJe0_jPaarxm",
        "outputId": "9e94aa05-f2e2-4b8f-a9fa-cf11348094b2"
      },
      "outputs": [
        {
          "output_type": "stream",
          "name": "stdout",
          "text": [
            "Параметр product в датафрейме df0:\n"
          ]
        },
        {
          "output_type": "display_data",
          "data": {
            "text/plain": [
              "             product\n",
              "count  100000.000000\n",
              "mean       92.500000\n",
              "std        44.288691\n",
              "min         0.000000\n",
              "25%        56.497507\n",
              "50%        91.849972\n",
              "75%       128.564089\n",
              "max       185.364347"
            ],
            "text/html": [
              "\n",
              "  <div id=\"df-29c3bd16-9a00-44ac-a297-0577e8bdd5bf\">\n",
              "    <div class=\"colab-df-container\">\n",
              "      <div>\n",
              "<style scoped>\n",
              "    .dataframe tbody tr th:only-of-type {\n",
              "        vertical-align: middle;\n",
              "    }\n",
              "\n",
              "    .dataframe tbody tr th {\n",
              "        vertical-align: top;\n",
              "    }\n",
              "\n",
              "    .dataframe thead th {\n",
              "        text-align: right;\n",
              "    }\n",
              "</style>\n",
              "<table border=\"1\" class=\"dataframe\">\n",
              "  <thead>\n",
              "    <tr style=\"text-align: right;\">\n",
              "      <th></th>\n",
              "      <th>product</th>\n",
              "    </tr>\n",
              "  </thead>\n",
              "  <tbody>\n",
              "    <tr>\n",
              "      <th>count</th>\n",
              "      <td>100000.000000</td>\n",
              "    </tr>\n",
              "    <tr>\n",
              "      <th>mean</th>\n",
              "      <td>92.500000</td>\n",
              "    </tr>\n",
              "    <tr>\n",
              "      <th>std</th>\n",
              "      <td>44.288691</td>\n",
              "    </tr>\n",
              "    <tr>\n",
              "      <th>min</th>\n",
              "      <td>0.000000</td>\n",
              "    </tr>\n",
              "    <tr>\n",
              "      <th>25%</th>\n",
              "      <td>56.497507</td>\n",
              "    </tr>\n",
              "    <tr>\n",
              "      <th>50%</th>\n",
              "      <td>91.849972</td>\n",
              "    </tr>\n",
              "    <tr>\n",
              "      <th>75%</th>\n",
              "      <td>128.564089</td>\n",
              "    </tr>\n",
              "    <tr>\n",
              "      <th>max</th>\n",
              "      <td>185.364347</td>\n",
              "    </tr>\n",
              "  </tbody>\n",
              "</table>\n",
              "</div>\n",
              "      <button class=\"colab-df-convert\" onclick=\"convertToInteractive('df-29c3bd16-9a00-44ac-a297-0577e8bdd5bf')\"\n",
              "              title=\"Convert this dataframe to an interactive table.\"\n",
              "              style=\"display:none;\">\n",
              "        \n",
              "  <svg xmlns=\"http://www.w3.org/2000/svg\" height=\"24px\"viewBox=\"0 0 24 24\"\n",
              "       width=\"24px\">\n",
              "    <path d=\"M0 0h24v24H0V0z\" fill=\"none\"/>\n",
              "    <path d=\"M18.56 5.44l.94 2.06.94-2.06 2.06-.94-2.06-.94-.94-2.06-.94 2.06-2.06.94zm-11 1L8.5 8.5l.94-2.06 2.06-.94-2.06-.94L8.5 2.5l-.94 2.06-2.06.94zm10 10l.94 2.06.94-2.06 2.06-.94-2.06-.94-.94-2.06-.94 2.06-2.06.94z\"/><path d=\"M17.41 7.96l-1.37-1.37c-.4-.4-.92-.59-1.43-.59-.52 0-1.04.2-1.43.59L10.3 9.45l-7.72 7.72c-.78.78-.78 2.05 0 2.83L4 21.41c.39.39.9.59 1.41.59.51 0 1.02-.2 1.41-.59l7.78-7.78 2.81-2.81c.8-.78.8-2.07 0-2.86zM5.41 20L4 18.59l7.72-7.72 1.47 1.35L5.41 20z\"/>\n",
              "  </svg>\n",
              "      </button>\n",
              "      \n",
              "  <style>\n",
              "    .colab-df-container {\n",
              "      display:flex;\n",
              "      flex-wrap:wrap;\n",
              "      gap: 12px;\n",
              "    }\n",
              "\n",
              "    .colab-df-convert {\n",
              "      background-color: #E8F0FE;\n",
              "      border: none;\n",
              "      border-radius: 50%;\n",
              "      cursor: pointer;\n",
              "      display: none;\n",
              "      fill: #1967D2;\n",
              "      height: 32px;\n",
              "      padding: 0 0 0 0;\n",
              "      width: 32px;\n",
              "    }\n",
              "\n",
              "    .colab-df-convert:hover {\n",
              "      background-color: #E2EBFA;\n",
              "      box-shadow: 0px 1px 2px rgba(60, 64, 67, 0.3), 0px 1px 3px 1px rgba(60, 64, 67, 0.15);\n",
              "      fill: #174EA6;\n",
              "    }\n",
              "\n",
              "    [theme=dark] .colab-df-convert {\n",
              "      background-color: #3B4455;\n",
              "      fill: #D2E3FC;\n",
              "    }\n",
              "\n",
              "    [theme=dark] .colab-df-convert:hover {\n",
              "      background-color: #434B5C;\n",
              "      box-shadow: 0px 1px 3px 1px rgba(0, 0, 0, 0.15);\n",
              "      filter: drop-shadow(0px 1px 2px rgba(0, 0, 0, 0.3));\n",
              "      fill: #FFFFFF;\n",
              "    }\n",
              "  </style>\n",
              "\n",
              "      <script>\n",
              "        const buttonEl =\n",
              "          document.querySelector('#df-29c3bd16-9a00-44ac-a297-0577e8bdd5bf button.colab-df-convert');\n",
              "        buttonEl.style.display =\n",
              "          google.colab.kernel.accessAllowed ? 'block' : 'none';\n",
              "\n",
              "        async function convertToInteractive(key) {\n",
              "          const element = document.querySelector('#df-29c3bd16-9a00-44ac-a297-0577e8bdd5bf');\n",
              "          const dataTable =\n",
              "            await google.colab.kernel.invokeFunction('convertToInteractive',\n",
              "                                                     [key], {});\n",
              "          if (!dataTable) return;\n",
              "\n",
              "          const docLinkHtml = 'Like what you see? Visit the ' +\n",
              "            '<a target=\"_blank\" href=https://colab.research.google.com/notebooks/data_table.ipynb>data table notebook</a>'\n",
              "            + ' to learn more about interactive tables.';\n",
              "          element.innerHTML = '';\n",
              "          dataTable['output_type'] = 'display_data';\n",
              "          await google.colab.output.renderOutput(dataTable, element);\n",
              "          const docLink = document.createElement('div');\n",
              "          docLink.innerHTML = docLinkHtml;\n",
              "          element.appendChild(docLink);\n",
              "        }\n",
              "      </script>\n",
              "    </div>\n",
              "  </div>\n",
              "  "
            ]
          },
          "metadata": {}
        },
        {
          "output_type": "stream",
          "name": "stdout",
          "text": [
            "Параметр product в датафрейме df1:\n"
          ]
        },
        {
          "output_type": "display_data",
          "data": {
            "text/plain": [
              "             product\n",
              "count  100000.000000\n",
              "mean       68.825000\n",
              "std        45.944423\n",
              "min         0.000000\n",
              "25%        26.953261\n",
              "50%        57.085625\n",
              "75%       107.813044\n",
              "max       137.945408"
            ],
            "text/html": [
              "\n",
              "  <div id=\"df-1e3a0743-df7a-47c5-9816-51564f0001f9\">\n",
              "    <div class=\"colab-df-container\">\n",
              "      <div>\n",
              "<style scoped>\n",
              "    .dataframe tbody tr th:only-of-type {\n",
              "        vertical-align: middle;\n",
              "    }\n",
              "\n",
              "    .dataframe tbody tr th {\n",
              "        vertical-align: top;\n",
              "    }\n",
              "\n",
              "    .dataframe thead th {\n",
              "        text-align: right;\n",
              "    }\n",
              "</style>\n",
              "<table border=\"1\" class=\"dataframe\">\n",
              "  <thead>\n",
              "    <tr style=\"text-align: right;\">\n",
              "      <th></th>\n",
              "      <th>product</th>\n",
              "    </tr>\n",
              "  </thead>\n",
              "  <tbody>\n",
              "    <tr>\n",
              "      <th>count</th>\n",
              "      <td>100000.000000</td>\n",
              "    </tr>\n",
              "    <tr>\n",
              "      <th>mean</th>\n",
              "      <td>68.825000</td>\n",
              "    </tr>\n",
              "    <tr>\n",
              "      <th>std</th>\n",
              "      <td>45.944423</td>\n",
              "    </tr>\n",
              "    <tr>\n",
              "      <th>min</th>\n",
              "      <td>0.000000</td>\n",
              "    </tr>\n",
              "    <tr>\n",
              "      <th>25%</th>\n",
              "      <td>26.953261</td>\n",
              "    </tr>\n",
              "    <tr>\n",
              "      <th>50%</th>\n",
              "      <td>57.085625</td>\n",
              "    </tr>\n",
              "    <tr>\n",
              "      <th>75%</th>\n",
              "      <td>107.813044</td>\n",
              "    </tr>\n",
              "    <tr>\n",
              "      <th>max</th>\n",
              "      <td>137.945408</td>\n",
              "    </tr>\n",
              "  </tbody>\n",
              "</table>\n",
              "</div>\n",
              "      <button class=\"colab-df-convert\" onclick=\"convertToInteractive('df-1e3a0743-df7a-47c5-9816-51564f0001f9')\"\n",
              "              title=\"Convert this dataframe to an interactive table.\"\n",
              "              style=\"display:none;\">\n",
              "        \n",
              "  <svg xmlns=\"http://www.w3.org/2000/svg\" height=\"24px\"viewBox=\"0 0 24 24\"\n",
              "       width=\"24px\">\n",
              "    <path d=\"M0 0h24v24H0V0z\" fill=\"none\"/>\n",
              "    <path d=\"M18.56 5.44l.94 2.06.94-2.06 2.06-.94-2.06-.94-.94-2.06-.94 2.06-2.06.94zm-11 1L8.5 8.5l.94-2.06 2.06-.94-2.06-.94L8.5 2.5l-.94 2.06-2.06.94zm10 10l.94 2.06.94-2.06 2.06-.94-2.06-.94-.94-2.06-.94 2.06-2.06.94z\"/><path d=\"M17.41 7.96l-1.37-1.37c-.4-.4-.92-.59-1.43-.59-.52 0-1.04.2-1.43.59L10.3 9.45l-7.72 7.72c-.78.78-.78 2.05 0 2.83L4 21.41c.39.39.9.59 1.41.59.51 0 1.02-.2 1.41-.59l7.78-7.78 2.81-2.81c.8-.78.8-2.07 0-2.86zM5.41 20L4 18.59l7.72-7.72 1.47 1.35L5.41 20z\"/>\n",
              "  </svg>\n",
              "      </button>\n",
              "      \n",
              "  <style>\n",
              "    .colab-df-container {\n",
              "      display:flex;\n",
              "      flex-wrap:wrap;\n",
              "      gap: 12px;\n",
              "    }\n",
              "\n",
              "    .colab-df-convert {\n",
              "      background-color: #E8F0FE;\n",
              "      border: none;\n",
              "      border-radius: 50%;\n",
              "      cursor: pointer;\n",
              "      display: none;\n",
              "      fill: #1967D2;\n",
              "      height: 32px;\n",
              "      padding: 0 0 0 0;\n",
              "      width: 32px;\n",
              "    }\n",
              "\n",
              "    .colab-df-convert:hover {\n",
              "      background-color: #E2EBFA;\n",
              "      box-shadow: 0px 1px 2px rgba(60, 64, 67, 0.3), 0px 1px 3px 1px rgba(60, 64, 67, 0.15);\n",
              "      fill: #174EA6;\n",
              "    }\n",
              "\n",
              "    [theme=dark] .colab-df-convert {\n",
              "      background-color: #3B4455;\n",
              "      fill: #D2E3FC;\n",
              "    }\n",
              "\n",
              "    [theme=dark] .colab-df-convert:hover {\n",
              "      background-color: #434B5C;\n",
              "      box-shadow: 0px 1px 3px 1px rgba(0, 0, 0, 0.15);\n",
              "      filter: drop-shadow(0px 1px 2px rgba(0, 0, 0, 0.3));\n",
              "      fill: #FFFFFF;\n",
              "    }\n",
              "  </style>\n",
              "\n",
              "      <script>\n",
              "        const buttonEl =\n",
              "          document.querySelector('#df-1e3a0743-df7a-47c5-9816-51564f0001f9 button.colab-df-convert');\n",
              "        buttonEl.style.display =\n",
              "          google.colab.kernel.accessAllowed ? 'block' : 'none';\n",
              "\n",
              "        async function convertToInteractive(key) {\n",
              "          const element = document.querySelector('#df-1e3a0743-df7a-47c5-9816-51564f0001f9');\n",
              "          const dataTable =\n",
              "            await google.colab.kernel.invokeFunction('convertToInteractive',\n",
              "                                                     [key], {});\n",
              "          if (!dataTable) return;\n",
              "\n",
              "          const docLinkHtml = 'Like what you see? Visit the ' +\n",
              "            '<a target=\"_blank\" href=https://colab.research.google.com/notebooks/data_table.ipynb>data table notebook</a>'\n",
              "            + ' to learn more about interactive tables.';\n",
              "          element.innerHTML = '';\n",
              "          dataTable['output_type'] = 'display_data';\n",
              "          await google.colab.output.renderOutput(dataTable, element);\n",
              "          const docLink = document.createElement('div');\n",
              "          docLink.innerHTML = docLinkHtml;\n",
              "          element.appendChild(docLink);\n",
              "        }\n",
              "      </script>\n",
              "    </div>\n",
              "  </div>\n",
              "  "
            ]
          },
          "metadata": {}
        },
        {
          "output_type": "stream",
          "name": "stdout",
          "text": [
            "Параметр product в датафрейме df2:\n"
          ]
        },
        {
          "output_type": "display_data",
          "data": {
            "text/plain": [
              "             product\n",
              "count  100000.000000\n",
              "mean       95.000000\n",
              "std        44.749921\n",
              "min         0.000000\n",
              "25%        59.450441\n",
              "50%        94.925613\n",
              "75%       130.595027\n",
              "max       190.029838"
            ],
            "text/html": [
              "\n",
              "  <div id=\"df-1a7ffbef-e86b-4a12-91ef-a29a1b419ed3\">\n",
              "    <div class=\"colab-df-container\">\n",
              "      <div>\n",
              "<style scoped>\n",
              "    .dataframe tbody tr th:only-of-type {\n",
              "        vertical-align: middle;\n",
              "    }\n",
              "\n",
              "    .dataframe tbody tr th {\n",
              "        vertical-align: top;\n",
              "    }\n",
              "\n",
              "    .dataframe thead th {\n",
              "        text-align: right;\n",
              "    }\n",
              "</style>\n",
              "<table border=\"1\" class=\"dataframe\">\n",
              "  <thead>\n",
              "    <tr style=\"text-align: right;\">\n",
              "      <th></th>\n",
              "      <th>product</th>\n",
              "    </tr>\n",
              "  </thead>\n",
              "  <tbody>\n",
              "    <tr>\n",
              "      <th>count</th>\n",
              "      <td>100000.000000</td>\n",
              "    </tr>\n",
              "    <tr>\n",
              "      <th>mean</th>\n",
              "      <td>95.000000</td>\n",
              "    </tr>\n",
              "    <tr>\n",
              "      <th>std</th>\n",
              "      <td>44.749921</td>\n",
              "    </tr>\n",
              "    <tr>\n",
              "      <th>min</th>\n",
              "      <td>0.000000</td>\n",
              "    </tr>\n",
              "    <tr>\n",
              "      <th>25%</th>\n",
              "      <td>59.450441</td>\n",
              "    </tr>\n",
              "    <tr>\n",
              "      <th>50%</th>\n",
              "      <td>94.925613</td>\n",
              "    </tr>\n",
              "    <tr>\n",
              "      <th>75%</th>\n",
              "      <td>130.595027</td>\n",
              "    </tr>\n",
              "    <tr>\n",
              "      <th>max</th>\n",
              "      <td>190.029838</td>\n",
              "    </tr>\n",
              "  </tbody>\n",
              "</table>\n",
              "</div>\n",
              "      <button class=\"colab-df-convert\" onclick=\"convertToInteractive('df-1a7ffbef-e86b-4a12-91ef-a29a1b419ed3')\"\n",
              "              title=\"Convert this dataframe to an interactive table.\"\n",
              "              style=\"display:none;\">\n",
              "        \n",
              "  <svg xmlns=\"http://www.w3.org/2000/svg\" height=\"24px\"viewBox=\"0 0 24 24\"\n",
              "       width=\"24px\">\n",
              "    <path d=\"M0 0h24v24H0V0z\" fill=\"none\"/>\n",
              "    <path d=\"M18.56 5.44l.94 2.06.94-2.06 2.06-.94-2.06-.94-.94-2.06-.94 2.06-2.06.94zm-11 1L8.5 8.5l.94-2.06 2.06-.94-2.06-.94L8.5 2.5l-.94 2.06-2.06.94zm10 10l.94 2.06.94-2.06 2.06-.94-2.06-.94-.94-2.06-.94 2.06-2.06.94z\"/><path d=\"M17.41 7.96l-1.37-1.37c-.4-.4-.92-.59-1.43-.59-.52 0-1.04.2-1.43.59L10.3 9.45l-7.72 7.72c-.78.78-.78 2.05 0 2.83L4 21.41c.39.39.9.59 1.41.59.51 0 1.02-.2 1.41-.59l7.78-7.78 2.81-2.81c.8-.78.8-2.07 0-2.86zM5.41 20L4 18.59l7.72-7.72 1.47 1.35L5.41 20z\"/>\n",
              "  </svg>\n",
              "      </button>\n",
              "      \n",
              "  <style>\n",
              "    .colab-df-container {\n",
              "      display:flex;\n",
              "      flex-wrap:wrap;\n",
              "      gap: 12px;\n",
              "    }\n",
              "\n",
              "    .colab-df-convert {\n",
              "      background-color: #E8F0FE;\n",
              "      border: none;\n",
              "      border-radius: 50%;\n",
              "      cursor: pointer;\n",
              "      display: none;\n",
              "      fill: #1967D2;\n",
              "      height: 32px;\n",
              "      padding: 0 0 0 0;\n",
              "      width: 32px;\n",
              "    }\n",
              "\n",
              "    .colab-df-convert:hover {\n",
              "      background-color: #E2EBFA;\n",
              "      box-shadow: 0px 1px 2px rgba(60, 64, 67, 0.3), 0px 1px 3px 1px rgba(60, 64, 67, 0.15);\n",
              "      fill: #174EA6;\n",
              "    }\n",
              "\n",
              "    [theme=dark] .colab-df-convert {\n",
              "      background-color: #3B4455;\n",
              "      fill: #D2E3FC;\n",
              "    }\n",
              "\n",
              "    [theme=dark] .colab-df-convert:hover {\n",
              "      background-color: #434B5C;\n",
              "      box-shadow: 0px 1px 3px 1px rgba(0, 0, 0, 0.15);\n",
              "      filter: drop-shadow(0px 1px 2px rgba(0, 0, 0, 0.3));\n",
              "      fill: #FFFFFF;\n",
              "    }\n",
              "  </style>\n",
              "\n",
              "      <script>\n",
              "        const buttonEl =\n",
              "          document.querySelector('#df-1a7ffbef-e86b-4a12-91ef-a29a1b419ed3 button.colab-df-convert');\n",
              "        buttonEl.style.display =\n",
              "          google.colab.kernel.accessAllowed ? 'block' : 'none';\n",
              "\n",
              "        async function convertToInteractive(key) {\n",
              "          const element = document.querySelector('#df-1a7ffbef-e86b-4a12-91ef-a29a1b419ed3');\n",
              "          const dataTable =\n",
              "            await google.colab.kernel.invokeFunction('convertToInteractive',\n",
              "                                                     [key], {});\n",
              "          if (!dataTable) return;\n",
              "\n",
              "          const docLinkHtml = 'Like what you see? Visit the ' +\n",
              "            '<a target=\"_blank\" href=https://colab.research.google.com/notebooks/data_table.ipynb>data table notebook</a>'\n",
              "            + ' to learn more about interactive tables.';\n",
              "          element.innerHTML = '';\n",
              "          dataTable['output_type'] = 'display_data';\n",
              "          await google.colab.output.renderOutput(dataTable, element);\n",
              "          const docLink = document.createElement('div');\n",
              "          docLink.innerHTML = docLinkHtml;\n",
              "          element.appendChild(docLink);\n",
              "        }\n",
              "      </script>\n",
              "    </div>\n",
              "  </div>\n",
              "  "
            ]
          },
          "metadata": {}
        },
        {
          "output_type": "display_data",
          "data": {
            "text/plain": [
              "<Figure size 1080x360 with 2 Axes>"
            ],
            "image/png": "[encoded data removed]"
          },
          "metadata": {}
        },
        {
          "output_type": "display_data",
          "data": {
            "text/plain": [
              "<Figure size 1080x360 with 2 Axes>"
            ],
            "image/png": "[encoded data removed]"
          },
          "metadata": {}
        },
        {
          "output_type": "display_data",
          "data": {
            "text/plain": [
              "<Figure size 1080x360 with 2 Axes>"
            ],
            "image/png": "[encoded data removed]"
          },
          "metadata": {}
        }
      ],
      "source": [
        "eda('product', 'product')"
      ]
    },
    {
      "cell_type": "markdown",
      "metadata": {
        "id": "C0IgW4Abga7b"
      },
      "source": [
        "Для всех трёх регионов распределения объмов запасов отличаются от нормальных. В каждом регионе на диаграмме рассеивания можно наблюдать пики значений, в первом регионе они наиболее выражены.\n",
        "\n",
        "Возможно подобные распределения обусловлены тем, что в регионах можно выделить характерные подрегионы, средние значения для которых и выглядят как пики на распределениях."
      ]
    },
    {
      "cell_type": "markdown",
      "metadata": {
        "id": "SiwiYyzcc3yl"
      },
      "source": [
        "#### Матрицы корреляций\n",
        "\n",
        "Построим матрицы корреляций для каждого региона."
      ]
    },
    {
      "cell_type": "code",
      "execution_count": 86,
      "metadata": {
        "id": "sfHYa46_dFTv"
      },
      "outputs": [],
      "source": [
        "corr0 = df0.corr()\n",
        "corr1 = df1.corr()\n",
        "corr2 = df2.corr()"
      ]
    },
    {
      "cell_type": "code",
      "execution_count": 87,
      "metadata": {
        "colab": {
          "base_uri": "https://localhost:8080/",
          "height": 338
        },
        "id": "n5jc_bCOdVQP",
        "outputId": "07fdf20c-54b3-490d-c5da-045fb4aaa4f7"
      },
      "outputs": [
        {
          "output_type": "display_data",
          "data": {
            "text/plain": [
              "<Figure size 1080x360 with 2 Axes>"
            ],
            "image/png": "[encoded data removed]"
          },
          "metadata": {}
        }
      ],
      "source": [
        "sns.heatmap(data=corr0, square=True, cmap=\"YlGnBu\", linewidths=.5, annot=True)\\\n",
        ".set(title='Матрица корреляций для региона 0');"
      ]
    },
    {
      "cell_type": "code",
      "execution_count": 88,
      "metadata": {
        "colab": {
          "base_uri": "https://localhost:8080/",
          "height": 338
        },
        "id": "u5wwKDZjeWGl",
        "outputId": "e4082ccf-c418-4091-bc74-b92dc72bc0a8"
      },
      "outputs": [
        {
          "output_type": "display_data",
          "data": {
            "text/plain": [
              "<Figure size 1080x360 with 2 Axes>"
            ],
            "image/png": "[encoded data removed]"
          },
          "metadata": {}
        }
      ],
      "source": [
        "sns.heatmap(data=corr1, square=True, cmap=\"YlGnBu\", linewidths=.5, annot=True)\\\n",
        ".set(title='Матрица корреляций для региона 1');"
      ]
    },
    {
      "cell_type": "code",
      "execution_count": 89,
      "metadata": {
        "colab": {
          "base_uri": "https://localhost:8080/",
          "height": 338
        },
        "id": "dbrszxiyeWJa",
        "outputId": "6bac9750-ccd7-48b9-c657-6fb5a80b564d"
      },
      "outputs": [
        {
          "output_type": "display_data",
          "data": {
            "text/plain": [
              "<Figure size 1080x360 with 2 Axes>"
            ],
            "image/png": "[encoded data removed]"
          },
          "metadata": {}
        }
      ],
      "source": [
        "sns.heatmap(data=corr2, square=True, cmap=\"YlGnBu\", linewidths=.5, annot=True)\\\n",
        ".set(title='Матрица корреляций для региона 2');"
      ]
    },
    {
      "cell_type": "markdown",
      "metadata": {
        "id": "hbBr6USnenvC"
      },
      "source": [
        "Для регионов 0 и 2 не наблюдается сильной корреляции между признаками. Некоторая корреляция наблюдается только между признаком $f_2$ и объёмом запасов (значения коэффициента корреляции Пирсона 0,48 и 0,45).\n",
        "\n",
        "Однако для региона 1 наблюдается очень сильная корреляция между признаком $f_2$ и объёмом запасов (коэффициент корреляции Пирсона 1). Это подозрительно, возможно в данные закралась ошибка. Построим отдельно график зависимости объёмов запасов от признака $f_2$ для первого региона."
      ]
    },
    {
      "cell_type": "code",
      "execution_count": 90,
      "metadata": {
        "colab": {
          "base_uri": "https://localhost:8080/",
          "height": 450
        },
        "id": "B3FOSMzFizFi",
        "outputId": "99cf94d0-3956-418d-c177-e3a8e7f98b84"
      },
      "outputs": [
        {
          "output_type": "display_data",
          "data": {
            "text/plain": [
              "<Figure size 432x432 with 3 Axes>"
            ],
            "image/png": "[encoded data removed]"
          },
          "metadata": {}
        }
      ],
      "source": [
        "sns.jointplot(data=df1, x='f2', y='product', kind='reg')\n",
        "plt.suptitle('Зависимость объёма запасов от признака $f_2$, регион 1', y=1)\n",
        "plt.show()"
      ]
    },
    {
      "cell_type": "markdown",
      "metadata": {
        "id": "r1tsZH7G24XQ"
      },
      "source": [
        "Видно, что объёмы запасов действительно сильно зависят от признака $f_2$. Значения плотно группируются вокруг нескольких точек ($f_2 = 0, 1, 2 ... 5$). Без понимания природы признака $f_2$ сложно сказать, связано ли это с особенностями нефтедобычи в первом регионе или мы имеем дело с так называемой «утечкой данных» (англ. *data leak*, когда информация о зависимом признаке как-то «просачивается» в независимые признаки)."
      ]
    },
    {
      "cell_type": "markdown",
      "metadata": {
        "id": "_wi06Wus4Nfe"
      },
      "source": [
        "### Промежуточный вывод\n",
        "\n",
        "В результате анализа в полученных данных не было выявлено пропусков, дубликатов или подозрительных выбросов. Установлено, что распределения признаков $f_1, f_2, f_3$ для регионов 0, 1 и 2 существенно различаются. Было также установлено, что для региона 1 наблюдается сильная (коэффициент Пирсона 1) корреляция между признаком $f_2$ и объёмом добычи. "
      ]
    },
    {
      "cell_type": "markdown",
      "metadata": {
        "id": "lwXANTxZLVsH"
      },
      "source": [
        "## Обучение и проверка модели"
      ]
    },
    {
      "cell_type": "markdown",
      "metadata": {
        "id": "PxTqKUD-8nZa"
      },
      "source": [
        "### Создание моделей\n",
        "Построим для каждого региона модель машинного обучения на основе линейной регрессии (таковы условия задачи). Для этого предварительно разобъём данные на учебные и тестовые выборки."
      ]
    },
    {
      "cell_type": "code",
      "execution_count": 91,
      "metadata": {
        "id": "wzJT-ucaNGS2"
      },
      "outputs": [],
      "source": [
        "X0_train, X0_test, y0_train, y0_test = train_test_split(df0[['f0', 'f1', 'f2']], \n",
        "                                                        df0['product'], \n",
        "                                                        test_size=0.25, \n",
        "                                                        random_state=42)"
      ]
    },
    {
      "cell_type": "code",
      "execution_count": 92,
      "metadata": {
        "id": "l5VxyU-BNBgk"
      },
      "outputs": [],
      "source": [
        "X1_train, X1_test, y1_train, y1_test = train_test_split(df1[['f0', 'f1', 'f2']], \n",
        "                                                        df1['product'], \n",
        "                                                        test_size=0.25, \n",
        "                                                        random_state=42)"
      ]
    },
    {
      "cell_type": "code",
      "execution_count": 93,
      "metadata": {
        "id": "VcPF8BJHLY10"
      },
      "outputs": [],
      "source": [
        "X2_train, X2_test, y2_train, y2_test = train_test_split(df2[['f0', 'f1', 'f2']], \n",
        "                                                        df2['product'], \n",
        "                                                        test_size=0.25, \n",
        "                                                        random_state=42)"
      ]
    },
    {
      "cell_type": "markdown",
      "metadata": {
        "id": "-EdP2c2a_Cm8"
      },
      "source": [
        "Обучим модели на новых выборках."
      ]
    },
    {
      "cell_type": "code",
      "execution_count": 94,
      "metadata": {
        "colab": {
          "base_uri": "https://localhost:8080/"
        },
        "id": "UwTgCRTo_GVP",
        "outputId": "eab9f3a7-caba-471a-e27d-739030e180a3"
      },
      "outputs": [
        {
          "output_type": "execute_result",
          "data": {
            "text/plain": [
              "LinearRegression()"
            ]
          },
          "metadata": {},
          "execution_count": 94
        }
      ],
      "source": [
        "model0 = LinearRegression()\n",
        "model0.fit(X0_train, y0_train)"
      ]
    },
    {
      "cell_type": "code",
      "execution_count": 95,
      "metadata": {
        "colab": {
          "base_uri": "https://localhost:8080/"
        },
        "id": "kOq_d_kc_VVX",
        "outputId": "ab7137b0-958c-43a6-d31e-4c52bb44d3b4"
      },
      "outputs": [
        {
          "output_type": "execute_result",
          "data": {
            "text/plain": [
              "LinearRegression()"
            ]
          },
          "metadata": {},
          "execution_count": 95
        }
      ],
      "source": [
        "model1 = LinearRegression()\n",
        "model1.fit(X1_train, y1_train)"
      ]
    },
    {
      "cell_type": "code",
      "execution_count": 96,
      "metadata": {
        "colab": {
          "base_uri": "https://localhost:8080/"
        },
        "id": "OtXthYMa_Vdz",
        "outputId": "852018e6-1236-4447-8106-11808c6b6400"
      },
      "outputs": [
        {
          "output_type": "execute_result",
          "data": {
            "text/plain": [
              "LinearRegression()"
            ]
          },
          "metadata": {},
          "execution_count": 96
        }
      ],
      "source": [
        "model2 = LinearRegression()\n",
        "model2.fit(X2_train, y2_train)"
      ]
    },
    {
      "cell_type": "markdown",
      "metadata": {
        "id": "_4EcgOnj_laa"
      },
      "source": [
        "### Расчёт метрик\n",
        "\n",
        "Посмотрим, что свежеобученные модели предскажут на тестовых выборках. Для оценки качества моделей будем использовать метрику RMSE (англ. *root-mean-square error*, корень из среднеквадратичной ошибки)."
      ]
    },
    {
      "cell_type": "code",
      "execution_count": 97,
      "metadata": {
        "colab": {
          "base_uri": "https://localhost:8080/"
        },
        "id": "_utuKn0o_kn-",
        "outputId": "d4f9f63a-eb5a-4de8-e780-9e6a0c37acd1"
      },
      "outputs": [
        {
          "output_type": "stream",
          "name": "stdout",
          "text": [
            "Mean predicted product: 92.3987999065777\n",
            "RMSE_0: 37.756600350261685\n"
          ]
        }
      ],
      "source": [
        "pred0 = model0.predict(X0_test)\n",
        "print('Mean predicted product:', np.mean(pred0))\n",
        "rmse0 = mean_squared_error(y0_test, pred0, squared=False)\n",
        "print('RMSE_0:', rmse0)"
      ]
    },
    {
      "cell_type": "code",
      "execution_count": 98,
      "metadata": {
        "colab": {
          "base_uri": "https://localhost:8080/"
        },
        "id": "vFUPT9uT84dq",
        "outputId": "2743165a-dabc-4a4a-aaee-a30c264e0d58"
      },
      "outputs": [
        {
          "output_type": "stream",
          "name": "stdout",
          "text": [
            "Mean predicted product: 68.71287803913762\n",
            "RMSE_0: 0.890280100102884\n"
          ]
        }
      ],
      "source": [
        "pred1 = model1.predict(X1_test)\n",
        "print('Mean predicted product:', np.mean(pred1))\n",
        "rmse1 = mean_squared_error(y1_test, pred1, squared=False)\n",
        "print('RMSE_0:', rmse1)"
      ]
    },
    {
      "cell_type": "code",
      "execution_count": 99,
      "metadata": {
        "colab": {
          "base_uri": "https://localhost:8080/"
        },
        "id": "KvHgfAiv9AJR",
        "outputId": "41dd10de-5443-4f41-ad81-5feee8f06580"
      },
      "outputs": [
        {
          "output_type": "stream",
          "name": "stdout",
          "text": [
            "Mean predicted product: 94.77102387765939\n",
            "RMSE_2: 40.14587231134218\n"
          ]
        }
      ],
      "source": [
        "pred2 = model2.predict(X2_test)\n",
        "print('Mean predicted product:', np.mean(pred2))\n",
        "rmse2 = mean_squared_error(y2_test, pred2, squared=False)\n",
        "print('RMSE_2:', rmse2)"
      ]
    },
    {
      "cell_type": "markdown",
      "metadata": {
        "id": "X_o-X5Nu_tAw"
      },
      "source": [
        "#### Промежуточный вывод\n",
        "\n",
        "Были созданы и обучены модели, предсказывающие объём запасов по признакам $f_0$, $f_1$, $f_2$. Для регионов 0, 1, 2 были получены предсказания моделей для тестовых выборок. Средние предсказанные запасы сырья по регионам и корни среднеквадратичных ошибок (RMSE) представлены в таблице ниже:\n",
        "\n",
        "| Регион         | Среднее предсказанных запасов  | RMSE |\n",
        "|:--------------:|:-----------:|:--:|\n",
        "| 0 | 92.5      | 37.7 |\n",
        "| 1      | 68.3  | 0.9 |\n",
        "| 2      | 94.9  | 40.2      |\n",
        "\n",
        "Для региона 1 метрика RMSE довольно низка, что ожидаемо, если принять во внимание обнаруженную ранее сильную корреляцию переменных product и $f_2$."
      ]
    },
    {
      "cell_type": "markdown",
      "metadata": {
        "id": "dt-eXisRLaxS"
      },
      "source": [
        "## Подготовка к расчёту прибыли"
      ]
    },
    {
      "cell_type": "markdown",
      "metadata": {
        "id": "ufhwbE-1IPPA"
      },
      "source": [
        "### Определение порогового объёма сырья\n",
        "Посчитаем достаточный объём сырья для безубыточной разработки новой скважины. Известно, что один баррель сырья приносит 450 рублей дохода. Соответственно, доход с тысячи баррелей (именно так задана переменная `product`) равен 450 000 рублей. Бюджет на разработку новых скважин в регионе — 10 млрд рублей. В одном регионе одновременно разрабатывается 200 новых скважин."
      ]
    },
    {
      "cell_type": "code",
      "execution_count": 100,
      "metadata": {
        "id": "bQpnL4eD8_Gl"
      },
      "outputs": [],
      "source": [
        "THOUSAND_BARREL_INCOME = 450000\n",
        "N_OF_WELLS = 200\n",
        "REGIONAL_DEVELOPMENT_BUDGET = 10000000000"
      ]
    },
    {
      "cell_type": "markdown",
      "metadata": {
        "id": "XCTvFCSZJsDE"
      },
      "source": [
        "На разработку одной скважины $i$ будет потрачено\n",
        "\n",
        "$$B_i = \\frac{B_t}{n} = \\frac{10000000000}{200} [рублей] = 50000000 [рублей],$$\n",
        "\n",
        "где $B_t$ — бюджет на разработку новых скважин в регионе, $n$ — количество новых скважин."
      ]
    },
    {
      "cell_type": "code",
      "execution_count": 101,
      "metadata": {
        "id": "dipilCZZLbIr"
      },
      "outputs": [],
      "source": [
        "one_well_budget = REGIONAL_DEVELOPMENT_BUDGET / N_OF_WELLS"
      ]
    },
    {
      "cell_type": "markdown",
      "metadata": {
        "id": "7c994bOzLGI7"
      },
      "source": [
        "Таким образом, чтобы разработка скважины была экономически оправдана, должно выполняться условие:\n",
        "$$ B_i < P_i \\cdot I,$$\n",
        "где $P_i$ — объём запасов в скважине, $I$ — доход от продажи 1000 баррелей. \n",
        "\n",
        "Таким образом минимальный достаточный объём запасов для разработки нового месторождения определяется по формуле:\n",
        "\n",
        "$$ P_t = \\frac{B_i}{I} $$\n",
        "\n",
        "$$ P_t = \\frac{50 000 000}{450 000}[тыс. баррелей] $$\n",
        "\n",
        "$$ P_t = 111.(1) [тыс. баррелей] $$"
      ]
    },
    {
      "cell_type": "code",
      "execution_count": 102,
      "metadata": {
        "id": "2fwJBSY2Mqe-"
      },
      "outputs": [],
      "source": [
        "product_threshold = one_well_budget / THOUSAND_BARREL_INCOME"
      ]
    },
    {
      "cell_type": "markdown",
      "metadata": {
        "id": "OffiepCgNxWN"
      },
      "source": [
        "Вернёмся к ранее рассчитанным средним значениям предсказанных объёмов запасов по регионам.\n",
        "\n",
        "| Регион         | Среднее предсказанных запасов  |\n",
        "|:--------------:|:-----------:|\n",
        "| 0 | 92.5      | \n",
        "| 1      | 68.3  |\n",
        "| 2      | 94.9  | \n",
        "\n",
        "Видно, что во всех трёх регионох средние предсказанные запасы меньше, чем пороговое значение объёмов, при котором разработка новой скважины оправдано. А значит, нам придётся постараться, чтобы отобрать скважины с наибольшими объёмами."
      ]
    },
    {
      "cell_type": "markdown",
      "metadata": {
        "id": "Nf8-7ZpwOiWI"
      },
      "source": [
        "### Промежуточный вывод\n",
        "\n",
        "Был расчитан пороговый уровень объёма запасов в одной скважине, при котором разработка этой скважины становится экономически оправданной (прибыль покрывает все затраты на разработку). При этом было показано, что средние предсказанные объёмы запасов в регионах 0, 1, 2 меньше, чем рассчитанное пороговое значение. А следовательно, чтобы разработка новых скважин была экономически эффективна, необходимо тщательно отбирать кандидатов для разработки."
      ]
    },
    {
      "cell_type": "markdown",
      "metadata": {
        "id": "HHkO9B9dLc6j"
      },
      "source": [
        "## Расчёт прибыли и рисков "
      ]
    },
    {
      "cell_type": "markdown",
      "metadata": {
        "id": "899UAS4dRZ2n"
      },
      "source": [
        "Напишем функцию для расчёта прибыли по выбранным скважинам и предсказаниям модели. Функция будет выбирать 200 скважин с максимальными значениями предсказаний, суммировать целевое значение объёма запасов и рассчитывать прибыль."
      ]
    },
    {
      "cell_type": "code",
      "execution_count": 103,
      "metadata": {
        "id": "IoETjqhjLdS7"
      },
      "outputs": [],
      "source": [
        "def calculate_profit(target, prediction):\n",
        "    best_predicted = pd.Series(prediction).sort_values(ascending=False).head(200)\n",
        "    best_predicted_real = target[best_predicted.index]\n",
        "    total_product = best_predicted_real.sum()\n",
        "    total_income = total_product * THOUSAND_BARREL_INCOME\n",
        "    total_profit = total_income - REGIONAL_DEVELOPMENT_BUDGET\n",
        "    return total_profit"
      ]
    },
    {
      "cell_type": "markdown",
      "metadata": {
        "id": "pTdb5KGnU1R9"
      },
      "source": [
        "Применим технику *Bootstrap* с 1000 выборок для каждого региона, чтобы найти распределение прибыли."
      ]
    },
    {
      "cell_type": "code",
      "execution_count": 104,
      "metadata": {
        "id": "OZwIY0oyXebK"
      },
      "outputs": [],
      "source": [
        "def bootstrap(y_test, y_pred, region):\n",
        "    state = np.random.RandomState(42)\n",
        "    bootstrap_profit_bil = []\n",
        "\n",
        "    y_test = pd.Series(y_test).reset_index(drop=True)\n",
        "    y_pred = pd.Series(y_pred).reset_index(drop=True)\n",
        "\n",
        "    for _ in range(1000):\n",
        "        samples = y_test.sample(500, random_state=state)\n",
        "        samples_pred = y_pred[samples.index]\n",
        "\n",
        "        samples_profit = calculate_profit(samples, samples_pred)\n",
        "        samples_profit_bil = samples_profit / 1000000000\n",
        "        bootstrap_profit_bil.append(samples_profit_bil)\n",
        "\n",
        "    bootstrap_profit_bil = pd.Series(bootstrap_profit_bil)\n",
        "\n",
        "    f, (ax_hist, ax_box) = plt.subplots(2, sharex=True,\n",
        "                                      gridspec_kw={\"height_ratios\": (.85, .15)})\n",
        "    sns.histplot(data=bootstrap_profit_bil, kde=True, ax=ax_hist)\\\n",
        "    .set(title='Распределение прибыли, регион ' + str(region),\n",
        "       ylabel='Количество')\n",
        "    sns.boxplot(data=bootstrap_profit_bil, \n",
        "                x=bootstrap_profit_bil.values, ax=ax_box)\\\n",
        "    .set(xlabel='Прибыль [млрд. руб.]')\n",
        "\n",
        "    mean_profit = bootstrap_profit_bil.mean()\n",
        "    ci_lower = bootstrap_profit_bil.quantile(0.025)\n",
        "    ci_upper = bootstrap_profit_bil.quantile(0.975)\n",
        "    neg_profit = bootstrap_profit_bil[bootstrap_profit_bil < 0].size\\\n",
        "    /bootstrap_profit_bil.size\n",
        "    print('Средняя прибыль по региону:', round(mean_profit, 2), 'млрд. руб.', \n",
        "        '\\nДоверительный интервал:', round(ci_lower, 2), '---',\n",
        "        round(ci_upper, 2),\n",
        "        '\\nВероятность убытков:', round(neg_profit * 100, 2), '%')"
      ]
    },
    {
      "cell_type": "markdown",
      "metadata": {
        "id": "MSmP4xeJVR6p"
      },
      "source": [
        "### Регион 0"
      ]
    },
    {
      "cell_type": "code",
      "execution_count": 105,
      "metadata": {
        "colab": {
          "base_uri": "https://localhost:8080/",
          "height": 409
        },
        "id": "hsJZ8KDnY9J7",
        "outputId": "86dafd9c-d33e-43f5-f26e-e2ad8633b4ab"
      },
      "outputs": [
        {
          "output_type": "stream",
          "name": "stdout",
          "text": [
            "Средняя прибыль по региону: 0.41 млрд. руб. \n",
            "Доверительный интервал: -0.14 --- 0.95 \n",
            "Вероятность убытков: 7.4 %\n"
          ]
        },
        {
          "output_type": "display_data",
          "data": {
            "text/plain": [
              "<Figure size 1080x360 with 2 Axes>"
            ],
            "image/png": "[encoded data removed]"
          },
          "metadata": {}
        }
      ],
      "source": [
        "bootstrap(y0_test, pred0, 0)"
      ]
    },
    {
      "cell_type": "markdown",
      "metadata": {
        "id": "yzM5Al8BZoQe"
      },
      "source": [
        "### Регион 1"
      ]
    },
    {
      "cell_type": "code",
      "execution_count": 106,
      "metadata": {
        "colab": {
          "base_uri": "https://localhost:8080/",
          "height": 409
        },
        "id": "_LHwLOPnZoQf",
        "outputId": "8e524db3-d837-40d8-901e-4df6d9cd41e8"
      },
      "outputs": [
        {
          "output_type": "stream",
          "name": "stdout",
          "text": [
            "Средняя прибыль по региону: 0.44 млрд. руб. \n",
            "Доверительный интервал: 0.02 --- 0.83 \n",
            "Вероятность убытков: 2.2 %\n"
          ]
        },
        {
          "output_type": "display_data",
          "data": {
            "text/plain": [
              "<Figure size 1080x360 with 2 Axes>"
            ],
            "image/png": "[encoded data removed]"
          },
          "metadata": {}
        }
      ],
      "source": [
        "bootstrap(y1_test, pred1, 1)"
      ]
    },
    {
      "cell_type": "markdown",
      "metadata": {
        "id": "rvMIZvdNZpWC"
      },
      "source": [
        "### Регион 2"
      ]
    },
    {
      "cell_type": "code",
      "execution_count": 107,
      "metadata": {
        "colab": {
          "base_uri": "https://localhost:8080/",
          "height": 409
        },
        "id": "b_jT0BMOZpWH",
        "outputId": "b93cbbdb-86fa-49c9-87d2-c9841cdaf5d9"
      },
      "outputs": [
        {
          "output_type": "stream",
          "name": "stdout",
          "text": [
            "Средняя прибыль по региону: 0.38 млрд. руб. \n",
            "Доверительный интервал: -0.15 --- 0.87 \n",
            "Вероятность убытков: 7.8 %\n"
          ]
        },
        {
          "output_type": "display_data",
          "data": {
            "text/plain": [
              "<Figure size 1080x360 with 2 Axes>"
            ],
            "image/png": "[encoded data removed]"
          },
          "metadata": {}
        }
      ],
      "source": [
        "bootstrap(y2_test, pred2, 2)"
      ]
    },
    {
      "cell_type": "markdown",
      "metadata": {
        "id": "M4_F5PgKa9x-"
      },
      "source": [
        "### Предварительные выводы"
      ]
    },
    {
      "cell_type": "markdown",
      "metadata": {
        "id": "P4sAgKHubjTA"
      },
      "source": [
        "Мы применили методику *Bootstrap* для прогнозирования прибыльности разработки месторождений в регионах 0, 1 и 2. Полученные выборки в соответствии с центральной предельной теоремой стремятся к нормальному распределению. В результате были получены следующее оценки средней прибыли и вероятности получения убытка при разработке 200 новых месторождений в регионе:\n",
        "\n",
        "| Регион         | Прогноз средней прибыли     | Прогноз вероятности убытка|\n",
        "|:--------------:|:-----------:|:------------:|\n",
        "| 0 | 0.41 млрд. руб.      | 7.4 %        |\n",
        "| 1      | 0.44 млрд. руб. | 2.2 %      |\n",
        "| 2      | 0.38 млрд. руб.  | 7.8 %       |\n",
        "\n",
        "Видно, что в регионе 1 прогноз средней прибыли выше, а прогноз вероятности получения убытка меньше. Исходя из этого можно рекомендовать регион 1 для разработки новых месторождений. Однако следует помнить, что на этапе исследовательского анализа данных мы обнаружили возможную «протечку» данных, что могло исказить разработанную модель, а также оценки прибыли и убытка."
      ]
    },
    {
      "cell_type": "markdown",
      "metadata": {
        "id": "OpFc9qHWed6C"
      },
      "source": [
        "## Общий вывод по проекту\n",
        "\n",
        "В рамках данного проекта методы машинного обучения были применены для получения рекомендаций по выбору перспективного региона для разработки новых месторождений.\n",
        "\n",
        "Выбор производился из трёх регионов. Для каждого региона были созданы и обучены модели, предсказывающие объём запасов по признакам $f_0$, $f_1$, $f_2$. Для регионов 0, 1, 2 были получены предсказания моделей для тестовых выборок. Средние предсказанные запасы сырья по регионам и корни среднеквадратичных ошибок (RMSE) представлены в таблице ниже:\n",
        "\n",
        "| Регион         | Среднее предсказанных запасов  | RMSE |\n",
        "|:--------------:|:-----------:|:--:|\n",
        "| 0 | 92.5      | 37.7 |\n",
        "| 1      | 68.3  | 0.9 |\n",
        "| 2      | 94.9  | 40.2      |\n",
        "\n",
        "Для региона 1 метрика RMSE довольно низка, что ожидаемо, если принять во внимание обнаруженную ранее сильную корреляцию переменных product и $f_2$.\n",
        "\n",
        "Был расчитан пороговый уровень объёма запасов в одной скважине, при котором разработка этой скважины становится экономически оправданной (прибыль покрывает все затраты на разработку). При этом было показано, что средние предсказанные объёмы запасов в регионах 0, 1, 2 меньше, чем рассчитанное пороговое значение. А следовательно, чтобы разработка новых скважин была экономически эффективна, необходимо тщательно отбирать кандидатов для разработки.\n",
        "\n",
        "Мы также применили методику *Bootstrap* для прогнозирования прибыльности разработки месторождений в регионах 0, 1 и 2. Полученные выборки в соответствии с центральной предельной теоремой стремятся к нормальному распределению. В результате были получены следующее оценки средней прибыли и вероятности получения убытка при разработке 200 новых месторождений в регионе:\n",
        "\n",
        "| Регион         | Прогноз средней прибыли     | Прогноз вероятности убытка|\n",
        "|:--------------:|:-----------:|:------------:|\n",
        "| 0 | 0.41 млрд. руб.      | 7.4 %        |\n",
        "| 1      | 0.44 млрд. руб. | 2.2 %      |\n",
        "| 2      | 0.38 млрд. руб.  | 7.8 %       |\n",
        "\n",
        "Видно, что в регионе 1 прогноз средней прибыли выше, а прогноз вероятности получения убытка меньше. Исходя из этого можно рекомендовать регион 1 для разработки новых месторождений. Однако следует помнить, что на этапе исследовательского анализа данных мы обнаружили возможную «протечку» данных, что могло исказить разработанную модель, а также оценки прибыли и убытка.\n",
        "\n",
        "На основе полученных данных рекомендуется выбрать для разработки новых месторождений регион 1, так как в нём вероятность получения убытка ниже, чем в регионах 0 и 2, а прогноз средней прибыли — выше."
      ]
    },
    {
      "cell_type": "code",
      "source": [],
      "metadata": {
        "id": "6dugQOpUjfkT"
      },
      "execution_count": null,
      "outputs": []
    }
  ],
  "metadata": {
    "ExecuteTimeLog": [
      {
        "duration": 1654,
        "start_time": "2022-07-02T17:37:55.961Z"
      },
      {
        "duration": 4,
        "start_time": "2022-07-02T17:37:57.618Z"
      },
      {
        "duration": 330,
        "start_time": "2022-07-02T17:37:57.623Z"
      },
      {
        "duration": 48,
        "start_time": "2022-07-02T17:37:57.955Z"
      },
      {
        "duration": 26,
        "start_time": "2022-07-02T17:37:58.005Z"
      },
      {
        "duration": 48,
        "start_time": "2022-07-02T17:37:58.033Z"
      },
      {
        "duration": 323,
        "start_time": "2022-07-02T17:37:58.083Z"
      },
      {
        "duration": 10,
        "start_time": "2022-07-02T17:37:58.408Z"
      },
      {
        "duration": 39,
        "start_time": "2022-07-02T17:37:58.420Z"
      },
      {
        "duration": 12,
        "start_time": "2022-07-02T17:37:58.462Z"
      },
      {
        "duration": 56,
        "start_time": "2022-07-02T17:37:58.476Z"
      },
      {
        "duration": 297,
        "start_time": "2022-07-02T17:37:58.534Z"
      },
      {
        "duration": 12,
        "start_time": "2022-07-02T17:37:58.832Z"
      },
      {
        "duration": 41,
        "start_time": "2022-07-02T17:37:58.846Z"
      },
      {
        "duration": 15,
        "start_time": "2022-07-02T17:37:58.889Z"
      },
      {
        "duration": 65,
        "start_time": "2022-07-02T17:37:58.905Z"
      },
      {
        "duration": 15,
        "start_time": "2022-07-02T17:37:58.972Z"
      },
      {
        "duration": 39,
        "start_time": "2022-07-02T17:37:58.989Z"
      },
      {
        "duration": 13,
        "start_time": "2022-07-02T17:37:59.029Z"
      },
      {
        "duration": 949,
        "start_time": "2022-07-02T17:37:59.045Z"
      },
      {
        "duration": 994,
        "start_time": "2022-07-02T17:37:59.996Z"
      },
      {
        "duration": 1168,
        "start_time": "2022-07-02T17:38:00.992Z"
      },
      {
        "duration": 14,
        "start_time": "2022-07-02T17:38:02.162Z"
      },
      {
        "duration": 18,
        "start_time": "2022-07-02T17:38:02.178Z"
      },
      {
        "duration": 30,
        "start_time": "2022-07-02T17:38:02.198Z"
      },
      {
        "duration": 838,
        "start_time": "2022-07-02T17:38:02.230Z"
      },
      {
        "duration": 1026,
        "start_time": "2022-07-02T17:38:03.070Z"
      },
      {
        "duration": 1202,
        "start_time": "2022-07-02T17:38:04.100Z"
      },
      {
        "duration": 14,
        "start_time": "2022-07-02T17:38:05.304Z"
      },
      {
        "duration": 24,
        "start_time": "2022-07-02T17:38:05.319Z"
      },
      {
        "duration": 20,
        "start_time": "2022-07-02T17:38:05.344Z"
      },
      {
        "duration": 1025,
        "start_time": "2022-07-02T17:38:05.366Z"
      },
      {
        "duration": 790,
        "start_time": "2022-07-02T17:38:06.393Z"
      },
      {
        "duration": 999,
        "start_time": "2022-07-02T17:38:07.185Z"
      },
      {
        "duration": 14,
        "start_time": "2022-07-02T17:38:08.185Z"
      },
      {
        "duration": 26,
        "start_time": "2022-07-02T17:38:08.201Z"
      },
      {
        "duration": 17,
        "start_time": "2022-07-02T17:38:08.229Z"
      },
      {
        "duration": 863,
        "start_time": "2022-07-02T17:38:08.247Z"
      },
      {
        "duration": 850,
        "start_time": "2022-07-02T17:38:09.111Z"
      },
      {
        "duration": 840,
        "start_time": "2022-07-02T17:38:09.962Z"
      },
      {
        "duration": 31,
        "start_time": "2022-07-02T17:38:10.804Z"
      },
      {
        "duration": 338,
        "start_time": "2022-07-02T17:38:10.839Z"
      },
      {
        "duration": 398,
        "start_time": "2022-07-02T17:38:11.180Z"
      },
      {
        "duration": 354,
        "start_time": "2022-07-02T17:38:11.580Z"
      },
      {
        "duration": 1652,
        "start_time": "2022-07-02T17:38:46.804Z"
      },
      {
        "duration": 4,
        "start_time": "2022-07-02T17:38:48.458Z"
      },
      {
        "duration": 308,
        "start_time": "2022-07-02T17:38:48.463Z"
      },
      {
        "duration": 44,
        "start_time": "2022-07-02T17:38:48.773Z"
      },
      {
        "duration": 16,
        "start_time": "2022-07-02T17:38:48.825Z"
      },
      {
        "duration": 48,
        "start_time": "2022-07-02T17:38:48.843Z"
      },
      {
        "duration": 276,
        "start_time": "2022-07-02T17:38:48.894Z"
      },
      {
        "duration": 9,
        "start_time": "2022-07-02T17:38:49.172Z"
      },
      {
        "duration": 46,
        "start_time": "2022-07-02T17:38:49.183Z"
      },
      {
        "duration": 14,
        "start_time": "2022-07-02T17:38:49.231Z"
      },
      {
        "duration": 50,
        "start_time": "2022-07-02T17:38:49.247Z"
      },
      {
        "duration": 237,
        "start_time": "2022-07-02T17:38:49.299Z"
      },
      {
        "duration": 11,
        "start_time": "2022-07-02T17:38:49.538Z"
      },
      {
        "duration": 38,
        "start_time": "2022-07-02T17:38:49.553Z"
      },
      {
        "duration": 39,
        "start_time": "2022-07-02T17:38:49.593Z"
      },
      {
        "duration": 54,
        "start_time": "2022-07-02T17:38:49.635Z"
      },
      {
        "duration": 14,
        "start_time": "2022-07-02T17:38:49.691Z"
      },
      {
        "duration": 13,
        "start_time": "2022-07-02T17:38:49.726Z"
      },
      {
        "duration": 15,
        "start_time": "2022-07-02T17:38:49.741Z"
      },
      {
        "duration": 979,
        "start_time": "2022-07-02T17:38:49.757Z"
      },
      {
        "duration": 1169,
        "start_time": "2022-07-02T17:38:50.738Z"
      },
      {
        "duration": 1078,
        "start_time": "2022-07-02T17:38:51.909Z"
      },
      {
        "duration": 19,
        "start_time": "2022-07-02T17:38:52.989Z"
      },
      {
        "duration": 30,
        "start_time": "2022-07-02T17:38:53.010Z"
      },
      {
        "duration": 16,
        "start_time": "2022-07-02T17:38:53.042Z"
      },
      {
        "duration": 773,
        "start_time": "2022-07-02T17:38:53.060Z"
      },
      {
        "duration": 1016,
        "start_time": "2022-07-02T17:38:53.835Z"
      },
      {
        "duration": 1149,
        "start_time": "2022-07-02T17:38:54.853Z"
      },
      {
        "duration": 24,
        "start_time": "2022-07-02T17:38:56.005Z"
      },
      {
        "duration": 19,
        "start_time": "2022-07-02T17:38:56.031Z"
      },
      {
        "duration": 15,
        "start_time": "2022-07-02T17:38:56.053Z"
      },
      {
        "duration": 1093,
        "start_time": "2022-07-02T17:38:56.070Z"
      },
      {
        "duration": 765,
        "start_time": "2022-07-02T17:38:57.165Z"
      },
      {
        "duration": 1041,
        "start_time": "2022-07-02T17:38:57.932Z"
      },
      {
        "duration": 14,
        "start_time": "2022-07-02T17:38:58.974Z"
      },
      {
        "duration": 12,
        "start_time": "2022-07-02T17:38:58.990Z"
      },
      {
        "duration": 33,
        "start_time": "2022-07-02T17:38:59.003Z"
      },
      {
        "duration": 850,
        "start_time": "2022-07-02T17:38:59.038Z"
      },
      {
        "duration": 1026,
        "start_time": "2022-07-02T17:38:59.890Z"
      },
      {
        "duration": 938,
        "start_time": "2022-07-02T17:39:00.918Z"
      },
      {
        "duration": 23,
        "start_time": "2022-07-02T17:39:01.861Z"
      },
      {
        "duration": 382,
        "start_time": "2022-07-02T17:39:01.886Z"
      },
      {
        "duration": 365,
        "start_time": "2022-07-02T17:39:02.271Z"
      },
      {
        "duration": 345,
        "start_time": "2022-07-02T17:39:02.639Z"
      },
      {
        "duration": 79003,
        "start_time": "2022-07-02T17:39:02.985Z"
      },
      {
        "duration": 13,
        "start_time": "2022-07-02T17:40:21.990Z"
      },
      {
        "duration": 39,
        "start_time": "2022-07-02T17:40:22.005Z"
      },
      {
        "duration": 12,
        "start_time": "2022-07-02T17:40:22.046Z"
      },
      {
        "duration": 12,
        "start_time": "2022-07-02T17:40:22.060Z"
      },
      {
        "duration": 10,
        "start_time": "2022-07-02T17:40:22.074Z"
      },
      {
        "duration": 10,
        "start_time": "2022-07-02T17:40:22.086Z"
      },
      {
        "duration": 49,
        "start_time": "2022-07-02T17:40:22.097Z"
      },
      {
        "duration": 96,
        "start_time": "2022-07-02T17:40:22.148Z"
      },
      {
        "duration": 203,
        "start_time": "2022-07-02T17:40:22.250Z"
      },
      {
        "duration": 185,
        "start_time": "2022-07-02T17:40:22.459Z"
      },
      {
        "duration": 16,
        "start_time": "2022-07-02T17:40:22.645Z"
      },
      {
        "duration": 6,
        "start_time": "2022-07-02T17:40:22.663Z"
      },
      {
        "duration": 7,
        "start_time": "2022-07-02T17:40:22.671Z"
      },
      {
        "duration": 10,
        "start_time": "2022-07-02T17:40:22.679Z"
      },
      {
        "duration": 1811,
        "start_time": "2022-07-02T17:40:22.691Z"
      },
      {
        "duration": 1716,
        "start_time": "2022-07-02T17:40:24.504Z"
      },
      {
        "duration": 1688,
        "start_time": "2022-07-02T17:40:26.221Z"
      },
      {
        "duration": 13,
        "start_time": "2022-07-02T18:52:00.671Z"
      },
      {
        "duration": 8,
        "start_time": "2022-07-02T18:52:21.085Z"
      },
      {
        "duration": 7,
        "start_time": "2022-07-02T18:52:26.383Z"
      },
      {
        "duration": 53,
        "start_time": "2022-07-02T18:52:41.658Z"
      },
      {
        "duration": 1586,
        "start_time": "2022-07-02T18:52:52.740Z"
      },
      {
        "duration": 3,
        "start_time": "2022-07-02T18:52:54.328Z"
      },
      {
        "duration": 394,
        "start_time": "2022-07-02T18:52:54.333Z"
      },
      {
        "duration": 46,
        "start_time": "2022-07-02T18:52:54.729Z"
      },
      {
        "duration": 15,
        "start_time": "2022-07-02T18:52:54.777Z"
      },
      {
        "duration": 68,
        "start_time": "2022-07-02T18:52:54.794Z"
      },
      {
        "duration": 388,
        "start_time": "2022-07-02T18:52:54.864Z"
      },
      {
        "duration": 10,
        "start_time": "2022-07-02T18:52:55.254Z"
      },
      {
        "duration": 38,
        "start_time": "2022-07-02T18:52:55.267Z"
      },
      {
        "duration": 36,
        "start_time": "2022-07-02T18:52:55.309Z"
      },
      {
        "duration": 46,
        "start_time": "2022-07-02T18:52:55.347Z"
      },
      {
        "duration": 329,
        "start_time": "2022-07-02T18:52:55.395Z"
      },
      {
        "duration": 11,
        "start_time": "2022-07-02T18:52:55.726Z"
      },
      {
        "duration": 40,
        "start_time": "2022-07-02T18:52:55.742Z"
      },
      {
        "duration": 15,
        "start_time": "2022-07-02T18:52:55.783Z"
      },
      {
        "duration": 70,
        "start_time": "2022-07-02T18:52:55.800Z"
      },
      {
        "duration": 2925,
        "start_time": "2022-07-02T18:53:03.710Z"
      },
      {
        "duration": 9,
        "start_time": "2022-07-02T18:53:25.470Z"
      },
      {
        "duration": 3097,
        "start_time": "2022-07-02T18:53:26.107Z"
      },
      {
        "duration": 3018,
        "start_time": "2022-07-02T18:54:46.734Z"
      },
      {
        "duration": 2841,
        "start_time": "2022-07-02T18:55:06.293Z"
      },
      {
        "duration": 3125,
        "start_time": "2022-07-02T18:55:21.980Z"
      },
      {
        "duration": 3025,
        "start_time": "2022-07-02T18:57:02.765Z"
      },
      {
        "duration": 2651,
        "start_time": "2022-07-02T18:59:22.589Z"
      },
      {
        "duration": 3,
        "start_time": "2022-07-02T19:08:29.872Z"
      },
      {
        "duration": 3,
        "start_time": "2022-07-02T19:08:31.835Z"
      },
      {
        "duration": 3,
        "start_time": "2022-07-02T19:08:39.770Z"
      },
      {
        "duration": 8,
        "start_time": "2022-07-02T19:09:13.386Z"
      },
      {
        "duration": 5,
        "start_time": "2022-07-02T19:09:32.465Z"
      },
      {
        "duration": 20,
        "start_time": "2022-07-02T19:09:32.472Z"
      },
      {
        "duration": 433,
        "start_time": "2022-07-02T19:09:32.495Z"
      },
      {
        "duration": 43,
        "start_time": "2022-07-02T19:09:32.929Z"
      },
      {
        "duration": 13,
        "start_time": "2022-07-02T19:09:32.974Z"
      },
      {
        "duration": 58,
        "start_time": "2022-07-02T19:09:32.989Z"
      },
      {
        "duration": 377,
        "start_time": "2022-07-02T19:09:33.049Z"
      },
      {
        "duration": 10,
        "start_time": "2022-07-02T19:09:33.428Z"
      },
      {
        "duration": 45,
        "start_time": "2022-07-02T19:09:33.441Z"
      },
      {
        "duration": 14,
        "start_time": "2022-07-02T19:09:33.487Z"
      },
      {
        "duration": 62,
        "start_time": "2022-07-02T19:09:33.504Z"
      },
      {
        "duration": 270,
        "start_time": "2022-07-02T19:09:33.567Z"
      },
      {
        "duration": 11,
        "start_time": "2022-07-02T19:09:33.838Z"
      },
      {
        "duration": 47,
        "start_time": "2022-07-02T19:09:33.851Z"
      },
      {
        "duration": 15,
        "start_time": "2022-07-02T19:09:33.900Z"
      },
      {
        "duration": 67,
        "start_time": "2022-07-02T19:09:33.917Z"
      },
      {
        "duration": 8,
        "start_time": "2022-07-02T19:09:33.986Z"
      },
      {
        "duration": 3007,
        "start_time": "2022-07-02T19:09:33.996Z"
      },
      {
        "duration": 2901,
        "start_time": "2022-07-02T19:09:37.008Z"
      },
      {
        "duration": 2980,
        "start_time": "2022-07-02T19:09:39.912Z"
      },
      {
        "duration": 2589,
        "start_time": "2022-07-02T19:09:42.894Z"
      },
      {
        "duration": 23,
        "start_time": "2022-07-02T19:09:45.485Z"
      },
      {
        "duration": 374,
        "start_time": "2022-07-02T19:09:45.509Z"
      },
      {
        "duration": 347,
        "start_time": "2022-07-02T19:09:45.884Z"
      },
      {
        "duration": 359,
        "start_time": "2022-07-02T19:09:46.233Z"
      },
      {
        "duration": 58311,
        "start_time": "2022-07-02T19:09:46.594Z"
      },
      {
        "duration": 14,
        "start_time": "2022-07-02T19:10:44.907Z"
      },
      {
        "duration": 20,
        "start_time": "2022-07-02T19:10:44.923Z"
      },
      {
        "duration": 13,
        "start_time": "2022-07-02T19:10:44.947Z"
      },
      {
        "duration": 13,
        "start_time": "2022-07-02T19:10:44.962Z"
      },
      {
        "duration": 168,
        "start_time": "2022-07-02T19:10:44.977Z"
      },
      {
        "duration": 15,
        "start_time": "2022-07-02T19:10:45.147Z"
      },
      {
        "duration": 77,
        "start_time": "2022-07-02T19:10:45.164Z"
      },
      {
        "duration": 11,
        "start_time": "2022-07-02T19:10:45.244Z"
      },
      {
        "duration": 11,
        "start_time": "2022-07-02T19:10:45.343Z"
      },
      {
        "duration": 6,
        "start_time": "2022-07-02T19:10:45.442Z"
      },
      {
        "duration": 98,
        "start_time": "2022-07-02T19:10:45.450Z"
      },
      {
        "duration": 5,
        "start_time": "2022-07-02T19:10:45.550Z"
      },
      {
        "duration": 13,
        "start_time": "2022-07-02T19:10:45.557Z"
      },
      {
        "duration": 119,
        "start_time": "2022-07-02T19:10:45.572Z"
      },
      {
        "duration": 91,
        "start_time": "2022-07-02T19:10:45.693Z"
      },
      {
        "duration": 0,
        "start_time": "2022-07-02T19:10:45.785Z"
      },
      {
        "duration": 0,
        "start_time": "2022-07-02T19:10:45.786Z"
      },
      {
        "duration": 3,
        "start_time": "2022-07-02T19:11:34.105Z"
      },
      {
        "duration": 7,
        "start_time": "2022-07-02T19:11:36.376Z"
      },
      {
        "duration": 1796,
        "start_time": "2022-07-02T19:11:38.850Z"
      },
      {
        "duration": 3,
        "start_time": "2022-07-02T19:11:47.964Z"
      },
      {
        "duration": 9,
        "start_time": "2022-07-02T19:11:47.970Z"
      },
      {
        "duration": 569,
        "start_time": "2022-07-02T19:11:47.981Z"
      },
      {
        "duration": 40,
        "start_time": "2022-07-02T19:11:48.551Z"
      },
      {
        "duration": 16,
        "start_time": "2022-07-02T19:11:48.594Z"
      },
      {
        "duration": 70,
        "start_time": "2022-07-02T19:11:48.611Z"
      },
      {
        "duration": 278,
        "start_time": "2022-07-02T19:11:48.683Z"
      },
      {
        "duration": 10,
        "start_time": "2022-07-02T19:11:48.962Z"
      },
      {
        "duration": 47,
        "start_time": "2022-07-02T19:11:48.973Z"
      },
      {
        "duration": 25,
        "start_time": "2022-07-02T19:11:49.021Z"
      },
      {
        "duration": 48,
        "start_time": "2022-07-02T19:11:49.049Z"
      },
      {
        "duration": 257,
        "start_time": "2022-07-02T19:11:49.099Z"
      },
      {
        "duration": 10,
        "start_time": "2022-07-02T19:11:49.358Z"
      },
      {
        "duration": 43,
        "start_time": "2022-07-02T19:11:49.369Z"
      },
      {
        "duration": 28,
        "start_time": "2022-07-02T19:11:49.414Z"
      },
      {
        "duration": 46,
        "start_time": "2022-07-02T19:11:49.444Z"
      },
      {
        "duration": 8,
        "start_time": "2022-07-02T19:11:49.492Z"
      },
      {
        "duration": 2860,
        "start_time": "2022-07-02T19:11:49.502Z"
      },
      {
        "duration": 2937,
        "start_time": "2022-07-02T19:11:52.365Z"
      },
      {
        "duration": 2895,
        "start_time": "2022-07-02T19:11:55.303Z"
      },
      {
        "duration": 2547,
        "start_time": "2022-07-02T19:11:58.201Z"
      },
      {
        "duration": 23,
        "start_time": "2022-07-02T19:12:00.750Z"
      },
      {
        "duration": 320,
        "start_time": "2022-07-02T19:12:00.775Z"
      },
      {
        "duration": 361,
        "start_time": "2022-07-02T19:12:01.097Z"
      },
      {
        "duration": 325,
        "start_time": "2022-07-02T19:12:01.459Z"
      },
      {
        "duration": 59413,
        "start_time": "2022-07-02T19:12:01.786Z"
      },
      {
        "duration": 12,
        "start_time": "2022-07-02T19:13:01.201Z"
      },
      {
        "duration": 23,
        "start_time": "2022-07-02T19:13:01.215Z"
      },
      {
        "duration": 12,
        "start_time": "2022-07-02T19:13:01.242Z"
      },
      {
        "duration": 19,
        "start_time": "2022-07-02T19:13:01.255Z"
      },
      {
        "duration": 15,
        "start_time": "2022-07-02T19:13:01.275Z"
      },
      {
        "duration": 12,
        "start_time": "2022-07-02T19:13:01.292Z"
      },
      {
        "duration": 40,
        "start_time": "2022-07-02T19:13:01.305Z"
      },
      {
        "duration": 104,
        "start_time": "2022-07-02T19:13:01.347Z"
      },
      {
        "duration": 95,
        "start_time": "2022-07-02T19:13:01.453Z"
      },
      {
        "duration": 99,
        "start_time": "2022-07-02T19:13:01.550Z"
      },
      {
        "duration": 100,
        "start_time": "2022-07-02T19:13:01.651Z"
      },
      {
        "duration": 7,
        "start_time": "2022-07-02T19:13:01.753Z"
      },
      {
        "duration": 11,
        "start_time": "2022-07-02T19:13:01.762Z"
      },
      {
        "duration": 15,
        "start_time": "2022-07-02T19:13:01.775Z"
      },
      {
        "duration": 1810,
        "start_time": "2022-07-02T19:13:01.792Z"
      },
      {
        "duration": 1921,
        "start_time": "2022-07-02T19:13:03.604Z"
      },
      {
        "duration": 1891,
        "start_time": "2022-07-02T19:13:05.527Z"
      },
      {
        "duration": 7,
        "start_time": "2022-07-02T19:23:17.220Z"
      },
      {
        "duration": 1882,
        "start_time": "2022-07-02T19:23:18.495Z"
      },
      {
        "duration": 9,
        "start_time": "2022-07-02T19:23:30.350Z"
      },
      {
        "duration": 1890,
        "start_time": "2022-07-02T19:23:31.359Z"
      },
      {
        "duration": 1893,
        "start_time": "2022-07-02T19:23:36.883Z"
      },
      {
        "duration": 1847,
        "start_time": "2022-07-02T19:23:39.114Z"
      },
      {
        "duration": 106,
        "start_time": "2022-07-02T19:33:39.425Z"
      },
      {
        "duration": 4,
        "start_time": "2022-07-02T19:33:44.402Z"
      },
      {
        "duration": 13,
        "start_time": "2022-07-02T19:33:44.407Z"
      },
      {
        "duration": 419,
        "start_time": "2022-07-02T19:33:44.422Z"
      },
      {
        "duration": 38,
        "start_time": "2022-07-02T19:33:44.844Z"
      },
      {
        "duration": 15,
        "start_time": "2022-07-02T19:33:44.883Z"
      },
      {
        "duration": 73,
        "start_time": "2022-07-02T19:33:44.900Z"
      },
      {
        "duration": 382,
        "start_time": "2022-07-02T19:33:44.975Z"
      },
      {
        "duration": 11,
        "start_time": "2022-07-02T19:33:45.359Z"
      },
      {
        "duration": 42,
        "start_time": "2022-07-02T19:33:45.373Z"
      },
      {
        "duration": 29,
        "start_time": "2022-07-02T19:33:45.416Z"
      },
      {
        "duration": 49,
        "start_time": "2022-07-02T19:33:45.447Z"
      },
      {
        "duration": 506,
        "start_time": "2022-07-02T19:33:45.498Z"
      },
      {
        "duration": 10,
        "start_time": "2022-07-02T19:33:46.006Z"
      },
      {
        "duration": 53,
        "start_time": "2022-07-02T19:33:46.018Z"
      },
      {
        "duration": 16,
        "start_time": "2022-07-02T19:33:46.072Z"
      },
      {
        "duration": 64,
        "start_time": "2022-07-02T19:33:46.090Z"
      },
      {
        "duration": 9,
        "start_time": "2022-07-02T19:33:46.156Z"
      },
      {
        "duration": 3005,
        "start_time": "2022-07-02T19:33:46.168Z"
      },
      {
        "duration": 4373,
        "start_time": "2022-07-02T19:33:49.174Z"
      },
      {
        "duration": 2982,
        "start_time": "2022-07-02T19:33:53.549Z"
      },
      {
        "duration": 2713,
        "start_time": "2022-07-02T19:33:56.533Z"
      },
      {
        "duration": 24,
        "start_time": "2022-07-02T19:33:59.249Z"
      },
      {
        "duration": 355,
        "start_time": "2022-07-02T19:33:59.275Z"
      },
      {
        "duration": 336,
        "start_time": "2022-07-02T19:33:59.634Z"
      },
      {
        "duration": 328,
        "start_time": "2022-07-02T19:33:59.972Z"
      },
      {
        "duration": 64714,
        "start_time": "2022-07-02T19:34:00.302Z"
      },
      {
        "duration": 13,
        "start_time": "2022-07-02T19:35:05.019Z"
      },
      {
        "duration": 16,
        "start_time": "2022-07-02T19:35:05.034Z"
      },
      {
        "duration": 19,
        "start_time": "2022-07-02T19:35:05.052Z"
      },
      {
        "duration": 11,
        "start_time": "2022-07-02T19:35:05.072Z"
      },
      {
        "duration": 12,
        "start_time": "2022-07-02T19:35:05.085Z"
      },
      {
        "duration": 45,
        "start_time": "2022-07-02T19:35:05.098Z"
      },
      {
        "duration": 95,
        "start_time": "2022-07-02T19:35:05.146Z"
      },
      {
        "duration": 103,
        "start_time": "2022-07-02T19:35:05.244Z"
      },
      {
        "duration": 107,
        "start_time": "2022-07-02T19:35:05.349Z"
      },
      {
        "duration": 3,
        "start_time": "2022-07-02T19:35:05.543Z"
      },
      {
        "duration": 104,
        "start_time": "2022-07-02T19:35:05.548Z"
      },
      {
        "duration": 9,
        "start_time": "2022-07-02T19:35:05.654Z"
      },
      {
        "duration": 7,
        "start_time": "2022-07-02T19:35:05.664Z"
      },
      {
        "duration": 12,
        "start_time": "2022-07-02T19:35:05.672Z"
      },
      {
        "duration": 1936,
        "start_time": "2022-07-02T19:35:05.686Z"
      },
      {
        "duration": 1850,
        "start_time": "2022-07-02T19:35:07.624Z"
      },
      {
        "duration": 1952,
        "start_time": "2022-07-02T19:35:09.475Z"
      },
      {
        "duration": 1613,
        "start_time": "2022-07-02T20:11:10.748Z"
      },
      {
        "duration": 3,
        "start_time": "2022-07-02T20:11:12.363Z"
      },
      {
        "duration": 410,
        "start_time": "2022-07-02T20:11:12.371Z"
      },
      {
        "duration": 43,
        "start_time": "2022-07-02T20:11:12.782Z"
      },
      {
        "duration": 14,
        "start_time": "2022-07-02T20:11:12.827Z"
      },
      {
        "duration": 57,
        "start_time": "2022-07-02T20:11:12.843Z"
      },
      {
        "duration": 296,
        "start_time": "2022-07-02T20:11:12.902Z"
      },
      {
        "duration": 10,
        "start_time": "2022-07-02T20:11:13.199Z"
      },
      {
        "duration": 40,
        "start_time": "2022-07-02T20:11:13.211Z"
      },
      {
        "duration": 24,
        "start_time": "2022-07-02T20:11:13.253Z"
      },
      {
        "duration": 49,
        "start_time": "2022-07-02T20:11:13.279Z"
      },
      {
        "duration": 350,
        "start_time": "2022-07-02T20:11:13.330Z"
      },
      {
        "duration": 10,
        "start_time": "2022-07-02T20:11:13.682Z"
      },
      {
        "duration": 44,
        "start_time": "2022-07-02T20:11:13.695Z"
      },
      {
        "duration": 19,
        "start_time": "2022-07-02T20:11:13.741Z"
      },
      {
        "duration": 50,
        "start_time": "2022-07-02T20:11:13.768Z"
      },
      {
        "duration": 8,
        "start_time": "2022-07-02T20:11:13.820Z"
      },
      {
        "duration": 3017,
        "start_time": "2022-07-02T20:11:13.830Z"
      },
      {
        "duration": 2981,
        "start_time": "2022-07-02T20:11:16.849Z"
      },
      {
        "duration": 2523,
        "start_time": "2022-07-02T20:11:19.832Z"
      },
      {
        "duration": 2603,
        "start_time": "2022-07-02T20:11:22.357Z"
      },
      {
        "duration": 27,
        "start_time": "2022-07-02T20:11:24.962Z"
      },
      {
        "duration": 318,
        "start_time": "2022-07-02T20:11:24.991Z"
      },
      {
        "duration": 309,
        "start_time": "2022-07-02T20:11:25.311Z"
      },
      {
        "duration": 361,
        "start_time": "2022-07-02T20:11:25.623Z"
      },
      {
        "duration": 63621,
        "start_time": "2022-07-02T20:11:25.986Z"
      },
      {
        "duration": 11,
        "start_time": "2022-07-02T20:12:29.609Z"
      },
      {
        "duration": 11,
        "start_time": "2022-07-02T20:12:29.622Z"
      },
      {
        "duration": 11,
        "start_time": "2022-07-02T20:12:29.635Z"
      },
      {
        "duration": 32,
        "start_time": "2022-07-02T20:12:29.648Z"
      },
      {
        "duration": 100,
        "start_time": "2022-07-02T20:12:29.682Z"
      },
      {
        "duration": 109,
        "start_time": "2022-07-02T20:12:29.784Z"
      },
      {
        "duration": 10,
        "start_time": "2022-07-02T20:12:29.895Z"
      },
      {
        "duration": 13,
        "start_time": "2022-07-02T20:12:29.971Z"
      },
      {
        "duration": 210,
        "start_time": "2022-07-02T20:12:29.985Z"
      },
      {
        "duration": 188,
        "start_time": "2022-07-02T20:12:30.197Z"
      },
      {
        "duration": 11,
        "start_time": "2022-07-02T20:12:30.387Z"
      },
      {
        "duration": 22,
        "start_time": "2022-07-02T20:12:30.399Z"
      },
      {
        "duration": 24,
        "start_time": "2022-07-02T20:12:30.423Z"
      },
      {
        "duration": 13,
        "start_time": "2022-07-02T20:12:30.448Z"
      },
      {
        "duration": 1687,
        "start_time": "2022-07-02T20:12:30.464Z"
      },
      {
        "duration": 1841,
        "start_time": "2022-07-02T20:12:32.153Z"
      },
      {
        "duration": 1887,
        "start_time": "2022-07-02T20:12:33.996Z"
      },
      {
        "duration": 148,
        "start_time": "2022-07-02T20:12:38.907Z"
      }
    ],
    "colab": {
      "collapsed_sections": [],
      "provenance": []
    },
    "kernelspec": {
      "display_name": "Python 3 (ipykernel)",
      "language": "python",
      "name": "python3"
    },
    "language_info": {
      "codemirror_mode": {
        "name": "ipython",
        "version": 3
      },
      "file_extension": ".py",
      "mimetype": "text/x-python",
      "name": "python",
      "nbconvert_exporter": "python",
      "pygments_lexer": "ipython3",
      "version": "3.9.5"
    },
    "toc": {
      "base_numbering": 1,
      "nav_menu": {},
      "number_sections": true,
      "sideBar": true,
      "skip_h1_title": true,
      "title_cell": "Table of Contents",
      "title_sidebar": "Contents",
      "toc_cell": false,
      "toc_position": {},
      "toc_section_display": true,
      "toc_window_display": false
    }
  },
  "nbformat": 4,
  "nbformat_minor": 0
}