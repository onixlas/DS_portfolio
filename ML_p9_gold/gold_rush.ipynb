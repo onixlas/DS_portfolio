{
  "cells": [
    {
      "cell_type": "markdown",
      "metadata": {
        "id": "limWlk6LK0Td"
      },
      "source": [
        "# Восстановление золота из руды"
      ]
    },
    {
      "cell_type": "markdown",
      "source": [
        "![](https://upload.wikimedia.org/wikipedia/commons/thumb/5/52/Gold_bullion_1.jpg/640px-Gold_bullion_1.jpg 'Szaaman')"
      ],
      "metadata": {
        "id": "0QbIM2cWp5Br"
      }
    },
    {
      "cell_type": "markdown",
      "metadata": {
        "id": "BrFt5jbyK38M"
      },
      "source": [
        "Здача данного проекта — подготовить прототип модели машинного обучения для компании «Цифра». Компания разрабатывает решения для эффективной работы промышленных предприятий.\n",
        "\n",
        "Модель должна предсказать коэффициент восстановления золота из золотосодержащей руды. Используются данные с параметрами добычи и очистки. \n",
        "\n",
        "Модель поможет оптимизировать производство, чтобы не запускать предприятие с убыточными характеристиками.\n"
      ]
    },
    {
      "cell_type": "markdown",
      "metadata": {
        "id": "vrze_P40K63d"
      },
      "source": [
        "## Подготовка данных\n",
        "\n",
        "Познакомимся с имеющимися данными."
      ]
    },
    {
      "cell_type": "code",
      "source": [
        "! gdown 1IIbgWi-ZM1XFuO-GhIHZ1dthaSLuak9Y"
      ],
      "metadata": {
        "colab": {
          "base_uri": "https://localhost:8080/"
        },
        "id": "4GALdL6HqL4c",
        "outputId": "86b2e74a-3954-4c7b-dcb8-439df63e2ee2"
      },
      "execution_count": 295,
      "outputs": [
        {
          "output_type": "stream",
          "name": "stdout",
          "text": [
            "Downloading...\n",
            "From: https://drive.google.com/uc?id=1IIbgWi-ZM1XFuO-GhIHZ1dthaSLuak9Y\n",
            "To: /content/gold_recovery_train_new.csv\n",
            "\r  0% 0.00/22.8M [00:00<?, ?B/s]\r 83% 18.9M/22.8M [00:00<00:00, 185MB/s]\r100% 22.8M/22.8M [00:00<00:00, 199MB/s]\n"
          ]
        }
      ]
    },
    {
      "cell_type": "code",
      "source": [
        "! gdown 1E8UvZMO3iCRM7DFWsTAVjLHThqEkdwlZ"
      ],
      "metadata": {
        "colab": {
          "base_uri": "https://localhost:8080/"
        },
        "id": "Qsk8h9peqLtF",
        "outputId": "131e9646-f2e2-42d5-b317-f870128b607d"
      },
      "execution_count": 296,
      "outputs": [
        {
          "output_type": "stream",
          "name": "stdout",
          "text": [
            "Downloading...\n",
            "From: https://drive.google.com/uc?id=1E8UvZMO3iCRM7DFWsTAVjLHThqEkdwlZ\n",
            "To: /content/gold_recovery_test_new.csv\n",
            "\r  0% 0.00/5.27M [00:00<?, ?B/s]\r100% 5.27M/5.27M [00:00<00:00, 213MB/s]\n"
          ]
        }
      ]
    },
    {
      "cell_type": "code",
      "source": [
        "! gdown 10ElNcgqd2ZnG8utv7peI60rWeMiqU-pR"
      ],
      "metadata": {
        "colab": {
          "base_uri": "https://localhost:8080/"
        },
        "id": "QnD2WTpfqLdv",
        "outputId": "7a0ff070-88ef-4d24-ac8e-a64db37a9b14"
      },
      "execution_count": 297,
      "outputs": [
        {
          "output_type": "stream",
          "name": "stdout",
          "text": [
            "Downloading...\n",
            "From: https://drive.google.com/uc?id=10ElNcgqd2ZnG8utv7peI60rWeMiqU-pR\n",
            "To: /content/gold_recovery_full_new.csv\n",
            "\r  0% 0.00/31.3M [00:00<?, ?B/s]\r 49% 15.2M/31.3M [00:00<00:00, 149MB/s]\r100% 31.3M/31.3M [00:00<00:00, 209MB/s]\n"
          ]
        }
      ]
    },
    {
      "cell_type": "code",
      "execution_count": 298,
      "metadata": {
        "id": "G_2GtUnMXsoS"
      },
      "outputs": [],
      "source": [
        "! pip install catboost --quiet"
      ]
    },
    {
      "cell_type": "code",
      "execution_count": 299,
      "metadata": {
        "id": "Fo2NAKumLl6V"
      },
      "outputs": [],
      "source": [
        "import pandas as pd\n",
        "import numpy as np\n",
        "import seaborn as sns\n",
        "import matplotlib.pyplot as plt\n",
        "\n",
        "import scipy.stats as st\n",
        "\n",
        "from sklearn.metrics import mean_absolute_error\n",
        "from sklearn.metrics import make_scorer\n",
        "from sklearn.linear_model import LinearRegression\n",
        "from sklearn.linear_model import MultiTaskLasso\n",
        "from sklearn.neighbors import KNeighborsRegressor\n",
        "from sklearn.ensemble import RandomForestRegressor\n",
        "from sklearn.pipeline import Pipeline\n",
        "from sklearn.model_selection import GridSearchCV\n",
        "from sklearn.preprocessing import MinMaxScaler\n",
        "from sklearn.preprocessing import StandardScaler\n",
        "from sklearn.model_selection import cross_val_score\n",
        "from sklearn.dummy import DummyRegressor\n",
        "\n",
        "import catboost as cb"
      ]
    },
    {
      "cell_type": "code",
      "execution_count": 300,
      "metadata": {
        "id": "5SeniYjJa-Yu"
      },
      "outputs": [],
      "source": [
        "sns.set(rc={\"figure.figsize\":(15, 15)})\n",
        "sns.set_style(\"darkgrid\")"
      ]
    },
    {
      "cell_type": "code",
      "execution_count": 301,
      "metadata": {
        "id": "WaWRSdl8K1KH"
      },
      "outputs": [],
      "source": [
        "train = pd.read_csv('/content/gold_recovery_train_new.csv')\n",
        "test = pd.read_csv('/content/gold_recovery_test_new.csv')\n",
        "full = pd.read_csv('/content/gold_recovery_full_new.csv')"
      ]
    },
    {
      "cell_type": "code",
      "execution_count": 302,
      "metadata": {
        "colab": {
          "base_uri": "https://localhost:8080/"
        },
        "id": "Qcz4GeULMPOj",
        "outputId": "5d7c6ab9-788e-413c-d4c0-8d9a06146588"
      },
      "outputs": [
        {
          "output_type": "stream",
          "name": "stdout",
          "text": [
            "<class 'pandas.core.frame.DataFrame'>\n",
            "RangeIndex: 14149 entries, 0 to 14148\n",
            "Data columns (total 87 columns):\n",
            " #   Column                                              Non-Null Count  Dtype  \n",
            "---  ------                                              --------------  -----  \n",
            " 0   date                                                14149 non-null  object \n",
            " 1   final.output.concentrate_ag                         14148 non-null  float64\n",
            " 2   final.output.concentrate_pb                         14148 non-null  float64\n",
            " 3   final.output.concentrate_sol                        13938 non-null  float64\n",
            " 4   final.output.concentrate_au                         14149 non-null  float64\n",
            " 5   final.output.recovery                               14149 non-null  float64\n",
            " 6   final.output.tail_ag                                14149 non-null  float64\n",
            " 7   final.output.tail_pb                                14049 non-null  float64\n",
            " 8   final.output.tail_sol                               14144 non-null  float64\n",
            " 9   final.output.tail_au                                14149 non-null  float64\n",
            " 10  primary_cleaner.input.sulfate                       14129 non-null  float64\n",
            " 11  primary_cleaner.input.depressant                    14117 non-null  float64\n",
            " 12  primary_cleaner.input.feed_size                     14149 non-null  float64\n",
            " 13  primary_cleaner.input.xanthate                      14049 non-null  float64\n",
            " 14  primary_cleaner.output.concentrate_ag               14149 non-null  float64\n",
            " 15  primary_cleaner.output.concentrate_pb               14063 non-null  float64\n",
            " 16  primary_cleaner.output.concentrate_sol              13863 non-null  float64\n",
            " 17  primary_cleaner.output.concentrate_au               14149 non-null  float64\n",
            " 18  primary_cleaner.output.tail_ag                      14148 non-null  float64\n",
            " 19  primary_cleaner.output.tail_pb                      14134 non-null  float64\n",
            " 20  primary_cleaner.output.tail_sol                     14103 non-null  float64\n",
            " 21  primary_cleaner.output.tail_au                      14149 non-null  float64\n",
            " 22  primary_cleaner.state.floatbank8_a_air              14145 non-null  float64\n",
            " 23  primary_cleaner.state.floatbank8_a_level            14148 non-null  float64\n",
            " 24  primary_cleaner.state.floatbank8_b_air              14145 non-null  float64\n",
            " 25  primary_cleaner.state.floatbank8_b_level            14148 non-null  float64\n",
            " 26  primary_cleaner.state.floatbank8_c_air              14147 non-null  float64\n",
            " 27  primary_cleaner.state.floatbank8_c_level            14148 non-null  float64\n",
            " 28  primary_cleaner.state.floatbank8_d_air              14146 non-null  float64\n",
            " 29  primary_cleaner.state.floatbank8_d_level            14148 non-null  float64\n",
            " 30  rougher.calculation.sulfate_to_au_concentrate       14148 non-null  float64\n",
            " 31  rougher.calculation.floatbank10_sulfate_to_au_feed  14148 non-null  float64\n",
            " 32  rougher.calculation.floatbank11_sulfate_to_au_feed  14148 non-null  float64\n",
            " 33  rougher.calculation.au_pb_ratio                     14149 non-null  float64\n",
            " 34  rougher.input.feed_ag                               14149 non-null  float64\n",
            " 35  rougher.input.feed_pb                               14049 non-null  float64\n",
            " 36  rougher.input.feed_rate                             14141 non-null  float64\n",
            " 37  rougher.input.feed_size                             14005 non-null  float64\n",
            " 38  rougher.input.feed_sol                              14071 non-null  float64\n",
            " 39  rougher.input.feed_au                               14149 non-null  float64\n",
            " 40  rougher.input.floatbank10_sulfate                   14120 non-null  float64\n",
            " 41  rougher.input.floatbank10_xanthate                  14141 non-null  float64\n",
            " 42  rougher.input.floatbank11_sulfate                   14113 non-null  float64\n",
            " 43  rougher.input.floatbank11_xanthate                  13721 non-null  float64\n",
            " 44  rougher.output.concentrate_ag                       14149 non-null  float64\n",
            " 45  rougher.output.concentrate_pb                       14149 non-null  float64\n",
            " 46  rougher.output.concentrate_sol                      14127 non-null  float64\n",
            " 47  rougher.output.concentrate_au                       14149 non-null  float64\n",
            " 48  rougher.output.recovery                             14149 non-null  float64\n",
            " 49  rougher.output.tail_ag                              14148 non-null  float64\n",
            " 50  rougher.output.tail_pb                              14149 non-null  float64\n",
            " 51  rougher.output.tail_sol                             14149 non-null  float64\n",
            " 52  rougher.output.tail_au                              14149 non-null  float64\n",
            " 53  rougher.state.floatbank10_a_air                     14148 non-null  float64\n",
            " 54  rougher.state.floatbank10_a_level                   14148 non-null  float64\n",
            " 55  rougher.state.floatbank10_b_air                     14148 non-null  float64\n",
            " 56  rougher.state.floatbank10_b_level                   14148 non-null  float64\n",
            " 57  rougher.state.floatbank10_c_air                     14148 non-null  float64\n",
            " 58  rougher.state.floatbank10_c_level                   14148 non-null  float64\n",
            " 59  rougher.state.floatbank10_d_air                     14149 non-null  float64\n",
            " 60  rougher.state.floatbank10_d_level                   14149 non-null  float64\n",
            " 61  rougher.state.floatbank10_e_air                     13713 non-null  float64\n",
            " 62  rougher.state.floatbank10_e_level                   14149 non-null  float64\n",
            " 63  rougher.state.floatbank10_f_air                     14149 non-null  float64\n",
            " 64  rougher.state.floatbank10_f_level                   14149 non-null  float64\n",
            " 65  secondary_cleaner.output.tail_ag                    14147 non-null  float64\n",
            " 66  secondary_cleaner.output.tail_pb                    14139 non-null  float64\n",
            " 67  secondary_cleaner.output.tail_sol                   12544 non-null  float64\n",
            " 68  secondary_cleaner.output.tail_au                    14149 non-null  float64\n",
            " 69  secondary_cleaner.state.floatbank2_a_air            13932 non-null  float64\n",
            " 70  secondary_cleaner.state.floatbank2_a_level          14148 non-null  float64\n",
            " 71  secondary_cleaner.state.floatbank2_b_air            14128 non-null  float64\n",
            " 72  secondary_cleaner.state.floatbank2_b_level          14148 non-null  float64\n",
            " 73  secondary_cleaner.state.floatbank3_a_air            14145 non-null  float64\n",
            " 74  secondary_cleaner.state.floatbank3_a_level          14148 non-null  float64\n",
            " 75  secondary_cleaner.state.floatbank3_b_air            14148 non-null  float64\n",
            " 76  secondary_cleaner.state.floatbank3_b_level          14148 non-null  float64\n",
            " 77  secondary_cleaner.state.floatbank4_a_air            14143 non-null  float64\n",
            " 78  secondary_cleaner.state.floatbank4_a_level          14148 non-null  float64\n",
            " 79  secondary_cleaner.state.floatbank4_b_air            14148 non-null  float64\n",
            " 80  secondary_cleaner.state.floatbank4_b_level          14148 non-null  float64\n",
            " 81  secondary_cleaner.state.floatbank5_a_air            14148 non-null  float64\n",
            " 82  secondary_cleaner.state.floatbank5_a_level          14148 non-null  float64\n",
            " 83  secondary_cleaner.state.floatbank5_b_air            14148 non-null  float64\n",
            " 84  secondary_cleaner.state.floatbank5_b_level          14148 non-null  float64\n",
            " 85  secondary_cleaner.state.floatbank6_a_air            14147 non-null  float64\n",
            " 86  secondary_cleaner.state.floatbank6_a_level          14148 non-null  float64\n",
            "dtypes: float64(86), object(1)\n",
            "memory usage: 9.4+ MB\n"
          ]
        }
      ],
      "source": [
        "train.info()"
      ]
    },
    {
      "cell_type": "code",
      "execution_count": 303,
      "metadata": {
        "colab": {
          "base_uri": "https://localhost:8080/"
        },
        "id": "1VXwMWIwMeeD",
        "outputId": "616cf374-44e7-418f-c3e1-521bb3047565"
      },
      "outputs": [
        {
          "output_type": "stream",
          "name": "stdout",
          "text": [
            "<class 'pandas.core.frame.DataFrame'>\n",
            "RangeIndex: 5290 entries, 0 to 5289\n",
            "Data columns (total 53 columns):\n",
            " #   Column                                      Non-Null Count  Dtype  \n",
            "---  ------                                      --------------  -----  \n",
            " 0   date                                        5290 non-null   object \n",
            " 1   primary_cleaner.input.sulfate               5286 non-null   float64\n",
            " 2   primary_cleaner.input.depressant            5285 non-null   float64\n",
            " 3   primary_cleaner.input.feed_size             5290 non-null   float64\n",
            " 4   primary_cleaner.input.xanthate              5286 non-null   float64\n",
            " 5   primary_cleaner.state.floatbank8_a_air      5290 non-null   float64\n",
            " 6   primary_cleaner.state.floatbank8_a_level    5290 non-null   float64\n",
            " 7   primary_cleaner.state.floatbank8_b_air      5290 non-null   float64\n",
            " 8   primary_cleaner.state.floatbank8_b_level    5290 non-null   float64\n",
            " 9   primary_cleaner.state.floatbank8_c_air      5290 non-null   float64\n",
            " 10  primary_cleaner.state.floatbank8_c_level    5290 non-null   float64\n",
            " 11  primary_cleaner.state.floatbank8_d_air      5290 non-null   float64\n",
            " 12  primary_cleaner.state.floatbank8_d_level    5290 non-null   float64\n",
            " 13  rougher.input.feed_ag                       5290 non-null   float64\n",
            " 14  rougher.input.feed_pb                       5290 non-null   float64\n",
            " 15  rougher.input.feed_rate                     5287 non-null   float64\n",
            " 16  rougher.input.feed_size                     5289 non-null   float64\n",
            " 17  rougher.input.feed_sol                      5269 non-null   float64\n",
            " 18  rougher.input.feed_au                       5290 non-null   float64\n",
            " 19  rougher.input.floatbank10_sulfate           5285 non-null   float64\n",
            " 20  rougher.input.floatbank10_xanthate          5290 non-null   float64\n",
            " 21  rougher.input.floatbank11_sulfate           5282 non-null   float64\n",
            " 22  rougher.input.floatbank11_xanthate          5265 non-null   float64\n",
            " 23  rougher.state.floatbank10_a_air             5290 non-null   float64\n",
            " 24  rougher.state.floatbank10_a_level           5290 non-null   float64\n",
            " 25  rougher.state.floatbank10_b_air             5290 non-null   float64\n",
            " 26  rougher.state.floatbank10_b_level           5290 non-null   float64\n",
            " 27  rougher.state.floatbank10_c_air             5290 non-null   float64\n",
            " 28  rougher.state.floatbank10_c_level           5290 non-null   float64\n",
            " 29  rougher.state.floatbank10_d_air             5290 non-null   float64\n",
            " 30  rougher.state.floatbank10_d_level           5290 non-null   float64\n",
            " 31  rougher.state.floatbank10_e_air             5290 non-null   float64\n",
            " 32  rougher.state.floatbank10_e_level           5290 non-null   float64\n",
            " 33  rougher.state.floatbank10_f_air             5290 non-null   float64\n",
            " 34  rougher.state.floatbank10_f_level           5290 non-null   float64\n",
            " 35  secondary_cleaner.state.floatbank2_a_air    5287 non-null   float64\n",
            " 36  secondary_cleaner.state.floatbank2_a_level  5290 non-null   float64\n",
            " 37  secondary_cleaner.state.floatbank2_b_air    5288 non-null   float64\n",
            " 38  secondary_cleaner.state.floatbank2_b_level  5290 non-null   float64\n",
            " 39  secondary_cleaner.state.floatbank3_a_air    5281 non-null   float64\n",
            " 40  secondary_cleaner.state.floatbank3_a_level  5290 non-null   float64\n",
            " 41  secondary_cleaner.state.floatbank3_b_air    5290 non-null   float64\n",
            " 42  secondary_cleaner.state.floatbank3_b_level  5290 non-null   float64\n",
            " 43  secondary_cleaner.state.floatbank4_a_air    5290 non-null   float64\n",
            " 44  secondary_cleaner.state.floatbank4_a_level  5290 non-null   float64\n",
            " 45  secondary_cleaner.state.floatbank4_b_air    5290 non-null   float64\n",
            " 46  secondary_cleaner.state.floatbank4_b_level  5290 non-null   float64\n",
            " 47  secondary_cleaner.state.floatbank5_a_air    5290 non-null   float64\n",
            " 48  secondary_cleaner.state.floatbank5_a_level  5290 non-null   float64\n",
            " 49  secondary_cleaner.state.floatbank5_b_air    5290 non-null   float64\n",
            " 50  secondary_cleaner.state.floatbank5_b_level  5290 non-null   float64\n",
            " 51  secondary_cleaner.state.floatbank6_a_air    5290 non-null   float64\n",
            " 52  secondary_cleaner.state.floatbank6_a_level  5290 non-null   float64\n",
            "dtypes: float64(52), object(1)\n",
            "memory usage: 2.1+ MB\n"
          ]
        }
      ],
      "source": [
        "test.info()"
      ]
    },
    {
      "cell_type": "code",
      "execution_count": 304,
      "metadata": {
        "colab": {
          "base_uri": "https://localhost:8080/"
        },
        "id": "V8rAoZpIMg9x",
        "outputId": "a136babb-e38d-4c2b-e941-99c33a683bf2"
      },
      "outputs": [
        {
          "output_type": "stream",
          "name": "stdout",
          "text": [
            "<class 'pandas.core.frame.DataFrame'>\n",
            "RangeIndex: 19439 entries, 0 to 19438\n",
            "Data columns (total 87 columns):\n",
            " #   Column                                              Non-Null Count  Dtype  \n",
            "---  ------                                              --------------  -----  \n",
            " 0   date                                                19439 non-null  object \n",
            " 1   final.output.concentrate_ag                         19438 non-null  float64\n",
            " 2   final.output.concentrate_pb                         19438 non-null  float64\n",
            " 3   final.output.concentrate_sol                        19228 non-null  float64\n",
            " 4   final.output.concentrate_au                         19439 non-null  float64\n",
            " 5   final.output.recovery                               19439 non-null  float64\n",
            " 6   final.output.tail_ag                                19438 non-null  float64\n",
            " 7   final.output.tail_pb                                19338 non-null  float64\n",
            " 8   final.output.tail_sol                               19433 non-null  float64\n",
            " 9   final.output.tail_au                                19439 non-null  float64\n",
            " 10  primary_cleaner.input.sulfate                       19415 non-null  float64\n",
            " 11  primary_cleaner.input.depressant                    19402 non-null  float64\n",
            " 12  primary_cleaner.input.feed_size                     19439 non-null  float64\n",
            " 13  primary_cleaner.input.xanthate                      19335 non-null  float64\n",
            " 14  primary_cleaner.output.concentrate_ag               19439 non-null  float64\n",
            " 15  primary_cleaner.output.concentrate_pb               19323 non-null  float64\n",
            " 16  primary_cleaner.output.concentrate_sol              19069 non-null  float64\n",
            " 17  primary_cleaner.output.concentrate_au               19439 non-null  float64\n",
            " 18  primary_cleaner.output.tail_ag                      19435 non-null  float64\n",
            " 19  primary_cleaner.output.tail_pb                      19418 non-null  float64\n",
            " 20  primary_cleaner.output.tail_sol                     19377 non-null  float64\n",
            " 21  primary_cleaner.output.tail_au                      19439 non-null  float64\n",
            " 22  primary_cleaner.state.floatbank8_a_air              19435 non-null  float64\n",
            " 23  primary_cleaner.state.floatbank8_a_level            19438 non-null  float64\n",
            " 24  primary_cleaner.state.floatbank8_b_air              19435 non-null  float64\n",
            " 25  primary_cleaner.state.floatbank8_b_level            19438 non-null  float64\n",
            " 26  primary_cleaner.state.floatbank8_c_air              19437 non-null  float64\n",
            " 27  primary_cleaner.state.floatbank8_c_level            19438 non-null  float64\n",
            " 28  primary_cleaner.state.floatbank8_d_air              19436 non-null  float64\n",
            " 29  primary_cleaner.state.floatbank8_d_level            19438 non-null  float64\n",
            " 30  rougher.calculation.sulfate_to_au_concentrate       19437 non-null  float64\n",
            " 31  rougher.calculation.floatbank10_sulfate_to_au_feed  19437 non-null  float64\n",
            " 32  rougher.calculation.floatbank11_sulfate_to_au_feed  19437 non-null  float64\n",
            " 33  rougher.calculation.au_pb_ratio                     19439 non-null  float64\n",
            " 34  rougher.input.feed_ag                               19439 non-null  float64\n",
            " 35  rougher.input.feed_pb                               19339 non-null  float64\n",
            " 36  rougher.input.feed_rate                             19428 non-null  float64\n",
            " 37  rougher.input.feed_size                             19294 non-null  float64\n",
            " 38  rougher.input.feed_sol                              19340 non-null  float64\n",
            " 39  rougher.input.feed_au                               19439 non-null  float64\n",
            " 40  rougher.input.floatbank10_sulfate                   19405 non-null  float64\n",
            " 41  rougher.input.floatbank10_xanthate                  19431 non-null  float64\n",
            " 42  rougher.input.floatbank11_sulfate                   19395 non-null  float64\n",
            " 43  rougher.input.floatbank11_xanthate                  18986 non-null  float64\n",
            " 44  rougher.output.concentrate_ag                       19439 non-null  float64\n",
            " 45  rougher.output.concentrate_pb                       19439 non-null  float64\n",
            " 46  rougher.output.concentrate_sol                      19416 non-null  float64\n",
            " 47  rougher.output.concentrate_au                       19439 non-null  float64\n",
            " 48  rougher.output.recovery                             19439 non-null  float64\n",
            " 49  rougher.output.tail_ag                              19438 non-null  float64\n",
            " 50  rougher.output.tail_pb                              19439 non-null  float64\n",
            " 51  rougher.output.tail_sol                             19439 non-null  float64\n",
            " 52  rougher.output.tail_au                              19439 non-null  float64\n",
            " 53  rougher.state.floatbank10_a_air                     19438 non-null  float64\n",
            " 54  rougher.state.floatbank10_a_level                   19438 non-null  float64\n",
            " 55  rougher.state.floatbank10_b_air                     19438 non-null  float64\n",
            " 56  rougher.state.floatbank10_b_level                   19438 non-null  float64\n",
            " 57  rougher.state.floatbank10_c_air                     19438 non-null  float64\n",
            " 58  rougher.state.floatbank10_c_level                   19438 non-null  float64\n",
            " 59  rougher.state.floatbank10_d_air                     19439 non-null  float64\n",
            " 60  rougher.state.floatbank10_d_level                   19439 non-null  float64\n",
            " 61  rougher.state.floatbank10_e_air                     19003 non-null  float64\n",
            " 62  rougher.state.floatbank10_e_level                   19439 non-null  float64\n",
            " 63  rougher.state.floatbank10_f_air                     19439 non-null  float64\n",
            " 64  rougher.state.floatbank10_f_level                   19439 non-null  float64\n",
            " 65  secondary_cleaner.output.tail_ag                    19437 non-null  float64\n",
            " 66  secondary_cleaner.output.tail_pb                    19427 non-null  float64\n",
            " 67  secondary_cleaner.output.tail_sol                   17691 non-null  float64\n",
            " 68  secondary_cleaner.output.tail_au                    19439 non-null  float64\n",
            " 69  secondary_cleaner.state.floatbank2_a_air            19219 non-null  float64\n",
            " 70  secondary_cleaner.state.floatbank2_a_level          19438 non-null  float64\n",
            " 71  secondary_cleaner.state.floatbank2_b_air            19416 non-null  float64\n",
            " 72  secondary_cleaner.state.floatbank2_b_level          19438 non-null  float64\n",
            " 73  secondary_cleaner.state.floatbank3_a_air            19426 non-null  float64\n",
            " 74  secondary_cleaner.state.floatbank3_a_level          19438 non-null  float64\n",
            " 75  secondary_cleaner.state.floatbank3_b_air            19438 non-null  float64\n",
            " 76  secondary_cleaner.state.floatbank3_b_level          19438 non-null  float64\n",
            " 77  secondary_cleaner.state.floatbank4_a_air            19433 non-null  float64\n",
            " 78  secondary_cleaner.state.floatbank4_a_level          19438 non-null  float64\n",
            " 79  secondary_cleaner.state.floatbank4_b_air            19438 non-null  float64\n",
            " 80  secondary_cleaner.state.floatbank4_b_level          19438 non-null  float64\n",
            " 81  secondary_cleaner.state.floatbank5_a_air            19438 non-null  float64\n",
            " 82  secondary_cleaner.state.floatbank5_a_level          19438 non-null  float64\n",
            " 83  secondary_cleaner.state.floatbank5_b_air            19438 non-null  float64\n",
            " 84  secondary_cleaner.state.floatbank5_b_level          19438 non-null  float64\n",
            " 85  secondary_cleaner.state.floatbank6_a_air            19437 non-null  float64\n",
            " 86  secondary_cleaner.state.floatbank6_a_level          19438 non-null  float64\n",
            "dtypes: float64(86), object(1)\n",
            "memory usage: 12.9+ MB\n"
          ]
        }
      ],
      "source": [
        "full.info()"
      ]
    },
    {
      "cell_type": "markdown",
      "metadata": {
        "id": "c8bJTc64NBfw"
      },
      "source": [
        "Итак, нам доступны три файла с данными: обучающая выборка (`train`), текстовая выборка (`test`) и исходные данные (`full`). В обучающей выборке доступны 14149 записей с 87 колонками, в тестовой — 5290 записей с 53 колонками, в исходной — 19439 записей с 87 колонками. \n",
        "\n",
        "В тестовой выборке часть колонок исходной и учебной выборки отсутствует, так как эти параметры замеряются и/или рассчитываются значительно позже предполагаемого времени использования модели.\n",
        "\n",
        "Видно, что все три набора данных содержат пропуски. Также видно, что для более удобной работы можно изменить тип данных колонки `date` на более подходящий.\n",
        "\n",
        "### Описание данных\n",
        "#### Технологический процесс\n",
        "\n",
        "* *Rougher feed* — исходное сырье\n",
        "* *Rougher additions* (или *reagent additions*) — флотационные реагенты: *Xanthate, Sulphate, Depressant*\n",
        "  * *Xanthate* — ксантогенат (промотер, или активатор флотации);\n",
        "  * *Sulphate* — сульфат (на данном производстве сульфид натрия);\n",
        "  * *Depressant* — депрессант (силикат натрия).\n",
        "* *Rougher process* (англ. «грубый процесс») — флотация\n",
        "* *Rougher tails* — отвальные хвосты\n",
        "* *Float banks* — флотационная установка\n",
        "* *Cleaner process* — очистка\n",
        "* *Rougher Au* — черновой концентрат золота\n",
        "* *Final Au* — финальный концентрат золота\n",
        "\n",
        "#### Параметры этапов\n",
        "\n",
        "* *air amount* — объём воздуха\n",
        "* *fluid levels* — уровень жидкости\n",
        "* *feed size* — размер гранул сырья\n",
        "* *feed rate* — скорость подачи\n",
        "\n",
        "#### Наименование признаков\n",
        "\n",
        "Наименование признаков сформировано следующим образом:\n",
        "\n",
        "`[этап].[тип_параметра].[название_параметра]`\n",
        "\n",
        "Пример: `rougher.input.feed_ag`\n",
        "\n",
        "Возможные значения для блока `[этап]`:\n",
        "\n",
        "* *rougher* — флотация\n",
        "* *primary_cleaner* — первичная очистка\n",
        "* *secondary_cleaner* — вторичная очистка\n",
        "* *final* — финальные характеристики\n",
        "\n",
        "Возможные значения для блока `[тип_параметра]`:\n",
        "\n",
        "* *input* — параметры сырья\n",
        "* *output* — параметры продукта\n",
        "* *state* — параметры, характеризующие текущее состояние этапа\n",
        "* *calculation* — расчётные характеристики"
      ]
    },
    {
      "cell_type": "markdown",
      "metadata": {
        "id": "sYSuCSWKVdKg"
      },
      "source": [
        "### Проверка расчёта эффективности обогащения\n",
        "\n",
        "Проверим правильность расчёта в обучающей выборке эффективности обогащения золота после флотации (признак `rougher.output.recovery`). \n",
        "\n",
        "Эффективность обогащения считается по следующей формуле:\n",
        "\n",
        "$$ Recovery = \\frac{C \\cdot (F - T) }{F \\cdot (C - T)} \\cdot 100 \\%, $$\n",
        "\n",
        "где $C$ — доля золота в концентрате после флотации/очистки (в данных находится в колонке `rougher.output.concentrate_au`); $F$ — доля золота в сырье до флотации (в данных находится в колонке `rougher.input.feed_au`); $T$ — доля золота в отвальных хвостах после флотации (в данных находится в колонке `rougher.output.tail_au`)."
      ]
    },
    {
      "cell_type": "code",
      "execution_count": 305,
      "metadata": {
        "id": "1hRNZuHSVcil"
      },
      "outputs": [],
      "source": [
        "c = train['rougher.output.concentrate_au']\n",
        "f = train['rougher.input.feed_au']\n",
        "t = train['rougher.output.tail_au']"
      ]
    },
    {
      "cell_type": "code",
      "execution_count": 306,
      "metadata": {
        "id": "MzIdT9BscAcn"
      },
      "outputs": [],
      "source": [
        "recovery = 100 * (c * (f - t)) / (f * (c - t))"
      ]
    },
    {
      "cell_type": "markdown",
      "metadata": {
        "id": "JAb_Ps7hV0La"
      },
      "source": [
        "Найдём среднюю абсолютную ошибку *(MAE)* между нашим расчётом и значением признака."
      ]
    },
    {
      "cell_type": "code",
      "execution_count": 307,
      "metadata": {
        "id": "Zun7XDTNVzpT"
      },
      "outputs": [],
      "source": [
        "mae = mean_absolute_error(recovery, train['rougher.output.recovery'])"
      ]
    },
    {
      "cell_type": "code",
      "execution_count": 308,
      "metadata": {
        "colab": {
          "base_uri": "https://localhost:8080/"
        },
        "id": "9iYljAU4cvlK",
        "outputId": "a17aeca9-0201-420e-aea2-ce5e9fc9344f"
      },
      "outputs": [
        {
          "output_type": "stream",
          "name": "stdout",
          "text": [
            "Mean absolute error: 0.000000000000011\n"
          ]
        }
      ],
      "source": [
        "print(f'Mean absolute error: {mae:.15f}')"
      ]
    },
    {
      "cell_type": "markdown",
      "metadata": {
        "id": "QqsR1b0LdBQc"
      },
      "source": [
        "Видно, что полученная ошибка ничтожно мала и скорее всего связана с точностью расчётов для чисел с плавающей запятой. Значения признака в таблице рассчитаны верно."
      ]
    },
    {
      "cell_type": "markdown",
      "metadata": {
        "id": "wxQy8hR2faTp"
      },
      "source": [
        "### Анализ признаков, недоступных в тестовой выборке\n",
        "\n",
        "Посмотрим, какие же признаки не попали в тестовую выборку."
      ]
    },
    {
      "cell_type": "code",
      "execution_count": 309,
      "metadata": {
        "colab": {
          "base_uri": "https://localhost:8080/"
        },
        "id": "inrCTM3EfjUr",
        "outputId": "51abd62f-9d72-4ecc-9dcc-aed5ff444d94"
      },
      "outputs": [
        {
          "output_type": "execute_result",
          "data": {
            "text/plain": [
              "Index(['final.output.concentrate_ag', 'final.output.concentrate_au',\n",
              "       'final.output.concentrate_pb', 'final.output.concentrate_sol',\n",
              "       'final.output.recovery', 'final.output.tail_ag', 'final.output.tail_au',\n",
              "       'final.output.tail_pb', 'final.output.tail_sol',\n",
              "       'primary_cleaner.output.concentrate_ag',\n",
              "       'primary_cleaner.output.concentrate_au',\n",
              "       'primary_cleaner.output.concentrate_pb',\n",
              "       'primary_cleaner.output.concentrate_sol',\n",
              "       'primary_cleaner.output.tail_ag', 'primary_cleaner.output.tail_au',\n",
              "       'primary_cleaner.output.tail_pb', 'primary_cleaner.output.tail_sol',\n",
              "       'rougher.calculation.au_pb_ratio',\n",
              "       'rougher.calculation.floatbank10_sulfate_to_au_feed',\n",
              "       'rougher.calculation.floatbank11_sulfate_to_au_feed',\n",
              "       'rougher.calculation.sulfate_to_au_concentrate',\n",
              "       'rougher.output.concentrate_ag', 'rougher.output.concentrate_au',\n",
              "       'rougher.output.concentrate_pb', 'rougher.output.concentrate_sol',\n",
              "       'rougher.output.recovery', 'rougher.output.tail_ag',\n",
              "       'rougher.output.tail_au', 'rougher.output.tail_pb',\n",
              "       'rougher.output.tail_sol', 'secondary_cleaner.output.tail_ag',\n",
              "       'secondary_cleaner.output.tail_au', 'secondary_cleaner.output.tail_pb',\n",
              "       'secondary_cleaner.output.tail_sol'],\n",
              "      dtype='object')"
            ]
          },
          "metadata": {},
          "execution_count": 309
        }
      ],
      "source": [
        "train.columns.difference(test.columns)"
      ]
    },
    {
      "cell_type": "markdown",
      "metadata": {
        "id": "t-fqVWJohi7R"
      },
      "source": [
        "Итак, в тестовую выборку не попали сдедующие признаки\n",
        "\n",
        "- `final.output.concentrate_ag`\n",
        "- `final.output.concentrate_au`\n",
        "- `final.output.concentrate_pb`\n",
        "- `final.output.concentrate_sol`\n",
        "- `final.output.recovery`\n",
        "- `final.output.tail_ag`\n",
        "- `final.output.tail_au`\n",
        "- `final.output.tail_pb`\n",
        "- `final.output.tail_sol`\n",
        "- `primary_cleaner.output.concentrate_ag`\n",
        "- `primary_cleaner.output.concentrate_au`\n",
        "- `primary_cleaner.output.concentrate_pb`\n",
        "- `primary_cleaner.output.concentrate_sol`\n",
        "- `primary_cleaner.output.tail_ag`\n",
        "- `primary_cleaner.output.tail_au`\n",
        "- `primary_cleaner.output.tail_pb`\n",
        "- `primary_cleaner.output.tail_sol`\n",
        "- `rougher.calculation.au_pb_ratio`\n",
        "- `rougher.calculation.floatbank10_sulfate_to_au_feed`\n",
        "- `rougher.calculation.floatbank11_sulfate_to_au_feed`\n",
        "- `rougher.calculation.sulfate_to_au_concentrate`\n",
        "- `rougher.output.concentrate_ag`\n",
        "- `rougher.output.concentrate_au`\n",
        "- `rougher.output.concentrate_pb`\n",
        "- `rougher.output.concentrate_sol`\n",
        "- `rougher.output.recovery`\n",
        "- `rougher.output.tail_ag`\n",
        "- `rougher.output.tail_au`\n",
        "- `rougher.output.tail_pb`\n",
        "- `rougher.output.tail_sol`\n",
        "- `secondary_cleaner.output.tail_ag`\n",
        "- `secondary_cleaner.output.tail_au`\n",
        "- `secondary_cleaner.output.tail_pb`\n",
        "- `secondary_cleaner.output.tail_sol`"
      ]
    },
    {
      "cell_type": "markdown",
      "metadata": {
        "id": "18pCTiH7jrDd"
      },
      "source": [
        "Видно, что в тестовую выборку не попали параметры продукта и расчётные характеристики со всех этапов технологического процесса. При постановке задачи сообщалось, что эти признаки будут недоступны на этапе применения модели."
      ]
    },
    {
      "cell_type": "markdown",
      "metadata": {
        "id": "xtOhV8Hdk-Sb"
      },
      "source": [
        "### Предобработка данных\n",
        "\n",
        "Проведём предварительную обработку данных. Заполним пропуски, поправим форматы переменных, поищем явные дупликаты. Для удобства дальнейшей работы немного переименуем колонки."
      ]
    },
    {
      "cell_type": "markdown",
      "metadata": {
        "id": "ZZ0XauamlndZ"
      },
      "source": [
        "#### Обучающая выборка"
      ]
    },
    {
      "cell_type": "markdown",
      "metadata": {
        "id": "mI2xWm7mgZQ9"
      },
      "source": [
        "Изменим названия колонок, чтобы облегчить дальнейшую работу."
      ]
    },
    {
      "cell_type": "code",
      "execution_count": 310,
      "metadata": {
        "id": "FIcDXQ0tltwm"
      },
      "outputs": [],
      "source": [
        "train.columns = train.columns.str.replace('.', '_', regex=False)"
      ]
    },
    {
      "cell_type": "code",
      "execution_count": 311,
      "metadata": {
        "colab": {
          "base_uri": "https://localhost:8080/",
          "height": 424
        },
        "id": "A6SQKAIimXCc",
        "outputId": "dc432aef-e501-49e6-abe5-f1c8c5fe4016"
      },
      "outputs": [
        {
          "output_type": "execute_result",
          "data": {
            "text/plain": [
              "                                                              0  \\\n",
              "date                                        2016-01-15 00:00:00   \n",
              "final_output_concentrate_ag                            6.055403   \n",
              "final_output_concentrate_pb                            9.889648   \n",
              "final_output_concentrate_sol                           5.507324   \n",
              "final_output_concentrate_au                            42.19202   \n",
              "...                                                         ...   \n",
              "secondary_cleaner_state_floatbank5_a_level          -498.310211   \n",
              "secondary_cleaner_state_floatbank5_b_air               8.079666   \n",
              "secondary_cleaner_state_floatbank5_b_level          -500.470978   \n",
              "secondary_cleaner_state_floatbank6_a_air              14.151341   \n",
              "secondary_cleaner_state_floatbank6_a_level           -605.84198   \n",
              "\n",
              "                                                              1  \\\n",
              "date                                        2016-01-15 01:00:00   \n",
              "final_output_concentrate_ag                            6.029369   \n",
              "final_output_concentrate_pb                            9.968944   \n",
              "final_output_concentrate_sol                           5.257781   \n",
              "final_output_concentrate_au                           42.701629   \n",
              "...                                                         ...   \n",
              "secondary_cleaner_state_floatbank5_a_level          -500.169983   \n",
              "secondary_cleaner_state_floatbank5_b_air               7.984757   \n",
              "secondary_cleaner_state_floatbank5_b_level          -500.582168   \n",
              "secondary_cleaner_state_floatbank6_a_air              13.998353   \n",
              "secondary_cleaner_state_floatbank6_a_level          -599.787184   \n",
              "\n",
              "                                                              2  \\\n",
              "date                                        2016-01-15 02:00:00   \n",
              "final_output_concentrate_ag                            6.055926   \n",
              "final_output_concentrate_pb                           10.213995   \n",
              "final_output_concentrate_sol                           5.383759   \n",
              "final_output_concentrate_au                           42.657501   \n",
              "...                                                         ...   \n",
              "secondary_cleaner_state_floatbank5_a_level          -500.129135   \n",
              "secondary_cleaner_state_floatbank5_b_air               8.013877   \n",
              "secondary_cleaner_state_floatbank5_b_level          -500.517572   \n",
              "secondary_cleaner_state_floatbank6_a_air              14.028663   \n",
              "secondary_cleaner_state_floatbank6_a_level          -601.427363   \n",
              "\n",
              "                                                              3  \\\n",
              "date                                        2016-01-15 03:00:00   \n",
              "final_output_concentrate_ag                            6.047977   \n",
              "final_output_concentrate_pb                            9.977019   \n",
              "final_output_concentrate_sol                           4.858634   \n",
              "final_output_concentrate_au                           42.689819   \n",
              "...                                                         ...   \n",
              "secondary_cleaner_state_floatbank5_a_level           -499.20164   \n",
              "secondary_cleaner_state_floatbank5_b_air               7.977324   \n",
              "secondary_cleaner_state_floatbank5_b_level          -500.255908   \n",
              "secondary_cleaner_state_floatbank6_a_air              14.005551   \n",
              "secondary_cleaner_state_floatbank6_a_level          -599.996129   \n",
              "\n",
              "                                                              4  \n",
              "date                                        2016-01-15 04:00:00  \n",
              "final_output_concentrate_ag                            6.148599  \n",
              "final_output_concentrate_pb                           10.142511  \n",
              "final_output_concentrate_sol                           4.939416  \n",
              "final_output_concentrate_au                           42.774141  \n",
              "...                                                         ...  \n",
              "secondary_cleaner_state_floatbank5_a_level          -501.686727  \n",
              "secondary_cleaner_state_floatbank5_b_air               7.894242  \n",
              "secondary_cleaner_state_floatbank5_b_level          -500.356035  \n",
              "secondary_cleaner_state_floatbank6_a_air              13.996647  \n",
              "secondary_cleaner_state_floatbank6_a_level          -601.496691  \n",
              "\n",
              "[87 rows x 5 columns]"
            ],
            "text/html": [
              "\n",
              "  <div id=\"df-579954fc-a349-4f4d-9e0f-df451a5690de\">\n",
              "    <div class=\"colab-df-container\">\n",
              "      <div>\n",
              "<style scoped>\n",
              "    .dataframe tbody tr th:only-of-type {\n",
              "        vertical-align: middle;\n",
              "    }\n",
              "\n",
              "    .dataframe tbody tr th {\n",
              "        vertical-align: top;\n",
              "    }\n",
              "\n",
              "    .dataframe thead th {\n",
              "        text-align: right;\n",
              "    }\n",
              "</style>\n",
              "<table border=\"1\" class=\"dataframe\">\n",
              "  <thead>\n",
              "    <tr style=\"text-align: right;\">\n",
              "      <th></th>\n",
              "      <th>0</th>\n",
              "      <th>1</th>\n",
              "      <th>2</th>\n",
              "      <th>3</th>\n",
              "      <th>4</th>\n",
              "    </tr>\n",
              "  </thead>\n",
              "  <tbody>\n",
              "    <tr>\n",
              "      <th>date</th>\n",
              "      <td>2016-01-15 00:00:00</td>\n",
              "      <td>2016-01-15 01:00:00</td>\n",
              "      <td>2016-01-15 02:00:00</td>\n",
              "      <td>2016-01-15 03:00:00</td>\n",
              "      <td>2016-01-15 04:00:00</td>\n",
              "    </tr>\n",
              "    <tr>\n",
              "      <th>final_output_concentrate_ag</th>\n",
              "      <td>6.055403</td>\n",
              "      <td>6.029369</td>\n",
              "      <td>6.055926</td>\n",
              "      <td>6.047977</td>\n",
              "      <td>6.148599</td>\n",
              "    </tr>\n",
              "    <tr>\n",
              "      <th>final_output_concentrate_pb</th>\n",
              "      <td>9.889648</td>\n",
              "      <td>9.968944</td>\n",
              "      <td>10.213995</td>\n",
              "      <td>9.977019</td>\n",
              "      <td>10.142511</td>\n",
              "    </tr>\n",
              "    <tr>\n",
              "      <th>final_output_concentrate_sol</th>\n",
              "      <td>5.507324</td>\n",
              "      <td>5.257781</td>\n",
              "      <td>5.383759</td>\n",
              "      <td>4.858634</td>\n",
              "      <td>4.939416</td>\n",
              "    </tr>\n",
              "    <tr>\n",
              "      <th>final_output_concentrate_au</th>\n",
              "      <td>42.19202</td>\n",
              "      <td>42.701629</td>\n",
              "      <td>42.657501</td>\n",
              "      <td>42.689819</td>\n",
              "      <td>42.774141</td>\n",
              "    </tr>\n",
              "    <tr>\n",
              "      <th>...</th>\n",
              "      <td>...</td>\n",
              "      <td>...</td>\n",
              "      <td>...</td>\n",
              "      <td>...</td>\n",
              "      <td>...</td>\n",
              "    </tr>\n",
              "    <tr>\n",
              "      <th>secondary_cleaner_state_floatbank5_a_level</th>\n",
              "      <td>-498.310211</td>\n",
              "      <td>-500.169983</td>\n",
              "      <td>-500.129135</td>\n",
              "      <td>-499.20164</td>\n",
              "      <td>-501.686727</td>\n",
              "    </tr>\n",
              "    <tr>\n",
              "      <th>secondary_cleaner_state_floatbank5_b_air</th>\n",
              "      <td>8.079666</td>\n",
              "      <td>7.984757</td>\n",
              "      <td>8.013877</td>\n",
              "      <td>7.977324</td>\n",
              "      <td>7.894242</td>\n",
              "    </tr>\n",
              "    <tr>\n",
              "      <th>secondary_cleaner_state_floatbank5_b_level</th>\n",
              "      <td>-500.470978</td>\n",
              "      <td>-500.582168</td>\n",
              "      <td>-500.517572</td>\n",
              "      <td>-500.255908</td>\n",
              "      <td>-500.356035</td>\n",
              "    </tr>\n",
              "    <tr>\n",
              "      <th>secondary_cleaner_state_floatbank6_a_air</th>\n",
              "      <td>14.151341</td>\n",
              "      <td>13.998353</td>\n",
              "      <td>14.028663</td>\n",
              "      <td>14.005551</td>\n",
              "      <td>13.996647</td>\n",
              "    </tr>\n",
              "    <tr>\n",
              "      <th>secondary_cleaner_state_floatbank6_a_level</th>\n",
              "      <td>-605.84198</td>\n",
              "      <td>-599.787184</td>\n",
              "      <td>-601.427363</td>\n",
              "      <td>-599.996129</td>\n",
              "      <td>-601.496691</td>\n",
              "    </tr>\n",
              "  </tbody>\n",
              "</table>\n",
              "<p>87 rows × 5 columns</p>\n",
              "</div>\n",
              "      <button class=\"colab-df-convert\" onclick=\"convertToInteractive('df-579954fc-a349-4f4d-9e0f-df451a5690de')\"\n",
              "              title=\"Convert this dataframe to an interactive table.\"\n",
              "              style=\"display:none;\">\n",
              "        \n",
              "  <svg xmlns=\"http://www.w3.org/2000/svg\" height=\"24px\"viewBox=\"0 0 24 24\"\n",
              "       width=\"24px\">\n",
              "    <path d=\"M0 0h24v24H0V0z\" fill=\"none\"/>\n",
              "    <path d=\"M18.56 5.44l.94 2.06.94-2.06 2.06-.94-2.06-.94-.94-2.06-.94 2.06-2.06.94zm-11 1L8.5 8.5l.94-2.06 2.06-.94-2.06-.94L8.5 2.5l-.94 2.06-2.06.94zm10 10l.94 2.06.94-2.06 2.06-.94-2.06-.94-.94-2.06-.94 2.06-2.06.94z\"/><path d=\"M17.41 7.96l-1.37-1.37c-.4-.4-.92-.59-1.43-.59-.52 0-1.04.2-1.43.59L10.3 9.45l-7.72 7.72c-.78.78-.78 2.05 0 2.83L4 21.41c.39.39.9.59 1.41.59.51 0 1.02-.2 1.41-.59l7.78-7.78 2.81-2.81c.8-.78.8-2.07 0-2.86zM5.41 20L4 18.59l7.72-7.72 1.47 1.35L5.41 20z\"/>\n",
              "  </svg>\n",
              "      </button>\n",
              "      \n",
              "  <style>\n",
              "    .colab-df-container {\n",
              "      display:flex;\n",
              "      flex-wrap:wrap;\n",
              "      gap: 12px;\n",
              "    }\n",
              "\n",
              "    .colab-df-convert {\n",
              "      background-color: #E8F0FE;\n",
              "      border: none;\n",
              "      border-radius: 50%;\n",
              "      cursor: pointer;\n",
              "      display: none;\n",
              "      fill: #1967D2;\n",
              "      height: 32px;\n",
              "      padding: 0 0 0 0;\n",
              "      width: 32px;\n",
              "    }\n",
              "\n",
              "    .colab-df-convert:hover {\n",
              "      background-color: #E2EBFA;\n",
              "      box-shadow: 0px 1px 2px rgba(60, 64, 67, 0.3), 0px 1px 3px 1px rgba(60, 64, 67, 0.15);\n",
              "      fill: #174EA6;\n",
              "    }\n",
              "\n",
              "    [theme=dark] .colab-df-convert {\n",
              "      background-color: #3B4455;\n",
              "      fill: #D2E3FC;\n",
              "    }\n",
              "\n",
              "    [theme=dark] .colab-df-convert:hover {\n",
              "      background-color: #434B5C;\n",
              "      box-shadow: 0px 1px 3px 1px rgba(0, 0, 0, 0.15);\n",
              "      filter: drop-shadow(0px 1px 2px rgba(0, 0, 0, 0.3));\n",
              "      fill: #FFFFFF;\n",
              "    }\n",
              "  </style>\n",
              "\n",
              "      <script>\n",
              "        const buttonEl =\n",
              "          document.querySelector('#df-579954fc-a349-4f4d-9e0f-df451a5690de button.colab-df-convert');\n",
              "        buttonEl.style.display =\n",
              "          google.colab.kernel.accessAllowed ? 'block' : 'none';\n",
              "\n",
              "        async function convertToInteractive(key) {\n",
              "          const element = document.querySelector('#df-579954fc-a349-4f4d-9e0f-df451a5690de');\n",
              "          const dataTable =\n",
              "            await google.colab.kernel.invokeFunction('convertToInteractive',\n",
              "                                                     [key], {});\n",
              "          if (!dataTable) return;\n",
              "\n",
              "          const docLinkHtml = 'Like what you see? Visit the ' +\n",
              "            '<a target=\"_blank\" href=https://colab.research.google.com/notebooks/data_table.ipynb>data table notebook</a>'\n",
              "            + ' to learn more about interactive tables.';\n",
              "          element.innerHTML = '';\n",
              "          dataTable['output_type'] = 'display_data';\n",
              "          await google.colab.output.renderOutput(dataTable, element);\n",
              "          const docLink = document.createElement('div');\n",
              "          docLink.innerHTML = docLinkHtml;\n",
              "          element.appendChild(docLink);\n",
              "        }\n",
              "      </script>\n",
              "    </div>\n",
              "  </div>\n",
              "  "
            ]
          },
          "metadata": {},
          "execution_count": 311
        }
      ],
      "source": [
        "# контроль\n",
        "train.head().T"
      ]
    },
    {
      "cell_type": "code",
      "execution_count": 312,
      "metadata": {
        "colab": {
          "base_uri": "https://localhost:8080/"
        },
        "id": "GhUxPS2Qmrnk",
        "outputId": "4d4eaeb6-1444-4ffc-c366-6b37877ec142"
      },
      "outputs": [
        {
          "output_type": "execute_result",
          "data": {
            "text/plain": [
              "secondary_cleaner_output_tail_sol           1605\n",
              "rougher_state_floatbank10_e_air              436\n",
              "rougher_input_floatbank11_xanthate           428\n",
              "primary_cleaner_output_concentrate_sol       286\n",
              "secondary_cleaner_state_floatbank2_a_air     217\n",
              "dtype: int64"
            ]
          },
          "metadata": {},
          "execution_count": 312
        }
      ],
      "source": [
        "train.isna().sum().sort_values(ascending=False).head()"
      ]
    },
    {
      "cell_type": "code",
      "execution_count": 313,
      "metadata": {
        "colab": {
          "base_uri": "https://localhost:8080/"
        },
        "id": "x-MPGXm40kvB",
        "outputId": "8f00efd9-7205-4965-ee1a-5d933e2bd646"
      },
      "outputs": [
        {
          "output_type": "execute_result",
          "data": {
            "text/plain": [
              "0"
            ]
          },
          "metadata": {},
          "execution_count": 313
        }
      ],
      "source": [
        "train['rougher_output_recovery'].isna().sum()"
      ]
    },
    {
      "cell_type": "code",
      "execution_count": 314,
      "metadata": {
        "colab": {
          "base_uri": "https://localhost:8080/"
        },
        "id": "IS4wO5jy0vpo",
        "outputId": "ac6a96d6-2ba4-49e9-ee22-73b14a4145c1"
      },
      "outputs": [
        {
          "output_type": "execute_result",
          "data": {
            "text/plain": [
              "0"
            ]
          },
          "metadata": {},
          "execution_count": 314
        }
      ],
      "source": [
        "train['final_output_recovery'].isna().sum()"
      ]
    },
    {
      "cell_type": "markdown",
      "metadata": {
        "id": "6nHrmnOze_Yk"
      },
      "source": [
        "Видно, что многие колонки содержат пропуски и пропусков довольно много (в колонке `secondary_cleaner_output_tail_sol` их более 1600). Из условий задачи известно, что данные индексируются по времени и соседние по времени параметры часто похожи. Исходя из этой информации заполним пропуски значниями из предыдущих ячеек."
      ]
    },
    {
      "cell_type": "code",
      "execution_count": 315,
      "metadata": {
        "id": "TpXRtULKazRV"
      },
      "outputs": [],
      "source": [
        "train = train.fillna(method='backfill')"
      ]
    },
    {
      "cell_type": "code",
      "execution_count": 316,
      "metadata": {
        "colab": {
          "base_uri": "https://localhost:8080/"
        },
        "id": "xJKoG7U8gGDL",
        "outputId": "5e8e3e10-c9be-470f-c0e8-e31b3366b4f9"
      },
      "outputs": [
        {
          "output_type": "execute_result",
          "data": {
            "text/plain": [
              "0"
            ]
          },
          "metadata": {},
          "execution_count": 316
        }
      ],
      "source": [
        "# контроль\n",
        "train.isna().sum().sum()"
      ]
    },
    {
      "cell_type": "markdown",
      "metadata": {
        "id": "CiYnCiO9gX-X"
      },
      "source": [
        "Изменим тип данных в колонке `date`."
      ]
    },
    {
      "cell_type": "code",
      "execution_count": 317,
      "metadata": {
        "colab": {
          "base_uri": "https://localhost:8080/"
        },
        "id": "-NIw2niWgSLf",
        "outputId": "d25fd3af-24f7-4ae7-d414-732344edcece"
      },
      "outputs": [
        {
          "output_type": "execute_result",
          "data": {
            "text/plain": [
              "0    2016-01-15 00:00:00\n",
              "1    2016-01-15 01:00:00\n",
              "2    2016-01-15 02:00:00\n",
              "3    2016-01-15 03:00:00\n",
              "4    2016-01-15 04:00:00\n",
              "Name: date, dtype: object"
            ]
          },
          "metadata": {},
          "execution_count": 317
        }
      ],
      "source": [
        "train['date'].head()"
      ]
    },
    {
      "cell_type": "code",
      "execution_count": 318,
      "metadata": {
        "id": "b8xdcaNhg3Wx"
      },
      "outputs": [],
      "source": [
        "train['date'] = pd.to_datetime(train['date'], format=\"%Y-%m-%d %H:%M:%S\")"
      ]
    },
    {
      "cell_type": "code",
      "execution_count": 319,
      "metadata": {
        "colab": {
          "base_uri": "https://localhost:8080/"
        },
        "id": "npBZPcO-hnzq",
        "outputId": "3ffa1b7a-0dcc-4f6e-ccd4-a8ba3f627261"
      },
      "outputs": [
        {
          "output_type": "execute_result",
          "data": {
            "text/plain": [
              "date                            datetime64[ns]\n",
              "final_output_concentrate_ag            float64\n",
              "final_output_concentrate_pb            float64\n",
              "final_output_concentrate_sol           float64\n",
              "final_output_concentrate_au            float64\n",
              "dtype: object"
            ]
          },
          "metadata": {},
          "execution_count": 319
        }
      ],
      "source": [
        "train.dtypes.head()"
      ]
    },
    {
      "cell_type": "markdown",
      "metadata": {
        "id": "Oa1PHMLJh6bE"
      },
      "source": [
        "Проверим на наличие явных дупликатов."
      ]
    },
    {
      "cell_type": "code",
      "execution_count": 320,
      "metadata": {
        "colab": {
          "base_uri": "https://localhost:8080/"
        },
        "id": "ZZ3ytPEkhxik",
        "outputId": "5ac90bef-7a71-49a8-d403-46a64f1021a7"
      },
      "outputs": [
        {
          "output_type": "execute_result",
          "data": {
            "text/plain": [
              "0"
            ]
          },
          "metadata": {},
          "execution_count": 320
        }
      ],
      "source": [
        "train.duplicated().sum()"
      ]
    },
    {
      "cell_type": "markdown",
      "metadata": {
        "id": "7cO0mBXCiEou"
      },
      "source": [
        "#### Тестовая выборка\n",
        "Повторим аналогичные действия для тестовой выборки."
      ]
    },
    {
      "cell_type": "code",
      "execution_count": 321,
      "metadata": {
        "colab": {
          "base_uri": "https://localhost:8080/"
        },
        "id": "ceCOQDtZiCHc",
        "outputId": "7b3ab7fa-e7e8-444c-b8d7-2582606d54fa"
      },
      "outputs": [
        {
          "output_type": "stream",
          "name": "stdout",
          "text": [
            "Количество явных дупликатов: 0\n"
          ]
        }
      ],
      "source": [
        "test.columns = test.columns.str.replace('.', '_', regex=False)\n",
        "test = test.fillna(method='backfill')\n",
        "test['date'] = pd.to_datetime(test['date'], format=\"%Y-%m-%d %H:%M:%S\")\n",
        "print(f'Количество явных дупликатов: {test.duplicated().sum()}')"
      ]
    },
    {
      "cell_type": "code",
      "execution_count": 322,
      "metadata": {
        "colab": {
          "base_uri": "https://localhost:8080/"
        },
        "id": "1BVl6dhKiplQ",
        "outputId": "9e25e23b-ac88-4c0d-bb95-726e678da695"
      },
      "outputs": [
        {
          "output_type": "execute_result",
          "data": {
            "text/plain": [
              "date                                datetime64[ns]\n",
              "primary_cleaner_input_sulfate              float64\n",
              "primary_cleaner_input_depressant           float64\n",
              "primary_cleaner_input_feed_size            float64\n",
              "primary_cleaner_input_xanthate             float64\n",
              "dtype: object"
            ]
          },
          "metadata": {},
          "execution_count": 322
        }
      ],
      "source": [
        "test.dtypes.head()"
      ]
    },
    {
      "cell_type": "markdown",
      "metadata": {
        "id": "1kgPi1RNkLtN"
      },
      "source": [
        "#### Исходные данные\n",
        "Наконец, проведём обработку исходных данных."
      ]
    },
    {
      "cell_type": "code",
      "execution_count": 323,
      "metadata": {
        "colab": {
          "base_uri": "https://localhost:8080/"
        },
        "id": "0zI5iJUFkTBK",
        "outputId": "c69735db-8226-4807-8741-a6e5aebc1a57"
      },
      "outputs": [
        {
          "output_type": "stream",
          "name": "stdout",
          "text": [
            "Количество явных дупликатов: 0\n"
          ]
        }
      ],
      "source": [
        "full.columns = full.columns.str.replace('.', '_', regex=False)\n",
        "full = full.fillna(method='backfill')\n",
        "full['date'] = pd.to_datetime(full['date'], format=\"%Y-%m-%d %H:%M:%S\")\n",
        "print(f'Количество явных дупликатов: {full.duplicated().sum()}')"
      ]
    },
    {
      "cell_type": "code",
      "execution_count": 324,
      "metadata": {
        "colab": {
          "base_uri": "https://localhost:8080/"
        },
        "id": "8vYgDYxVkgCf",
        "outputId": "7b350700-8396-4199-ae4f-7c5dcee7a5d0"
      },
      "outputs": [
        {
          "output_type": "execute_result",
          "data": {
            "text/plain": [
              "date                            datetime64[ns]\n",
              "final_output_concentrate_ag            float64\n",
              "final_output_concentrate_pb            float64\n",
              "final_output_concentrate_sol           float64\n",
              "final_output_concentrate_au            float64\n",
              "dtype: object"
            ]
          },
          "metadata": {},
          "execution_count": 324
        }
      ],
      "source": [
        "full.dtypes.head()"
      ]
    },
    {
      "cell_type": "markdown",
      "metadata": {
        "id": "tnvqnG0hk9r6"
      },
      "source": [
        "### Промежуточные выводы\n",
        "Были получены и обработаны три файла с данными. Во всех трёх файлах был обнаружен и исправлен ряд проблем: пропуски данных, нестандарнтное наименование колонок, неоптимальный тип данных в колонке `date`.\n",
        "\n",
        "Проверка расчёта эффективности обогащения золота после флотации показала, что приведённые в таблице `train` значения корректны.\n",
        "\n",
        "Было также показано, что в таблицу `test` не попали параметры продукта и расчётные характеристики со всех этапов технологического процесса. При постановке задачи сообщалось, что эти признаки будут недоступны на этапе применения модели."
      ]
    },
    {
      "cell_type": "markdown",
      "metadata": {
        "id": "ZkCUx1HIK8EM"
      },
      "source": [
        "## Анализ данных"
      ]
    },
    {
      "cell_type": "markdown",
      "metadata": {
        "id": "_Yoyi_afk38c"
      },
      "source": [
        "### Изменение концентраций\n",
        "Посмотрим, как меняется концентрация металлов (Au, Ag, Pb) на различных этапах очистки."
      ]
    },
    {
      "cell_type": "code",
      "execution_count": 325,
      "metadata": {
        "id": "fAhYHh_Lty39"
      },
      "outputs": [],
      "source": [
        "def show_conc(name, name_for_plots):\n",
        "  cols = ['rougher_input_feed_' + name,\n",
        "          'rougher_output_concentrate_' + name,\n",
        "          'primary_cleaner_output_concentrate_' + name, \n",
        "          'final_output_concentrate_' + name]\n",
        "  f, [axs_kde, axs_box] = plt.subplots(2, 1,\n",
        "                                     figsize=(15, 15), \n",
        "                                     sharex=True,\n",
        "                                     gridspec_kw=dict(height_ratios=[1,1]))\n",
        "  sns.kdeplot(data=full, x='rougher_input_feed_' + name, \n",
        "              shade=True, ax=axs_kde)\n",
        "  sns.kdeplot(data=full, x='rougher_output_concentrate_' + name, \n",
        "              shade=True, ax=axs_kde)\n",
        "  sns.kdeplot(data=full, x='primary_cleaner_output_concentrate_' + name, \n",
        "              shade=True, ax=axs_kde)\n",
        "  ax = sns.kdeplot(data=full, x='final_output_concentrate_' + name, \n",
        "                   shade=True, ax=axs_kde)\n",
        "  ax.set(title=f'Изменение концентрации {name_for_plots} на различных этапах очистки',\n",
        "       ylabel=f'Частота значений')\n",
        "  ax.legend(labels=['до флотации', \n",
        "                     'после флотации', \n",
        "                     'после первичной очистки',\n",
        "                     'после вторичной очистки'])\n",
        "  ax_bp = sns.boxplot(data=full[cols], ax=axs_box, orient='h')\n",
        "  ax_bp.set(xlabel=f'Концентрация {name_for_plots}')\n",
        "  ax_bp.set_yticklabels([])"
      ]
    },
    {
      "cell_type": "code",
      "execution_count": 326,
      "metadata": {
        "colab": {
          "base_uri": "https://localhost:8080/",
          "height": 899
        },
        "id": "1ZXPmMdjuYOT",
        "outputId": "197742cd-c1db-4aab-c475-7d826e6e4eb0"
      },
      "outputs": [
        {
          "output_type": "display_data",
          "data": {
            "text/plain": [
              "<Figure size 1080x1080 with 2 Axes>"
            ],
            "image/png": "[encoded data removed]"
          },
          "metadata": {}
        }
      ],
      "source": [
        "show_conc('au', 'золота')"
      ]
    },
    {
      "cell_type": "code",
      "execution_count": 327,
      "metadata": {
        "colab": {
          "base_uri": "https://localhost:8080/",
          "height": 899
        },
        "id": "OykQfcNzMWsj",
        "outputId": "0a44b0b4-35e6-45eb-9885-91dddee21042"
      },
      "outputs": [
        {
          "output_type": "display_data",
          "data": {
            "text/plain": [
              "<Figure size 1080x1080 with 2 Axes>"
            ],
            "image/png": "[encoded data removed]"
          },
          "metadata": {}
        }
      ],
      "source": [
        "show_conc('ag', 'серебра')"
      ]
    },
    {
      "cell_type": "code",
      "execution_count": 328,
      "metadata": {
        "colab": {
          "base_uri": "https://localhost:8080/",
          "height": 899
        },
        "id": "VE1pCRW0MWWA",
        "outputId": "6358935a-0061-427f-9e65-15a2e598f714"
      },
      "outputs": [
        {
          "output_type": "display_data",
          "data": {
            "text/plain": [
              "<Figure size 1080x1080 with 2 Axes>"
            ],
            "image/png": "[encoded data removed]"
          },
          "metadata": {}
        }
      ],
      "source": [
        "show_conc('pb', 'свинца')"
      ]
    },
    {
      "cell_type": "markdown",
      "metadata": {
        "id": "dch2H7Dx8WhX"
      },
      "source": [
        "**Вывод** \n",
        "\n",
        "Из построенных графиков видно:\n",
        "\n",
        "\n",
        "*   концентрация золота на каждом последующем этапе обработки увеличивается\n",
        "*   концентрация серебра увеличивается после флотации, но уменьшается после первичной и вторичной очистки\n",
        "*   концентрация свинца увеличивается вплоть до вторичной очистки, вторичная очистка практически не влияет на концентрацию свинца.\n",
        "\n"
      ]
    },
    {
      "cell_type": "markdown",
      "metadata": {
        "id": "DELZ1oj59ZlQ"
      },
      "source": [
        "### Сравнение распределения размеров гранул\n",
        "\n",
        "Сравним распределения размеров гранул сырья на обучающей и тестовой выборках."
      ]
    },
    {
      "cell_type": "code",
      "execution_count": 329,
      "metadata": {
        "colab": {
          "base_uri": "https://localhost:8080/",
          "height": 899
        },
        "id": "oR9D9Zs4I9EV",
        "outputId": "47e6c89d-93f1-4f11-ef5c-fdf2ffff0f06"
      },
      "outputs": [
        {
          "output_type": "display_data",
          "data": {
            "text/plain": [
              "<Figure size 1080x1080 with 1 Axes>"
            ],
            "image/png": "[encoded data removed]"
          },
          "metadata": {}
        }
      ],
      "source": [
        "sns.kdeplot(data=train, \n",
        "            x='rougher_input_feed_size',\n",
        "            shade=True)\n",
        "sns.kdeplot(data=test, \n",
        "            x='rougher_input_feed_size',\n",
        "            shade=True)\\\n",
        "            .set(title='Распределения размеров гранул на обучающей и тестовой выборках до флотации',\n",
        "                xlabel='Размер гранул',\n",
        "                ylabel='Частота')\n",
        "plt.legend(labels=[\"обучающая выборка\",\"тестовая выборка\"])\n",
        "plt.show()"
      ]
    },
    {
      "cell_type": "code",
      "execution_count": 330,
      "metadata": {
        "colab": {
          "base_uri": "https://localhost:8080/"
        },
        "id": "ZDwN-7_YOKqe",
        "outputId": "bca4b752-cd5a-44e5-941a-217a9c573b53"
      },
      "outputs": [
        {
          "output_type": "execute_result",
          "data": {
            "text/plain": [
              "count    14149.000000\n",
              "mean        59.955950\n",
              "std         23.286534\n",
              "min          9.659576\n",
              "25%         48.920770\n",
              "50%         55.301596\n",
              "75%         65.941463\n",
              "max        484.967466\n",
              "Name: rougher_input_feed_size, dtype: float64"
            ]
          },
          "metadata": {},
          "execution_count": 330
        }
      ],
      "source": [
        "train['rougher_input_feed_size'].describe()"
      ]
    },
    {
      "cell_type": "code",
      "execution_count": 331,
      "metadata": {
        "colab": {
          "base_uri": "https://localhost:8080/"
        },
        "id": "9FCto6bSOQAa",
        "outputId": "f917ee08-d07a-4599-8e42-d5856af62d10"
      },
      "outputs": [
        {
          "output_type": "execute_result",
          "data": {
            "text/plain": [
              "count    5290.000000\n",
              "mean       55.952917\n",
              "std        19.080412\n",
              "min         0.046369\n",
              "25%        43.906504\n",
              "50%        50.846843\n",
              "75%        62.451165\n",
              "max       392.494040\n",
              "Name: rougher_input_feed_size, dtype: float64"
            ]
          },
          "metadata": {},
          "execution_count": 331
        }
      ],
      "source": [
        "test['rougher_input_feed_size'].describe()"
      ]
    },
    {
      "cell_type": "code",
      "execution_count": 332,
      "metadata": {
        "colab": {
          "base_uri": "https://localhost:8080/",
          "height": 899
        },
        "id": "BoxVzzLqNf1y",
        "outputId": "0d8261fd-2bc7-4495-9576-811599291ab9"
      },
      "outputs": [
        {
          "output_type": "display_data",
          "data": {
            "text/plain": [
              "<Figure size 1080x1080 with 1 Axes>"
            ],
            "image/png": "[encoded data removed]"
          },
          "metadata": {}
        }
      ],
      "source": [
        "sns.kdeplot(data=train, \n",
        "            x='primary_cleaner_input_feed_size',\n",
        "            shade=True)\n",
        "sns.kdeplot(data=test, \n",
        "            x='primary_cleaner_input_feed_size',\n",
        "            shade=True)\\\n",
        "            .set(title='Распределения размеров гранул на обучающей и тестовой выборках перед первичной очисткой',\n",
        "                xlabel='Размер гранул',\n",
        "                ylabel='Частота')\n",
        "plt.legend(labels=[\"обучающая выборка\",\"тестовая выборка\"])\n",
        "plt.show()"
      ]
    },
    {
      "cell_type": "code",
      "execution_count": 333,
      "metadata": {
        "colab": {
          "base_uri": "https://localhost:8080/"
        },
        "id": "2_JJq0AcOJR-",
        "outputId": "ce8a3d7f-746a-4f7d-cb19-93da4ed9fbdb"
      },
      "outputs": [
        {
          "output_type": "execute_result",
          "data": {
            "text/plain": [
              "count    14149.000000\n",
              "mean         7.322310\n",
              "std          0.614062\n",
              "min          1.080000\n",
              "25%          6.960000\n",
              "50%          7.290000\n",
              "75%          7.700000\n",
              "max         10.470000\n",
              "Name: primary_cleaner_input_feed_size, dtype: float64"
            ]
          },
          "metadata": {},
          "execution_count": 333
        }
      ],
      "source": [
        "train['primary_cleaner_input_feed_size'].describe()"
      ]
    },
    {
      "cell_type": "code",
      "execution_count": 334,
      "metadata": {
        "colab": {
          "base_uri": "https://localhost:8080/"
        },
        "id": "odlWuuicOajm",
        "outputId": "6439549e-92a0-4eaf-cad3-f73e2c6ba9b7"
      },
      "outputs": [
        {
          "output_type": "execute_result",
          "data": {
            "text/plain": [
              "count    5290.000000\n",
              "mean        7.266339\n",
              "std         0.610219\n",
              "min         5.650000\n",
              "25%         6.890000\n",
              "50%         7.250000\n",
              "75%         7.600000\n",
              "max        15.500000\n",
              "Name: primary_cleaner_input_feed_size, dtype: float64"
            ]
          },
          "metadata": {},
          "execution_count": 334
        }
      ],
      "source": [
        "test['primary_cleaner_input_feed_size'].describe()"
      ]
    },
    {
      "cell_type": "markdown",
      "metadata": {
        "id": "e2xusPYvPZIm"
      },
      "source": [
        "Из построенных графиков, значений средних и стандартных отклонений видно, что распределения размеров гранул в обучающей и тестовой выборках схожи между собой. На всякий случай применим тест Левена, чтобы убедиться, что гипотеза о схожести распределений верна."
      ]
    },
    {
      "cell_type": "code",
      "execution_count": 335,
      "metadata": {
        "id": "QxTE-fgWQO3X"
      },
      "outputs": [],
      "source": [
        "alpha = 0.05\n",
        "_, p = st.levene(train['rougher_input_feed_size'], \n",
        "                 test['rougher_input_feed_size'])"
      ]
    },
    {
      "cell_type": "code",
      "execution_count": 336,
      "metadata": {
        "colab": {
          "base_uri": "https://localhost:8080/"
        },
        "id": "Q3ksZC0UQXaj",
        "outputId": "ed9c3ab7-1506-47ad-facc-7418c8f28e37"
      },
      "outputs": [
        {
          "output_type": "stream",
          "name": "stdout",
          "text": [
            "Гипотезу H_0 отбросить нельзя\n"
          ]
        }
      ],
      "source": [
        "if p < alpha:\n",
        "  print('Гипотезу H_0 можно отбросить')\n",
        "else:\n",
        "  print('Гипотезу H_0 отбросить нельзя')"
      ]
    },
    {
      "cell_type": "code",
      "execution_count": 337,
      "metadata": {
        "id": "FJHOcNqTQvsq"
      },
      "outputs": [],
      "source": [
        "_, p2 = st.levene(train['primary_cleaner_input_feed_size'], \n",
        "                  test['primary_cleaner_input_feed_size'])"
      ]
    },
    {
      "cell_type": "code",
      "execution_count": 338,
      "metadata": {
        "colab": {
          "base_uri": "https://localhost:8080/"
        },
        "id": "8HZEWsekQ09F",
        "outputId": "6c88d808-68b5-408a-c52b-4613b1caf8da"
      },
      "outputs": [
        {
          "output_type": "stream",
          "name": "stdout",
          "text": [
            "Гипотезу H_0 отбросить нельзя\n"
          ]
        }
      ],
      "source": [
        "if p2 < alpha:\n",
        "  print('Гипотезу H_0 можно отбросить')\n",
        "else:\n",
        "  print('Гипотезу H_0 отбросить нельзя')"
      ]
    },
    {
      "cell_type": "markdown",
      "metadata": {
        "id": "EAoaVWCDQ37s"
      },
      "source": [
        "Результаты теста Левена не позволяют нам отказаться от гипотезы $H_0$, утверждающей, что между распределениями значений в обучающей и тестовой выборке нет существенных различий.\n",
        "\n",
        "**Вывод**\n",
        "\n",
        "Мы проверили гипотезу о том, что между распределениями размеров гранул в обучающей и тестовой выборке нет существенных различий. Помимо визуального сравнения распределений был применён тест Левина. Было установлено, что гипотезу об отсутствии существенных различий нельзя отклонить."
      ]
    },
    {
      "cell_type": "markdown",
      "metadata": {
        "id": "WBfHdHlISwgH"
      },
      "source": [
        "### Изучение суммарной концентрации всех веществ на разных стадиях\n",
        "\n",
        "Посмотрим, как менялась суммарная концентрация всех веществ на разных стадиях: в сырье, в черновом и финальном концентратах."
      ]
    },
    {
      "cell_type": "code",
      "execution_count": 339,
      "metadata": {
        "id": "-QNd_SYCQ3Yb"
      },
      "outputs": [],
      "source": [
        "joint_conc = pd.DataFrame()\n",
        "joint_conc['raw'] = train['rougher_input_feed_ag'] +\\\n",
        "train['rougher_input_feed_au'] + train['rougher_input_feed_pb']"
      ]
    },
    {
      "cell_type": "code",
      "execution_count": 340,
      "metadata": {
        "id": "Pqrpe-KJiGxb"
      },
      "outputs": [],
      "source": [
        "joint_conc['crude'] = train['rougher_output_concentrate_ag'] +\\\n",
        "train['rougher_output_concentrate_au'] +\\\n",
        "train['rougher_output_concentrate_pb']"
      ]
    },
    {
      "cell_type": "code",
      "execution_count": 341,
      "metadata": {
        "id": "t0X_ogTkikKX"
      },
      "outputs": [],
      "source": [
        "joint_conc['crude2'] = train['primary_cleaner_output_concentrate_ag'] +\\\n",
        "train['primary_cleaner_output_concentrate_au'] +\\\n",
        "train['primary_cleaner_output_concentrate_pb']"
      ]
    },
    {
      "cell_type": "code",
      "execution_count": 342,
      "metadata": {
        "id": "baEJMcv4jIWR"
      },
      "outputs": [],
      "source": [
        "joint_conc['fin'] = train['final_output_concentrate_ag'] +\\\n",
        "train['final_output_concentrate_au'] + train['final_output_concentrate_pb']"
      ]
    },
    {
      "cell_type": "code",
      "execution_count": 343,
      "metadata": {
        "colab": {
          "base_uri": "https://localhost:8080/",
          "height": 300
        },
        "id": "rvwKiJv_ix1X",
        "outputId": "961df2ed-4353-4e85-9c85-83c96529e94a"
      },
      "outputs": [
        {
          "output_type": "execute_result",
          "data": {
            "text/plain": [
              "                raw         crude        crude2           fin\n",
              "count  14149.000000  14149.000000  14149.000000  14149.000000\n",
              "mean      19.952273     38.880325     50.156209     59.278547\n",
              "std        4.429485      6.927062      7.958401      5.707750\n",
              "min        0.030000      0.000000      0.000000      0.000000\n",
              "25%       16.850944     37.925621     49.632637     59.201505\n",
              "50%       19.179708     39.860389     51.792887     60.260341\n",
              "75%       22.571605     41.796805     53.440392     61.054829\n",
              "max       32.840164     55.568687     60.269003     64.968881"
            ],
            "text/html": [
              "\n",
              "  <div id=\"df-2fc002ec-dd04-4113-a52b-c1fd515017c5\">\n",
              "    <div class=\"colab-df-container\">\n",
              "      <div>\n",
              "<style scoped>\n",
              "    .dataframe tbody tr th:only-of-type {\n",
              "        vertical-align: middle;\n",
              "    }\n",
              "\n",
              "    .dataframe tbody tr th {\n",
              "        vertical-align: top;\n",
              "    }\n",
              "\n",
              "    .dataframe thead th {\n",
              "        text-align: right;\n",
              "    }\n",
              "</style>\n",
              "<table border=\"1\" class=\"dataframe\">\n",
              "  <thead>\n",
              "    <tr style=\"text-align: right;\">\n",
              "      <th></th>\n",
              "      <th>raw</th>\n",
              "      <th>crude</th>\n",
              "      <th>crude2</th>\n",
              "      <th>fin</th>\n",
              "    </tr>\n",
              "  </thead>\n",
              "  <tbody>\n",
              "    <tr>\n",
              "      <th>count</th>\n",
              "      <td>14149.000000</td>\n",
              "      <td>14149.000000</td>\n",
              "      <td>14149.000000</td>\n",
              "      <td>14149.000000</td>\n",
              "    </tr>\n",
              "    <tr>\n",
              "      <th>mean</th>\n",
              "      <td>19.952273</td>\n",
              "      <td>38.880325</td>\n",
              "      <td>50.156209</td>\n",
              "      <td>59.278547</td>\n",
              "    </tr>\n",
              "    <tr>\n",
              "      <th>std</th>\n",
              "      <td>4.429485</td>\n",
              "      <td>6.927062</td>\n",
              "      <td>7.958401</td>\n",
              "      <td>5.707750</td>\n",
              "    </tr>\n",
              "    <tr>\n",
              "      <th>min</th>\n",
              "      <td>0.030000</td>\n",
              "      <td>0.000000</td>\n",
              "      <td>0.000000</td>\n",
              "      <td>0.000000</td>\n",
              "    </tr>\n",
              "    <tr>\n",
              "      <th>25%</th>\n",
              "      <td>16.850944</td>\n",
              "      <td>37.925621</td>\n",
              "      <td>49.632637</td>\n",
              "      <td>59.201505</td>\n",
              "    </tr>\n",
              "    <tr>\n",
              "      <th>50%</th>\n",
              "      <td>19.179708</td>\n",
              "      <td>39.860389</td>\n",
              "      <td>51.792887</td>\n",
              "      <td>60.260341</td>\n",
              "    </tr>\n",
              "    <tr>\n",
              "      <th>75%</th>\n",
              "      <td>22.571605</td>\n",
              "      <td>41.796805</td>\n",
              "      <td>53.440392</td>\n",
              "      <td>61.054829</td>\n",
              "    </tr>\n",
              "    <tr>\n",
              "      <th>max</th>\n",
              "      <td>32.840164</td>\n",
              "      <td>55.568687</td>\n",
              "      <td>60.269003</td>\n",
              "      <td>64.968881</td>\n",
              "    </tr>\n",
              "  </tbody>\n",
              "</table>\n",
              "</div>\n",
              "      <button class=\"colab-df-convert\" onclick=\"convertToInteractive('df-2fc002ec-dd04-4113-a52b-c1fd515017c5')\"\n",
              "              title=\"Convert this dataframe to an interactive table.\"\n",
              "              style=\"display:none;\">\n",
              "        \n",
              "  <svg xmlns=\"http://www.w3.org/2000/svg\" height=\"24px\"viewBox=\"0 0 24 24\"\n",
              "       width=\"24px\">\n",
              "    <path d=\"M0 0h24v24H0V0z\" fill=\"none\"/>\n",
              "    <path d=\"M18.56 5.44l.94 2.06.94-2.06 2.06-.94-2.06-.94-.94-2.06-.94 2.06-2.06.94zm-11 1L8.5 8.5l.94-2.06 2.06-.94-2.06-.94L8.5 2.5l-.94 2.06-2.06.94zm10 10l.94 2.06.94-2.06 2.06-.94-2.06-.94-.94-2.06-.94 2.06-2.06.94z\"/><path d=\"M17.41 7.96l-1.37-1.37c-.4-.4-.92-.59-1.43-.59-.52 0-1.04.2-1.43.59L10.3 9.45l-7.72 7.72c-.78.78-.78 2.05 0 2.83L4 21.41c.39.39.9.59 1.41.59.51 0 1.02-.2 1.41-.59l7.78-7.78 2.81-2.81c.8-.78.8-2.07 0-2.86zM5.41 20L4 18.59l7.72-7.72 1.47 1.35L5.41 20z\"/>\n",
              "  </svg>\n",
              "      </button>\n",
              "      \n",
              "  <style>\n",
              "    .colab-df-container {\n",
              "      display:flex;\n",
              "      flex-wrap:wrap;\n",
              "      gap: 12px;\n",
              "    }\n",
              "\n",
              "    .colab-df-convert {\n",
              "      background-color: #E8F0FE;\n",
              "      border: none;\n",
              "      border-radius: 50%;\n",
              "      cursor: pointer;\n",
              "      display: none;\n",
              "      fill: #1967D2;\n",
              "      height: 32px;\n",
              "      padding: 0 0 0 0;\n",
              "      width: 32px;\n",
              "    }\n",
              "\n",
              "    .colab-df-convert:hover {\n",
              "      background-color: #E2EBFA;\n",
              "      box-shadow: 0px 1px 2px rgba(60, 64, 67, 0.3), 0px 1px 3px 1px rgba(60, 64, 67, 0.15);\n",
              "      fill: #174EA6;\n",
              "    }\n",
              "\n",
              "    [theme=dark] .colab-df-convert {\n",
              "      background-color: #3B4455;\n",
              "      fill: #D2E3FC;\n",
              "    }\n",
              "\n",
              "    [theme=dark] .colab-df-convert:hover {\n",
              "      background-color: #434B5C;\n",
              "      box-shadow: 0px 1px 3px 1px rgba(0, 0, 0, 0.15);\n",
              "      filter: drop-shadow(0px 1px 2px rgba(0, 0, 0, 0.3));\n",
              "      fill: #FFFFFF;\n",
              "    }\n",
              "  </style>\n",
              "\n",
              "      <script>\n",
              "        const buttonEl =\n",
              "          document.querySelector('#df-2fc002ec-dd04-4113-a52b-c1fd515017c5 button.colab-df-convert');\n",
              "        buttonEl.style.display =\n",
              "          google.colab.kernel.accessAllowed ? 'block' : 'none';\n",
              "\n",
              "        async function convertToInteractive(key) {\n",
              "          const element = document.querySelector('#df-2fc002ec-dd04-4113-a52b-c1fd515017c5');\n",
              "          const dataTable =\n",
              "            await google.colab.kernel.invokeFunction('convertToInteractive',\n",
              "                                                     [key], {});\n",
              "          if (!dataTable) return;\n",
              "\n",
              "          const docLinkHtml = 'Like what you see? Visit the ' +\n",
              "            '<a target=\"_blank\" href=https://colab.research.google.com/notebooks/data_table.ipynb>data table notebook</a>'\n",
              "            + ' to learn more about interactive tables.';\n",
              "          element.innerHTML = '';\n",
              "          dataTable['output_type'] = 'display_data';\n",
              "          await google.colab.output.renderOutput(dataTable, element);\n",
              "          const docLink = document.createElement('div');\n",
              "          docLink.innerHTML = docLinkHtml;\n",
              "          element.appendChild(docLink);\n",
              "        }\n",
              "      </script>\n",
              "    </div>\n",
              "  </div>\n",
              "  "
            ]
          },
          "metadata": {},
          "execution_count": 343
        }
      ],
      "source": [
        "joint_conc.describe()"
      ]
    },
    {
      "cell_type": "code",
      "execution_count": 344,
      "metadata": {
        "colab": {
          "base_uri": "https://localhost:8080/",
          "height": 899
        },
        "id": "AgNjdWprjWZV",
        "outputId": "81346a0d-93c3-4024-f50f-eed1420bd2c4"
      },
      "outputs": [
        {
          "output_type": "display_data",
          "data": {
            "text/plain": [
              "<Figure size 1080x1080 with 2 Axes>"
            ],
            "image/png": "[encoded data removed]"
          },
          "metadata": {}
        }
      ],
      "source": [
        "f, [axs_kde, axs_box] = plt.subplots(2, 1,\n",
        "                                     figsize=(15, 15), \n",
        "                                     sharex=True,\n",
        "                                     gridspec_kw=dict(height_ratios=[1,1]))\n",
        "kde = sns.kdeplot(data=joint_conc, shade=True, ax=axs_kde)\n",
        "kde.set(title='Изменение суммарной концентрации всех веществ на разных стадиях',\n",
        "     ylabel='Частота')\n",
        "kde.legend(labels=['в сырье', 'после первичной очистки', \n",
        "                   'после вторичной очистки', 'в финальном концентрате'])\n",
        "box = sns.boxplot(data=joint_conc, orient='h', ax=axs_box)\n",
        "box.set(xlabel='Суммарная концентрация всех веществ')\n",
        "box.set_yticklabels([]);"
      ]
    },
    {
      "cell_type": "markdown",
      "metadata": {
        "id": "UzlizM1hkVnp"
      },
      "source": [
        "**Вывод**\n",
        "\n",
        "Из построенного графика видно, что суммарная концентрация всех веществ на протяжении всего технологического процесса понижается. \n",
        "\n",
        "При этом видно, что в некоторых случаях суммарная концентрация всех веществ равна нулю. Скорее всего это связано с ошибками в данных, но возможно объясняется какими-то особенностями технологического процесса. Так как в дальнейшем данные из этих колонок не будут использоваться при моделировании (они отсутствуют в тестовой выборке), оставим их без изменений."
      ]
    },
    {
      "cell_type": "markdown",
      "metadata": {
        "id": "XA9tw6FaXkfB"
      },
      "source": [
        "### Промежуточные выводы\n",
        "\n",
        "Нами было проведено несколько исследований, в ходе которых установлено, что\n",
        "\n",
        "\n",
        "*   концентрация золота на каждом последующем этапе обработки увеличивается\n",
        "*   концентрация серебра увеличивается после флотации, но уменьшается после первичной и вторичной очистки\n",
        "*   концентрация свинца увеличивается вплоть до вторичной очистки, вторичная очистка практически не влияет на концентрацию свинца\n",
        "*   распределения размеров гранул сырья в обучающей и тестовой выборках не имеют существенных отличий\n",
        "*   суммарная концентрация всех веществ на протяжении всего технологического процесса понижается.\n",
        "\n",
        "Проверив исходные данные перейдём к моделированию."
      ]
    },
    {
      "cell_type": "markdown",
      "metadata": {
        "id": "4aQshzsd-Aid"
      },
      "source": [
        "## Модель\n",
        "\n",
        "По условиям задачи необходимо создать модели, прогнозирующие сразу две величины:\n",
        "\n",
        "*   эффективность обогащения чернового концентрата `rougher.output.recovery`\n",
        "*   эффективность обогащения финального концентрата `final.output.recovery`\n",
        "\n",
        "В тестовой выборке целевые параметры отсутствуют, заполним их из полной выборки."
      ]
    },
    {
      "cell_type": "code",
      "execution_count": 345,
      "metadata": {
        "id": "4kE7nLNY_IvE"
      },
      "outputs": [],
      "source": [
        "test = pd.merge(test, full[['date', 'rougher_output_recovery', \n",
        "                            'final_output_recovery']], how='inner', on='date')"
      ]
    },
    {
      "cell_type": "code",
      "execution_count": 346,
      "metadata": {
        "colab": {
          "base_uri": "https://localhost:8080/"
        },
        "id": "fqfb97KXTXUO",
        "outputId": "f40c4364-30e9-4973-8fd3-f921a5d2360e"
      },
      "outputs": [
        {
          "output_type": "execute_result",
          "data": {
            "text/plain": [
              "Index(['date', 'primary_cleaner_input_sulfate',\n",
              "       'primary_cleaner_input_depressant', 'primary_cleaner_input_feed_size',\n",
              "       'primary_cleaner_input_xanthate',\n",
              "       'primary_cleaner_state_floatbank8_a_air',\n",
              "       'primary_cleaner_state_floatbank8_a_level',\n",
              "       'primary_cleaner_state_floatbank8_b_air',\n",
              "       'primary_cleaner_state_floatbank8_b_level',\n",
              "       'primary_cleaner_state_floatbank8_c_air',\n",
              "       'primary_cleaner_state_floatbank8_c_level',\n",
              "       'primary_cleaner_state_floatbank8_d_air',\n",
              "       'primary_cleaner_state_floatbank8_d_level', 'rougher_input_feed_ag',\n",
              "       'rougher_input_feed_pb', 'rougher_input_feed_rate',\n",
              "       'rougher_input_feed_size', 'rougher_input_feed_sol',\n",
              "       'rougher_input_feed_au', 'rougher_input_floatbank10_sulfate',\n",
              "       'rougher_input_floatbank10_xanthate',\n",
              "       'rougher_input_floatbank11_sulfate',\n",
              "       'rougher_input_floatbank11_xanthate', 'rougher_state_floatbank10_a_air',\n",
              "       'rougher_state_floatbank10_a_level', 'rougher_state_floatbank10_b_air',\n",
              "       'rougher_state_floatbank10_b_level', 'rougher_state_floatbank10_c_air',\n",
              "       'rougher_state_floatbank10_c_level', 'rougher_state_floatbank10_d_air',\n",
              "       'rougher_state_floatbank10_d_level', 'rougher_state_floatbank10_e_air',\n",
              "       'rougher_state_floatbank10_e_level', 'rougher_state_floatbank10_f_air',\n",
              "       'rougher_state_floatbank10_f_level',\n",
              "       'secondary_cleaner_state_floatbank2_a_air',\n",
              "       'secondary_cleaner_state_floatbank2_a_level',\n",
              "       'secondary_cleaner_state_floatbank2_b_air',\n",
              "       'secondary_cleaner_state_floatbank2_b_level',\n",
              "       'secondary_cleaner_state_floatbank3_a_air',\n",
              "       'secondary_cleaner_state_floatbank3_a_level',\n",
              "       'secondary_cleaner_state_floatbank3_b_air',\n",
              "       'secondary_cleaner_state_floatbank3_b_level',\n",
              "       'secondary_cleaner_state_floatbank4_a_air',\n",
              "       'secondary_cleaner_state_floatbank4_a_level',\n",
              "       'secondary_cleaner_state_floatbank4_b_air',\n",
              "       'secondary_cleaner_state_floatbank4_b_level',\n",
              "       'secondary_cleaner_state_floatbank5_a_air',\n",
              "       'secondary_cleaner_state_floatbank5_a_level',\n",
              "       'secondary_cleaner_state_floatbank5_b_air',\n",
              "       'secondary_cleaner_state_floatbank5_b_level',\n",
              "       'secondary_cleaner_state_floatbank6_a_air',\n",
              "       'secondary_cleaner_state_floatbank6_a_level', 'rougher_output_recovery',\n",
              "       'final_output_recovery'],\n",
              "      dtype='object')"
            ]
          },
          "metadata": {},
          "execution_count": 346
        }
      ],
      "source": [
        "# контроль\n",
        "test.columns"
      ]
    },
    {
      "cell_type": "markdown",
      "metadata": {
        "id": "qtj0IOSmAfGH"
      },
      "source": [
        "Посмотрим на распределения целевых значений в обучающей и тестовой выборках."
      ]
    },
    {
      "cell_type": "code",
      "execution_count": 347,
      "metadata": {
        "colab": {
          "base_uri": "https://localhost:8080/",
          "height": 355
        },
        "id": "ls4L1DFTAmBm",
        "outputId": "77db2c3e-d010-441e-acba-3ee924cbfa44"
      },
      "outputs": [
        {
          "output_type": "display_data",
          "data": {
            "text/plain": [
              "<Figure size 1080x360 with 2 Axes>"
            ],
            "image/png": "[encoded data removed]"
          },
          "metadata": {}
        }
      ],
      "source": [
        "f, [axs_hist, axs_box] = plt.subplots(2, 1,\n",
        "                                     figsize=(15, 5), \n",
        "                                     sharex=True,\n",
        "                                     gridspec_kw=dict(height_ratios=[0.8, 0.2]))\n",
        "sns.histplot(data=train, x='rougher_output_recovery', ax=axs_hist, kde=True)\\\n",
        ".set(title='Распределение целевых значений после флотации в обучающей выборке',\n",
        "     ylabel='Количество записей')\n",
        "sns.boxplot(data=train, x='rougher_output_recovery', ax=axs_box)\\\n",
        ".set(xlabel='Целевое значение после флотации');"
      ]
    },
    {
      "cell_type": "code",
      "execution_count": 348,
      "metadata": {
        "colab": {
          "base_uri": "https://localhost:8080/",
          "height": 355
        },
        "id": "cH7ggSjVBgjK",
        "outputId": "3ef39c88-d53d-4a94-9fd0-9d57a680f51e"
      },
      "outputs": [
        {
          "output_type": "display_data",
          "data": {
            "text/plain": [
              "<Figure size 1080x360 with 2 Axes>"
            ],
            "image/png": "[encoded data removed]"
          },
          "metadata": {}
        }
      ],
      "source": [
        "f, [axs_hist, axs_box] = plt.subplots(2, 1,\n",
        "                                     figsize=(15, 5), \n",
        "                                     sharex=True,\n",
        "                                     gridspec_kw=dict(height_ratios=[0.8, 0.2]))\n",
        "sns.histplot(data=test, x='rougher_output_recovery', ax=axs_hist, kde=True)\\\n",
        ".set(title='Распределение целевых значений после флотации в тестовой выборке',\n",
        "     ylabel='Количество записей')\n",
        "sns.boxplot(data=test, x='rougher_output_recovery', ax=axs_box)\\\n",
        ".set(xlabel='Целевое значение после флотации');"
      ]
    },
    {
      "cell_type": "code",
      "execution_count": 349,
      "metadata": {
        "colab": {
          "base_uri": "https://localhost:8080/",
          "height": 355
        },
        "id": "3gAm8K1CBr9z",
        "outputId": "f5ad2cfd-efc8-40f5-b222-32bef2a465a7"
      },
      "outputs": [
        {
          "output_type": "display_data",
          "data": {
            "text/plain": [
              "<Figure size 1080x360 with 2 Axes>"
            ],
            "image/png": "[encoded data removed]"
          },
          "metadata": {}
        }
      ],
      "source": [
        "f, [axs_hist, axs_box] = plt.subplots(2, 1,\n",
        "                                     figsize=(15, 5), \n",
        "                                     sharex=True,\n",
        "                                     gridspec_kw=dict(height_ratios=[0.8, 0.2]))\n",
        "sns.histplot(data=train, x='final_output_recovery', ax=axs_hist, kde=True)\\\n",
        ".set(title='Распределение целевых значений на последнем этапе в обучающей выборке',\n",
        "     ylabel='Количество записей')\n",
        "sns.boxplot(data=train, x='final_output_recovery', ax=axs_box)\\\n",
        ".set(xlabel='Целевое значение на последнем этапе');"
      ]
    },
    {
      "cell_type": "code",
      "execution_count": 350,
      "metadata": {
        "colab": {
          "base_uri": "https://localhost:8080/",
          "height": 355
        },
        "id": "bfjrAgwfBsTw",
        "outputId": "9ea23ac9-cfd6-4dfb-f907-6d48b00c6cae"
      },
      "outputs": [
        {
          "output_type": "display_data",
          "data": {
            "text/plain": [
              "<Figure size 1080x360 with 2 Axes>"
            ],
            "image/png": "[encoded data removed]"
          },
          "metadata": {}
        }
      ],
      "source": [
        "f, [axs_hist, axs_box] = plt.subplots(2, 1,\n",
        "                                     figsize=(15, 5), \n",
        "                                     sharex=True,\n",
        "                                     gridspec_kw=dict(height_ratios=[0.8, 0.2]))\n",
        "sns.histplot(data=test, x='final_output_recovery', ax=axs_hist, kde=True)\\\n",
        ".set(title='Распределение целевых значений на последнем этапе в тестовой выборке',\n",
        "     ylabel='Количество записей')\n",
        "sns.boxplot(data=test, x='final_output_recovery', ax=axs_box)\\\n",
        ".set(xlabel='Целевое значение на последнем этапе');"
      ]
    },
    {
      "cell_type": "markdown",
      "metadata": {
        "id": "wt2GGy9CCMVo"
      },
      "source": [
        "Видно, что во всех четырёх распределениях наблюдаются заметные выбросы нулевых значений. Скорее всего это — ошибки выгрузки данных, удалим их, чтобы модели лучше обучались."
      ]
    },
    {
      "cell_type": "code",
      "execution_count": 351,
      "metadata": {
        "id": "mrWTLVwcCMDQ"
      },
      "outputs": [],
      "source": [
        "train = train[train['rougher_output_recovery'] != 0]\n",
        "train = train[train['final_output_recovery'] != 0]\n",
        "\n",
        "test = test[test['rougher_output_recovery'] != 0]\n",
        "test = test[test['final_output_recovery'] != 0]"
      ]
    },
    {
      "cell_type": "markdown",
      "metadata": {
        "id": "mpfieqUJEYEx"
      },
      "source": [
        "Посмотрим ещё раз на один из графиков, чтобы убедиться, что удаление прошло корректно."
      ]
    },
    {
      "cell_type": "code",
      "execution_count": 352,
      "metadata": {
        "colab": {
          "base_uri": "https://localhost:8080/",
          "height": 355
        },
        "id": "2KHPXNb_EVPt",
        "outputId": "f851d691-9bb2-4836-d9f5-d39b0986b301"
      },
      "outputs": [
        {
          "output_type": "display_data",
          "data": {
            "text/plain": [
              "<Figure size 1080x360 with 2 Axes>"
            ],
            "image/png": "[encoded data removed]"
          },
          "metadata": {}
        }
      ],
      "source": [
        "f, [axs_hist, axs_box] = plt.subplots(2, 1,\n",
        "                                     figsize=(15, 5), \n",
        "                                     sharex=True,\n",
        "                                     gridspec_kw=dict(height_ratios=[0.8, 0.2]))\n",
        "sns.histplot(data=train, x='rougher_output_recovery', ax=axs_hist, kde=True)\\\n",
        ".set(title='Распределение целевых значений после флотации в обучающей выборке',\n",
        "     ylabel='Количество записей')\n",
        "sns.boxplot(data=train, x='rougher_output_recovery', ax=axs_box)\\\n",
        ".set(xlabel='Целевое значение после флотации');"
      ]
    },
    {
      "cell_type": "markdown",
      "metadata": {
        "id": "DKcwMwI28096"
      },
      "source": [
        "Красота!"
      ]
    },
    {
      "cell_type": "markdown",
      "metadata": {
        "id": "qJwGAiJlK_cK"
      },
      "source": [
        "### Метрика\n",
        "Напишем функцию для вычисления метрики sMAPE. Она вычисляется по следующей формуле:\n",
        "\n",
        "$$sMAPE = \\frac{1}{N} \\sum_{i=1}^{N} \\frac{\\left|y_i - \\hat{y}_i\\right|}\n",
        "{\\left(\\left|y_i \\right| + \\left|\\hat{y}_i \\right|\\right) / 2} \\cdot 100\\%, $$\n",
        "\n",
        "где $y_i$ — значение целевого признака для объекта с порядковым номером $i$ в выборке, на которой измеряется качество; $\\hat{y}_i$ — значение предсказания для объекта с порядковым номером $i$, например, в тестовой выборке; $N$ — количество объектов в выборке."
      ]
    },
    {
      "cell_type": "code",
      "execution_count": 353,
      "metadata": {
        "id": "QQ_tozYQw6mC"
      },
      "outputs": [],
      "source": [
        "def smape(y_true, y_pred):\n",
        "  # y_true = np.array(y_true)\n",
        "  # y_pred = np.array(y_pred)\n",
        "  abs_diff = np.abs(y_true - y_pred)\n",
        "  half_sum_abs = (np.abs(y_true) + np.abs(y_pred)) / 2\n",
        "  total_sum = np.sum(abs_diff / half_sum_abs)\n",
        "  smape = 100 * total_sum / y_true.size\n",
        "  return smape"
      ]
    },
    {
      "cell_type": "markdown",
      "metadata": {
        "id": "C_mG_4E5Xsfu"
      },
      "source": [
        "При этом итоговая метрика рассчитывается по следующей формуле:\n",
        "\n",
        "$$sMAPE_t = 25 \\% \\cdot sMAPE(rougher) + 75 \\% \\cdot sMAPE(final),$$\n",
        "\n",
        "где $sMAPE(rougher)$ — значение метрики sMAPE для параметра `rougher.output.recovery`, $sMAPE(final)$ — для параметра `final.output.recovery`.\n",
        "\n",
        "Напишем соответствующую функцию."
      ]
    },
    {
      "cell_type": "code",
      "execution_count": 354,
      "metadata": {
        "id": "fUGuerS9XsI7"
      },
      "outputs": [],
      "source": [
        "def smape_t(y_true, y_pred):\n",
        "  y_true = np.array(y_true)\n",
        "  y_pred = np.array(y_pred)\n",
        "  smape_r = smape(y_true[:, 0], y_pred[:, 0])\n",
        "  smape_f = smape(y_true[:, 1], y_pred[:, 1])\n",
        "  return .25 * smape_r + .75 * smape_f"
      ]
    },
    {
      "cell_type": "code",
      "execution_count": 355,
      "metadata": {
        "id": "mIstGBHbg9NC"
      },
      "outputs": [],
      "source": [
        "smape_scorer = make_scorer(smape_t, greater_is_better=False)"
      ]
    },
    {
      "cell_type": "markdown",
      "metadata": {
        "id": "VqTtUi0diPCy"
      },
      "source": [
        "### Создание моделей\n",
        "\n",
        "Подготовим учебные и тестовые выборки к моделированию."
      ]
    },
    {
      "cell_type": "code",
      "execution_count": 356,
      "metadata": {
        "id": "i7qEjA9ekudN"
      },
      "outputs": [],
      "source": [
        "X_train = train[test.columns].copy()"
      ]
    },
    {
      "cell_type": "code",
      "execution_count": 357,
      "metadata": {
        "id": "DtT-j699aAJ1"
      },
      "outputs": [],
      "source": [
        "X_train = X_train.drop(['date', 'rougher_output_recovery', \n",
        "                        'final_output_recovery'], axis=1)"
      ]
    },
    {
      "cell_type": "code",
      "execution_count": 358,
      "metadata": {
        "id": "6hh_EXf4lq50"
      },
      "outputs": [],
      "source": [
        "y_train = train[['rougher_output_recovery', 'final_output_recovery']].copy()"
      ]
    },
    {
      "cell_type": "code",
      "execution_count": 359,
      "metadata": {
        "id": "57f7h_tOEsPq"
      },
      "outputs": [],
      "source": [
        "X_test = test.copy()"
      ]
    },
    {
      "cell_type": "code",
      "execution_count": 360,
      "metadata": {
        "id": "3FwypmO7aFwj"
      },
      "outputs": [],
      "source": [
        "X_test = X_test.drop(['date', 'rougher_output_recovery',\n",
        "                      'final_output_recovery'], axis=1)"
      ]
    },
    {
      "cell_type": "code",
      "execution_count": 361,
      "metadata": {
        "id": "112-kGFME654"
      },
      "outputs": [],
      "source": [
        "y_test = test[['rougher_output_recovery', 'final_output_recovery']].copy()"
      ]
    },
    {
      "cell_type": "markdown",
      "metadata": {
        "id": "QBbHV7bomPp6"
      },
      "source": [
        "Создадим несколько моделей и отберём из них ту, что обеспечит наилучшие значения метрики sMAPE на кросс-валидации. Проверим следующие модели:\n",
        "\n",
        "\n",
        "*   регрессор на основе метода $k$-ближайших соседей\n",
        "*   регрессор на основе случайного леса\n",
        "*   регрессор на основе линейной регрессии\n",
        "*   регрессор на основе модели Lasso.\n",
        "\n",
        "Перед обучением моделей будем проводить масштабирование данных.\n"
      ]
    },
    {
      "cell_type": "code",
      "execution_count": 362,
      "metadata": {
        "id": "64gbGLMFmO6v"
      },
      "outputs": [],
      "source": [
        "knn_pipeline = Pipeline([(\"scaler\", MinMaxScaler()),\n",
        "                       (\"reg\", KNeighborsRegressor())])\n",
        "\n",
        "rf_pipeline = Pipeline([(\"scaler\", StandardScaler()),\n",
        "                       (\"reg\", RandomForestRegressor(random_state=42))])\n",
        "\n",
        "lr_pipeline = Pipeline([(\"scaler\", StandardScaler()),\n",
        "                       (\"reg\", LinearRegression())])\n",
        "\n",
        "ls_pipeline = Pipeline([(\"scaler\", StandardScaler()),\n",
        "                       (\"reg\", MultiTaskLasso())])"
      ]
    },
    {
      "cell_type": "code",
      "execution_count": 363,
      "metadata": {
        "id": "QjRQfpKiuVXR"
      },
      "outputs": [],
      "source": [
        "knn_params = {'reg__n_neighbors': list(range(3, 7, 1))}"
      ]
    },
    {
      "cell_type": "code",
      "execution_count": 364,
      "metadata": {
        "id": "79J6tTsiutbR"
      },
      "outputs": [],
      "source": [
        "rf_params = {'reg__n_estimators': list(range(90, 120, 10)),\n",
        "             'reg__min_samples_split': list(range(2, 4, 1))}"
      ]
    },
    {
      "cell_type": "code",
      "execution_count": 365,
      "metadata": {
        "id": "LkKD51t1FBns"
      },
      "outputs": [],
      "source": [
        "ls_params = {'reg__alpha': [.9, 1., 1.1],\n",
        "             'reg__max_iter': [900, 1000, 1100]}"
      ]
    },
    {
      "cell_type": "markdown",
      "metadata": {
        "id": "XuosTmCvvX-x"
      },
      "source": [
        "### Кросс-валидация\n",
        "Итак, мы готовы к кросс-валидации!"
      ]
    },
    {
      "cell_type": "code",
      "execution_count": 366,
      "metadata": {
        "id": "zd2_SSACV13w"
      },
      "outputs": [],
      "source": [
        "rf_grid = GridSearchCV(estimator=rf_pipeline, \n",
        "                        param_grid=rf_params, \n",
        "                        scoring=smape_scorer, verbose=2)"
      ]
    },
    {
      "cell_type": "code",
      "execution_count": 367,
      "metadata": {
        "colab": {
          "base_uri": "https://localhost:8080/"
        },
        "id": "faqiJVS7V6G7",
        "outputId": "9efccb9b-21b1-4196-844a-8c24f488a6f9"
      },
      "outputs": [
        {
          "output_type": "stream",
          "name": "stdout",
          "text": [
            "Fitting 5 folds for each of 6 candidates, totalling 30 fits\n",
            "[CV] END .....reg__min_samples_split=2, reg__n_estimators=90; total time= 1.2min\n",
            "[CV] END .....reg__min_samples_split=2, reg__n_estimators=90; total time= 1.0min\n",
            "[CV] END .....reg__min_samples_split=2, reg__n_estimators=90; total time=  54.3s\n",
            "[CV] END .....reg__min_samples_split=2, reg__n_estimators=90; total time=  55.5s\n",
            "[CV] END .....reg__min_samples_split=2, reg__n_estimators=90; total time=  56.8s\n",
            "[CV] END ....reg__min_samples_split=2, reg__n_estimators=100; total time= 1.1min\n",
            "[CV] END ....reg__min_samples_split=2, reg__n_estimators=100; total time= 1.1min\n",
            "[CV] END ....reg__min_samples_split=2, reg__n_estimators=100; total time=  59.5s\n",
            "[CV] END ....reg__min_samples_split=2, reg__n_estimators=100; total time= 1.0min\n",
            "[CV] END ....reg__min_samples_split=2, reg__n_estimators=100; total time= 1.1min\n",
            "[CV] END ....reg__min_samples_split=2, reg__n_estimators=110; total time= 1.2min\n",
            "[CV] END ....reg__min_samples_split=2, reg__n_estimators=110; total time= 1.2min\n",
            "[CV] END ....reg__min_samples_split=2, reg__n_estimators=110; total time= 1.1min\n",
            "[CV] END ....reg__min_samples_split=2, reg__n_estimators=110; total time= 1.1min\n",
            "[CV] END ....reg__min_samples_split=2, reg__n_estimators=110; total time= 1.2min\n",
            "[CV] END .....reg__min_samples_split=3, reg__n_estimators=90; total time=  57.5s\n",
            "[CV] END .....reg__min_samples_split=3, reg__n_estimators=90; total time=  57.9s\n",
            "[CV] END .....reg__min_samples_split=3, reg__n_estimators=90; total time=  52.6s\n",
            "[CV] END .....reg__min_samples_split=3, reg__n_estimators=90; total time=  54.4s\n",
            "[CV] END .....reg__min_samples_split=3, reg__n_estimators=90; total time=  55.7s\n",
            "[CV] END ....reg__min_samples_split=3, reg__n_estimators=100; total time= 1.1min\n",
            "[CV] END ....reg__min_samples_split=3, reg__n_estimators=100; total time= 1.1min\n",
            "[CV] END ....reg__min_samples_split=3, reg__n_estimators=100; total time=  59.0s\n",
            "[CV] END ....reg__min_samples_split=3, reg__n_estimators=100; total time= 1.0min\n",
            "[CV] END ....reg__min_samples_split=3, reg__n_estimators=100; total time= 1.0min\n",
            "[CV] END ....reg__min_samples_split=3, reg__n_estimators=110; total time= 1.2min\n",
            "[CV] END ....reg__min_samples_split=3, reg__n_estimators=110; total time= 1.2min\n",
            "[CV] END ....reg__min_samples_split=3, reg__n_estimators=110; total time= 1.1min\n",
            "[CV] END ....reg__min_samples_split=3, reg__n_estimators=110; total time= 1.1min\n",
            "[CV] END ....reg__min_samples_split=3, reg__n_estimators=110; total time= 1.1min\n",
            "CPU times: user 32min 35s, sys: 2.2 s, total: 32min 38s\n",
            "Wall time: 32min 38s\n"
          ]
        },
        {
          "output_type": "execute_result",
          "data": {
            "text/plain": [
              "GridSearchCV(estimator=Pipeline(steps=[('scaler', StandardScaler()),\n",
              "                                       ('reg',\n",
              "                                        RandomForestRegressor(random_state=42))]),\n",
              "             param_grid={'reg__min_samples_split': [2, 3],\n",
              "                         'reg__n_estimators': [90, 100, 110]},\n",
              "             scoring=make_scorer(smape_t, greater_is_better=False), verbose=2)"
            ]
          },
          "metadata": {},
          "execution_count": 367
        }
      ],
      "source": [
        "%%time\n",
        "rf_grid.fit(X_train, y_train)"
      ]
    },
    {
      "cell_type": "code",
      "execution_count": 368,
      "metadata": {
        "id": "kw-Ob7pQs0Q1"
      },
      "outputs": [],
      "source": [
        "scores = pd.DataFrame()"
      ]
    },
    {
      "cell_type": "code",
      "execution_count": 369,
      "metadata": {
        "id": "V43syxD7s33L"
      },
      "outputs": [],
      "source": [
        "scores['rf'] = cross_val_score(rf_grid.best_estimator_, X_train, \n",
        "                               y_train, scoring=smape_scorer)"
      ]
    },
    {
      "cell_type": "code",
      "execution_count": 370,
      "metadata": {
        "colab": {
          "base_uri": "https://localhost:8080/"
        },
        "id": "YPh5r-ixUCpJ",
        "outputId": "6d172243-03e8-4cd7-d4ba-5001f6963592"
      },
      "outputs": [
        {
          "output_type": "execute_result",
          "data": {
            "text/plain": [
              "8.255813880248436"
            ]
          },
          "metadata": {},
          "execution_count": 370
        }
      ],
      "source": [
        "smape_t(y_test, rf_grid.best_estimator_.predict(X_test))"
      ]
    },
    {
      "cell_type": "code",
      "execution_count": 371,
      "metadata": {
        "id": "_AL8Oyk8HgOh"
      },
      "outputs": [],
      "source": [
        "knn_grid = GridSearchCV(estimator=knn_pipeline, \n",
        "                        param_grid=knn_params, \n",
        "                        scoring=smape_scorer, verbose=2)"
      ]
    },
    {
      "cell_type": "code",
      "execution_count": 372,
      "metadata": {
        "colab": {
          "base_uri": "https://localhost:8080/"
        },
        "id": "sui0zmcKHgfq",
        "outputId": "4bdf6372-cbef-4da7-9515-d071ecaef8b1"
      },
      "outputs": [
        {
          "output_type": "stream",
          "name": "stdout",
          "text": [
            "Fitting 5 folds for each of 4 candidates, totalling 20 fits\n",
            "[CV] END .................................reg__n_neighbors=3; total time=   0.6s\n",
            "[CV] END .................................reg__n_neighbors=3; total time=   0.5s\n",
            "[CV] END .................................reg__n_neighbors=3; total time=   0.5s\n",
            "[CV] END .................................reg__n_neighbors=3; total time=   0.5s\n",
            "[CV] END .................................reg__n_neighbors=3; total time=   0.5s\n",
            "[CV] END .................................reg__n_neighbors=4; total time=   0.5s\n",
            "[CV] END .................................reg__n_neighbors=4; total time=   0.5s\n",
            "[CV] END .................................reg__n_neighbors=4; total time=   0.5s\n",
            "[CV] END .................................reg__n_neighbors=4; total time=   0.5s\n",
            "[CV] END .................................reg__n_neighbors=4; total time=   0.5s\n",
            "[CV] END .................................reg__n_neighbors=5; total time=   0.5s\n",
            "[CV] END .................................reg__n_neighbors=5; total time=   0.5s\n",
            "[CV] END .................................reg__n_neighbors=5; total time=   0.5s\n",
            "[CV] END .................................reg__n_neighbors=5; total time=   0.5s\n",
            "[CV] END .................................reg__n_neighbors=5; total time=   0.5s\n",
            "[CV] END .................................reg__n_neighbors=6; total time=   0.5s\n",
            "[CV] END .................................reg__n_neighbors=6; total time=   0.5s\n",
            "[CV] END .................................reg__n_neighbors=6; total time=   0.5s\n",
            "[CV] END .................................reg__n_neighbors=6; total time=   0.5s\n",
            "[CV] END .................................reg__n_neighbors=6; total time=   0.5s\n",
            "CPU times: user 12.2 s, sys: 2.24 s, total: 14.5 s\n",
            "Wall time: 9.8 s\n"
          ]
        },
        {
          "output_type": "execute_result",
          "data": {
            "text/plain": [
              "GridSearchCV(estimator=Pipeline(steps=[('scaler', MinMaxScaler()),\n",
              "                                       ('reg', KNeighborsRegressor())]),\n",
              "             param_grid={'reg__n_neighbors': [3, 4, 5, 6]},\n",
              "             scoring=make_scorer(smape_t, greater_is_better=False), verbose=2)"
            ]
          },
          "metadata": {},
          "execution_count": 372
        }
      ],
      "source": [
        "%%time\n",
        "knn_grid.fit(X_train, y_train)"
      ]
    },
    {
      "cell_type": "code",
      "execution_count": 373,
      "metadata": {
        "id": "cVBmQtFmtLXq"
      },
      "outputs": [],
      "source": [
        "scores['knn'] = cross_val_score(knn_grid.best_estimator_, X_train, \n",
        "                                y_train, scoring=smape_scorer)"
      ]
    },
    {
      "cell_type": "code",
      "execution_count": 374,
      "metadata": {
        "colab": {
          "base_uri": "https://localhost:8080/"
        },
        "id": "vqe9rdmUUs6B",
        "outputId": "1889a058-6a72-49d5-d082-e99d63fde698"
      },
      "outputs": [
        {
          "output_type": "execute_result",
          "data": {
            "text/plain": [
              "7.3986016007022615"
            ]
          },
          "metadata": {},
          "execution_count": 374
        }
      ],
      "source": [
        "smape_t(y_test, knn_grid.best_estimator_.predict(X_test))"
      ]
    },
    {
      "cell_type": "code",
      "execution_count": 375,
      "metadata": {
        "colab": {
          "base_uri": "https://localhost:8080/"
        },
        "id": "Sg5wj9vJDtT9",
        "outputId": "f4b41ff7-d729-430c-e7a9-5c3704063ba6"
      },
      "outputs": [
        {
          "output_type": "execute_result",
          "data": {
            "text/plain": [
              "Pipeline(steps=[('scaler', StandardScaler()), ('reg', LinearRegression())])"
            ]
          },
          "metadata": {},
          "execution_count": 375
        }
      ],
      "source": [
        "lr_pipeline.fit(X_train, y_train)"
      ]
    },
    {
      "cell_type": "code",
      "execution_count": 376,
      "metadata": {
        "id": "An3t0Kvru2QX"
      },
      "outputs": [],
      "source": [
        "scores['lr'] = cross_val_score(lr_pipeline, X_train, \n",
        "                               y_train, scoring=smape_scorer)"
      ]
    },
    {
      "cell_type": "code",
      "execution_count": 377,
      "metadata": {
        "colab": {
          "base_uri": "https://localhost:8080/"
        },
        "id": "EHmjlEgdEJ-k",
        "outputId": "c4f25c62-ca40-46bb-b622-53d036546633"
      },
      "outputs": [
        {
          "output_type": "execute_result",
          "data": {
            "text/plain": [
              "7.697982081429092"
            ]
          },
          "metadata": {},
          "execution_count": 377
        }
      ],
      "source": [
        "smape_t(y_test, lr_pipeline.predict(X_test))"
      ]
    },
    {
      "cell_type": "code",
      "execution_count": 378,
      "metadata": {
        "id": "iPp6UwJiLuPh"
      },
      "outputs": [],
      "source": [
        "ls_grid = GridSearchCV(estimator=ls_pipeline, \n",
        "                        param_grid=ls_params, \n",
        "                        scoring=smape_scorer, verbose=2)"
      ]
    },
    {
      "cell_type": "code",
      "execution_count": 379,
      "metadata": {
        "colab": {
          "base_uri": "https://localhost:8080/"
        },
        "id": "cBw6lQgsLya-",
        "outputId": "e962abcf-e741-48a3-f037-c976bfa04631"
      },
      "outputs": [
        {
          "output_type": "stream",
          "name": "stdout",
          "text": [
            "Fitting 5 folds for each of 9 candidates, totalling 45 fits\n",
            "[CV] END ..................reg__alpha=0.9, reg__max_iter=900; total time=   0.1s\n",
            "[CV] END ..................reg__alpha=0.9, reg__max_iter=900; total time=   0.1s\n",
            "[CV] END ..................reg__alpha=0.9, reg__max_iter=900; total time=   0.0s\n",
            "[CV] END ..................reg__alpha=0.9, reg__max_iter=900; total time=   0.1s\n",
            "[CV] END ..................reg__alpha=0.9, reg__max_iter=900; total time=   0.1s\n",
            "[CV] END .................reg__alpha=0.9, reg__max_iter=1000; total time=   0.1s\n",
            "[CV] END .................reg__alpha=0.9, reg__max_iter=1000; total time=   0.1s\n",
            "[CV] END .................reg__alpha=0.9, reg__max_iter=1000; total time=   0.0s\n",
            "[CV] END .................reg__alpha=0.9, reg__max_iter=1000; total time=   0.1s\n",
            "[CV] END .................reg__alpha=0.9, reg__max_iter=1000; total time=   0.0s\n",
            "[CV] END .................reg__alpha=0.9, reg__max_iter=1100; total time=   0.1s\n",
            "[CV] END .................reg__alpha=0.9, reg__max_iter=1100; total time=   0.1s\n",
            "[CV] END .................reg__alpha=0.9, reg__max_iter=1100; total time=   0.0s\n",
            "[CV] END .................reg__alpha=0.9, reg__max_iter=1100; total time=   0.0s\n",
            "[CV] END .................reg__alpha=0.9, reg__max_iter=1100; total time=   0.0s\n",
            "[CV] END ..................reg__alpha=1.0, reg__max_iter=900; total time=   0.1s\n",
            "[CV] END ..................reg__alpha=1.0, reg__max_iter=900; total time=   0.1s\n",
            "[CV] END ..................reg__alpha=1.0, reg__max_iter=900; total time=   0.0s\n",
            "[CV] END ..................reg__alpha=1.0, reg__max_iter=900; total time=   0.1s\n",
            "[CV] END ..................reg__alpha=1.0, reg__max_iter=900; total time=   0.1s\n",
            "[CV] END .................reg__alpha=1.0, reg__max_iter=1000; total time=   0.1s\n",
            "[CV] END .................reg__alpha=1.0, reg__max_iter=1000; total time=   0.1s\n",
            "[CV] END .................reg__alpha=1.0, reg__max_iter=1000; total time=   0.0s\n",
            "[CV] END .................reg__alpha=1.0, reg__max_iter=1000; total time=   0.1s\n",
            "[CV] END .................reg__alpha=1.0, reg__max_iter=1000; total time=   0.0s\n",
            "[CV] END .................reg__alpha=1.0, reg__max_iter=1100; total time=   0.1s\n",
            "[CV] END .................reg__alpha=1.0, reg__max_iter=1100; total time=   0.1s\n",
            "[CV] END .................reg__alpha=1.0, reg__max_iter=1100; total time=   0.0s\n",
            "[CV] END .................reg__alpha=1.0, reg__max_iter=1100; total time=   0.1s\n",
            "[CV] END .................reg__alpha=1.0, reg__max_iter=1100; total time=   0.0s\n",
            "[CV] END ..................reg__alpha=1.1, reg__max_iter=900; total time=   0.1s\n",
            "[CV] END ..................reg__alpha=1.1, reg__max_iter=900; total time=   0.1s\n",
            "[CV] END ..................reg__alpha=1.1, reg__max_iter=900; total time=   0.0s\n",
            "[CV] END ..................reg__alpha=1.1, reg__max_iter=900; total time=   0.1s\n",
            "[CV] END ..................reg__alpha=1.1, reg__max_iter=900; total time=   0.1s\n",
            "[CV] END .................reg__alpha=1.1, reg__max_iter=1000; total time=   0.1s\n",
            "[CV] END .................reg__alpha=1.1, reg__max_iter=1000; total time=   0.1s\n",
            "[CV] END .................reg__alpha=1.1, reg__max_iter=1000; total time=   0.0s\n",
            "[CV] END .................reg__alpha=1.1, reg__max_iter=1000; total time=   0.0s\n",
            "[CV] END .................reg__alpha=1.1, reg__max_iter=1000; total time=   0.0s\n",
            "[CV] END .................reg__alpha=1.1, reg__max_iter=1100; total time=   0.1s\n",
            "[CV] END .................reg__alpha=1.1, reg__max_iter=1100; total time=   0.1s\n",
            "[CV] END .................reg__alpha=1.1, reg__max_iter=1100; total time=   0.0s\n",
            "[CV] END .................reg__alpha=1.1, reg__max_iter=1100; total time=   0.0s\n",
            "[CV] END .................reg__alpha=1.1, reg__max_iter=1100; total time=   0.0s\n",
            "CPU times: user 3.13 s, sys: 1.85 s, total: 4.98 s\n",
            "Wall time: 2.64 s\n"
          ]
        },
        {
          "output_type": "execute_result",
          "data": {
            "text/plain": [
              "GridSearchCV(estimator=Pipeline(steps=[('scaler', StandardScaler()),\n",
              "                                       ('reg', MultiTaskLasso())]),\n",
              "             param_grid={'reg__alpha': [0.9, 1.0, 1.1],\n",
              "                         'reg__max_iter': [900, 1000, 1100]},\n",
              "             scoring=make_scorer(smape_t, greater_is_better=False), verbose=2)"
            ]
          },
          "metadata": {},
          "execution_count": 379
        }
      ],
      "source": [
        "%%time\n",
        "ls_grid.fit(X_train, y_train)"
      ]
    },
    {
      "cell_type": "code",
      "execution_count": 380,
      "metadata": {
        "id": "UnVUSwU-u7l5"
      },
      "outputs": [],
      "source": [
        "scores['ls'] = cross_val_score(ls_grid.best_estimator_, X_train, \n",
        "                               y_train, scoring=smape_scorer)"
      ]
    },
    {
      "cell_type": "code",
      "execution_count": 381,
      "metadata": {
        "colab": {
          "base_uri": "https://localhost:8080/"
        },
        "id": "QiIPs4HbL3X5",
        "outputId": "1dd6114f-ef81-4138-e001-76d9b036526f"
      },
      "outputs": [
        {
          "output_type": "execute_result",
          "data": {
            "text/plain": [
              "6.367640296753096"
            ]
          },
          "metadata": {},
          "execution_count": 381
        }
      ],
      "source": [
        "smape_t(y_test, ls_grid.best_estimator_.predict(X_test))"
      ]
    },
    {
      "cell_type": "code",
      "execution_count": 382,
      "metadata": {
        "colab": {
          "base_uri": "https://localhost:8080/",
          "height": 899
        },
        "id": "_8SK6_kivCN9",
        "outputId": "56d60709-170b-463b-cf4c-dd93e9a0511d"
      },
      "outputs": [
        {
          "output_type": "display_data",
          "data": {
            "text/plain": [
              "<Figure size 1080x1080 with 1 Axes>"
            ],
            "image/png": "[encoded data removed]"
          },
          "metadata": {}
        }
      ],
      "source": [
        "cv_bp = sns.boxplot(data=scores, orient='h', showmeans=True, \n",
        "                    meanprops={'marker': 'x',\n",
        "                               'markeredgecolor': 'black',\n",
        "                               'markersize': '10'})\n",
        "cv_bp.set(title='Диаграмма размаха метрик на кросс-валидации',\n",
        "     xlabel='Значения метрики sMAPE');\n",
        "cv_bp.set_yticklabels(['Случайный лес', \n",
        "                     '$k$-ближайших соседей', \n",
        "                     'Линейная регрессия',\n",
        "                     'Лассо']);"
      ]
    },
    {
      "cell_type": "markdown",
      "metadata": {
        "id": "DSEU7hBaNRD_"
      },
      "source": [
        "Итак, рассматриваемые нами модели дали следующие значения метрики sMAPE на тестовой выборке:\n",
        "\n",
        "| Модель | Значение sMAPE |\n",
        "| ----------- | ----------- |\n",
        "| Случайный лес | 8.26 |\n",
        "| $k$-ближайших соседей | 7.40 | \n",
        "| Линейная регрессия | 7.70 | \n",
        "| Лассо | 6.37 | \n",
        "\n",
        "Попробуем применить для решения данной задачи CatBoost."
      ]
    },
    {
      "cell_type": "code",
      "execution_count": 383,
      "metadata": {
        "id": "IutVJmS2XpHC"
      },
      "outputs": [],
      "source": [
        "train_dataset = cb.Pool(X_train, y_train) \n",
        "test_dataset = cb.Pool(X_test, y_test)"
      ]
    },
    {
      "cell_type": "code",
      "execution_count": 384,
      "metadata": {
        "id": "eaf5ZIiVX3Ei"
      },
      "outputs": [],
      "source": [
        "model = cb.CatBoostRegressor(loss_function='MultiRMSE', verbose=False)"
      ]
    },
    {
      "cell_type": "code",
      "execution_count": 385,
      "metadata": {
        "id": "0gY69nOIYG2n"
      },
      "outputs": [],
      "source": [
        "grid = {'iterations': [100, 150, 200],\n",
        "        'learning_rate': [0.03, 0.1],\n",
        "        'depth': [2, 4, 6, 8],\n",
        "        'l2_leaf_reg': [0.2, 0.5, 1, 3]}"
      ]
    },
    {
      "cell_type": "code",
      "execution_count": 386,
      "metadata": {
        "colab": {
          "base_uri": "https://localhost:8080/"
        },
        "id": "YZVxWX-fYKLJ",
        "outputId": "6585d809-eee8-46f2-9980-c9abe3c9cacc",
        "scrolled": true
      },
      "outputs": [
        {
          "output_type": "stream",
          "name": "stdout",
          "text": [
            "\n",
            "bestTest = 11.55098508\n",
            "bestIteration = 99\n",
            "\n",
            "0:\tloss: 11.5509851\tbest: 11.5509851 (0)\ttotal: 718ms\tremaining: 1m 8s\n",
            "\n",
            "bestTest = 8.946581017\n",
            "bestIteration = 99\n",
            "\n",
            "\n",
            "bestTest = 11.55182028\n",
            "bestIteration = 99\n",
            "\n",
            "\n",
            "bestTest = 8.947897271\n",
            "bestIteration = 99\n",
            "\n",
            "\n",
            "bestTest = 11.55708263\n",
            "bestIteration = 99\n",
            "\n",
            "\n",
            "bestTest = 8.937479286\n",
            "bestIteration = 99\n",
            "\n",
            "\n",
            "bestTest = 11.57054526\n",
            "bestIteration = 99\n",
            "\n",
            "\n",
            "bestTest = 8.955989639\n",
            "bestIteration = 99\n",
            "\n",
            "\n",
            "bestTest = 9.748015875\n",
            "bestIteration = 149\n",
            "\n",
            "\n",
            "bestTest = 8.709614487\n",
            "bestIteration = 149\n",
            "\n",
            "\n",
            "bestTest = 9.749019763\n",
            "bestIteration = 149\n",
            "\n",
            "\n",
            "bestTest = 8.709813066\n",
            "bestIteration = 149\n",
            "\n",
            "\n",
            "bestTest = 9.747359807\n",
            "bestIteration = 149\n",
            "\n",
            "\n",
            "bestTest = 8.700518395\n",
            "bestIteration = 149\n",
            "\n",
            "\n",
            "bestTest = 9.759509458\n",
            "bestIteration = 149\n",
            "\n",
            "\n",
            "bestTest = 8.68708395\n",
            "bestIteration = 149\n",
            "\n",
            "\n",
            "bestTest = 9.374896589\n",
            "bestIteration = 199\n",
            "\n",
            "\n",
            "bestTest = 8.513707578\n",
            "bestIteration = 199\n",
            "\n",
            "\n",
            "bestTest = 9.376330911\n",
            "bestIteration = 199\n",
            "\n",
            "\n",
            "bestTest = 8.518382606\n",
            "bestIteration = 199\n",
            "\n",
            "\n",
            "bestTest = 9.371317957\n",
            "bestIteration = 199\n",
            "\n",
            "\n",
            "bestTest = 8.511661716\n",
            "bestIteration = 199\n",
            "\n",
            "\n",
            "bestTest = 9.385013456\n",
            "bestIteration = 199\n",
            "\n",
            "\n",
            "bestTest = 8.506940765\n",
            "bestIteration = 199\n",
            "\n",
            "\n",
            "bestTest = 10.99654612\n",
            "bestIteration = 99\n",
            "\n",
            "\n",
            "bestTest = 8.356251704\n",
            "bestIteration = 99\n",
            "\n",
            "\n",
            "bestTest = 10.99991131\n",
            "bestIteration = 99\n",
            "\n",
            "\n",
            "bestTest = 8.36713708\n",
            "bestIteration = 99\n",
            "\n",
            "\n",
            "bestTest = 11.00293082\n",
            "bestIteration = 99\n",
            "\n",
            "\n",
            "bestTest = 8.335488699\n",
            "bestIteration = 99\n",
            "\n",
            "\n",
            "bestTest = 11.01985066\n",
            "bestIteration = 99\n",
            "\n",
            "\n",
            "bestTest = 8.368671155\n",
            "bestIteration = 99\n",
            "\n",
            "\n",
            "bestTest = 9.098545384\n",
            "bestIteration = 149\n",
            "\n",
            "\n",
            "bestTest = 8.053063535\n",
            "bestIteration = 149\n",
            "\n",
            "\n",
            "bestTest = 9.103154348\n",
            "bestIteration = 149\n",
            "\n",
            "\n",
            "bestTest = 8.035784337\n",
            "bestIteration = 149\n",
            "\n",
            "\n",
            "bestTest = 9.10731884\n",
            "bestIteration = 149\n",
            "\n",
            "\n",
            "bestTest = 8.05219178\n",
            "bestIteration = 149\n",
            "\n",
            "\n",
            "bestTest = 9.124816242\n",
            "bestIteration = 149\n",
            "\n",
            "\n",
            "bestTest = 8.023730049\n",
            "bestIteration = 149\n",
            "\n",
            "\n",
            "bestTest = 8.712978008\n",
            "bestIteration = 199\n",
            "\n",
            "\n",
            "bestTest = 7.825166885\n",
            "bestIteration = 199\n",
            "\n",
            "\n",
            "bestTest = 8.73347802\n",
            "bestIteration = 199\n",
            "\n",
            "\n",
            "bestTest = 7.838129599\n",
            "bestIteration = 199\n",
            "\n",
            "\n",
            "bestTest = 8.726265036\n",
            "bestIteration = 199\n",
            "\n",
            "\n",
            "bestTest = 7.867425687\n",
            "bestIteration = 199\n",
            "\n",
            "\n",
            "bestTest = 8.753953319\n",
            "bestIteration = 199\n",
            "\n",
            "\n",
            "bestTest = 7.828589146\n",
            "bestIteration = 199\n",
            "\n",
            "\n",
            "bestTest = 10.6527632\n",
            "bestIteration = 99\n",
            "\n",
            "\n",
            "bestTest = 7.786345252\n",
            "bestIteration = 99\n",
            "\n",
            "\n",
            "bestTest = 10.6642919\n",
            "bestIteration = 99\n",
            "\n",
            "\n",
            "bestTest = 7.804510364\n",
            "bestIteration = 99\n",
            "\n",
            "\n",
            "bestTest = 10.68500002\n",
            "bestIteration = 99\n",
            "\n",
            "\n",
            "bestTest = 7.821202213\n",
            "bestIteration = 99\n",
            "\n",
            "\n",
            "bestTest = 10.75242354\n",
            "bestIteration = 99\n",
            "\n",
            "\n",
            "bestTest = 7.92086303\n",
            "bestIteration = 99\n",
            "\n",
            "\n",
            "bestTest = 8.654911752\n",
            "bestIteration = 149\n",
            "\n",
            "\n",
            "bestTest = 7.434282142\n",
            "bestIteration = 149\n",
            "\n",
            "\n",
            "bestTest = 8.657132398\n",
            "bestIteration = 149\n",
            "\n",
            "\n",
            "bestTest = 7.460826326\n",
            "bestIteration = 149\n",
            "\n",
            "\n",
            "bestTest = 8.67924267\n",
            "bestIteration = 149\n",
            "\n",
            "\n",
            "bestTest = 7.482299199\n",
            "bestIteration = 149\n",
            "\n",
            "\n",
            "bestTest = 8.711771351\n",
            "bestIteration = 149\n",
            "\n",
            "\n",
            "bestTest = 7.589026236\n",
            "bestIteration = 149\n",
            "\n",
            "\n",
            "bestTest = 8.248231479\n",
            "bestIteration = 199\n",
            "\n",
            "\n",
            "bestTest = 7.21739909\n",
            "bestIteration = 199\n",
            "\n",
            "\n",
            "bestTest = 8.245068154\n",
            "bestIteration = 199\n",
            "\n",
            "\n",
            "bestTest = 7.219060214\n",
            "bestIteration = 199\n",
            "\n",
            "\n",
            "bestTest = 8.283644647\n",
            "bestIteration = 199\n",
            "\n",
            "\n",
            "bestTest = 7.262088859\n",
            "bestIteration = 199\n",
            "\n",
            "\n",
            "bestTest = 8.30826774\n",
            "bestIteration = 199\n",
            "\n",
            "\n",
            "bestTest = 7.356860366\n",
            "bestIteration = 199\n",
            "\n",
            "\n",
            "bestTest = 10.32621382\n",
            "bestIteration = 99\n",
            "\n",
            "\n",
            "bestTest = 7.439682509\n",
            "bestIteration = 99\n",
            "\n",
            "\n",
            "bestTest = 10.35318226\n",
            "bestIteration = 99\n",
            "\n",
            "\n",
            "bestTest = 7.444552024\n",
            "bestIteration = 99\n",
            "\n",
            "\n",
            "bestTest = 10.41136792\n",
            "bestIteration = 99\n",
            "\n",
            "\n",
            "bestTest = 7.465977119\n",
            "bestIteration = 99\n",
            "\n",
            "\n",
            "bestTest = 10.63084338\n",
            "bestIteration = 99\n",
            "\n",
            "\n",
            "bestTest = 7.629587188\n",
            "bestIteration = 99\n",
            "\n",
            "\n",
            "bestTest = 8.20645062\n",
            "bestIteration = 149\n",
            "\n",
            "\n",
            "bestTest = 7.105934062\n",
            "bestIteration = 149\n",
            "\n",
            "\n",
            "bestTest = 8.224545755\n",
            "bestIteration = 149\n",
            "\n",
            "\n",
            "bestTest = 7.123027558\n",
            "bestIteration = 149\n",
            "\n",
            "\n",
            "bestTest = 8.254401183\n",
            "bestIteration = 149\n",
            "\n",
            "\n",
            "bestTest = 7.136667719\n",
            "bestIteration = 148\n",
            "\n",
            "\n",
            "bestTest = 8.34305703\n",
            "bestIteration = 149\n",
            "\n",
            "\n",
            "bestTest = 7.310839836\n",
            "bestIteration = 149\n",
            "\n",
            "\n",
            "bestTest = 7.749315492\n",
            "bestIteration = 199\n",
            "\n",
            "\n",
            "bestTest = 6.953699713\n",
            "bestIteration = 199\n",
            "\n",
            "\n",
            "bestTest = 7.765551123\n",
            "bestIteration = 199\n",
            "\n",
            "\n",
            "bestTest = 6.960487459\n",
            "bestIteration = 199\n",
            "\n",
            "\n",
            "bestTest = 7.790520076\n",
            "bestIteration = 199\n",
            "\n",
            "\n",
            "bestTest = 6.967682873\n",
            "bestIteration = 199\n",
            "\n",
            "\n",
            "bestTest = 7.880133066\n",
            "bestIteration = 199\n",
            "\n",
            "\n",
            "bestTest = 7.143671997\n",
            "bestIteration = 199\n",
            "\n",
            "95:\tloss: 7.1436720\tbest: 6.9536997 (89)\ttotal: 8m 11s\tremaining: 0us\n",
            "Estimating final quality...\n",
            "Training on fold [0/3]\n",
            "\n",
            "bestTest = 7.200708033\n",
            "bestIteration = 199\n",
            "\n",
            "Training on fold [1/3]\n",
            "\n",
            "bestTest = 7.5033723\n",
            "bestIteration = 198\n",
            "\n",
            "Training on fold [2/3]\n",
            "\n",
            "bestTest = 7.136215542\n",
            "bestIteration = 199\n",
            "\n"
          ]
        },
        {
          "output_type": "execute_result",
          "data": {
            "text/plain": [
              "{'params': {'depth': 8,\n",
              "  'iterations': 200,\n",
              "  'learning_rate': 0.1,\n",
              "  'l2_leaf_reg': 0.2},\n",
              " 'cv_results': defaultdict(list,\n",
              "             {'iterations': [0,\n",
              "               1,\n",
              "               2,\n",
              "               3,\n",
              "               4,\n",
              "               5,\n",
              "               6,\n",
              "               7,\n",
              "               8,\n",
              "               9,\n",
              "               10,\n",
              "               11,\n",
              "               12,\n",
              "               13,\n",
              "               14,\n",
              "               15,\n",
              "               16,\n",
              "               17,\n",
              "               18,\n",
              "               19,\n",
              "               20,\n",
              "               21,\n",
              "               22,\n",
              "               23,\n",
              "               24,\n",
              "               25,\n",
              "               26,\n",
              "               27,\n",
              "               28,\n",
              "               29,\n",
              "               30,\n",
              "               31,\n",
              "               32,\n",
              "               33,\n",
              "               34,\n",
              "               35,\n",
              "               36,\n",
              "               37,\n",
              "               38,\n",
              "               39,\n",
              "               40,\n",
              "               41,\n",
              "               42,\n",
              "               43,\n",
              "               44,\n",
              "               45,\n",
              "               46,\n",
              "               47,\n",
              "               48,\n",
              "               49,\n",
              "               50,\n",
              "               51,\n",
              "               52,\n",
              "               53,\n",
              "               54,\n",
              "               55,\n",
              "               56,\n",
              "               57,\n",
              "               58,\n",
              "               59,\n",
              "               60,\n",
              "               61,\n",
              "               62,\n",
              "               63,\n",
              "               64,\n",
              "               65,\n",
              "               66,\n",
              "               67,\n",
              "               68,\n",
              "               69,\n",
              "               70,\n",
              "               71,\n",
              "               72,\n",
              "               73,\n",
              "               74,\n",
              "               75,\n",
              "               76,\n",
              "               77,\n",
              "               78,\n",
              "               79,\n",
              "               80,\n",
              "               81,\n",
              "               82,\n",
              "               83,\n",
              "               84,\n",
              "               85,\n",
              "               86,\n",
              "               87,\n",
              "               88,\n",
              "               89,\n",
              "               90,\n",
              "               91,\n",
              "               92,\n",
              "               93,\n",
              "               94,\n",
              "               95,\n",
              "               96,\n",
              "               97,\n",
              "               98,\n",
              "               99,\n",
              "               100,\n",
              "               101,\n",
              "               102,\n",
              "               103,\n",
              "               104,\n",
              "               105,\n",
              "               106,\n",
              "               107,\n",
              "               108,\n",
              "               109,\n",
              "               110,\n",
              "               111,\n",
              "               112,\n",
              "               113,\n",
              "               114,\n",
              "               115,\n",
              "               116,\n",
              "               117,\n",
              "               118,\n",
              "               119,\n",
              "               120,\n",
              "               121,\n",
              "               122,\n",
              "               123,\n",
              "               124,\n",
              "               125,\n",
              "               126,\n",
              "               127,\n",
              "               128,\n",
              "               129,\n",
              "               130,\n",
              "               131,\n",
              "               132,\n",
              "               133,\n",
              "               134,\n",
              "               135,\n",
              "               136,\n",
              "               137,\n",
              "               138,\n",
              "               139,\n",
              "               140,\n",
              "               141,\n",
              "               142,\n",
              "               143,\n",
              "               144,\n",
              "               145,\n",
              "               146,\n",
              "               147,\n",
              "               148,\n",
              "               149,\n",
              "               150,\n",
              "               151,\n",
              "               152,\n",
              "               153,\n",
              "               154,\n",
              "               155,\n",
              "               156,\n",
              "               157,\n",
              "               158,\n",
              "               159,\n",
              "               160,\n",
              "               161,\n",
              "               162,\n",
              "               163,\n",
              "               164,\n",
              "               165,\n",
              "               166,\n",
              "               167,\n",
              "               168,\n",
              "               169,\n",
              "               170,\n",
              "               171,\n",
              "               172,\n",
              "               173,\n",
              "               174,\n",
              "               175,\n",
              "               176,\n",
              "               177,\n",
              "               178,\n",
              "               179,\n",
              "               180,\n",
              "               181,\n",
              "               182,\n",
              "               183,\n",
              "               184,\n",
              "               185,\n",
              "               186,\n",
              "               187,\n",
              "               188,\n",
              "               189,\n",
              "               190,\n",
              "               191,\n",
              "               192,\n",
              "               193,\n",
              "               194,\n",
              "               195,\n",
              "               196,\n",
              "               197,\n",
              "               198,\n",
              "               199],\n",
              "              'test-MultiRMSE-mean': [97.73869171634293,\n",
              "               88.11910804389616,\n",
              "               79.50253598042381,\n",
              "               71.7262342808013,\n",
              "               64.76718877993919,\n",
              "               58.502329602181646,\n",
              "               52.86016178902395,\n",
              "               47.808227763619946,\n",
              "               43.26699996082698,\n",
              "               39.20373025976048,\n",
              "               35.55954161531063,\n",
              "               32.31892484495863,\n",
              "               29.43156321726737,\n",
              "               26.856555281364592,\n",
              "               24.542109607390444,\n",
              "               22.50291583749546,\n",
              "               20.677716435415245,\n",
              "               19.0738864197599,\n",
              "               17.673228182379237,\n",
              "               16.41434725586878,\n",
              "               15.325964789583699,\n",
              "               14.355703195868346,\n",
              "               13.522034579540188,\n",
              "               12.817962782152776,\n",
              "               12.189139438245489,\n",
              "               11.640014532257224,\n",
              "               11.189766255178634,\n",
              "               10.758759100895565,\n",
              "               10.403165769200372,\n",
              "               10.085465787337467,\n",
              "               9.842581561078903,\n",
              "               9.615287893887041,\n",
              "               9.439822710218044,\n",
              "               9.270790927916815,\n",
              "               9.13800356333063,\n",
              "               9.01250048643694,\n",
              "               8.901712944214298,\n",
              "               8.814839623158733,\n",
              "               8.73533637562294,\n",
              "               8.656299577852886,\n",
              "               8.587666433558825,\n",
              "               8.535790844353366,\n",
              "               8.48454938026019,\n",
              "               8.442682976740569,\n",
              "               8.404288447414908,\n",
              "               8.370148028992146,\n",
              "               8.333911459247089,\n",
              "               8.303309575594577,\n",
              "               8.275834013218697,\n",
              "               8.259027841755708,\n",
              "               8.240558418869004,\n",
              "               8.219255465707683,\n",
              "               8.202164173149944,\n",
              "               8.180454447956018,\n",
              "               8.169895870731116,\n",
              "               8.145038835926405,\n",
              "               8.129318832095796,\n",
              "               8.11699499418314,\n",
              "               8.099315506240401,\n",
              "               8.086290918634463,\n",
              "               8.05699040048949,\n",
              "               8.038620497904033,\n",
              "               8.020554253442489,\n",
              "               8.001324468371903,\n",
              "               7.9889429110703505,\n",
              "               7.978184809958269,\n",
              "               7.965746137667002,\n",
              "               7.955601159260911,\n",
              "               7.945810854803273,\n",
              "               7.937275042296533,\n",
              "               7.925506294194257,\n",
              "               7.912575658818838,\n",
              "               7.903467535585047,\n",
              "               7.893812423302392,\n",
              "               7.878296736985458,\n",
              "               7.86932873366188,\n",
              "               7.8594862239262335,\n",
              "               7.8521131817826815,\n",
              "               7.841224932479314,\n",
              "               7.827174672838191,\n",
              "               7.817631055218382,\n",
              "               7.811647657031995,\n",
              "               7.803482258362892,\n",
              "               7.796596158836512,\n",
              "               7.783934144346922,\n",
              "               7.773947387039975,\n",
              "               7.770864362016773,\n",
              "               7.7634096494924725,\n",
              "               7.751439610475967,\n",
              "               7.7433229072344005,\n",
              "               7.730696476666601,\n",
              "               7.724725502062107,\n",
              "               7.716261631580203,\n",
              "               7.711396576395901,\n",
              "               7.706547986344312,\n",
              "               7.700274057538938,\n",
              "               7.695554218306698,\n",
              "               7.688950803948528,\n",
              "               7.679996761750171,\n",
              "               7.672501548207717,\n",
              "               7.664689565709491,\n",
              "               7.660866481166862,\n",
              "               7.6573347914901895,\n",
              "               7.651655253150956,\n",
              "               7.642233404465628,\n",
              "               7.636001039698141,\n",
              "               7.6319382816537304,\n",
              "               7.6259487161737916,\n",
              "               7.6215058215715,\n",
              "               7.614651242660017,\n",
              "               7.611614079113523,\n",
              "               7.607830756635216,\n",
              "               7.6022222074389205,\n",
              "               7.598473866811607,\n",
              "               7.593121479710327,\n",
              "               7.585877893749973,\n",
              "               7.580501358544787,\n",
              "               7.574421357488341,\n",
              "               7.567515274785127,\n",
              "               7.561164705638369,\n",
              "               7.557666980184145,\n",
              "               7.551724497058035,\n",
              "               7.543377563195084,\n",
              "               7.538689614622591,\n",
              "               7.532166863647795,\n",
              "               7.527478488584095,\n",
              "               7.524999303597423,\n",
              "               7.519951324609995,\n",
              "               7.515595010463287,\n",
              "               7.510486621166538,\n",
              "               7.507270197731114,\n",
              "               7.503360595303231,\n",
              "               7.501070559962462,\n",
              "               7.495435343461985,\n",
              "               7.491415834503527,\n",
              "               7.487388460393078,\n",
              "               7.481517179630522,\n",
              "               7.473997652515286,\n",
              "               7.470463035600723,\n",
              "               7.465571933390298,\n",
              "               7.462000827206438,\n",
              "               7.456873396268835,\n",
              "               7.450579050555677,\n",
              "               7.447365471146625,\n",
              "               7.446686780554437,\n",
              "               7.44250877264574,\n",
              "               7.437867371165395,\n",
              "               7.435874259350018,\n",
              "               7.4330811975632365,\n",
              "               7.430347565928666,\n",
              "               7.426521268536907,\n",
              "               7.424599875488865,\n",
              "               7.420132727523416,\n",
              "               7.416960679687289,\n",
              "               7.413835423232079,\n",
              "               7.411052036273386,\n",
              "               7.406528417844179,\n",
              "               7.403471653222258,\n",
              "               7.4009982935407,\n",
              "               7.397881070944805,\n",
              "               7.393661470046811,\n",
              "               7.391110237840912,\n",
              "               7.3863066588647515,\n",
              "               7.381803201853576,\n",
              "               7.379738327275745,\n",
              "               7.376819762599198,\n",
              "               7.373694018778914,\n",
              "               7.371564069774027,\n",
              "               7.370265544312889,\n",
              "               7.365767267337787,\n",
              "               7.364033010423667,\n",
              "               7.363426778637532,\n",
              "               7.3591542756785016,\n",
              "               7.355791028696445,\n",
              "               7.352015577546887,\n",
              "               7.349998152216649,\n",
              "               7.347949446698439,\n",
              "               7.341302389151271,\n",
              "               7.335701010842269,\n",
              "               7.334394561346223,\n",
              "               7.3308784209577,\n",
              "               7.330382474283538,\n",
              "               7.328077893587927,\n",
              "               7.326865112244808,\n",
              "               7.32542574846876,\n",
              "               7.319090312623892,\n",
              "               7.317005062287674,\n",
              "               7.313743067077564,\n",
              "               7.308278158930122,\n",
              "               7.305030311048061,\n",
              "               7.300823463114974,\n",
              "               7.299269639482699,\n",
              "               7.2967045062348115,\n",
              "               7.294480641870872,\n",
              "               7.2924554957073795,\n",
              "               7.290632514234479,\n",
              "               7.287189433511635,\n",
              "               7.2848047597051915,\n",
              "               7.282629554885033,\n",
              "               7.28023449813854],\n",
              "              'test-MultiRMSE-std': [0.2127521414723636,\n",
              "               0.20792103220133326,\n",
              "               0.20960666461235802,\n",
              "               0.2171621263189702,\n",
              "               0.22661481664852612,\n",
              "               0.2395402409249383,\n",
              "               0.24519342572539904,\n",
              "               0.24914760599878727,\n",
              "               0.24813861500954035,\n",
              "               0.24875079818821486,\n",
              "               0.24937863696093293,\n",
              "               0.2523973337435024,\n",
              "               0.253603874444299,\n",
              "               0.2568250254652569,\n",
              "               0.2612849540332524,\n",
              "               0.26449264814807516,\n",
              "               0.2670880617853519,\n",
              "               0.27374486411345794,\n",
              "               0.2761949063599439,\n",
              "               0.2883084917866548,\n",
              "               0.2981782719830519,\n",
              "               0.2986811447754156,\n",
              "               0.2892776239166639,\n",
              "               0.2862995941104968,\n",
              "               0.2922758541907303,\n",
              "               0.2943101145484575,\n",
              "               0.29180292077650405,\n",
              "               0.28226749972626536,\n",
              "               0.29022115633019,\n",
              "               0.2986066631238257,\n",
              "               0.3052164131004033,\n",
              "               0.29891684288764886,\n",
              "               0.2939303167000535,\n",
              "               0.2850228141825904,\n",
              "               0.2862233618544574,\n",
              "               0.28075371894532325,\n",
              "               0.2765393515241369,\n",
              "               0.26920305743905876,\n",
              "               0.2604389128836012,\n",
              "               0.2584146829053496,\n",
              "               0.26368975502576236,\n",
              "               0.27454753158910555,\n",
              "               0.2693053506320671,\n",
              "               0.2610896678937525,\n",
              "               0.26506687039621457,\n",
              "               0.25469742472989854,\n",
              "               0.24532166522125032,\n",
              "               0.2456458897375782,\n",
              "               0.24277329552202573,\n",
              "               0.2337418958357971,\n",
              "               0.22737006567183704,\n",
              "               0.22613587119359724,\n",
              "               0.22617657006717085,\n",
              "               0.215780355294937,\n",
              "               0.21565852850547068,\n",
              "               0.2078355812280062,\n",
              "               0.20775600265413352,\n",
              "               0.20598034772772114,\n",
              "               0.20072572027851276,\n",
              "               0.20294084455863773,\n",
              "               0.2054613302161946,\n",
              "               0.20091952952574751,\n",
              "               0.20673497092914642,\n",
              "               0.20898424291361756,\n",
              "               0.20828582638795134,\n",
              "               0.21060085738287876,\n",
              "               0.20458994971554534,\n",
              "               0.20472133185889668,\n",
              "               0.2042782926875946,\n",
              "               0.20538031381093985,\n",
              "               0.2056668908960262,\n",
              "               0.20173211420808784,\n",
              "               0.19884761270678908,\n",
              "               0.19821589679662124,\n",
              "               0.19909309030333378,\n",
              "               0.2018784585003166,\n",
              "               0.2075615102966535,\n",
              "               0.20331497903472343,\n",
              "               0.2029835057879171,\n",
              "               0.20355503869397212,\n",
              "               0.19908674580109958,\n",
              "               0.2026947969486696,\n",
              "               0.20293942480652946,\n",
              "               0.20022691784149896,\n",
              "               0.19474081414540115,\n",
              "               0.19404013603867945,\n",
              "               0.19612336422030593,\n",
              "               0.19609812578271107,\n",
              "               0.19470919012620447,\n",
              "               0.19049837994800561,\n",
              "               0.18505885428025684,\n",
              "               0.18086541961866115,\n",
              "               0.1786644773109318,\n",
              "               0.18118610477465288,\n",
              "               0.18235255274544834,\n",
              "               0.18510241288598617,\n",
              "               0.18690871698020503,\n",
              "               0.18357449630171904,\n",
              "               0.18798255095977548,\n",
              "               0.18870356577272648,\n",
              "               0.1884595958559781,\n",
              "               0.1868977966073293,\n",
              "               0.1848765282250303,\n",
              "               0.18369702186831968,\n",
              "               0.18802252338768974,\n",
              "               0.18766571399614243,\n",
              "               0.18672973107287025,\n",
              "               0.1822510850622998,\n",
              "               0.17854636007518837,\n",
              "               0.1802936321392668,\n",
              "               0.17880259830670345,\n",
              "               0.17391389209357294,\n",
              "               0.1713299377936558,\n",
              "               0.17023021168820926,\n",
              "               0.17063814765701088,\n",
              "               0.17735599639261238,\n",
              "               0.17818293323356812,\n",
              "               0.17760740480705164,\n",
              "               0.17936209599475494,\n",
              "               0.17951995459480738,\n",
              "               0.17985126000042478,\n",
              "               0.17437913005930364,\n",
              "               0.17584221064552752,\n",
              "               0.17477906158937204,\n",
              "               0.17104384441019974,\n",
              "               0.16813500228117895,\n",
              "               0.1699088611724992,\n",
              "               0.17178881720437972,\n",
              "               0.17658522154488002,\n",
              "               0.1767518268291101,\n",
              "               0.17630899550057738,\n",
              "               0.17702473895630738,\n",
              "               0.17838839464779546,\n",
              "               0.17675364128563353,\n",
              "               0.17604784530077375,\n",
              "               0.1744547688736919,\n",
              "               0.17234389631403033,\n",
              "               0.1720914810985463,\n",
              "               0.17290709606451435,\n",
              "               0.17679727119903832,\n",
              "               0.178432150626396,\n",
              "               0.1781435409448615,\n",
              "               0.1777530077190661,\n",
              "               0.17879276801985478,\n",
              "               0.17910381731981267,\n",
              "               0.18287004286978564,\n",
              "               0.18526727705121632,\n",
              "               0.18507478208751016,\n",
              "               0.18544170269634394,\n",
              "               0.18645686979355236,\n",
              "               0.18430436920673468,\n",
              "               0.1826388073472924,\n",
              "               0.18642439573821665,\n",
              "               0.18358526436113007,\n",
              "               0.18275750165649682,\n",
              "               0.18281997414676182,\n",
              "               0.1816841632715918,\n",
              "               0.17993868498111237,\n",
              "               0.18058974228890004,\n",
              "               0.18058816966261845,\n",
              "               0.17807437446540636,\n",
              "               0.17898675404074257,\n",
              "               0.18021743428642925,\n",
              "               0.18115293049456563,\n",
              "               0.180601981067689,\n",
              "               0.18272177981869953,\n",
              "               0.18147815224620398,\n",
              "               0.17952296799369596,\n",
              "               0.180525718802037,\n",
              "               0.1791789342902401,\n",
              "               0.18081617374870193,\n",
              "               0.18140130342678848,\n",
              "               0.18260736987163081,\n",
              "               0.1834856580245434,\n",
              "               0.18586630892487202,\n",
              "               0.18580906167731243,\n",
              "               0.18519385318207707,\n",
              "               0.1887607249241499,\n",
              "               0.1902537944040906,\n",
              "               0.1913098278467646,\n",
              "               0.1906868337655373,\n",
              "               0.19187824020429298,\n",
              "               0.19073931202109326,\n",
              "               0.19162814249245383,\n",
              "               0.19316641168317347,\n",
              "               0.19073713483228907,\n",
              "               0.19012156046316425,\n",
              "               0.1884181719482362,\n",
              "               0.19169431155226488,\n",
              "               0.19058562436307694,\n",
              "               0.19201666361509875,\n",
              "               0.1918201652747458,\n",
              "               0.19389816151230832,\n",
              "               0.19254213116014088,\n",
              "               0.19133621447520222,\n",
              "               0.19312914756716992,\n",
              "               0.19475081257090163,\n",
              "               0.1934124345615763,\n",
              "               0.19356710004604957,\n",
              "               0.19626318290475067],\n",
              "              'train-MultiRMSE-mean': [97.73181849911272,\n",
              "               88.10029158504602,\n",
              "               79.46659190454514,\n",
              "               71.68437069376473,\n",
              "               64.70872803353332,\n",
              "               58.425727167782924,\n",
              "               52.7690455887116,\n",
              "               47.70520063615002,\n",
              "               43.15005436959685,\n",
              "               39.0723354922388,\n",
              "               35.41649604837607,\n",
              "               32.16149860407089,\n",
              "               29.261576316312134,\n",
              "               26.673766662954844,\n",
              "               24.343075625405223,\n",
              "               22.27781373909059,\n",
              "               20.431245442971825,\n",
              "               18.80813330680343,\n",
              "               17.37944654883415,\n",
              "               16.09784690951098,\n",
              "               14.97097762336458,\n",
              "               13.972357314324448,\n",
              "               13.111485863649163,\n",
              "               12.375594953210063,\n",
              "               11.724245754152628,\n",
              "               11.148162974039566,\n",
              "               10.66226095863202,\n",
              "               10.192226041635825,\n",
              "               9.801720919876091,\n",
              "               9.45803332123368,\n",
              "               9.183176234900744,\n",
              "               8.915866431084396,\n",
              "               8.716260540218151,\n",
              "               8.526834214721998,\n",
              "               8.36579079580491,\n",
              "               8.210379838597044,\n",
              "               8.073699143311897,\n",
              "               7.958126318670686,\n",
              "               7.85007773774053,\n",
              "               7.7469112616863045,\n",
              "               7.659043416386812,\n",
              "               7.577842345466983,\n",
              "               7.503764766039336,\n",
              "               7.442110099533338,\n",
              "               7.384967844305727,\n",
              "               7.333450918685447,\n",
              "               7.276724184717725,\n",
              "               7.232640718903774,\n",
              "               7.178761344096166,\n",
              "               7.134851919825611,\n",
              "               7.0902755381758,\n",
              "               7.051846510966512,\n",
              "               7.0080529266620735,\n",
              "               6.9726218074473545,\n",
              "               6.938782306207624,\n",
              "               6.895978365747486,\n",
              "               6.863406215514352,\n",
              "               6.831837987179121,\n",
              "               6.796309540427694,\n",
              "               6.767364771778905,\n",
              "               6.723353839003689,\n",
              "               6.695316508413626,\n",
              "               6.6624212301397385,\n",
              "               6.626882071067276,\n",
              "               6.600980894496722,\n",
              "               6.577212449552985,\n",
              "               6.545959563196123,\n",
              "               6.522186904635667,\n",
              "               6.490977090194437,\n",
              "               6.46934102019677,\n",
              "               6.445455657422801,\n",
              "               6.420664156704254,\n",
              "               6.398945681850787,\n",
              "               6.375804931269421,\n",
              "               6.348354793613498,\n",
              "               6.323024748200031,\n",
              "               6.300776043325691,\n",
              "               6.280305028386194,\n",
              "               6.261352425130156,\n",
              "               6.242201826610679,\n",
              "               6.222220675252275,\n",
              "               6.201182459381805,\n",
              "               6.183886717246767,\n",
              "               6.163632724914326,\n",
              "               6.138268431427217,\n",
              "               6.113966078925645,\n",
              "               6.096336511512433,\n",
              "               6.080599038300757,\n",
              "               6.060018040381093,\n",
              "               6.042970353420766,\n",
              "               6.015855622802885,\n",
              "               5.997230045850453,\n",
              "               5.974831189968373,\n",
              "               5.957183516331491,\n",
              "               5.9394900586194055,\n",
              "               5.918907331073284,\n",
              "               5.899633018048157,\n",
              "               5.882187629656237,\n",
              "               5.86278146032798,\n",
              "               5.8413935877175325,\n",
              "               5.819792288435212,\n",
              "               5.805319130530173,\n",
              "               5.78671825324097,\n",
              "               5.77002083277358,\n",
              "               5.750016984915084,\n",
              "               5.737164271256531,\n",
              "               5.7199183944745,\n",
              "               5.704906754583966,\n",
              "               5.682827475810643,\n",
              "               5.66571002985901,\n",
              "               5.6507058379865045,\n",
              "               5.634310039280263,\n",
              "               5.618660049707615,\n",
              "               5.601689133707865,\n",
              "               5.5866708983261475,\n",
              "               5.568640763562662,\n",
              "               5.546933681901873,\n",
              "               5.529904494194347,\n",
              "               5.510640957719075,\n",
              "               5.490023259461037,\n",
              "               5.477912705859768,\n",
              "               5.4620307162802675,\n",
              "               5.441632790224904,\n",
              "               5.424523339491198,\n",
              "               5.40688413278846,\n",
              "               5.39343424731483,\n",
              "               5.372940816846487,\n",
              "               5.359643583271699,\n",
              "               5.3424777968150465,\n",
              "               5.330001728882762,\n",
              "               5.320767550867173,\n",
              "               5.308307705654471,\n",
              "               5.294748755625481,\n",
              "               5.2765835745424825,\n",
              "               5.259847744783512,\n",
              "               5.243315345947406,\n",
              "               5.226035364144258,\n",
              "               5.204470772860674,\n",
              "               5.189335592749403,\n",
              "               5.175426047181584,\n",
              "               5.161533275161356,\n",
              "               5.144559613089563,\n",
              "               5.132048675624233,\n",
              "               5.1201801337376684,\n",
              "               5.107872792715441,\n",
              "               5.092608755433372,\n",
              "               5.0786767146646135,\n",
              "               5.06677299077633,\n",
              "               5.052740318698647,\n",
              "               5.040155335932876,\n",
              "               5.022831366091096,\n",
              "               5.011797662165857,\n",
              "               4.998124682509073,\n",
              "               4.984780170405526,\n",
              "               4.9729067008282035,\n",
              "               4.9608246007750765,\n",
              "               4.947941830645151,\n",
              "               4.93641848506098,\n",
              "               4.9245228255436695,\n",
              "               4.914299657442058,\n",
              "               4.902208461728393,\n",
              "               4.891954568957144,\n",
              "               4.875995178147431,\n",
              "               4.865000431942458,\n",
              "               4.85415908613221,\n",
              "               4.842232401809029,\n",
              "               4.831884336533647,\n",
              "               4.820018080851116,\n",
              "               4.8088261855935395,\n",
              "               4.796831241690572,\n",
              "               4.785614564711076,\n",
              "               4.776254362162743,\n",
              "               4.762633000737302,\n",
              "               4.753423112414533,\n",
              "               4.741111640103281,\n",
              "               4.728304111356752,\n",
              "               4.716661726701679,\n",
              "               4.701157226586051,\n",
              "               4.68801603538284,\n",
              "               4.676626996104289,\n",
              "               4.6633710601906,\n",
              "               4.650417223940217,\n",
              "               4.640887291075963,\n",
              "               4.6310320526004105,\n",
              "               4.622447728485072,\n",
              "               4.608131942965895,\n",
              "               4.598277309005092,\n",
              "               4.585715766864124,\n",
              "               4.57264716498668,\n",
              "               4.56057528331818,\n",
              "               4.54921818997794,\n",
              "               4.540468225804862,\n",
              "               4.530766609215335,\n",
              "               4.520794673141466,\n",
              "               4.510325830936039,\n",
              "               4.500737504247013,\n",
              "               4.488497830373872,\n",
              "               4.4804889862982265,\n",
              "               4.471823392837657,\n",
              "               4.462531833068073],\n",
              "              'train-MultiRMSE-std': [0.0890908028383687,\n",
              "               0.08222474573926228,\n",
              "               0.07582201989274209,\n",
              "               0.07134008695291505,\n",
              "               0.06621448674487987,\n",
              "               0.06283351326097689,\n",
              "               0.05875351275607394,\n",
              "               0.057061905931695814,\n",
              "               0.05558802121327553,\n",
              "               0.057121174055772814,\n",
              "               0.05615021521858026,\n",
              "               0.057207340472073584,\n",
              "               0.05796615959099606,\n",
              "               0.058343543291543405,\n",
              "               0.059596881605110376,\n",
              "               0.061460395200348114,\n",
              "               0.06292779739600073,\n",
              "               0.061921362992034726,\n",
              "               0.06194886598146196,\n",
              "               0.05364129970729036,\n",
              "               0.050693494771436934,\n",
              "               0.05904493367167921,\n",
              "               0.06823599392902643,\n",
              "               0.0718341231113838,\n",
              "               0.06968211600682941,\n",
              "               0.06415088093855353,\n",
              "               0.06348865914339341,\n",
              "               0.06894946394485753,\n",
              "               0.05769773575675462,\n",
              "               0.04803636657339609,\n",
              "               0.038579041700213215,\n",
              "               0.04396424269145014,\n",
              "               0.04468240169337429,\n",
              "               0.04655365855546414,\n",
              "               0.04035896474745453,\n",
              "               0.04427295756181071,\n",
              "               0.03751991771800669,\n",
              "               0.03605677450621043,\n",
              "               0.04326517747165785,\n",
              "               0.04078426965427432,\n",
              "               0.03307721573622919,\n",
              "               0.04087207369973456,\n",
              "               0.039084495984966855,\n",
              "               0.04300090777168938,\n",
              "               0.04462034981506311,\n",
              "               0.048147499208015136,\n",
              "               0.053179596743381116,\n",
              "               0.054157791607821124,\n",
              "               0.05912070852467663,\n",
              "               0.05952421279945937,\n",
              "               0.06453206868850418,\n",
              "               0.061175090621485885,\n",
              "               0.0625311649545162,\n",
              "               0.07427507637562553,\n",
              "               0.0694772195464287,\n",
              "               0.07232906648266724,\n",
              "               0.06976541823661042,\n",
              "               0.06769378130550806,\n",
              "               0.06976134388581468,\n",
              "               0.07858201241195442,\n",
              "               0.08488868348580529,\n",
              "               0.09280987113642247,\n",
              "               0.08392368345905918,\n",
              "               0.07680662320581527,\n",
              "               0.07946005138328129,\n",
              "               0.07695591229690699,\n",
              "               0.08004900931888122,\n",
              "               0.07850458766082549,\n",
              "               0.07655599242518754,\n",
              "               0.06924549176821188,\n",
              "               0.07319030594872987,\n",
              "               0.07527683754316339,\n",
              "               0.07036901171132488,\n",
              "               0.06595373625459455,\n",
              "               0.0641042657911944,\n",
              "               0.06626423348940998,\n",
              "               0.06783594438814869,\n",
              "               0.07114801301400465,\n",
              "               0.07183233224916377,\n",
              "               0.07159527145036756,\n",
              "               0.07445609946590928,\n",
              "               0.07620903130083945,\n",
              "               0.07582276349839721,\n",
              "               0.07812845197404367,\n",
              "               0.0831086244319642,\n",
              "               0.0858912151064635,\n",
              "               0.0870981761154992,\n",
              "               0.08861134764625252,\n",
              "               0.07747489724356346,\n",
              "               0.07904282342313595,\n",
              "               0.07681746466459617,\n",
              "               0.08192909467923135,\n",
              "               0.08645083561066695,\n",
              "               0.0817611230317367,\n",
              "               0.07591665495769852,\n",
              "               0.07602128892705892,\n",
              "               0.07690490155038118,\n",
              "               0.07868231464911978,\n",
              "               0.07036250638752747,\n",
              "               0.06330964265652364,\n",
              "               0.0672304757170417,\n",
              "               0.06851530322728007,\n",
              "               0.07164634387557822,\n",
              "               0.07250734132116218,\n",
              "               0.0733571308477323,\n",
              "               0.07416692129350523,\n",
              "               0.07659820220571253,\n",
              "               0.07629510379163838,\n",
              "               0.07785806782069207,\n",
              "               0.07324369964872457,\n",
              "               0.07820685324858416,\n",
              "               0.07897356981860872,\n",
              "               0.08633327383907993,\n",
              "               0.085573264341638,\n",
              "               0.08381481044565903,\n",
              "               0.08064542568529001,\n",
              "               0.07813336421428603,\n",
              "               0.07980984084741972,\n",
              "               0.07647701600233663,\n",
              "               0.0719140518928127,\n",
              "               0.07268433754735272,\n",
              "               0.07731670695988115,\n",
              "               0.07873953592056437,\n",
              "               0.08016629151678997,\n",
              "               0.08027875369185515,\n",
              "               0.08199931365502501,\n",
              "               0.0831892476736043,\n",
              "               0.08299416754258102,\n",
              "               0.0831006904009881,\n",
              "               0.08343654487986081,\n",
              "               0.08166099840217003,\n",
              "               0.08051788930942251,\n",
              "               0.07482760984455594,\n",
              "               0.07694165246560035,\n",
              "               0.07770960405766551,\n",
              "               0.07844113904743705,\n",
              "               0.07619631343625956,\n",
              "               0.07840114584181973,\n",
              "               0.07559046860664709,\n",
              "               0.07407810319282845,\n",
              "               0.0731860771112291,\n",
              "               0.07150109172788625,\n",
              "               0.07284693771598323,\n",
              "               0.07109163987827612,\n",
              "               0.07229550818751697,\n",
              "               0.06941520152010842,\n",
              "               0.06695914603917576,\n",
              "               0.06807146207070179,\n",
              "               0.06880564790689585,\n",
              "               0.06986356121717523,\n",
              "               0.0685555743275824,\n",
              "               0.0687691094400647,\n",
              "               0.07203896969044778,\n",
              "               0.07523479331899421,\n",
              "               0.0762914682112113,\n",
              "               0.07831977038825672,\n",
              "               0.08120332877600604,\n",
              "               0.08183193832270381,\n",
              "               0.082475615249771,\n",
              "               0.08429585239658853,\n",
              "               0.08469168492003032,\n",
              "               0.08567594349219108,\n",
              "               0.08329283587352442,\n",
              "               0.08322266598678664,\n",
              "               0.08560086283969143,\n",
              "               0.08453477298476399,\n",
              "               0.08261886237453309,\n",
              "               0.08132981269185321,\n",
              "               0.07744232886860013,\n",
              "               0.07996583734811619,\n",
              "               0.07611776812572316,\n",
              "               0.07569523319766844,\n",
              "               0.07321077624617812,\n",
              "               0.07243515468354661,\n",
              "               0.07053237759683542,\n",
              "               0.06988231912299028,\n",
              "               0.06875729904529838,\n",
              "               0.06859038732107564,\n",
              "               0.06306928946193908,\n",
              "               0.0611413067223743,\n",
              "               0.06264481088602106,\n",
              "               0.060568083452087015,\n",
              "               0.061394402887015316,\n",
              "               0.06194646817728288,\n",
              "               0.06136023372845246,\n",
              "               0.0605954850192499,\n",
              "               0.06141147333950063,\n",
              "               0.0633186381674072,\n",
              "               0.06127165933266967,\n",
              "               0.05754054383672348,\n",
              "               0.052152587526133797,\n",
              "               0.05202960604675988,\n",
              "               0.054031618464014004,\n",
              "               0.05599427539331913,\n",
              "               0.05657969244670887,\n",
              "               0.055946794770138836,\n",
              "               0.06064219103403699,\n",
              "               0.06140074418184601,\n",
              "               0.059752510119502125,\n",
              "               0.06146388047013726]})}"
            ]
          },
          "metadata": {},
          "execution_count": 386
        }
      ],
      "source": [
        "model.grid_search(grid, train_dataset, verbose=100)"
      ]
    },
    {
      "cell_type": "code",
      "execution_count": 387,
      "metadata": {
        "colab": {
          "base_uri": "https://localhost:8080/"
        },
        "id": "AwCs8_4_cKk0",
        "outputId": "c6548b91-1761-4335-c2f1-75199f4423a1"
      },
      "outputs": [
        {
          "output_type": "execute_result",
          "data": {
            "text/plain": [
              "7.015797577878082"
            ]
          },
          "metadata": {},
          "execution_count": 387
        }
      ],
      "source": [
        "smape_t(y_test, model.predict(X_test))"
      ]
    },
    {
      "cell_type": "markdown",
      "metadata": {
        "id": "pfMPnhw-cXK5"
      },
      "source": [
        "Дополним нашу таблицу.\n",
        "\n",
        "| Модель | Значение sMAPE |\n",
        "| ----------- | ----------- |\n",
        "| Случайный лес | 8.26 |\n",
        "| $k$-ближайших соседей | 7.40 | \n",
        "| Линейная регрессия | 7.70 | \n",
        "| Лассо | 6.37 | \n",
        "| CatBoost | 7.02 | "
      ]
    },
    {
      "cell_type": "markdown",
      "metadata": {
        "id": "OoOiSb5bGd1s"
      },
      "source": [
        "### Сравнение с «глупой» моделью\n",
        "Чтобы убедиться, что предсказания наших моделей действительно имеют ценность, сравним их с «глупой» моделью, которая всегда предсказывает среднее значение."
      ]
    },
    {
      "cell_type": "code",
      "execution_count": 388,
      "metadata": {
        "id": "8utYcduZGDYz"
      },
      "outputs": [],
      "source": [
        "dummy = DummyRegressor(strategy='mean')"
      ]
    },
    {
      "cell_type": "code",
      "execution_count": 389,
      "metadata": {
        "colab": {
          "base_uri": "https://localhost:8080/"
        },
        "id": "qHzWRWuPGQOh",
        "outputId": "664456a5-be06-4f77-86d3-7687de6c0345"
      },
      "outputs": [
        {
          "output_type": "execute_result",
          "data": {
            "text/plain": [
              "DummyRegressor()"
            ]
          },
          "metadata": {},
          "execution_count": 389
        }
      ],
      "source": [
        "dummy.fit(X_train, y_train)"
      ]
    },
    {
      "cell_type": "code",
      "execution_count": 390,
      "metadata": {
        "colab": {
          "base_uri": "https://localhost:8080/"
        },
        "id": "N_rGbhS4GV9a",
        "outputId": "a7203fba-3ecd-401b-bc3e-f02ce69161b0"
      },
      "outputs": [
        {
          "output_type": "execute_result",
          "data": {
            "text/plain": [
              "7.766604067388528"
            ]
          },
          "metadata": {},
          "execution_count": 390
        }
      ],
      "source": [
        "smape_t(y_test, dummy.predict(X_test))"
      ]
    },
    {
      "cell_type": "markdown",
      "metadata": {
        "id": "n3q0W11HG18R"
      },
      "source": [
        "Видно, что у «глупой» модели целевая метрика выходит хуже, чем у некоторых из разработанных нами моделей."
      ]
    },
    {
      "cell_type": "markdown",
      "metadata": {
        "id": "Hue_S_N2FkGW"
      },
      "source": [
        "### Промежуточные выводы\n",
        "\n",
        "Были созданы пять моделей, предсказывающих значения целевых признаков. В результате обучения на тестовой выборке наилучшее знацение метрики sMAPE удалось достичь на модели Лассо. Для контроля полученных данных мы сравнили результаты работы моделей с простой моделью, которая всегда предсказывает среднее значение. У такой модели значение целевой метрики оказалось ниже, чем у разработанных нами моделей."
      ]
    },
    {
      "cell_type": "markdown",
      "metadata": {
        "id": "JV-AIFmLI4QX"
      },
      "source": [
        "## Общий вывод по проекту\n",
        "\n",
        "Были получены данные по процессу восстановления золота из руды. В ходе предварительного анализа в данных были выявлены и исправлены незначительные проблемы.\n",
        "\n",
        "Была проверена правильность расчёта в обучающей выборке эффективности обогащения золота после флотации.\n",
        "\n",
        "Был проведён анализ полученных данных для выявления общих закономерностей технологического процесса и проверки готовности данных для моделирования. Нами установлено, что\n",
        "\n",
        "*   концентрация золота на каждом последующем этапе обработки увеличивается\n",
        "*   концентрация серебра увеличивается после флотации, но уменьшается после первичной и вторичной очистки\n",
        "*   концентрация свинца увеличивается вплоть до вторичной очистки, вторичная очистка практически не влияет на концентрацию свинца\n",
        "*   распределения размеров гранул сырья в обучающей и тестовой выборках не имеют существенных отличий\n",
        "*   суммарная концентрация серебра, свинца и золота на протяжении всего технологического процесса понижается.\n",
        "\n",
        "Наконец, были обучены пять моделей, предсказывающих значения целевых параметров. Для моделей были подобраны гипер-параметры, обеспечивающие наилучшие значения метрики на кросс-валидации. Затем для каждой модели была расчитана метрика _sMAPE_ на тестовых данных.\n",
        "\n",
        "| Модель | Значение sMAPE |\n",
        "| ----------- | ----------- |\n",
        "| Случайный лес | 8.26 |\n",
        "| $k$-ближайших соседей | 7.40 | \n",
        "| Линейная регрессия | 7.70 | \n",
        "| Лассо | 6.37 | \n",
        "| CatBoost | 7.02 | \n",
        "\n",
        "Наилучшее значение метрики удалось получить для линейной модели Лассо, которую рекомендуется применять на производстве."
      ]
    }
  ],
  "metadata": {
    "ExecuteTimeLog": [
      {
        "duration": 2427,
        "start_time": "2022-07-15T14:46:00.453Z"
      },
      {
        "duration": 1636,
        "start_time": "2022-07-15T14:46:02.882Z"
      },
      {
        "duration": 11,
        "start_time": "2022-07-15T14:46:04.520Z"
      },
      {
        "duration": 1995,
        "start_time": "2022-07-15T14:46:04.538Z"
      },
      {
        "duration": 27,
        "start_time": "2022-07-15T14:46:06.537Z"
      },
      {
        "duration": 17,
        "start_time": "2022-07-15T14:46:06.565Z"
      },
      {
        "duration": 18,
        "start_time": "2022-07-15T14:46:06.583Z"
      },
      {
        "duration": 3,
        "start_time": "2022-07-15T14:46:06.603Z"
      },
      {
        "duration": 59,
        "start_time": "2022-07-15T14:46:06.608Z"
      },
      {
        "duration": 4,
        "start_time": "2022-07-15T14:46:06.670Z"
      },
      {
        "duration": 9,
        "start_time": "2022-07-15T14:46:06.675Z"
      },
      {
        "duration": 10,
        "start_time": "2022-07-15T14:46:06.685Z"
      },
      {
        "duration": 6,
        "start_time": "2022-07-15T14:46:06.696Z"
      },
      {
        "duration": 16,
        "start_time": "2022-07-15T14:46:06.704Z"
      },
      {
        "duration": 10,
        "start_time": "2022-07-15T14:46:06.722Z"
      },
      {
        "duration": 34,
        "start_time": "2022-07-15T14:46:06.733Z"
      },
      {
        "duration": 8,
        "start_time": "2022-07-15T14:46:06.769Z"
      },
      {
        "duration": 11,
        "start_time": "2022-07-15T14:46:06.779Z"
      },
      {
        "duration": 9,
        "start_time": "2022-07-15T14:46:06.792Z"
      },
      {
        "duration": 4,
        "start_time": "2022-07-15T14:46:06.804Z"
      },
      {
        "duration": 24,
        "start_time": "2022-07-15T14:46:06.810Z"
      },
      {
        "duration": 19,
        "start_time": "2022-07-15T14:46:06.841Z"
      },
      {
        "duration": 146,
        "start_time": "2022-07-15T14:46:06.862Z"
      },
      {
        "duration": 40,
        "start_time": "2022-07-15T14:46:07.010Z"
      },
      {
        "duration": 9,
        "start_time": "2022-07-15T14:46:07.052Z"
      },
      {
        "duration": 127,
        "start_time": "2022-07-15T14:46:07.064Z"
      },
      {
        "duration": 6,
        "start_time": "2022-07-15T14:46:07.192Z"
      },
      {
        "duration": 6,
        "start_time": "2022-07-15T14:46:07.202Z"
      },
      {
        "duration": 1383,
        "start_time": "2022-07-15T14:46:07.210Z"
      },
      {
        "duration": 1483,
        "start_time": "2022-07-15T14:46:08.595Z"
      },
      {
        "duration": 1503,
        "start_time": "2022-07-15T14:46:10.080Z"
      },
      {
        "duration": 576,
        "start_time": "2022-07-15T14:46:11.585Z"
      },
      {
        "duration": 9,
        "start_time": "2022-07-15T14:46:12.162Z"
      },
      {
        "duration": 8,
        "start_time": "2022-07-15T14:46:12.173Z"
      },
      {
        "duration": 589,
        "start_time": "2022-07-15T14:46:12.183Z"
      },
      {
        "duration": 9,
        "start_time": "2022-07-15T14:46:12.775Z"
      },
      {
        "duration": 8,
        "start_time": "2022-07-15T14:46:12.786Z"
      },
      {
        "duration": 4,
        "start_time": "2022-07-15T14:46:12.796Z"
      },
      {
        "duration": 37,
        "start_time": "2022-07-15T14:46:12.801Z"
      },
      {
        "duration": 15,
        "start_time": "2022-07-15T14:46:12.845Z"
      },
      {
        "duration": 4,
        "start_time": "2022-07-15T14:46:12.861Z"
      },
      {
        "duration": 8,
        "start_time": "2022-07-15T14:46:12.867Z"
      },
      {
        "duration": 7,
        "start_time": "2022-07-15T14:46:12.877Z"
      },
      {
        "duration": 20,
        "start_time": "2022-07-15T14:46:12.886Z"
      },
      {
        "duration": 10,
        "start_time": "2022-07-15T14:46:12.907Z"
      },
      {
        "duration": 28,
        "start_time": "2022-07-15T14:46:12.918Z"
      },
      {
        "duration": 1327,
        "start_time": "2022-07-15T14:46:12.947Z"
      },
      {
        "duration": 9,
        "start_time": "2022-07-15T14:46:14.276Z"
      },
      {
        "duration": 7,
        "start_time": "2022-07-15T14:46:14.287Z"
      },
      {
        "duration": 671,
        "start_time": "2022-07-15T14:46:14.295Z"
      },
      {
        "duration": 638,
        "start_time": "2022-07-15T14:46:14.968Z"
      },
      {
        "duration": 680,
        "start_time": "2022-07-15T14:46:15.607Z"
      },
      {
        "duration": 509,
        "start_time": "2022-07-15T14:46:16.289Z"
      },
      {
        "duration": 13,
        "start_time": "2022-07-15T14:46:16.800Z"
      },
      {
        "duration": 651,
        "start_time": "2022-07-15T14:46:16.815Z"
      },
      {
        "duration": 10,
        "start_time": "2022-07-15T14:50:10.450Z"
      },
      {
        "duration": 4,
        "start_time": "2022-07-15T14:50:27.763Z"
      },
      {
        "duration": 2083,
        "start_time": "2022-07-15T14:50:32.786Z"
      },
      {
        "duration": 5,
        "start_time": "2022-07-15T14:50:34.872Z"
      },
      {
        "duration": 32,
        "start_time": "2022-07-15T14:50:34.878Z"
      },
      {
        "duration": 1343,
        "start_time": "2022-07-15T14:50:34.913Z"
      },
      {
        "duration": 18,
        "start_time": "2022-07-15T14:50:36.258Z"
      },
      {
        "duration": 22,
        "start_time": "2022-07-15T14:50:36.278Z"
      },
      {
        "duration": 34,
        "start_time": "2022-07-15T14:50:36.302Z"
      },
      {
        "duration": 22,
        "start_time": "2022-07-15T14:50:36.340Z"
      },
      {
        "duration": 43,
        "start_time": "2022-07-15T14:50:36.364Z"
      },
      {
        "duration": 44,
        "start_time": "2022-07-15T14:50:36.410Z"
      },
      {
        "duration": 22,
        "start_time": "2022-07-15T14:50:36.456Z"
      },
      {
        "duration": 29,
        "start_time": "2022-07-15T14:50:36.480Z"
      },
      {
        "duration": 35,
        "start_time": "2022-07-15T14:50:36.511Z"
      },
      {
        "duration": 45,
        "start_time": "2022-07-15T14:50:36.549Z"
      },
      {
        "duration": 61,
        "start_time": "2022-07-15T14:50:36.596Z"
      },
      {
        "duration": 18,
        "start_time": "2022-07-15T14:50:36.659Z"
      },
      {
        "duration": 7,
        "start_time": "2022-07-15T14:50:36.678Z"
      },
      {
        "duration": 12,
        "start_time": "2022-07-15T14:50:36.686Z"
      },
      {
        "duration": 10,
        "start_time": "2022-07-15T14:50:36.700Z"
      },
      {
        "duration": 5,
        "start_time": "2022-07-15T14:50:36.712Z"
      },
      {
        "duration": 44,
        "start_time": "2022-07-15T14:50:36.719Z"
      },
      {
        "duration": 8,
        "start_time": "2022-07-15T14:50:36.765Z"
      },
      {
        "duration": 133,
        "start_time": "2022-07-15T14:50:36.775Z"
      },
      {
        "duration": 46,
        "start_time": "2022-07-15T14:50:36.910Z"
      },
      {
        "duration": 13,
        "start_time": "2022-07-15T14:50:36.964Z"
      },
      {
        "duration": 124,
        "start_time": "2022-07-15T14:50:36.979Z"
      },
      {
        "duration": 5,
        "start_time": "2022-07-15T14:50:37.105Z"
      },
      {
        "duration": 17,
        "start_time": "2022-07-15T14:50:37.122Z"
      },
      {
        "duration": 1395,
        "start_time": "2022-07-15T14:50:37.145Z"
      },
      {
        "duration": 1220,
        "start_time": "2022-07-15T14:50:38.541Z"
      },
      {
        "duration": 1333,
        "start_time": "2022-07-15T14:50:39.763Z"
      },
      {
        "duration": 568,
        "start_time": "2022-07-15T14:50:41.099Z"
      },
      {
        "duration": 10,
        "start_time": "2022-07-15T14:50:41.668Z"
      },
      {
        "duration": 15,
        "start_time": "2022-07-15T14:50:41.680Z"
      },
      {
        "duration": 593,
        "start_time": "2022-07-15T14:50:41.697Z"
      },
      {
        "duration": 9,
        "start_time": "2022-07-15T14:50:42.292Z"
      },
      {
        "duration": 33,
        "start_time": "2022-07-15T14:50:42.303Z"
      },
      {
        "duration": 24,
        "start_time": "2022-07-15T14:50:42.338Z"
      },
      {
        "duration": 7,
        "start_time": "2022-07-15T14:50:42.363Z"
      },
      {
        "duration": 7,
        "start_time": "2022-07-15T14:50:42.372Z"
      },
      {
        "duration": 5,
        "start_time": "2022-07-15T14:50:42.381Z"
      },
      {
        "duration": 7,
        "start_time": "2022-07-15T14:50:42.388Z"
      },
      {
        "duration": 9,
        "start_time": "2022-07-15T14:50:42.397Z"
      },
      {
        "duration": 6,
        "start_time": "2022-07-15T14:50:42.407Z"
      },
      {
        "duration": 6,
        "start_time": "2022-07-15T14:50:42.414Z"
      },
      {
        "duration": 56,
        "start_time": "2022-07-15T14:50:42.422Z"
      },
      {
        "duration": 1473,
        "start_time": "2022-07-15T14:50:42.480Z"
      },
      {
        "duration": 10,
        "start_time": "2022-07-15T14:50:43.956Z"
      },
      {
        "duration": 5,
        "start_time": "2022-07-15T14:50:43.967Z"
      },
      {
        "duration": 686,
        "start_time": "2022-07-15T14:50:43.974Z"
      },
      {
        "duration": 653,
        "start_time": "2022-07-15T14:50:44.662Z"
      },
      {
        "duration": 768,
        "start_time": "2022-07-15T14:50:45.317Z"
      },
      {
        "duration": 450,
        "start_time": "2022-07-15T14:50:46.087Z"
      },
      {
        "duration": 16,
        "start_time": "2022-07-15T14:50:46.545Z"
      },
      {
        "duration": 705,
        "start_time": "2022-07-15T14:50:46.563Z"
      },
      {
        "duration": 4,
        "start_time": "2022-07-15T14:50:53.252Z"
      },
      {
        "duration": 9,
        "start_time": "2022-07-15T14:50:57.360Z"
      },
      {
        "duration": 4,
        "start_time": "2022-07-15T14:51:03.155Z"
      },
      {
        "duration": 4,
        "start_time": "2022-07-15T14:51:23.486Z"
      },
      {
        "duration": 4,
        "start_time": "2022-07-15T14:51:27.487Z"
      },
      {
        "duration": 2129,
        "start_time": "2022-07-15T14:51:31.888Z"
      },
      {
        "duration": 16,
        "start_time": "2022-07-15T14:51:34.019Z"
      },
      {
        "duration": 29,
        "start_time": "2022-07-15T14:51:34.036Z"
      },
      {
        "duration": 1343,
        "start_time": "2022-07-15T14:51:34.067Z"
      },
      {
        "duration": 163,
        "start_time": "2022-07-15T14:51:35.412Z"
      },
      {
        "duration": 14,
        "start_time": "2022-07-15T14:51:35.576Z"
      },
      {
        "duration": 36,
        "start_time": "2022-07-15T14:51:35.592Z"
      },
      {
        "duration": 11,
        "start_time": "2022-07-15T14:51:35.632Z"
      },
      {
        "duration": 30,
        "start_time": "2022-07-15T14:51:35.645Z"
      },
      {
        "duration": 5,
        "start_time": "2022-07-15T14:51:35.677Z"
      },
      {
        "duration": 4,
        "start_time": "2022-07-15T14:51:35.686Z"
      },
      {
        "duration": 10,
        "start_time": "2022-07-15T14:51:35.691Z"
      },
      {
        "duration": 7,
        "start_time": "2022-07-15T14:51:35.702Z"
      },
      {
        "duration": 19,
        "start_time": "2022-07-15T14:51:35.710Z"
      },
      {
        "duration": 45,
        "start_time": "2022-07-15T14:51:35.730Z"
      },
      {
        "duration": 5,
        "start_time": "2022-07-15T14:51:35.777Z"
      },
      {
        "duration": 7,
        "start_time": "2022-07-15T14:51:35.783Z"
      },
      {
        "duration": 11,
        "start_time": "2022-07-15T14:51:35.792Z"
      },
      {
        "duration": 12,
        "start_time": "2022-07-15T14:51:35.805Z"
      },
      {
        "duration": 17,
        "start_time": "2022-07-15T14:51:35.818Z"
      },
      {
        "duration": 63,
        "start_time": "2022-07-15T14:51:35.837Z"
      },
      {
        "duration": 14,
        "start_time": "2022-07-15T14:51:35.902Z"
      },
      {
        "duration": 164,
        "start_time": "2022-07-15T14:51:35.918Z"
      },
      {
        "duration": 30,
        "start_time": "2022-07-15T14:51:36.084Z"
      },
      {
        "duration": 11,
        "start_time": "2022-07-15T14:51:36.125Z"
      },
      {
        "duration": 136,
        "start_time": "2022-07-15T14:51:36.149Z"
      },
      {
        "duration": 5,
        "start_time": "2022-07-15T14:51:36.287Z"
      },
      {
        "duration": 10,
        "start_time": "2022-07-15T14:51:36.296Z"
      },
      {
        "duration": 1419,
        "start_time": "2022-07-15T14:51:36.307Z"
      },
      {
        "duration": 1584,
        "start_time": "2022-07-15T14:51:37.728Z"
      },
      {
        "duration": 1503,
        "start_time": "2022-07-15T14:51:39.314Z"
      },
      {
        "duration": 535,
        "start_time": "2022-07-15T14:51:40.819Z"
      },
      {
        "duration": 9,
        "start_time": "2022-07-15T14:51:41.359Z"
      },
      {
        "duration": 8,
        "start_time": "2022-07-15T14:51:41.370Z"
      },
      {
        "duration": 577,
        "start_time": "2022-07-15T14:51:41.380Z"
      },
      {
        "duration": 10,
        "start_time": "2022-07-15T14:51:41.959Z"
      },
      {
        "duration": 9,
        "start_time": "2022-07-15T14:51:41.970Z"
      },
      {
        "duration": 5,
        "start_time": "2022-07-15T14:51:41.980Z"
      },
      {
        "duration": 7,
        "start_time": "2022-07-15T14:51:41.987Z"
      },
      {
        "duration": 6,
        "start_time": "2022-07-15T14:51:41.995Z"
      },
      {
        "duration": 14,
        "start_time": "2022-07-15T14:51:42.025Z"
      },
      {
        "duration": 15,
        "start_time": "2022-07-15T14:51:42.047Z"
      },
      {
        "duration": 5,
        "start_time": "2022-07-15T14:51:42.064Z"
      },
      {
        "duration": 6,
        "start_time": "2022-07-15T14:51:42.071Z"
      },
      {
        "duration": 5,
        "start_time": "2022-07-15T14:51:42.079Z"
      },
      {
        "duration": 23,
        "start_time": "2022-07-15T14:51:42.085Z"
      },
      {
        "duration": 1351,
        "start_time": "2022-07-15T14:51:42.109Z"
      },
      {
        "duration": 10,
        "start_time": "2022-07-15T14:51:43.462Z"
      },
      {
        "duration": 5,
        "start_time": "2022-07-15T14:51:43.473Z"
      },
      {
        "duration": 756,
        "start_time": "2022-07-15T14:51:43.480Z"
      },
      {
        "duration": 539,
        "start_time": "2022-07-15T14:51:44.237Z"
      },
      {
        "duration": 694,
        "start_time": "2022-07-15T14:51:44.777Z"
      },
      {
        "duration": 445,
        "start_time": "2022-07-15T14:51:45.473Z"
      },
      {
        "duration": 23,
        "start_time": "2022-07-15T14:51:45.920Z"
      },
      {
        "duration": 829,
        "start_time": "2022-07-15T14:51:45.945Z"
      },
      {
        "duration": 6,
        "start_time": "2022-07-15T14:51:59.275Z"
      },
      {
        "duration": 15,
        "start_time": "2022-07-15T14:52:02.909Z"
      },
      {
        "duration": 4,
        "start_time": "2022-07-15T14:52:04.266Z"
      },
      {
        "duration": 5,
        "start_time": "2022-07-15T14:53:42.317Z"
      },
      {
        "duration": 5,
        "start_time": "2022-07-15T14:53:53.897Z"
      },
      {
        "duration": 5,
        "start_time": "2022-07-15T14:54:00.200Z"
      },
      {
        "duration": 5,
        "start_time": "2022-07-15T14:54:04.890Z"
      },
      {
        "duration": 4,
        "start_time": "2022-07-15T14:54:41.211Z"
      },
      {
        "duration": 3,
        "start_time": "2022-07-15T14:54:52.984Z"
      },
      {
        "duration": 4,
        "start_time": "2022-07-15T14:55:13.610Z"
      },
      {
        "duration": 412,
        "start_time": "2022-07-15T14:55:17.548Z"
      },
      {
        "duration": 130,
        "start_time": "2022-07-15T14:55:23.554Z"
      },
      {
        "duration": 13,
        "start_time": "2022-07-15T14:55:33.854Z"
      },
      {
        "duration": 10,
        "start_time": "2022-07-15T14:55:38.458Z"
      },
      {
        "duration": 58,
        "start_time": "2022-07-15T14:55:43.450Z"
      },
      {
        "duration": 32,
        "start_time": "2022-07-15T14:55:47.849Z"
      },
      {
        "duration": 7,
        "start_time": "2022-07-15T14:55:56.353Z"
      },
      {
        "duration": 6,
        "start_time": "2022-07-15T15:00:50.577Z"
      },
      {
        "duration": 5,
        "start_time": "2022-07-15T15:00:59.256Z"
      },
      {
        "duration": 5,
        "start_time": "2022-07-15T15:01:05.199Z"
      },
      {
        "duration": 5,
        "start_time": "2022-07-15T15:01:08.187Z"
      },
      {
        "duration": 2105,
        "start_time": "2022-07-15T15:06:53.110Z"
      },
      {
        "duration": 2062,
        "start_time": "2022-07-15T15:22:57.942Z"
      },
      {
        "duration": 5,
        "start_time": "2022-07-15T15:23:00.007Z"
      },
      {
        "duration": 9,
        "start_time": "2022-07-15T15:23:00.013Z"
      },
      {
        "duration": 1810,
        "start_time": "2022-07-15T15:23:00.024Z"
      },
      {
        "duration": 18,
        "start_time": "2022-07-15T15:23:01.835Z"
      },
      {
        "duration": 15,
        "start_time": "2022-07-15T15:23:01.855Z"
      },
      {
        "duration": 19,
        "start_time": "2022-07-15T15:23:01.872Z"
      },
      {
        "duration": 12,
        "start_time": "2022-07-15T15:23:01.922Z"
      },
      {
        "duration": 22,
        "start_time": "2022-07-15T15:23:01.936Z"
      },
      {
        "duration": 5,
        "start_time": "2022-07-15T15:23:01.962Z"
      },
      {
        "duration": 14,
        "start_time": "2022-07-15T15:23:01.969Z"
      },
      {
        "duration": 11,
        "start_time": "2022-07-15T15:23:01.986Z"
      },
      {
        "duration": 23,
        "start_time": "2022-07-15T15:23:01.998Z"
      },
      {
        "duration": 17,
        "start_time": "2022-07-15T15:23:02.023Z"
      },
      {
        "duration": 18,
        "start_time": "2022-07-15T15:23:02.042Z"
      },
      {
        "duration": 23,
        "start_time": "2022-07-15T15:23:02.062Z"
      },
      {
        "duration": 41,
        "start_time": "2022-07-15T15:23:02.087Z"
      },
      {
        "duration": 35,
        "start_time": "2022-07-15T15:23:02.129Z"
      },
      {
        "duration": 23,
        "start_time": "2022-07-15T15:23:02.166Z"
      },
      {
        "duration": 25,
        "start_time": "2022-07-15T15:23:02.190Z"
      },
      {
        "duration": 24,
        "start_time": "2022-07-15T15:23:02.217Z"
      },
      {
        "duration": 33,
        "start_time": "2022-07-15T15:23:02.243Z"
      },
      {
        "duration": 147,
        "start_time": "2022-07-15T15:23:02.278Z"
      },
      {
        "duration": 27,
        "start_time": "2022-07-15T15:23:02.427Z"
      },
      {
        "duration": 5,
        "start_time": "2022-07-15T15:23:02.456Z"
      },
      {
        "duration": 135,
        "start_time": "2022-07-15T15:23:02.463Z"
      },
      {
        "duration": 6,
        "start_time": "2022-07-15T15:23:02.600Z"
      },
      {
        "duration": 15,
        "start_time": "2022-07-15T15:23:02.610Z"
      },
      {
        "duration": 1266,
        "start_time": "2022-07-15T15:23:02.627Z"
      },
      {
        "duration": 1342,
        "start_time": "2022-07-15T15:23:03.895Z"
      },
      {
        "duration": 1191,
        "start_time": "2022-07-15T15:23:05.239Z"
      },
      {
        "duration": 495,
        "start_time": "2022-07-15T15:23:06.432Z"
      },
      {
        "duration": 12,
        "start_time": "2022-07-15T15:23:06.929Z"
      },
      {
        "duration": 9,
        "start_time": "2022-07-15T15:23:06.943Z"
      },
      {
        "duration": 616,
        "start_time": "2022-07-15T15:23:06.954Z"
      },
      {
        "duration": 10,
        "start_time": "2022-07-15T15:23:07.572Z"
      },
      {
        "duration": 13,
        "start_time": "2022-07-15T15:23:07.584Z"
      },
      {
        "duration": 5,
        "start_time": "2022-07-15T15:23:07.599Z"
      },
      {
        "duration": 20,
        "start_time": "2022-07-15T15:23:07.605Z"
      },
      {
        "duration": 13,
        "start_time": "2022-07-15T15:23:07.627Z"
      },
      {
        "duration": 13,
        "start_time": "2022-07-15T15:23:07.642Z"
      },
      {
        "duration": 15,
        "start_time": "2022-07-15T15:23:07.657Z"
      },
      {
        "duration": 5,
        "start_time": "2022-07-15T15:23:07.674Z"
      },
      {
        "duration": 20,
        "start_time": "2022-07-15T15:23:07.681Z"
      },
      {
        "duration": 13,
        "start_time": "2022-07-15T15:23:07.703Z"
      },
      {
        "duration": 28,
        "start_time": "2022-07-15T15:23:07.718Z"
      },
      {
        "duration": 1468,
        "start_time": "2022-07-15T15:23:07.748Z"
      },
      {
        "duration": 11,
        "start_time": "2022-07-15T15:23:09.222Z"
      },
      {
        "duration": 10,
        "start_time": "2022-07-15T15:23:09.235Z"
      },
      {
        "duration": 685,
        "start_time": "2022-07-15T15:23:09.247Z"
      },
      {
        "duration": 477,
        "start_time": "2022-07-15T15:23:09.934Z"
      },
      {
        "duration": 646,
        "start_time": "2022-07-15T15:23:10.412Z"
      },
      {
        "duration": 533,
        "start_time": "2022-07-15T15:23:11.060Z"
      },
      {
        "duration": 14,
        "start_time": "2022-07-15T15:23:11.594Z"
      },
      {
        "duration": 608,
        "start_time": "2022-07-15T15:23:11.610Z"
      },
      {
        "duration": 3,
        "start_time": "2022-07-15T15:23:12.220Z"
      },
      {
        "duration": 11,
        "start_time": "2022-07-15T15:23:12.224Z"
      },
      {
        "duration": 8,
        "start_time": "2022-07-15T15:23:12.237Z"
      },
      {
        "duration": 16,
        "start_time": "2022-07-15T15:23:12.247Z"
      },
      {
        "duration": 8,
        "start_time": "2022-07-15T15:23:12.264Z"
      },
      {
        "duration": 8,
        "start_time": "2022-07-15T15:23:12.273Z"
      },
      {
        "duration": 7,
        "start_time": "2022-07-15T15:23:12.282Z"
      },
      {
        "duration": 7,
        "start_time": "2022-07-15T15:23:12.291Z"
      },
      {
        "duration": 8,
        "start_time": "2022-07-15T15:23:12.300Z"
      },
      {
        "duration": 11,
        "start_time": "2022-07-15T15:23:12.310Z"
      },
      {
        "duration": 8,
        "start_time": "2022-07-15T15:23:12.322Z"
      },
      {
        "duration": 8,
        "start_time": "2022-07-15T15:23:12.332Z"
      },
      {
        "duration": 10,
        "start_time": "2022-07-15T15:23:12.342Z"
      },
      {
        "duration": 7,
        "start_time": "2022-07-15T15:23:12.354Z"
      },
      {
        "duration": 1542996,
        "start_time": "2022-07-15T15:23:12.363Z"
      },
      {
        "duration": 3,
        "start_time": "2022-07-15T15:48:55.361Z"
      },
      {
        "duration": 221445,
        "start_time": "2022-07-15T15:48:55.365Z"
      },
      {
        "duration": 78,
        "start_time": "2022-07-15T15:52:36.812Z"
      },
      {
        "duration": 2,
        "start_time": "2022-07-15T15:52:36.892Z"
      },
      {
        "duration": 18701,
        "start_time": "2022-07-15T15:52:36.896Z"
      },
      {
        "duration": 4586,
        "start_time": "2022-07-15T15:52:55.598Z"
      },
      {
        "duration": 1935,
        "start_time": "2022-07-15T15:53:00.186Z"
      },
      {
        "duration": 109,
        "start_time": "2022-07-15T15:53:02.123Z"
      },
      {
        "duration": 1305,
        "start_time": "2022-07-15T15:53:02.324Z"
      },
      {
        "duration": 99,
        "start_time": "2022-07-15T15:53:03.631Z"
      },
      {
        "duration": 96,
        "start_time": "2022-07-15T15:53:03.733Z"
      },
      {
        "duration": 24510,
        "start_time": "2022-07-15T15:53:03.925Z"
      },
      {
        "duration": 3397,
        "start_time": "2022-07-15T15:53:28.528Z"
      },
      {
        "duration": 98,
        "start_time": "2022-07-15T15:53:31.928Z"
      },
      {
        "duration": 424,
        "start_time": "2022-07-15T15:53:32.028Z"
      },
      {
        "duration": 11,
        "start_time": "2022-07-15T15:53:32.454Z"
      },
      {
        "duration": 7,
        "start_time": "2022-07-15T15:53:32.467Z"
      },
      {
        "duration": 7,
        "start_time": "2022-07-15T15:53:32.476Z"
      },
      {
        "duration": 588282,
        "start_time": "2022-07-15T15:53:32.486Z"
      },
      {
        "duration": 10,
        "start_time": "2022-07-15T16:03:20.770Z"
      },
      {
        "duration": 5,
        "start_time": "2022-07-15T16:03:20.782Z"
      },
      {
        "duration": 7,
        "start_time": "2022-07-15T16:03:20.789Z"
      },
      {
        "duration": 6,
        "start_time": "2022-07-15T16:03:20.797Z"
      }
    ],
    "colab": {
      "collapsed_sections": [],
      "provenance": [],
      "toc_visible": true
    },
    "kernelspec": {
      "display_name": "Python 3 (ipykernel)",
      "language": "python",
      "name": "python3"
    },
    "language_info": {
      "codemirror_mode": {
        "name": "ipython",
        "version": 3
      },
      "file_extension": ".py",
      "mimetype": "text/x-python",
      "name": "python",
      "nbconvert_exporter": "python",
      "pygments_lexer": "ipython3",
      "version": "3.9.5"
    },
    "toc": {
      "base_numbering": 1,
      "nav_menu": {},
      "number_sections": true,
      "sideBar": true,
      "skip_h1_title": true,
      "title_cell": "Table of Contents",
      "title_sidebar": "Contents",
      "toc_cell": false,
      "toc_position": {},
      "toc_section_display": true,
      "toc_window_display": false
    }
  },
  "nbformat": 4,
  "nbformat_minor": 0
}