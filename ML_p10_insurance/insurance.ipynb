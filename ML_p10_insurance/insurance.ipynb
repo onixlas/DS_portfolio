{
  "cells": [
    {
      "cell_type": "markdown",
      "metadata": {
        "id": "S05Rq56wQ4XR"
      },
      "source": [
        "# Защита персональных данных клиентов"
      ]
    },
    {
      "cell_type": "markdown",
      "source": [
        "![](https://upload.wikimedia.org/wikipedia/commons/thumb/c/cb/Lock-dynamic-gradient.png/480px-Lock-dynamic-gradient.png 'Vijay Verma')"
      ],
      "metadata": {
        "id": "LOLehKjeJVua"
      }
    },
    {
      "cell_type": "markdown",
      "metadata": {
        "id": "cfGLFLHJQ5MG"
      },
      "source": [
        "Нам нужно защитить данные клиентов страховой компании «Хоть потоп». Разработаем такой метод преобразования данных, чтобы по ним было сложно восстановить персональную информацию. Обоснуем корректность его работы.\n",
        "\n",
        "Нужно защитить данные, чтобы при преобразовании качество моделей машинного обучения не ухудшилось. Подбирать наилучшую модель не требуется."
      ]
    },
    {
      "cell_type": "markdown",
      "metadata": {
        "id": "HAqjKf_DRQb2"
      },
      "source": [
        "## Загрузка данных\n",
        "Познакомимся с имеющимися данными."
      ]
    },
    {
      "cell_type": "code",
      "source": [
        "! gdown 1DEoD8Pi0UXc4uV380LwYC79Vw5wLByPI"
      ],
      "metadata": {
        "colab": {
          "base_uri": "https://localhost:8080/"
        },
        "id": "TCbbg9vmIeCt",
        "outputId": "637e2ceb-14bf-49a8-a7b6-f9e199da1520"
      },
      "execution_count": 51,
      "outputs": [
        {
          "output_type": "stream",
          "name": "stdout",
          "text": [
            "Downloading...\n",
            "From: https://drive.google.com/uc?id=1DEoD8Pi0UXc4uV380LwYC79Vw5wLByPI\n",
            "To: /content/insurance.csv\n",
            "\r  0% 0.00/95.7k [00:00<?, ?B/s]\r100% 95.7k/95.7k [00:00<00:00, 61.8MB/s]\n"
          ]
        }
      ]
    },
    {
      "cell_type": "code",
      "execution_count": 52,
      "metadata": {
        "id": "D3MVmiRJc3Qd"
      },
      "outputs": [],
      "source": [
        "! pip install phik --quiet"
      ]
    },
    {
      "cell_type": "code",
      "execution_count": 53,
      "metadata": {
        "id": "rOL9Td8tZyQy"
      },
      "outputs": [],
      "source": [
        "import pandas as pd\n",
        "import seaborn as sns\n",
        "import matplotlib.pyplot as plt\n",
        "import phik\n",
        "import numpy as np\n",
        "import plotly.express as px\n",
        "from sklearn.linear_model import LinearRegression"
      ]
    },
    {
      "cell_type": "code",
      "execution_count": 54,
      "metadata": {
        "id": "g0X-yBHfcN8u"
      },
      "outputs": [],
      "source": [
        "sns.set_theme(style='darkgrid')\n",
        "sns.set(rc={\"figure.figsize\":(15, 7)})"
      ]
    },
    {
      "cell_type": "code",
      "execution_count": 55,
      "metadata": {
        "id": "fuMWJS4GZ041"
      },
      "outputs": [],
      "source": [
        "try:\n",
        "  df = pd.read_csv('/content/insurance.csv')\n",
        "except:\n",
        "  print('Возникла проблема при загрузке данных')"
      ]
    },
    {
      "cell_type": "code",
      "execution_count": 56,
      "metadata": {
        "colab": {
          "base_uri": "https://localhost:8080/",
          "height": 206
        },
        "id": "VdrrDMO1aC0V",
        "outputId": "585228ca-c998-4d0c-fea7-9a186ded6bca"
      },
      "outputs": [
        {
          "output_type": "execute_result",
          "data": {
            "text/plain": [
              "   Пол  Возраст  Зарплата  Члены семьи  Страховые выплаты\n",
              "0    1     41.0   49600.0            1                  0\n",
              "1    0     46.0   38000.0            1                  1\n",
              "2    0     29.0   21000.0            0                  0\n",
              "3    0     21.0   41700.0            2                  0\n",
              "4    1     28.0   26100.0            0                  0"
            ],
            "text/html": [
              "\n",
              "  <div id=\"df-e7875a07-6e2c-4a5f-a4be-53b4000ba9c6\">\n",
              "    <div class=\"colab-df-container\">\n",
              "      <div>\n",
              "<style scoped>\n",
              "    .dataframe tbody tr th:only-of-type {\n",
              "        vertical-align: middle;\n",
              "    }\n",
              "\n",
              "    .dataframe tbody tr th {\n",
              "        vertical-align: top;\n",
              "    }\n",
              "\n",
              "    .dataframe thead th {\n",
              "        text-align: right;\n",
              "    }\n",
              "</style>\n",
              "<table border=\"1\" class=\"dataframe\">\n",
              "  <thead>\n",
              "    <tr style=\"text-align: right;\">\n",
              "      <th></th>\n",
              "      <th>Пол</th>\n",
              "      <th>Возраст</th>\n",
              "      <th>Зарплата</th>\n",
              "      <th>Члены семьи</th>\n",
              "      <th>Страховые выплаты</th>\n",
              "    </tr>\n",
              "  </thead>\n",
              "  <tbody>\n",
              "    <tr>\n",
              "      <th>0</th>\n",
              "      <td>1</td>\n",
              "      <td>41.0</td>\n",
              "      <td>49600.0</td>\n",
              "      <td>1</td>\n",
              "      <td>0</td>\n",
              "    </tr>\n",
              "    <tr>\n",
              "      <th>1</th>\n",
              "      <td>0</td>\n",
              "      <td>46.0</td>\n",
              "      <td>38000.0</td>\n",
              "      <td>1</td>\n",
              "      <td>1</td>\n",
              "    </tr>\n",
              "    <tr>\n",
              "      <th>2</th>\n",
              "      <td>0</td>\n",
              "      <td>29.0</td>\n",
              "      <td>21000.0</td>\n",
              "      <td>0</td>\n",
              "      <td>0</td>\n",
              "    </tr>\n",
              "    <tr>\n",
              "      <th>3</th>\n",
              "      <td>0</td>\n",
              "      <td>21.0</td>\n",
              "      <td>41700.0</td>\n",
              "      <td>2</td>\n",
              "      <td>0</td>\n",
              "    </tr>\n",
              "    <tr>\n",
              "      <th>4</th>\n",
              "      <td>1</td>\n",
              "      <td>28.0</td>\n",
              "      <td>26100.0</td>\n",
              "      <td>0</td>\n",
              "      <td>0</td>\n",
              "    </tr>\n",
              "  </tbody>\n",
              "</table>\n",
              "</div>\n",
              "      <button class=\"colab-df-convert\" onclick=\"convertToInteractive('df-e7875a07-6e2c-4a5f-a4be-53b4000ba9c6')\"\n",
              "              title=\"Convert this dataframe to an interactive table.\"\n",
              "              style=\"display:none;\">\n",
              "        \n",
              "  <svg xmlns=\"http://www.w3.org/2000/svg\" height=\"24px\"viewBox=\"0 0 24 24\"\n",
              "       width=\"24px\">\n",
              "    <path d=\"M0 0h24v24H0V0z\" fill=\"none\"/>\n",
              "    <path d=\"M18.56 5.44l.94 2.06.94-2.06 2.06-.94-2.06-.94-.94-2.06-.94 2.06-2.06.94zm-11 1L8.5 8.5l.94-2.06 2.06-.94-2.06-.94L8.5 2.5l-.94 2.06-2.06.94zm10 10l.94 2.06.94-2.06 2.06-.94-2.06-.94-.94-2.06-.94 2.06-2.06.94z\"/><path d=\"M17.41 7.96l-1.37-1.37c-.4-.4-.92-.59-1.43-.59-.52 0-1.04.2-1.43.59L10.3 9.45l-7.72 7.72c-.78.78-.78 2.05 0 2.83L4 21.41c.39.39.9.59 1.41.59.51 0 1.02-.2 1.41-.59l7.78-7.78 2.81-2.81c.8-.78.8-2.07 0-2.86zM5.41 20L4 18.59l7.72-7.72 1.47 1.35L5.41 20z\"/>\n",
              "  </svg>\n",
              "      </button>\n",
              "      \n",
              "  <style>\n",
              "    .colab-df-container {\n",
              "      display:flex;\n",
              "      flex-wrap:wrap;\n",
              "      gap: 12px;\n",
              "    }\n",
              "\n",
              "    .colab-df-convert {\n",
              "      background-color: #E8F0FE;\n",
              "      border: none;\n",
              "      border-radius: 50%;\n",
              "      cursor: pointer;\n",
              "      display: none;\n",
              "      fill: #1967D2;\n",
              "      height: 32px;\n",
              "      padding: 0 0 0 0;\n",
              "      width: 32px;\n",
              "    }\n",
              "\n",
              "    .colab-df-convert:hover {\n",
              "      background-color: #E2EBFA;\n",
              "      box-shadow: 0px 1px 2px rgba(60, 64, 67, 0.3), 0px 1px 3px 1px rgba(60, 64, 67, 0.15);\n",
              "      fill: #174EA6;\n",
              "    }\n",
              "\n",
              "    [theme=dark] .colab-df-convert {\n",
              "      background-color: #3B4455;\n",
              "      fill: #D2E3FC;\n",
              "    }\n",
              "\n",
              "    [theme=dark] .colab-df-convert:hover {\n",
              "      background-color: #434B5C;\n",
              "      box-shadow: 0px 1px 3px 1px rgba(0, 0, 0, 0.15);\n",
              "      filter: drop-shadow(0px 1px 2px rgba(0, 0, 0, 0.3));\n",
              "      fill: #FFFFFF;\n",
              "    }\n",
              "  </style>\n",
              "\n",
              "      <script>\n",
              "        const buttonEl =\n",
              "          document.querySelector('#df-e7875a07-6e2c-4a5f-a4be-53b4000ba9c6 button.colab-df-convert');\n",
              "        buttonEl.style.display =\n",
              "          google.colab.kernel.accessAllowed ? 'block' : 'none';\n",
              "\n",
              "        async function convertToInteractive(key) {\n",
              "          const element = document.querySelector('#df-e7875a07-6e2c-4a5f-a4be-53b4000ba9c6');\n",
              "          const dataTable =\n",
              "            await google.colab.kernel.invokeFunction('convertToInteractive',\n",
              "                                                     [key], {});\n",
              "          if (!dataTable) return;\n",
              "\n",
              "          const docLinkHtml = 'Like what you see? Visit the ' +\n",
              "            '<a target=\"_blank\" href=https://colab.research.google.com/notebooks/data_table.ipynb>data table notebook</a>'\n",
              "            + ' to learn more about interactive tables.';\n",
              "          element.innerHTML = '';\n",
              "          dataTable['output_type'] = 'display_data';\n",
              "          await google.colab.output.renderOutput(dataTable, element);\n",
              "          const docLink = document.createElement('div');\n",
              "          docLink.innerHTML = docLinkHtml;\n",
              "          element.appendChild(docLink);\n",
              "        }\n",
              "      </script>\n",
              "    </div>\n",
              "  </div>\n",
              "  "
            ]
          },
          "metadata": {},
          "execution_count": 56
        }
      ],
      "source": [
        "df.head()"
      ]
    },
    {
      "cell_type": "code",
      "execution_count": 57,
      "metadata": {
        "colab": {
          "base_uri": "https://localhost:8080/"
        },
        "id": "NtysQJrzan8m",
        "outputId": "4f5621b9-e726-49e2-f137-8ad88bb178b5"
      },
      "outputs": [
        {
          "output_type": "stream",
          "name": "stdout",
          "text": [
            "<class 'pandas.core.frame.DataFrame'>\n",
            "RangeIndex: 5000 entries, 0 to 4999\n",
            "Data columns (total 5 columns):\n",
            " #   Column             Non-Null Count  Dtype  \n",
            "---  ------             --------------  -----  \n",
            " 0   Пол                5000 non-null   int64  \n",
            " 1   Возраст            5000 non-null   float64\n",
            " 2   Зарплата           5000 non-null   float64\n",
            " 3   Члены семьи        5000 non-null   int64  \n",
            " 4   Страховые выплаты  5000 non-null   int64  \n",
            "dtypes: float64(2), int64(3)\n",
            "memory usage: 195.4 KB\n"
          ]
        }
      ],
      "source": [
        "df.info()"
      ]
    },
    {
      "cell_type": "code",
      "execution_count": 58,
      "metadata": {
        "colab": {
          "base_uri": "https://localhost:8080/",
          "height": 206
        },
        "id": "OBJgjCgiasGd",
        "outputId": "b0814e4d-f521-4ec5-e53b-fca85951bb3d"
      },
      "outputs": [
        {
          "output_type": "execute_result",
          "data": {
            "text/plain": [
              "                    count        mean          std     min      25%      50%  \\\n",
              "Пол                5000.0      0.4990     0.500049     0.0      0.0      0.0   \n",
              "Возраст            5000.0     30.9528     8.440807    18.0     24.0     30.0   \n",
              "Зарплата           5000.0  39916.3600  9900.083569  5300.0  33300.0  40200.0   \n",
              "Члены семьи        5000.0      1.1942     1.091387     0.0      0.0      1.0   \n",
              "Страховые выплаты  5000.0      0.1480     0.463183     0.0      0.0      0.0   \n",
              "\n",
              "                       75%      max  \n",
              "Пол                    1.0      1.0  \n",
              "Возраст               37.0     65.0  \n",
              "Зарплата           46600.0  79000.0  \n",
              "Члены семьи            2.0      6.0  \n",
              "Страховые выплаты      0.0      5.0  "
            ],
            "text/html": [
              "\n",
              "  <div id=\"df-6d61cfd0-0796-4f50-bf19-c67e4c91329d\">\n",
              "    <div class=\"colab-df-container\">\n",
              "      <div>\n",
              "<style scoped>\n",
              "    .dataframe tbody tr th:only-of-type {\n",
              "        vertical-align: middle;\n",
              "    }\n",
              "\n",
              "    .dataframe tbody tr th {\n",
              "        vertical-align: top;\n",
              "    }\n",
              "\n",
              "    .dataframe thead th {\n",
              "        text-align: right;\n",
              "    }\n",
              "</style>\n",
              "<table border=\"1\" class=\"dataframe\">\n",
              "  <thead>\n",
              "    <tr style=\"text-align: right;\">\n",
              "      <th></th>\n",
              "      <th>count</th>\n",
              "      <th>mean</th>\n",
              "      <th>std</th>\n",
              "      <th>min</th>\n",
              "      <th>25%</th>\n",
              "      <th>50%</th>\n",
              "      <th>75%</th>\n",
              "      <th>max</th>\n",
              "    </tr>\n",
              "  </thead>\n",
              "  <tbody>\n",
              "    <tr>\n",
              "      <th>Пол</th>\n",
              "      <td>5000.0</td>\n",
              "      <td>0.4990</td>\n",
              "      <td>0.500049</td>\n",
              "      <td>0.0</td>\n",
              "      <td>0.0</td>\n",
              "      <td>0.0</td>\n",
              "      <td>1.0</td>\n",
              "      <td>1.0</td>\n",
              "    </tr>\n",
              "    <tr>\n",
              "      <th>Возраст</th>\n",
              "      <td>5000.0</td>\n",
              "      <td>30.9528</td>\n",
              "      <td>8.440807</td>\n",
              "      <td>18.0</td>\n",
              "      <td>24.0</td>\n",
              "      <td>30.0</td>\n",
              "      <td>37.0</td>\n",
              "      <td>65.0</td>\n",
              "    </tr>\n",
              "    <tr>\n",
              "      <th>Зарплата</th>\n",
              "      <td>5000.0</td>\n",
              "      <td>39916.3600</td>\n",
              "      <td>9900.083569</td>\n",
              "      <td>5300.0</td>\n",
              "      <td>33300.0</td>\n",
              "      <td>40200.0</td>\n",
              "      <td>46600.0</td>\n",
              "      <td>79000.0</td>\n",
              "    </tr>\n",
              "    <tr>\n",
              "      <th>Члены семьи</th>\n",
              "      <td>5000.0</td>\n",
              "      <td>1.1942</td>\n",
              "      <td>1.091387</td>\n",
              "      <td>0.0</td>\n",
              "      <td>0.0</td>\n",
              "      <td>1.0</td>\n",
              "      <td>2.0</td>\n",
              "      <td>6.0</td>\n",
              "    </tr>\n",
              "    <tr>\n",
              "      <th>Страховые выплаты</th>\n",
              "      <td>5000.0</td>\n",
              "      <td>0.1480</td>\n",
              "      <td>0.463183</td>\n",
              "      <td>0.0</td>\n",
              "      <td>0.0</td>\n",
              "      <td>0.0</td>\n",
              "      <td>0.0</td>\n",
              "      <td>5.0</td>\n",
              "    </tr>\n",
              "  </tbody>\n",
              "</table>\n",
              "</div>\n",
              "      <button class=\"colab-df-convert\" onclick=\"convertToInteractive('df-6d61cfd0-0796-4f50-bf19-c67e4c91329d')\"\n",
              "              title=\"Convert this dataframe to an interactive table.\"\n",
              "              style=\"display:none;\">\n",
              "        \n",
              "  <svg xmlns=\"http://www.w3.org/2000/svg\" height=\"24px\"viewBox=\"0 0 24 24\"\n",
              "       width=\"24px\">\n",
              "    <path d=\"M0 0h24v24H0V0z\" fill=\"none\"/>\n",
              "    <path d=\"M18.56 5.44l.94 2.06.94-2.06 2.06-.94-2.06-.94-.94-2.06-.94 2.06-2.06.94zm-11 1L8.5 8.5l.94-2.06 2.06-.94-2.06-.94L8.5 2.5l-.94 2.06-2.06.94zm10 10l.94 2.06.94-2.06 2.06-.94-2.06-.94-.94-2.06-.94 2.06-2.06.94z\"/><path d=\"M17.41 7.96l-1.37-1.37c-.4-.4-.92-.59-1.43-.59-.52 0-1.04.2-1.43.59L10.3 9.45l-7.72 7.72c-.78.78-.78 2.05 0 2.83L4 21.41c.39.39.9.59 1.41.59.51 0 1.02-.2 1.41-.59l7.78-7.78 2.81-2.81c.8-.78.8-2.07 0-2.86zM5.41 20L4 18.59l7.72-7.72 1.47 1.35L5.41 20z\"/>\n",
              "  </svg>\n",
              "      </button>\n",
              "      \n",
              "  <style>\n",
              "    .colab-df-container {\n",
              "      display:flex;\n",
              "      flex-wrap:wrap;\n",
              "      gap: 12px;\n",
              "    }\n",
              "\n",
              "    .colab-df-convert {\n",
              "      background-color: #E8F0FE;\n",
              "      border: none;\n",
              "      border-radius: 50%;\n",
              "      cursor: pointer;\n",
              "      display: none;\n",
              "      fill: #1967D2;\n",
              "      height: 32px;\n",
              "      padding: 0 0 0 0;\n",
              "      width: 32px;\n",
              "    }\n",
              "\n",
              "    .colab-df-convert:hover {\n",
              "      background-color: #E2EBFA;\n",
              "      box-shadow: 0px 1px 2px rgba(60, 64, 67, 0.3), 0px 1px 3px 1px rgba(60, 64, 67, 0.15);\n",
              "      fill: #174EA6;\n",
              "    }\n",
              "\n",
              "    [theme=dark] .colab-df-convert {\n",
              "      background-color: #3B4455;\n",
              "      fill: #D2E3FC;\n",
              "    }\n",
              "\n",
              "    [theme=dark] .colab-df-convert:hover {\n",
              "      background-color: #434B5C;\n",
              "      box-shadow: 0px 1px 3px 1px rgba(0, 0, 0, 0.15);\n",
              "      filter: drop-shadow(0px 1px 2px rgba(0, 0, 0, 0.3));\n",
              "      fill: #FFFFFF;\n",
              "    }\n",
              "  </style>\n",
              "\n",
              "      <script>\n",
              "        const buttonEl =\n",
              "          document.querySelector('#df-6d61cfd0-0796-4f50-bf19-c67e4c91329d button.colab-df-convert');\n",
              "        buttonEl.style.display =\n",
              "          google.colab.kernel.accessAllowed ? 'block' : 'none';\n",
              "\n",
              "        async function convertToInteractive(key) {\n",
              "          const element = document.querySelector('#df-6d61cfd0-0796-4f50-bf19-c67e4c91329d');\n",
              "          const dataTable =\n",
              "            await google.colab.kernel.invokeFunction('convertToInteractive',\n",
              "                                                     [key], {});\n",
              "          if (!dataTable) return;\n",
              "\n",
              "          const docLinkHtml = 'Like what you see? Visit the ' +\n",
              "            '<a target=\"_blank\" href=https://colab.research.google.com/notebooks/data_table.ipynb>data table notebook</a>'\n",
              "            + ' to learn more about interactive tables.';\n",
              "          element.innerHTML = '';\n",
              "          dataTable['output_type'] = 'display_data';\n",
              "          await google.colab.output.renderOutput(dataTable, element);\n",
              "          const docLink = document.createElement('div');\n",
              "          docLink.innerHTML = docLinkHtml;\n",
              "          element.appendChild(docLink);\n",
              "        }\n",
              "      </script>\n",
              "    </div>\n",
              "  </div>\n",
              "  "
            ]
          },
          "metadata": {},
          "execution_count": 58
        }
      ],
      "source": [
        "df.describe().T"
      ]
    },
    {
      "cell_type": "code",
      "execution_count": 59,
      "metadata": {
        "colab": {
          "base_uri": "https://localhost:8080/"
        },
        "id": "Wi28XFfbbL-7",
        "outputId": "4171a032-c9a0-431e-f700-cee40ca25b18"
      },
      "outputs": [
        {
          "output_type": "execute_result",
          "data": {
            "text/plain": [
              "153"
            ]
          },
          "metadata": {},
          "execution_count": 59
        }
      ],
      "source": [
        "df.duplicated().sum()"
      ]
    },
    {
      "cell_type": "code",
      "execution_count": 60,
      "metadata": {
        "id": "zfm_pGqbltDJ"
      },
      "outputs": [],
      "source": [
        "df = df.drop_duplicates()"
      ]
    },
    {
      "cell_type": "code",
      "execution_count": 61,
      "metadata": {
        "colab": {
          "base_uri": "https://localhost:8080/"
        },
        "id": "TTxou6MklwgN",
        "outputId": "5a2bc3c6-f13b-4fc5-9b7a-2d5f3955aef8"
      },
      "outputs": [
        {
          "output_type": "execute_result",
          "data": {
            "text/plain": [
              "0"
            ]
          },
          "metadata": {},
          "execution_count": 61
        }
      ],
      "source": [
        "# контроль\n",
        "df.duplicated().sum()"
      ]
    },
    {
      "cell_type": "markdown",
      "metadata": {
        "id": "DSUhhxwMa-0a"
      },
      "source": [
        "Итак, нам доступен файл с данными 5000 клинетов. Пропусков данных нет. Было обнаружено 153 явных дупликата, которые мы отбросили. Возможно тип данных для столбца `Возраст` определился не очень удачно — скорее всего можно использовать целочисленный тип данных."
      ]
    },
    {
      "cell_type": "markdown",
      "metadata": {
        "id": "dRloIeCLb8KG"
      },
      "source": [
        "## Исследовательский анализ данных\n",
        "\n",
        "Посмотрим на наши данные повнимательнее."
      ]
    },
    {
      "cell_type": "code",
      "execution_count": 62,
      "metadata": {
        "colab": {
          "base_uri": "https://localhost:8080/",
          "height": 112
        },
        "id": "7gptWFTOeNNs",
        "outputId": "3118b8df-cc0e-47fc-f971-c9a497a96c25"
      },
      "outputs": [
        {
          "output_type": "execute_result",
          "data": {
            "text/plain": [
              "        Пол\n",
              "0  0.501547\n",
              "1  0.498453"
            ],
            "text/html": [
              "\n",
              "  <div id=\"df-4436ef9c-2431-4722-bbed-a2e424dde1c4\">\n",
              "    <div class=\"colab-df-container\">\n",
              "      <div>\n",
              "<style scoped>\n",
              "    .dataframe tbody tr th:only-of-type {\n",
              "        vertical-align: middle;\n",
              "    }\n",
              "\n",
              "    .dataframe tbody tr th {\n",
              "        vertical-align: top;\n",
              "    }\n",
              "\n",
              "    .dataframe thead th {\n",
              "        text-align: right;\n",
              "    }\n",
              "</style>\n",
              "<table border=\"1\" class=\"dataframe\">\n",
              "  <thead>\n",
              "    <tr style=\"text-align: right;\">\n",
              "      <th></th>\n",
              "      <th>Пол</th>\n",
              "    </tr>\n",
              "  </thead>\n",
              "  <tbody>\n",
              "    <tr>\n",
              "      <th>0</th>\n",
              "      <td>0.501547</td>\n",
              "    </tr>\n",
              "    <tr>\n",
              "      <th>1</th>\n",
              "      <td>0.498453</td>\n",
              "    </tr>\n",
              "  </tbody>\n",
              "</table>\n",
              "</div>\n",
              "      <button class=\"colab-df-convert\" onclick=\"convertToInteractive('df-4436ef9c-2431-4722-bbed-a2e424dde1c4')\"\n",
              "              title=\"Convert this dataframe to an interactive table.\"\n",
              "              style=\"display:none;\">\n",
              "        \n",
              "  <svg xmlns=\"http://www.w3.org/2000/svg\" height=\"24px\"viewBox=\"0 0 24 24\"\n",
              "       width=\"24px\">\n",
              "    <path d=\"M0 0h24v24H0V0z\" fill=\"none\"/>\n",
              "    <path d=\"M18.56 5.44l.94 2.06.94-2.06 2.06-.94-2.06-.94-.94-2.06-.94 2.06-2.06.94zm-11 1L8.5 8.5l.94-2.06 2.06-.94-2.06-.94L8.5 2.5l-.94 2.06-2.06.94zm10 10l.94 2.06.94-2.06 2.06-.94-2.06-.94-.94-2.06-.94 2.06-2.06.94z\"/><path d=\"M17.41 7.96l-1.37-1.37c-.4-.4-.92-.59-1.43-.59-.52 0-1.04.2-1.43.59L10.3 9.45l-7.72 7.72c-.78.78-.78 2.05 0 2.83L4 21.41c.39.39.9.59 1.41.59.51 0 1.02-.2 1.41-.59l7.78-7.78 2.81-2.81c.8-.78.8-2.07 0-2.86zM5.41 20L4 18.59l7.72-7.72 1.47 1.35L5.41 20z\"/>\n",
              "  </svg>\n",
              "      </button>\n",
              "      \n",
              "  <style>\n",
              "    .colab-df-container {\n",
              "      display:flex;\n",
              "      flex-wrap:wrap;\n",
              "      gap: 12px;\n",
              "    }\n",
              "\n",
              "    .colab-df-convert {\n",
              "      background-color: #E8F0FE;\n",
              "      border: none;\n",
              "      border-radius: 50%;\n",
              "      cursor: pointer;\n",
              "      display: none;\n",
              "      fill: #1967D2;\n",
              "      height: 32px;\n",
              "      padding: 0 0 0 0;\n",
              "      width: 32px;\n",
              "    }\n",
              "\n",
              "    .colab-df-convert:hover {\n",
              "      background-color: #E2EBFA;\n",
              "      box-shadow: 0px 1px 2px rgba(60, 64, 67, 0.3), 0px 1px 3px 1px rgba(60, 64, 67, 0.15);\n",
              "      fill: #174EA6;\n",
              "    }\n",
              "\n",
              "    [theme=dark] .colab-df-convert {\n",
              "      background-color: #3B4455;\n",
              "      fill: #D2E3FC;\n",
              "    }\n",
              "\n",
              "    [theme=dark] .colab-df-convert:hover {\n",
              "      background-color: #434B5C;\n",
              "      box-shadow: 0px 1px 3px 1px rgba(0, 0, 0, 0.15);\n",
              "      filter: drop-shadow(0px 1px 2px rgba(0, 0, 0, 0.3));\n",
              "      fill: #FFFFFF;\n",
              "    }\n",
              "  </style>\n",
              "\n",
              "      <script>\n",
              "        const buttonEl =\n",
              "          document.querySelector('#df-4436ef9c-2431-4722-bbed-a2e424dde1c4 button.colab-df-convert');\n",
              "        buttonEl.style.display =\n",
              "          google.colab.kernel.accessAllowed ? 'block' : 'none';\n",
              "\n",
              "        async function convertToInteractive(key) {\n",
              "          const element = document.querySelector('#df-4436ef9c-2431-4722-bbed-a2e424dde1c4');\n",
              "          const dataTable =\n",
              "            await google.colab.kernel.invokeFunction('convertToInteractive',\n",
              "                                                     [key], {});\n",
              "          if (!dataTable) return;\n",
              "\n",
              "          const docLinkHtml = 'Like what you see? Visit the ' +\n",
              "            '<a target=\"_blank\" href=https://colab.research.google.com/notebooks/data_table.ipynb>data table notebook</a>'\n",
              "            + ' to learn more about interactive tables.';\n",
              "          element.innerHTML = '';\n",
              "          dataTable['output_type'] = 'display_data';\n",
              "          await google.colab.output.renderOutput(dataTable, element);\n",
              "          const docLink = document.createElement('div');\n",
              "          docLink.innerHTML = docLinkHtml;\n",
              "          element.appendChild(docLink);\n",
              "        }\n",
              "      </script>\n",
              "    </div>\n",
              "  </div>\n",
              "  "
            ]
          },
          "metadata": {},
          "execution_count": 62
        }
      ],
      "source": [
        "df['Пол'].value_counts(normalize=True).to_frame()"
      ]
    },
    {
      "cell_type": "code",
      "execution_count": 63,
      "metadata": {
        "colab": {
          "base_uri": "https://localhost:8080/",
          "height": 464
        },
        "id": "9Lnk44tZcEUI",
        "outputId": "1f5b9ea5-9f03-4877-89b7-4452148d68a8"
      },
      "outputs": [
        {
          "output_type": "display_data",
          "data": {
            "text/plain": [
              "<Figure size 1080x504 with 1 Axes>"
            ],
            "image/png": "[encoded data removed]"
          },
          "metadata": {}
        }
      ],
      "source": [
        "sns.countplot(data=df, y='Пол')\\\n",
        ".set(title='Данные о поле клиентов',\n",
        "     xlabel='Количество записей');"
      ]
    },
    {
      "cell_type": "markdown",
      "metadata": {
        "id": "0o9lfeX7ejo0"
      },
      "source": [
        "В наших данных примерно поровну записей о клиентах-женщинах и клиентах-мужчинах, замечательно."
      ]
    },
    {
      "cell_type": "markdown",
      "metadata": {
        "id": "JNlgI4COgFms"
      },
      "source": [
        "Преобразуем тип данных в колонке «Возраст» в целочисленный и посмотрим на результат."
      ]
    },
    {
      "cell_type": "code",
      "execution_count": 64,
      "metadata": {
        "colab": {
          "base_uri": "https://localhost:8080/"
        },
        "id": "zbz9UOnsIUVz",
        "outputId": "2b8f972d-d833-446e-fdf9-a4584d8e1e25"
      },
      "outputs": [
        {
          "output_type": "execute_result",
          "data": {
            "text/plain": [
              "0.0"
            ]
          },
          "metadata": {},
          "execution_count": 64
        }
      ],
      "source": [
        "# убедимся, что все данные подходят для преобразования\n",
        "(df['Возраст'] % 1).sum()"
      ]
    },
    {
      "cell_type": "code",
      "execution_count": 65,
      "metadata": {
        "id": "cW7c8I6igA9v"
      },
      "outputs": [],
      "source": [
        "df['Возраст'] = df['Возраст'].astype(int)"
      ]
    },
    {
      "cell_type": "code",
      "execution_count": 66,
      "metadata": {
        "colab": {
          "base_uri": "https://localhost:8080/"
        },
        "id": "BPRpO_vqgYVX",
        "outputId": "d7c5f073-05b9-4c7f-f110-11b5c9ba0d03"
      },
      "outputs": [
        {
          "output_type": "stream",
          "name": "stdout",
          "text": [
            "<class 'pandas.core.frame.DataFrame'>\n",
            "Int64Index: 4847 entries, 0 to 4999\n",
            "Data columns (total 5 columns):\n",
            " #   Column             Non-Null Count  Dtype  \n",
            "---  ------             --------------  -----  \n",
            " 0   Пол                4847 non-null   int64  \n",
            " 1   Возраст            4847 non-null   int64  \n",
            " 2   Зарплата           4847 non-null   float64\n",
            " 3   Члены семьи        4847 non-null   int64  \n",
            " 4   Страховые выплаты  4847 non-null   int64  \n",
            "dtypes: float64(1), int64(4)\n",
            "memory usage: 356.2 KB\n"
          ]
        }
      ],
      "source": [
        "# контроль\n",
        "df.info()"
      ]
    },
    {
      "cell_type": "code",
      "execution_count": 67,
      "metadata": {
        "colab": {
          "base_uri": "https://localhost:8080/"
        },
        "id": "VzZjON1JZWRg",
        "outputId": "4303dbf6-fb52-446d-b9f9-54a753237c85"
      },
      "outputs": [
        {
          "output_type": "execute_result",
          "data": {
            "text/plain": [
              "count    4847.000000\n",
              "mean       31.023932\n",
              "std         8.487995\n",
              "min        18.000000\n",
              "25%        24.000000\n",
              "50%        30.000000\n",
              "75%        37.000000\n",
              "max        65.000000\n",
              "Name: Возраст, dtype: float64"
            ]
          },
          "metadata": {},
          "execution_count": 67
        }
      ],
      "source": [
        "df['Возраст'].describe()"
      ]
    },
    {
      "cell_type": "code",
      "execution_count": 68,
      "metadata": {
        "colab": {
          "base_uri": "https://localhost:8080/",
          "height": 464
        },
        "id": "HuclqHEeejTX",
        "outputId": "3444a700-25b2-4dad-b1fe-02df8f2dc6af"
      },
      "outputs": [
        {
          "output_type": "display_data",
          "data": {
            "text/plain": [
              "<Figure size 1080x504 with 1 Axes>"
            ],
            "image/png": "[encoded data removed]"
          },
          "metadata": {}
        }
      ],
      "source": [
        "count = sns.countplot(data=df, x='Возраст')\n",
        "count.set(title='Количество данных о клиентах различных возрастов',\n",
        "         ylabel='Количество записей',\n",
        "         xlabel='Возраст клиентов');"
      ]
    },
    {
      "cell_type": "markdown",
      "metadata": {
        "id": "6LXgfU42ZcTU"
      },
      "source": [
        "В данных содержится информация о клиентах возрастом от 18 до 65 лет, при этом значительной части клиентов от 24 до 37 лет."
      ]
    },
    {
      "cell_type": "code",
      "execution_count": 69,
      "metadata": {
        "colab": {
          "base_uri": "https://localhost:8080/"
        },
        "id": "a-wjcy47Z6Kz",
        "outputId": "c9bcaa27-76bc-4161-bd14-3c4113fa9f05"
      },
      "outputs": [
        {
          "output_type": "execute_result",
          "data": {
            "text/plain": [
              "count     4847.000000\n",
              "mean     39895.811842\n",
              "std       9972.953985\n",
              "min       5300.000000\n",
              "25%      33200.000000\n",
              "50%      40200.000000\n",
              "75%      46600.000000\n",
              "max      79000.000000\n",
              "Name: Зарплата, dtype: float64"
            ]
          },
          "metadata": {},
          "execution_count": 69
        }
      ],
      "source": [
        "df['Зарплата'].describe()"
      ]
    },
    {
      "cell_type": "code",
      "execution_count": 70,
      "metadata": {
        "colab": {
          "base_uri": "https://localhost:8080/",
          "height": 464
        },
        "id": "i71c87qNhqvO",
        "outputId": "ac474079-8734-4e6e-c8d3-845f17917a20"
      },
      "outputs": [
        {
          "output_type": "display_data",
          "data": {
            "text/plain": [
              "<Figure size 1080x504 with 2 Axes>"
            ],
            "image/png": "[encoded data removed]"
          },
          "metadata": {}
        }
      ],
      "source": [
        "_, [axs_hist, axs_box] = plt.subplots(2, 1,\n",
        "                                     figsize=(15, 7), \n",
        "                                     sharex=True,\n",
        "                                     gridspec_kw=dict(height_ratios=[5,1]))\n",
        "hist = sns.histplot(data=df, x='Зарплата', kde=True, ax=axs_hist)\n",
        "box = sns.boxplot(data=df, x='Зарплата', orient='h', ax=axs_box)\n",
        "hist.set(title='Гистограмма распределения зарплат клиентов',\n",
        "         ylabel='Количество записей');"
      ]
    },
    {
      "cell_type": "markdown",
      "metadata": {
        "id": "jAD4fY-1Zz5N"
      },
      "source": [
        "Распределение зарплат клиентов похоже на нормальное со средним около 40000 и стандартным отклонением около 10000. Посмотрим на график, показывающий зависимость зарплаты от возраста."
      ]
    },
    {
      "cell_type": "code",
      "execution_count": 71,
      "metadata": {
        "colab": {
          "base_uri": "https://localhost:8080/",
          "height": 464
        },
        "id": "xj7-YoAGZy8J",
        "outputId": "969b64cb-a412-450e-e79b-7f069ebef439"
      },
      "outputs": [
        {
          "output_type": "display_data",
          "data": {
            "text/plain": [
              "<Figure size 1080x504 with 1 Axes>"
            ],
            "image/png": "[encoded data removed]"
          },
          "metadata": {}
        }
      ],
      "source": [
        "sns.scatterplot(data=df, x='Возраст', y='Зарплата')\\\n",
        ".set(title='Диаграмма рассеяния для зависимости зарплаты от возраста клиента');"
      ]
    },
    {
      "cell_type": "markdown",
      "metadata": {
        "id": "TcJXc0oRa2om"
      },
      "source": [
        "Странно. Можно было ожидать, что с возрастом средняя зарплата клиента будет расти. Позднее, когда мы построим матрицу корреляций признаков, следует обратить внимание, будет ли наблюдаться корреляция между зарплатой и возрастом."
      ]
    },
    {
      "cell_type": "code",
      "execution_count": 72,
      "metadata": {
        "colab": {
          "base_uri": "https://localhost:8080/",
          "height": 269
        },
        "id": "TYXp4D1JivgH",
        "outputId": "3a68520e-380b-40d9-9fdb-e8e761c4880c"
      },
      "outputs": [
        {
          "output_type": "execute_result",
          "data": {
            "text/plain": [
              "   Члены семьи\n",
              "1     0.360635\n",
              "0     0.301424\n",
              "2     0.214153\n",
              "3     0.090159\n",
              "4     0.025583\n",
              "5     0.006602\n",
              "6     0.001444"
            ],
            "text/html": [
              "\n",
              "  <div id=\"df-5e3d195c-0955-4e4e-aa78-93955b91b660\">\n",
              "    <div class=\"colab-df-container\">\n",
              "      <div>\n",
              "<style scoped>\n",
              "    .dataframe tbody tr th:only-of-type {\n",
              "        vertical-align: middle;\n",
              "    }\n",
              "\n",
              "    .dataframe tbody tr th {\n",
              "        vertical-align: top;\n",
              "    }\n",
              "\n",
              "    .dataframe thead th {\n",
              "        text-align: right;\n",
              "    }\n",
              "</style>\n",
              "<table border=\"1\" class=\"dataframe\">\n",
              "  <thead>\n",
              "    <tr style=\"text-align: right;\">\n",
              "      <th></th>\n",
              "      <th>Члены семьи</th>\n",
              "    </tr>\n",
              "  </thead>\n",
              "  <tbody>\n",
              "    <tr>\n",
              "      <th>1</th>\n",
              "      <td>0.360635</td>\n",
              "    </tr>\n",
              "    <tr>\n",
              "      <th>0</th>\n",
              "      <td>0.301424</td>\n",
              "    </tr>\n",
              "    <tr>\n",
              "      <th>2</th>\n",
              "      <td>0.214153</td>\n",
              "    </tr>\n",
              "    <tr>\n",
              "      <th>3</th>\n",
              "      <td>0.090159</td>\n",
              "    </tr>\n",
              "    <tr>\n",
              "      <th>4</th>\n",
              "      <td>0.025583</td>\n",
              "    </tr>\n",
              "    <tr>\n",
              "      <th>5</th>\n",
              "      <td>0.006602</td>\n",
              "    </tr>\n",
              "    <tr>\n",
              "      <th>6</th>\n",
              "      <td>0.001444</td>\n",
              "    </tr>\n",
              "  </tbody>\n",
              "</table>\n",
              "</div>\n",
              "      <button class=\"colab-df-convert\" onclick=\"convertToInteractive('df-5e3d195c-0955-4e4e-aa78-93955b91b660')\"\n",
              "              title=\"Convert this dataframe to an interactive table.\"\n",
              "              style=\"display:none;\">\n",
              "        \n",
              "  <svg xmlns=\"http://www.w3.org/2000/svg\" height=\"24px\"viewBox=\"0 0 24 24\"\n",
              "       width=\"24px\">\n",
              "    <path d=\"M0 0h24v24H0V0z\" fill=\"none\"/>\n",
              "    <path d=\"M18.56 5.44l.94 2.06.94-2.06 2.06-.94-2.06-.94-.94-2.06-.94 2.06-2.06.94zm-11 1L8.5 8.5l.94-2.06 2.06-.94-2.06-.94L8.5 2.5l-.94 2.06-2.06.94zm10 10l.94 2.06.94-2.06 2.06-.94-2.06-.94-.94-2.06-.94 2.06-2.06.94z\"/><path d=\"M17.41 7.96l-1.37-1.37c-.4-.4-.92-.59-1.43-.59-.52 0-1.04.2-1.43.59L10.3 9.45l-7.72 7.72c-.78.78-.78 2.05 0 2.83L4 21.41c.39.39.9.59 1.41.59.51 0 1.02-.2 1.41-.59l7.78-7.78 2.81-2.81c.8-.78.8-2.07 0-2.86zM5.41 20L4 18.59l7.72-7.72 1.47 1.35L5.41 20z\"/>\n",
              "  </svg>\n",
              "      </button>\n",
              "      \n",
              "  <style>\n",
              "    .colab-df-container {\n",
              "      display:flex;\n",
              "      flex-wrap:wrap;\n",
              "      gap: 12px;\n",
              "    }\n",
              "\n",
              "    .colab-df-convert {\n",
              "      background-color: #E8F0FE;\n",
              "      border: none;\n",
              "      border-radius: 50%;\n",
              "      cursor: pointer;\n",
              "      display: none;\n",
              "      fill: #1967D2;\n",
              "      height: 32px;\n",
              "      padding: 0 0 0 0;\n",
              "      width: 32px;\n",
              "    }\n",
              "\n",
              "    .colab-df-convert:hover {\n",
              "      background-color: #E2EBFA;\n",
              "      box-shadow: 0px 1px 2px rgba(60, 64, 67, 0.3), 0px 1px 3px 1px rgba(60, 64, 67, 0.15);\n",
              "      fill: #174EA6;\n",
              "    }\n",
              "\n",
              "    [theme=dark] .colab-df-convert {\n",
              "      background-color: #3B4455;\n",
              "      fill: #D2E3FC;\n",
              "    }\n",
              "\n",
              "    [theme=dark] .colab-df-convert:hover {\n",
              "      background-color: #434B5C;\n",
              "      box-shadow: 0px 1px 3px 1px rgba(0, 0, 0, 0.15);\n",
              "      filter: drop-shadow(0px 1px 2px rgba(0, 0, 0, 0.3));\n",
              "      fill: #FFFFFF;\n",
              "    }\n",
              "  </style>\n",
              "\n",
              "      <script>\n",
              "        const buttonEl =\n",
              "          document.querySelector('#df-5e3d195c-0955-4e4e-aa78-93955b91b660 button.colab-df-convert');\n",
              "        buttonEl.style.display =\n",
              "          google.colab.kernel.accessAllowed ? 'block' : 'none';\n",
              "\n",
              "        async function convertToInteractive(key) {\n",
              "          const element = document.querySelector('#df-5e3d195c-0955-4e4e-aa78-93955b91b660');\n",
              "          const dataTable =\n",
              "            await google.colab.kernel.invokeFunction('convertToInteractive',\n",
              "                                                     [key], {});\n",
              "          if (!dataTable) return;\n",
              "\n",
              "          const docLinkHtml = 'Like what you see? Visit the ' +\n",
              "            '<a target=\"_blank\" href=https://colab.research.google.com/notebooks/data_table.ipynb>data table notebook</a>'\n",
              "            + ' to learn more about interactive tables.';\n",
              "          element.innerHTML = '';\n",
              "          dataTable['output_type'] = 'display_data';\n",
              "          await google.colab.output.renderOutput(dataTable, element);\n",
              "          const docLink = document.createElement('div');\n",
              "          docLink.innerHTML = docLinkHtml;\n",
              "          element.appendChild(docLink);\n",
              "        }\n",
              "      </script>\n",
              "    </div>\n",
              "  </div>\n",
              "  "
            ]
          },
          "metadata": {},
          "execution_count": 72
        }
      ],
      "source": [
        "df['Члены семьи'].value_counts(normalize=True).to_frame()"
      ]
    },
    {
      "cell_type": "code",
      "execution_count": 73,
      "metadata": {
        "colab": {
          "base_uri": "https://localhost:8080/",
          "height": 464
        },
        "id": "6fDxyWY3i370",
        "outputId": "5342d0dc-a5af-4ef6-9263-f0e9c27bcf7e"
      },
      "outputs": [
        {
          "output_type": "display_data",
          "data": {
            "text/plain": [
              "<Figure size 1080x504 with 1 Axes>"
            ],
            "image/png": "[encoded data removed]"
          },
          "metadata": {}
        }
      ],
      "source": [
        "count = sns.countplot(data=df, x='Члены семьи')\n",
        "count.set(title='Количество данных о клиентах с семьями различных размеров',\n",
        "         ylabel='Количество записей',\n",
        "         xlabel='Число членов семьи');"
      ]
    },
    {
      "cell_type": "markdown",
      "metadata": {
        "id": "vPisKUB5bQgO"
      },
      "source": [
        "Видно, что в наших данных большинство клиентов имеют от нуля до двух челнов семьи. Число записей о клиентах, имеющих пять или шесть членов семьи, довольно мало."
      ]
    },
    {
      "cell_type": "code",
      "execution_count": 74,
      "metadata": {
        "colab": {
          "base_uri": "https://localhost:8080/",
          "height": 238
        },
        "id": "6aHz8_mojPKx",
        "outputId": "e3332652-bd68-4280-cbc2-e3efe0f0f61c"
      },
      "outputs": [
        {
          "output_type": "execute_result",
          "data": {
            "text/plain": [
              "   Страховые выплаты\n",
              "0           0.883846\n",
              "1           0.087270\n",
              "2           0.023520\n",
              "3           0.003714\n",
              "4           0.001444\n",
              "5           0.000206"
            ],
            "text/html": [
              "\n",
              "  <div id=\"df-60634071-11d1-41b9-a67d-31a1385c8b29\">\n",
              "    <div class=\"colab-df-container\">\n",
              "      <div>\n",
              "<style scoped>\n",
              "    .dataframe tbody tr th:only-of-type {\n",
              "        vertical-align: middle;\n",
              "    }\n",
              "\n",
              "    .dataframe tbody tr th {\n",
              "        vertical-align: top;\n",
              "    }\n",
              "\n",
              "    .dataframe thead th {\n",
              "        text-align: right;\n",
              "    }\n",
              "</style>\n",
              "<table border=\"1\" class=\"dataframe\">\n",
              "  <thead>\n",
              "    <tr style=\"text-align: right;\">\n",
              "      <th></th>\n",
              "      <th>Страховые выплаты</th>\n",
              "    </tr>\n",
              "  </thead>\n",
              "  <tbody>\n",
              "    <tr>\n",
              "      <th>0</th>\n",
              "      <td>0.883846</td>\n",
              "    </tr>\n",
              "    <tr>\n",
              "      <th>1</th>\n",
              "      <td>0.087270</td>\n",
              "    </tr>\n",
              "    <tr>\n",
              "      <th>2</th>\n",
              "      <td>0.023520</td>\n",
              "    </tr>\n",
              "    <tr>\n",
              "      <th>3</th>\n",
              "      <td>0.003714</td>\n",
              "    </tr>\n",
              "    <tr>\n",
              "      <th>4</th>\n",
              "      <td>0.001444</td>\n",
              "    </tr>\n",
              "    <tr>\n",
              "      <th>5</th>\n",
              "      <td>0.000206</td>\n",
              "    </tr>\n",
              "  </tbody>\n",
              "</table>\n",
              "</div>\n",
              "      <button class=\"colab-df-convert\" onclick=\"convertToInteractive('df-60634071-11d1-41b9-a67d-31a1385c8b29')\"\n",
              "              title=\"Convert this dataframe to an interactive table.\"\n",
              "              style=\"display:none;\">\n",
              "        \n",
              "  <svg xmlns=\"http://www.w3.org/2000/svg\" height=\"24px\"viewBox=\"0 0 24 24\"\n",
              "       width=\"24px\">\n",
              "    <path d=\"M0 0h24v24H0V0z\" fill=\"none\"/>\n",
              "    <path d=\"M18.56 5.44l.94 2.06.94-2.06 2.06-.94-2.06-.94-.94-2.06-.94 2.06-2.06.94zm-11 1L8.5 8.5l.94-2.06 2.06-.94-2.06-.94L8.5 2.5l-.94 2.06-2.06.94zm10 10l.94 2.06.94-2.06 2.06-.94-2.06-.94-.94-2.06-.94 2.06-2.06.94z\"/><path d=\"M17.41 7.96l-1.37-1.37c-.4-.4-.92-.59-1.43-.59-.52 0-1.04.2-1.43.59L10.3 9.45l-7.72 7.72c-.78.78-.78 2.05 0 2.83L4 21.41c.39.39.9.59 1.41.59.51 0 1.02-.2 1.41-.59l7.78-7.78 2.81-2.81c.8-.78.8-2.07 0-2.86zM5.41 20L4 18.59l7.72-7.72 1.47 1.35L5.41 20z\"/>\n",
              "  </svg>\n",
              "      </button>\n",
              "      \n",
              "  <style>\n",
              "    .colab-df-container {\n",
              "      display:flex;\n",
              "      flex-wrap:wrap;\n",
              "      gap: 12px;\n",
              "    }\n",
              "\n",
              "    .colab-df-convert {\n",
              "      background-color: #E8F0FE;\n",
              "      border: none;\n",
              "      border-radius: 50%;\n",
              "      cursor: pointer;\n",
              "      display: none;\n",
              "      fill: #1967D2;\n",
              "      height: 32px;\n",
              "      padding: 0 0 0 0;\n",
              "      width: 32px;\n",
              "    }\n",
              "\n",
              "    .colab-df-convert:hover {\n",
              "      background-color: #E2EBFA;\n",
              "      box-shadow: 0px 1px 2px rgba(60, 64, 67, 0.3), 0px 1px 3px 1px rgba(60, 64, 67, 0.15);\n",
              "      fill: #174EA6;\n",
              "    }\n",
              "\n",
              "    [theme=dark] .colab-df-convert {\n",
              "      background-color: #3B4455;\n",
              "      fill: #D2E3FC;\n",
              "    }\n",
              "\n",
              "    [theme=dark] .colab-df-convert:hover {\n",
              "      background-color: #434B5C;\n",
              "      box-shadow: 0px 1px 3px 1px rgba(0, 0, 0, 0.15);\n",
              "      filter: drop-shadow(0px 1px 2px rgba(0, 0, 0, 0.3));\n",
              "      fill: #FFFFFF;\n",
              "    }\n",
              "  </style>\n",
              "\n",
              "      <script>\n",
              "        const buttonEl =\n",
              "          document.querySelector('#df-60634071-11d1-41b9-a67d-31a1385c8b29 button.colab-df-convert');\n",
              "        buttonEl.style.display =\n",
              "          google.colab.kernel.accessAllowed ? 'block' : 'none';\n",
              "\n",
              "        async function convertToInteractive(key) {\n",
              "          const element = document.querySelector('#df-60634071-11d1-41b9-a67d-31a1385c8b29');\n",
              "          const dataTable =\n",
              "            await google.colab.kernel.invokeFunction('convertToInteractive',\n",
              "                                                     [key], {});\n",
              "          if (!dataTable) return;\n",
              "\n",
              "          const docLinkHtml = 'Like what you see? Visit the ' +\n",
              "            '<a target=\"_blank\" href=https://colab.research.google.com/notebooks/data_table.ipynb>data table notebook</a>'\n",
              "            + ' to learn more about interactive tables.';\n",
              "          element.innerHTML = '';\n",
              "          dataTable['output_type'] = 'display_data';\n",
              "          await google.colab.output.renderOutput(dataTable, element);\n",
              "          const docLink = document.createElement('div');\n",
              "          docLink.innerHTML = docLinkHtml;\n",
              "          element.appendChild(docLink);\n",
              "        }\n",
              "      </script>\n",
              "    </div>\n",
              "  </div>\n",
              "  "
            ]
          },
          "metadata": {},
          "execution_count": 74
        }
      ],
      "source": [
        "df['Страховые выплаты'].value_counts(normalize=True).to_frame()"
      ]
    },
    {
      "cell_type": "code",
      "execution_count": 75,
      "metadata": {
        "colab": {
          "base_uri": "https://localhost:8080/",
          "height": 464
        },
        "id": "X8b5xjstjTuK",
        "outputId": "d09a7e04-a228-4e94-8d0f-90794ba2e9fa"
      },
      "outputs": [
        {
          "output_type": "display_data",
          "data": {
            "text/plain": [
              "<Figure size 1080x504 with 1 Axes>"
            ],
            "image/png": "[encoded data removed]"
          },
          "metadata": {}
        }
      ],
      "source": [
        "count = sns.countplot(data=df, x='Страховые выплаты')\n",
        "count.set(title='Количество данных о клиентах с различным количеством страховых выплат',\n",
        "         ylabel='Количество записей',\n",
        "         xlabel='Количество страховых выплат');"
      ]
    },
    {
      "cell_type": "markdown",
      "metadata": {
        "id": "-HPHLGaabfb-"
      },
      "source": [
        "Видно, что большинство клиентов не получают страховых выплат. Целевой признак не сбалансирован, что необходимо будет учесть при построении моделей."
      ]
    },
    {
      "cell_type": "markdown",
      "metadata": {
        "id": "_dPzfBjdburw"
      },
      "source": [
        "Построим матрицу корреляций."
      ]
    },
    {
      "cell_type": "code",
      "execution_count": 76,
      "metadata": {
        "colab": {
          "base_uri": "https://localhost:8080/",
          "height": 555
        },
        "id": "KQv8I2QDb_k-",
        "outputId": "586b7aa2-6998-44c6-b24a-40ce65d5745f"
      },
      "outputs": [
        {
          "output_type": "display_data",
          "data": {
            "text/plain": [
              "<Figure size 1080x504 with 2 Axes>"
            ],
            "image/png": "[encoded data removed]"
          },
          "metadata": {}
        }
      ],
      "source": [
        "corr = df.corr()\n",
        "sns.heatmap(corr, annot=True, cmap='Blues', square=True)\\\n",
        ".set(title='Матрица корреляций Пирсона');"
      ]
    },
    {
      "cell_type": "code",
      "execution_count": 77,
      "metadata": {
        "colab": {
          "base_uri": "https://localhost:8080/",
          "height": 575
        },
        "id": "A6XWGXa-dJGR",
        "outputId": "b244a126-ccc2-4171-9bd1-97ca611db676"
      },
      "outputs": [
        {
          "output_type": "stream",
          "name": "stdout",
          "text": [
            "interval columns not set, guessing: ['Пол', 'Возраст', 'Зарплата', 'Члены семьи', 'Страховые выплаты']\n"
          ]
        },
        {
          "output_type": "display_data",
          "data": {
            "text/plain": [
              "<Figure size 1080x504 with 2 Axes>"
            ],
            "image/png": "[encoded data removed]"
          },
          "metadata": {}
        }
      ],
      "source": [
        "phik = df.phik_matrix()\n",
        "sns.heatmap(phik, annot=True, cmap='Blues', square=True)\\\n",
        ".set(title='Матрица корреляций $\\phi_K$');"
      ]
    },
    {
      "cell_type": "markdown",
      "metadata": {
        "id": "3Qx1EB5QduFF"
      },
      "source": [
        "Оба теста показали значительную корреляцию между возрастом и страховыми выплатами, что выглядит правдоподобно. При этом ранее мы обратили внимание на отсутствие выраженной зависимости между возрастом и зарплатой клиента, эта гипотеза подтвердилась на обоих тестах. Возможно имеющиеся у нас данные — синтетические."
      ]
    },
    {
      "cell_type": "markdown",
      "metadata": {
        "id": "lylWdBg9Y7X5"
      },
      "source": [
        "### Промежуточный вывод\n",
        "\n",
        "Был проведён небольшой исследовательский анализ данных. После устранения незначительной проблемы с определением типа данных в столбце `Возраст` было установлено следующее:\n",
        "* в данных содержатся записи о клиентах-женщинах и клиентах-мужчинах, причём их примерно поровну\n",
        "* в данных содержится информация о клиентах возрастом от 18 до 65 лет, при этом значительной части клиентов от 24 до 37 лет\n",
        "* распределение зарплат клиентов похоже на нормальное со средним около 40000 и стандартным отклонением около 10000. При этом корреляции зарплаты и возраста клиента не наблюдается, что даёт основания предполагать, что данные — синтетические\n",
        "* у большинства клиентов до 2 членов семьи\n",
        "* большинство клиентов не получают страховых выплат — целевой признак не сбалансирован, что необходимо будет учесть при построении моделей\n",
        "* наблюдается значительная корреляция между возрастом клиента и количеством страховых выплат."
      ]
    },
    {
      "cell_type": "markdown",
      "metadata": {
        "id": "pr60ly14RWFC"
      },
      "source": [
        "## Умножение матриц"
      ]
    },
    {
      "cell_type": "markdown",
      "metadata": {
        "id": "9k7dbgrvUwxR"
      },
      "source": [
        "В соответствии с поставленной задачей нам нужно ответить на вопрос: изменится ли качество линейной регрессии, если признаки умножить на обратимую матрицу."
      ]
    },
    {
      "cell_type": "markdown",
      "metadata": {
        "id": "VXWe_oNORash"
      },
      "source": [
        "Введём несколько обозначений:\n",
        "\n",
        "- $X$ — матрица признаков (нулевой столбец состоит из единиц)\n",
        "\n",
        "- $y$ — вектор целевого признака\n",
        "\n",
        "- $P$ — матрица, на которую умножаются признаки\n",
        "\n",
        "- $w$ — вектор весов линейной регрессии (нулевой элемент равен сдвигу)"
      ]
    },
    {
      "cell_type": "markdown",
      "metadata": {
        "id": "wS0nRiTMReVx"
      },
      "source": [
        "Предсказания:\n",
        "\n",
        "$$\n",
        "a = Xw\n",
        "$$\n",
        "\n",
        "Задача обучения:\n",
        "\n",
        "$$\n",
        "w = \\arg\\min_w MSE(Xw, y)\n",
        "$$\n",
        "\n",
        "Формула обучения:\n",
        "\n",
        "$$\n",
        "w = (X^T X)^{-1} X^T y\n",
        "$$"
      ]
    },
    {
      "cell_type": "markdown",
      "metadata": {
        "id": "btPDB7-3RiOQ"
      },
      "source": [
        "**Ответ:** \n",
        "\n",
        "При умножении признаков $X$ на обратимую матрицу $P$ качество линейной регрессии не изменится.\n",
        "\n"
      ]
    },
    {
      "cell_type": "markdown",
      "metadata": {
        "id": "PGF3O4BUZkVW"
      },
      "source": [
        "**Обоснование:** \n",
        "\n",
        "Пусть $a_1$ — предсказания линейной регресии для матрицы признаков $X$. Тогда обозначим предсказания для матрицы признаков $X$ после умножения на обратимую матрицу $P$ как $a_2$. Нам нужно показать, что $a_1 = a_2$."
      ]
    },
    {
      "cell_type": "markdown",
      "metadata": {
        "id": "d2FR_oqLAU81"
      },
      "source": [
        "Распишем формулы для $a_1$ и $a_2$. Обозначим вектор весов линейной регрессии с матрицей признаков $X$ как $w_1$, а с матрицей признаков $X \\cdot P$ — как $w_2$."
      ]
    },
    {
      "cell_type": "markdown",
      "metadata": {
        "id": "45zeds0ZBRJZ"
      },
      "source": [
        "$$ a_1 = X \\cdot w_1$$\n",
        "\n",
        "$$ a_2 = X \\cdot P \\cdot w_2 $$"
      ]
    },
    {
      "cell_type": "markdown",
      "metadata": {
        "id": "YTi6a8-iBekN"
      },
      "source": [
        "Вектора весов $w_1$ и $w_2$ определяются по формулам:\n",
        "\n",
        "$$ w_1 = (X^T \\cdot X)^{-1} \\cdot X^T \\cdot y $$\n",
        "$$ w_2 = \\left((X \\cdot P)^T \\cdot X \\cdot P \\right)^{-1} (X \\cdot P)^T \\cdot y $$\n",
        "\n",
        "Подставим их в формулы для $a_1$ и $a_2$, чтобы показать, что $a_1 = a_2$."
      ]
    },
    {
      "cell_type": "markdown",
      "metadata": {
        "id": "bPlWULu1CqRW"
      },
      "source": [
        "$$ X \\cdot (X^T \\cdot X)^{-1} \\cdot X^T \\cdot y = X \\cdot P \\cdot \\left((X \\cdot P)^T \\cdot X \\cdot P \\right)^{-1} (X \\cdot P)^T \\cdot y $$"
      ]
    },
    {
      "cell_type": "markdown",
      "metadata": {
        "id": "J57XKUS0DpGl"
      },
      "source": [
        "Вспомним свойства [обратных матриц](https://ru.wikipedia.org/wiki/%D0%9E%D0%B1%D1%80%D0%B0%D1%82%D0%BD%D0%B0%D1%8F_%D0%BC%D0%B0%D1%82%D1%80%D0%B8%D1%86%D0%B0) — для двух невырожденных квадратных матриц $A$ и $B$ верно следующее:\n",
        "\n",
        "$$(A \\cdot B)^{-1} = B^{-1} \\cdot A^{-1}$$\n",
        "\n",
        "$$\\left(A^T\\right)^{-1} = \\left(A^{-1}\\right)^T$$\n",
        "\n",
        "$$ (A \\cdot B)^T = B^T \\cdot A^T $$"
      ]
    },
    {
      "cell_type": "markdown",
      "metadata": {
        "id": "RtxCW8s5IwbK"
      },
      "source": [
        "С учётом этих свойств представим наше уравнение в следующем виде:\n",
        "\n",
        "$$ X \\cdot (X^T \\cdot X)^{-1} \\cdot X^T \\cdot y =\n",
        "X \\cdot P \\cdot \\left(P^T \\cdot X^T \\cdot X \\cdot P \\right)^{-1} (X \\cdot P)^T \\cdot y $$"
      ]
    },
    {
      "cell_type": "markdown",
      "metadata": {
        "id": "Q0U569OfIUWL"
      },
      "source": [
        "$$ X \\cdot (X^T \\cdot X)^{-1} \\cdot X^T \\cdot y =\n",
        "X \\cdot P \\cdot P^{-1} \\cdot \\left(X^T \\cdot X \\right)^{-1} \\cdot \\left( P^T\\right)^{-1} \\cdot P^T \\cdot X^T \\cdot y $$"
      ]
    },
    {
      "cell_type": "markdown",
      "metadata": {
        "id": "5P4nMzb7V9p6"
      },
      "source": [
        "Из определения обратной матрицы следует:\n",
        "\n",
        "$$ A \\cdot A^{-1} = A^{-1} \\cdot A = E,$$\n",
        "\n",
        "где $E$ — [единичная матрица](https://ru.wikipedia.org/wiki/%D0%95%D0%B4%D0%B8%D0%BD%D0%B8%D1%87%D0%BD%D0%B0%D1%8F_%D0%BC%D0%B0%D1%82%D1%80%D0%B8%D1%86%D0%B0). Вспомним, что произведение любой матрицы и единичной матрицы подходящего размера равно самой матрице:\n",
        "\n",
        "$$ A \\cdot E=E \\cdot A=A $$\n",
        "\n",
        "Тогда наше равенство сокращается до:"
      ]
    },
    {
      "cell_type": "markdown",
      "metadata": {
        "id": "T9lobsFgIUWM"
      },
      "source": [
        "$$ X \\cdot (X^T \\cdot X)^{-1} \\cdot X^T \\cdot y = X \\cdot E \\cdot (X^T \\cdot X)^{-1} \\cdot E \\cdot X^T \\cdot y $$"
      ]
    },
    {
      "cell_type": "markdown",
      "metadata": {
        "id": "iN8ATlSBWxXs"
      },
      "source": [
        "$$ X \\cdot (X^T \\cdot X)^{-1} \\cdot X^T \\cdot y = X \\cdot (X^T \\cdot X)^{-1} \\cdot X^T \\cdot y $$\n",
        "\n",
        "quod erat demonstrandum."
      ]
    },
    {
      "cell_type": "markdown",
      "metadata": {
        "id": "puSVXhCAYVjH"
      },
      "source": [
        "### Промежуточный вывод\n",
        "\n",
        "Мы показали, что при умножении матрицы признаков $X$ на обратимую матрицу $P$ качество линейной регрессии не изменяется. Для этого мы продемонстрировали, что после умножнеия $X$ на $P$ вектор предсказаний модели не изменяется. Данное свойство пригодится нам на следующем этапе исследования."
      ]
    },
    {
      "cell_type": "markdown",
      "metadata": {
        "id": "12eyxAvzRldx"
      },
      "source": [
        "## Алгоритм преобразования\n",
        "\n",
        "Предложим алгоритм предобразования данных, который мог бы защитить персональные данные клиентов. Ранее мы показали, что при умножении матрицы признаков на обратимую матрицу качество линейной модели не изменяется. Исходя из этого предлагается следующий алгоритм."
      ]
    },
    {
      "cell_type": "markdown",
      "metadata": {
        "id": "2_K2fjz_RoO4"
      },
      "source": [
        "**Алгоритм**\n",
        "\n",
        "1.   Разделим данные на обучающие признаки (`Пол`, `Возраст`, `Зарплата`, `Члены семьи`) и целевой признак (`Страховые выплаты`)\n",
        "2.   Создадим случайную матрицу размером $4 \\times 4$ (у нас четыре обучающих признака)\n",
        "3. Проверим случайную матрицу на обратимость. Если матрица необратима — вернёмся к шагу 2, в противном случае — перейдём к следующему шагу\n",
        "4. Произведём умножение матрицы обучающих признаков на случайную обратимую матрицу\n",
        "\n"
      ]
    },
    {
      "cell_type": "markdown",
      "metadata": {
        "id": "poK4ubtdRqG8"
      },
      "source": [
        "**Обоснование**\n",
        "\n",
        "Ранее нами было показано, что при умножении матрицы признаков на обатимую матрицу качество линейной регрессии не изменяется. При этом значения обучающих признаков изменяются непредсказуемым образом, так что злоумышленнику будет проблематично восстановить исходные значения."
      ]
    },
    {
      "cell_type": "markdown",
      "metadata": {
        "id": "mcudwGcWRszm"
      },
      "source": [
        "## Проверка алгоритма"
      ]
    },
    {
      "cell_type": "markdown",
      "metadata": {
        "id": "BTz6kYLHEdE2"
      },
      "source": [
        "Проверим наш алгоритм. Для этого разделим нашу выборку на обучающие и целевой признаки, обучим линейную регрессию на обучающих признаках, а потом — на обучающих признаках, умноженных на обратимую матрицу. Если метрика при этом не изменится — значит у нас нет оснований отклонить гипотезу о том, что умножение матриц не приводит к изменению качества регресии!"
      ]
    },
    {
      "cell_type": "markdown",
      "metadata": {
        "id": "eKTHXDhBGHgP"
      },
      "source": [
        "Для начала посмотрим на линейную регрессию, обученную на матрице $X$."
      ]
    },
    {
      "cell_type": "code",
      "execution_count": 78,
      "metadata": {
        "id": "Xs8r_MsWF71Y"
      },
      "outputs": [],
      "source": [
        "X = df[['Пол', 'Возраст', 'Зарплата', 'Члены семьи']]\n",
        "y = df['Страховые выплаты']"
      ]
    },
    {
      "cell_type": "code",
      "execution_count": 79,
      "metadata": {
        "colab": {
          "base_uri": "https://localhost:8080/"
        },
        "id": "l47NaTKgRNKw",
        "outputId": "d2cf0ff6-0368-4791-f2ea-e97f138c1b02"
      },
      "outputs": [
        {
          "output_type": "execute_result",
          "data": {
            "text/plain": [
              "LinearRegression()"
            ]
          },
          "metadata": {},
          "execution_count": 79
        }
      ],
      "source": [
        "lr_X = LinearRegression()\n",
        "lr_X.fit(X, y)"
      ]
    },
    {
      "cell_type": "code",
      "execution_count": 80,
      "metadata": {
        "id": "B6nZ0ZrmGlnK"
      },
      "outputs": [],
      "source": [
        "X_score = lr_X.score(X, y)"
      ]
    },
    {
      "cell_type": "code",
      "execution_count": 81,
      "metadata": {
        "colab": {
          "base_uri": "https://localhost:8080/"
        },
        "id": "u0eeAdLbG4DO",
        "outputId": "1db4619f-2efd-403e-d997-4e0467bebbfb"
      },
      "outputs": [
        {
          "output_type": "stream",
          "name": "stdout",
          "text": [
            "R2_X: 0.4302010044852067\n"
          ]
        }
      ],
      "source": [
        "print('R2_X:', X_score)"
      ]
    },
    {
      "cell_type": "markdown",
      "metadata": {
        "id": "tW72zSxkHSRE"
      },
      "source": [
        "Отлично. Теперь создадим обратимую матрицу размера $4 \\times 4$ и посмотрим, что получится."
      ]
    },
    {
      "cell_type": "code",
      "execution_count": 82,
      "metadata": {
        "id": "uQvyzQi7J1Ql"
      },
      "outputs": [],
      "source": [
        "state = np.random.RandomState(42)"
      ]
    },
    {
      "cell_type": "code",
      "execution_count": 83,
      "metadata": {
        "id": "w3D3izsuHanN"
      },
      "outputs": [],
      "source": [
        "inverse = False\n",
        "\n",
        "while not inverse:\n",
        "  P = state.rand(4, 4)\n",
        "  try:\n",
        "    P_inv = np.linalg.inv(P)\n",
        "    inverse = True\n",
        "  except np.linalg.LinAlgError:\n",
        "    print('Matrix P was not invertible, retrying...')"
      ]
    },
    {
      "cell_type": "markdown",
      "metadata": {
        "id": "a6pog6PYJEs-"
      },
      "source": [
        "Посмотрим на нашу новую прекрасную матрицу:"
      ]
    },
    {
      "cell_type": "code",
      "execution_count": 84,
      "metadata": {
        "colab": {
          "base_uri": "https://localhost:8080/",
          "height": 175
        },
        "id": "iJzUkUUnIREd",
        "outputId": "e93b0fe7-06ba-4519-ef86-b316196f203e"
      },
      "outputs": [
        {
          "output_type": "execute_result",
          "data": {
            "text/plain": [
              "          0         1         2         3\n",
              "0  0.374540  0.950714  0.731994  0.598658\n",
              "1  0.156019  0.155995  0.058084  0.866176\n",
              "2  0.601115  0.708073  0.020584  0.969910\n",
              "3  0.832443  0.212339  0.181825  0.183405"
            ],
            "text/html": [
              "\n",
              "  <div id=\"df-2a043977-8cab-4387-8ddf-d6e1f31ec566\">\n",
              "    <div class=\"colab-df-container\">\n",
              "      <div>\n",
              "<style scoped>\n",
              "    .dataframe tbody tr th:only-of-type {\n",
              "        vertical-align: middle;\n",
              "    }\n",
              "\n",
              "    .dataframe tbody tr th {\n",
              "        vertical-align: top;\n",
              "    }\n",
              "\n",
              "    .dataframe thead th {\n",
              "        text-align: right;\n",
              "    }\n",
              "</style>\n",
              "<table border=\"1\" class=\"dataframe\">\n",
              "  <thead>\n",
              "    <tr style=\"text-align: right;\">\n",
              "      <th></th>\n",
              "      <th>0</th>\n",
              "      <th>1</th>\n",
              "      <th>2</th>\n",
              "      <th>3</th>\n",
              "    </tr>\n",
              "  </thead>\n",
              "  <tbody>\n",
              "    <tr>\n",
              "      <th>0</th>\n",
              "      <td>0.374540</td>\n",
              "      <td>0.950714</td>\n",
              "      <td>0.731994</td>\n",
              "      <td>0.598658</td>\n",
              "    </tr>\n",
              "    <tr>\n",
              "      <th>1</th>\n",
              "      <td>0.156019</td>\n",
              "      <td>0.155995</td>\n",
              "      <td>0.058084</td>\n",
              "      <td>0.866176</td>\n",
              "    </tr>\n",
              "    <tr>\n",
              "      <th>2</th>\n",
              "      <td>0.601115</td>\n",
              "      <td>0.708073</td>\n",
              "      <td>0.020584</td>\n",
              "      <td>0.969910</td>\n",
              "    </tr>\n",
              "    <tr>\n",
              "      <th>3</th>\n",
              "      <td>0.832443</td>\n",
              "      <td>0.212339</td>\n",
              "      <td>0.181825</td>\n",
              "      <td>0.183405</td>\n",
              "    </tr>\n",
              "  </tbody>\n",
              "</table>\n",
              "</div>\n",
              "      <button class=\"colab-df-convert\" onclick=\"convertToInteractive('df-2a043977-8cab-4387-8ddf-d6e1f31ec566')\"\n",
              "              title=\"Convert this dataframe to an interactive table.\"\n",
              "              style=\"display:none;\">\n",
              "        \n",
              "  <svg xmlns=\"http://www.w3.org/2000/svg\" height=\"24px\"viewBox=\"0 0 24 24\"\n",
              "       width=\"24px\">\n",
              "    <path d=\"M0 0h24v24H0V0z\" fill=\"none\"/>\n",
              "    <path d=\"M18.56 5.44l.94 2.06.94-2.06 2.06-.94-2.06-.94-.94-2.06-.94 2.06-2.06.94zm-11 1L8.5 8.5l.94-2.06 2.06-.94-2.06-.94L8.5 2.5l-.94 2.06-2.06.94zm10 10l.94 2.06.94-2.06 2.06-.94-2.06-.94-.94-2.06-.94 2.06-2.06.94z\"/><path d=\"M17.41 7.96l-1.37-1.37c-.4-.4-.92-.59-1.43-.59-.52 0-1.04.2-1.43.59L10.3 9.45l-7.72 7.72c-.78.78-.78 2.05 0 2.83L4 21.41c.39.39.9.59 1.41.59.51 0 1.02-.2 1.41-.59l7.78-7.78 2.81-2.81c.8-.78.8-2.07 0-2.86zM5.41 20L4 18.59l7.72-7.72 1.47 1.35L5.41 20z\"/>\n",
              "  </svg>\n",
              "      </button>\n",
              "      \n",
              "  <style>\n",
              "    .colab-df-container {\n",
              "      display:flex;\n",
              "      flex-wrap:wrap;\n",
              "      gap: 12px;\n",
              "    }\n",
              "\n",
              "    .colab-df-convert {\n",
              "      background-color: #E8F0FE;\n",
              "      border: none;\n",
              "      border-radius: 50%;\n",
              "      cursor: pointer;\n",
              "      display: none;\n",
              "      fill: #1967D2;\n",
              "      height: 32px;\n",
              "      padding: 0 0 0 0;\n",
              "      width: 32px;\n",
              "    }\n",
              "\n",
              "    .colab-df-convert:hover {\n",
              "      background-color: #E2EBFA;\n",
              "      box-shadow: 0px 1px 2px rgba(60, 64, 67, 0.3), 0px 1px 3px 1px rgba(60, 64, 67, 0.15);\n",
              "      fill: #174EA6;\n",
              "    }\n",
              "\n",
              "    [theme=dark] .colab-df-convert {\n",
              "      background-color: #3B4455;\n",
              "      fill: #D2E3FC;\n",
              "    }\n",
              "\n",
              "    [theme=dark] .colab-df-convert:hover {\n",
              "      background-color: #434B5C;\n",
              "      box-shadow: 0px 1px 3px 1px rgba(0, 0, 0, 0.15);\n",
              "      filter: drop-shadow(0px 1px 2px rgba(0, 0, 0, 0.3));\n",
              "      fill: #FFFFFF;\n",
              "    }\n",
              "  </style>\n",
              "\n",
              "      <script>\n",
              "        const buttonEl =\n",
              "          document.querySelector('#df-2a043977-8cab-4387-8ddf-d6e1f31ec566 button.colab-df-convert');\n",
              "        buttonEl.style.display =\n",
              "          google.colab.kernel.accessAllowed ? 'block' : 'none';\n",
              "\n",
              "        async function convertToInteractive(key) {\n",
              "          const element = document.querySelector('#df-2a043977-8cab-4387-8ddf-d6e1f31ec566');\n",
              "          const dataTable =\n",
              "            await google.colab.kernel.invokeFunction('convertToInteractive',\n",
              "                                                     [key], {});\n",
              "          if (!dataTable) return;\n",
              "\n",
              "          const docLinkHtml = 'Like what you see? Visit the ' +\n",
              "            '<a target=\"_blank\" href=https://colab.research.google.com/notebooks/data_table.ipynb>data table notebook</a>'\n",
              "            + ' to learn more about interactive tables.';\n",
              "          element.innerHTML = '';\n",
              "          dataTable['output_type'] = 'display_data';\n",
              "          await google.colab.output.renderOutput(dataTable, element);\n",
              "          const docLink = document.createElement('div');\n",
              "          docLink.innerHTML = docLinkHtml;\n",
              "          element.appendChild(docLink);\n",
              "        }\n",
              "      </script>\n",
              "    </div>\n",
              "  </div>\n",
              "  "
            ]
          },
          "metadata": {},
          "execution_count": 84
        }
      ],
      "source": [
        "pd.DataFrame(P)"
      ]
    },
    {
      "cell_type": "markdown",
      "metadata": {
        "id": "Ozc-_YLKMbGX"
      },
      "source": [
        "А как будет выглядеть матрица обучающих признаков после умножения?"
      ]
    },
    {
      "cell_type": "code",
      "execution_count": 85,
      "metadata": {
        "colab": {
          "base_uri": "https://localhost:8080/",
          "height": 206
        },
        "id": "P8TiP2_oMf8i",
        "outputId": "01d91846-124c-4214-ec1a-f2c3f17f74cf"
      },
      "outputs": [
        {
          "output_type": "execute_result",
          "data": {
            "text/plain": [
              "            Пол       Возраст     Зарплата   Члены семьи\n",
              "0  29822.908329  35127.958687  1024.286164  48143.823952\n",
              "1  22850.379746  26914.146043   785.064454  36896.601889\n",
              "2  12627.939787  14874.047975   433.958805  20393.226004\n",
              "3  25071.437266  29530.327057   859.956818  40463.797343\n",
              "4  15693.844869  18486.012841   539.613636  25339.498732"
            ],
            "text/html": [
              "\n",
              "  <div id=\"df-abd63430-55fe-4b1b-b0e5-c1f1c78d45ac\">\n",
              "    <div class=\"colab-df-container\">\n",
              "      <div>\n",
              "<style scoped>\n",
              "    .dataframe tbody tr th:only-of-type {\n",
              "        vertical-align: middle;\n",
              "    }\n",
              "\n",
              "    .dataframe tbody tr th {\n",
              "        vertical-align: top;\n",
              "    }\n",
              "\n",
              "    .dataframe thead th {\n",
              "        text-align: right;\n",
              "    }\n",
              "</style>\n",
              "<table border=\"1\" class=\"dataframe\">\n",
              "  <thead>\n",
              "    <tr style=\"text-align: right;\">\n",
              "      <th></th>\n",
              "      <th>Пол</th>\n",
              "      <th>Возраст</th>\n",
              "      <th>Зарплата</th>\n",
              "      <th>Члены семьи</th>\n",
              "    </tr>\n",
              "  </thead>\n",
              "  <tbody>\n",
              "    <tr>\n",
              "      <th>0</th>\n",
              "      <td>29822.908329</td>\n",
              "      <td>35127.958687</td>\n",
              "      <td>1024.286164</td>\n",
              "      <td>48143.823952</td>\n",
              "    </tr>\n",
              "    <tr>\n",
              "      <th>1</th>\n",
              "      <td>22850.379746</td>\n",
              "      <td>26914.146043</td>\n",
              "      <td>785.064454</td>\n",
              "      <td>36896.601889</td>\n",
              "    </tr>\n",
              "    <tr>\n",
              "      <th>2</th>\n",
              "      <td>12627.939787</td>\n",
              "      <td>14874.047975</td>\n",
              "      <td>433.958805</td>\n",
              "      <td>20393.226004</td>\n",
              "    </tr>\n",
              "    <tr>\n",
              "      <th>3</th>\n",
              "      <td>25071.437266</td>\n",
              "      <td>29530.327057</td>\n",
              "      <td>859.956818</td>\n",
              "      <td>40463.797343</td>\n",
              "    </tr>\n",
              "    <tr>\n",
              "      <th>4</th>\n",
              "      <td>15693.844869</td>\n",
              "      <td>18486.012841</td>\n",
              "      <td>539.613636</td>\n",
              "      <td>25339.498732</td>\n",
              "    </tr>\n",
              "  </tbody>\n",
              "</table>\n",
              "</div>\n",
              "      <button class=\"colab-df-convert\" onclick=\"convertToInteractive('df-abd63430-55fe-4b1b-b0e5-c1f1c78d45ac')\"\n",
              "              title=\"Convert this dataframe to an interactive table.\"\n",
              "              style=\"display:none;\">\n",
              "        \n",
              "  <svg xmlns=\"http://www.w3.org/2000/svg\" height=\"24px\"viewBox=\"0 0 24 24\"\n",
              "       width=\"24px\">\n",
              "    <path d=\"M0 0h24v24H0V0z\" fill=\"none\"/>\n",
              "    <path d=\"M18.56 5.44l.94 2.06.94-2.06 2.06-.94-2.06-.94-.94-2.06-.94 2.06-2.06.94zm-11 1L8.5 8.5l.94-2.06 2.06-.94-2.06-.94L8.5 2.5l-.94 2.06-2.06.94zm10 10l.94 2.06.94-2.06 2.06-.94-2.06-.94-.94-2.06-.94 2.06-2.06.94z\"/><path d=\"M17.41 7.96l-1.37-1.37c-.4-.4-.92-.59-1.43-.59-.52 0-1.04.2-1.43.59L10.3 9.45l-7.72 7.72c-.78.78-.78 2.05 0 2.83L4 21.41c.39.39.9.59 1.41.59.51 0 1.02-.2 1.41-.59l7.78-7.78 2.81-2.81c.8-.78.8-2.07 0-2.86zM5.41 20L4 18.59l7.72-7.72 1.47 1.35L5.41 20z\"/>\n",
              "  </svg>\n",
              "      </button>\n",
              "      \n",
              "  <style>\n",
              "    .colab-df-container {\n",
              "      display:flex;\n",
              "      flex-wrap:wrap;\n",
              "      gap: 12px;\n",
              "    }\n",
              "\n",
              "    .colab-df-convert {\n",
              "      background-color: #E8F0FE;\n",
              "      border: none;\n",
              "      border-radius: 50%;\n",
              "      cursor: pointer;\n",
              "      display: none;\n",
              "      fill: #1967D2;\n",
              "      height: 32px;\n",
              "      padding: 0 0 0 0;\n",
              "      width: 32px;\n",
              "    }\n",
              "\n",
              "    .colab-df-convert:hover {\n",
              "      background-color: #E2EBFA;\n",
              "      box-shadow: 0px 1px 2px rgba(60, 64, 67, 0.3), 0px 1px 3px 1px rgba(60, 64, 67, 0.15);\n",
              "      fill: #174EA6;\n",
              "    }\n",
              "\n",
              "    [theme=dark] .colab-df-convert {\n",
              "      background-color: #3B4455;\n",
              "      fill: #D2E3FC;\n",
              "    }\n",
              "\n",
              "    [theme=dark] .colab-df-convert:hover {\n",
              "      background-color: #434B5C;\n",
              "      box-shadow: 0px 1px 3px 1px rgba(0, 0, 0, 0.15);\n",
              "      filter: drop-shadow(0px 1px 2px rgba(0, 0, 0, 0.3));\n",
              "      fill: #FFFFFF;\n",
              "    }\n",
              "  </style>\n",
              "\n",
              "      <script>\n",
              "        const buttonEl =\n",
              "          document.querySelector('#df-abd63430-55fe-4b1b-b0e5-c1f1c78d45ac button.colab-df-convert');\n",
              "        buttonEl.style.display =\n",
              "          google.colab.kernel.accessAllowed ? 'block' : 'none';\n",
              "\n",
              "        async function convertToInteractive(key) {\n",
              "          const element = document.querySelector('#df-abd63430-55fe-4b1b-b0e5-c1f1c78d45ac');\n",
              "          const dataTable =\n",
              "            await google.colab.kernel.invokeFunction('convertToInteractive',\n",
              "                                                     [key], {});\n",
              "          if (!dataTable) return;\n",
              "\n",
              "          const docLinkHtml = 'Like what you see? Visit the ' +\n",
              "            '<a target=\"_blank\" href=https://colab.research.google.com/notebooks/data_table.ipynb>data table notebook</a>'\n",
              "            + ' to learn more about interactive tables.';\n",
              "          element.innerHTML = '';\n",
              "          dataTable['output_type'] = 'display_data';\n",
              "          await google.colab.output.renderOutput(dataTable, element);\n",
              "          const docLink = document.createElement('div');\n",
              "          docLink.innerHTML = docLinkHtml;\n",
              "          element.appendChild(docLink);\n",
              "        }\n",
              "      </script>\n",
              "    </div>\n",
              "  </div>\n",
              "  "
            ]
          },
          "metadata": {},
          "execution_count": 85
        }
      ],
      "source": [
        "XP = X @ P\n",
        "XP.columns = X.columns\n",
        "XP.head()"
      ]
    },
    {
      "cell_type": "markdown",
      "metadata": {
        "id": "lln2epOZKoVK"
      },
      "source": [
        "Да уж, защитили так защитили...\n",
        "Ну чтож, приступим!"
      ]
    },
    {
      "cell_type": "code",
      "execution_count": 86,
      "metadata": {
        "colab": {
          "base_uri": "https://localhost:8080/"
        },
        "id": "t-z4ygxHKnxv",
        "outputId": "619da945-5419-4df2-a80a-46b438286f55"
      },
      "outputs": [
        {
          "output_type": "execute_result",
          "data": {
            "text/plain": [
              "LinearRegression()"
            ]
          },
          "metadata": {},
          "execution_count": 86
        }
      ],
      "source": [
        "lr_XP = LinearRegression()\n",
        "lr_XP.fit(X @ P, y)"
      ]
    },
    {
      "cell_type": "code",
      "execution_count": 87,
      "metadata": {
        "id": "arbtOUeXLDCN"
      },
      "outputs": [],
      "source": [
        "XP_score = lr_XP.score(X @ P, y)"
      ]
    },
    {
      "cell_type": "code",
      "execution_count": 88,
      "metadata": {
        "colab": {
          "base_uri": "https://localhost:8080/"
        },
        "id": "xKQKapuRLG0d",
        "outputId": "baa7777f-7032-49eb-9ef2-1f5bd2a94f4b"
      },
      "outputs": [
        {
          "output_type": "stream",
          "name": "stdout",
          "text": [
            "R2_XP: 0.4302010044851896\n"
          ]
        }
      ],
      "source": [
        "print('R2_XP:', XP_score)"
      ]
    },
    {
      "cell_type": "code",
      "execution_count": 89,
      "metadata": {
        "colab": {
          "base_uri": "https://localhost:8080/"
        },
        "id": "v86gaZIGLdg-",
        "outputId": "5e1c43a8-c123-4be4-b60b-3aaf83737735"
      },
      "outputs": [
        {
          "output_type": "stream",
          "name": "stdout",
          "text": [
            "Нет оснований отклонять гипотезу\n"
          ]
        }
      ],
      "source": [
        "if round(XP_score, 3) == round(X_score, 3):\n",
        "  print('Нет оснований отклонять гипотезу')\n",
        "else:\n",
        "  print('Ох, что-то грустно всё, гипотезу можно отклонить')"
      ]
    },
    {
      "cell_type": "markdown",
      "metadata": {
        "id": "SHZhtPM8MJgB"
      },
      "source": [
        "### Промежуточный вывод\n",
        "Для проверки предложенного ранее алгоритма мы создали две модели линейной регрессии. Первую модель обучили на обучающих признаках без изменений, вторую — на обучающих признаках, умноженных на случайную обратимую матрицу. Мы показали, что метрика $R_2$ у обоих регрессий не отличается, а значит у нас нет оснований полагать, что предложенный алгоритм защиты данных не работает."
      ]
    },
    {
      "cell_type": "markdown",
      "metadata": {
        "id": "YNjcDcv5PZoN"
      },
      "source": [
        "## Общий вывод по проекту"
      ]
    },
    {
      "cell_type": "markdown",
      "metadata": {
        "id": "kWdDD1RHPc_U"
      },
      "source": [
        "В рамках данного проекта нам нужно было защитить данные клиентов страховой компании «Хоть потоп». Для этого требовалось разработать такой метод преобразования данных, чтобы по ним было сложно восстановить персональную информацию.\n",
        "\n",
        "При этом нужно было защитить данные, чтобы при преобразовании качество моделей машинного обучения не ухудшилось. Подбирать наилучшую модель не требовалось.\n",
        "\n",
        "Нам доступен файл с данными 5000 клинетов. Пропусков данных в файле нет. Было обнаружено 153 явных дупликата, которые мы отбросили. Было установлено, что в колонке `Возраст` тип данных можно изменить на целочисленный.\n",
        "\n",
        "Был проведён небольшой исследовательский анализ данных. После устранения незначительной проблемы с определением типа данных в столбце `Возраст` было установлено следующее:\n",
        "* в данных содержатся записи о клиентах-женщинах и клиентах-мужчинах, причём их примерно поровну\n",
        "* в данных содержится информация о клиентах возрастом от 18 до 65 лет, при этом значительной части клиентов от 24 до 37 лет\n",
        "* распределение зарплат клиентов похоже на нормальное со средним около 40000 и стандартным отклонением около 10000. При этом корреляции зарплаты и возраста клиента не наблюдается, что даёт основания предполагать, что данные — синтетические\n",
        "* у большинства клиентов до 2 членов семьи\n",
        "* большинство клиентов не получают страховых выплат — целевой признак не сбалансирован, что необходимо будет учесть при построении моделей\n",
        "* наблюдается значительная корреляция между возрастом клиента и количеством страховых выплат.\n",
        "\n",
        "В рамках выполнения проекта мы математически показали, что при умножении матрицы признаков $X$ на обратимую матрицу $P$ качество линейной регрессии не изменяется. Для этого мы продемонстрировали, что после умножнеия $X$ на $P$ вектор предсказаний модели не изменяется. \n",
        "\n",
        "На основании этого мы предложили следующий алгоритм защиты данных:\n",
        "1.   Данные разделяются на обучающие признаки и целевой признак\n",
        "2.   Создаётся случайная обратимая матрица\n",
        "3.   Матрица обучающих признаков умножается на новую матрицу\n",
        "\n",
        "Для проверки предложенного алгоритма мы создали две модели линейной регрессии. Первую модель обучили на обучающих признаках без изменений, вторую — на обучающих признаках, умноженных на случайную обратимую матрицу. Мы показали, что метрика $R_2$ у обоих регрессий не отличается, а значит у нас нет оснований полагать, что предложенный алгоритм защиты данных не работает."
      ]
    },
    {
      "cell_type": "code",
      "source": [],
      "metadata": {
        "id": "jMr7sjlTMZe8"
      },
      "execution_count": null,
      "outputs": []
    }
  ],
  "metadata": {
    "ExecuteTimeLog": [
      {
        "duration": 46,
        "start_time": "2022-07-31T04:47:23.850Z"
      },
      {
        "duration": 3056,
        "start_time": "2022-07-31T04:47:30.274Z"
      },
      {
        "duration": 1602,
        "start_time": "2022-07-31T04:47:33.332Z"
      },
      {
        "duration": 4,
        "start_time": "2022-07-31T04:47:34.935Z"
      },
      {
        "duration": 102,
        "start_time": "2022-07-31T04:47:34.942Z"
      },
      {
        "duration": 12,
        "start_time": "2022-07-31T04:47:35.046Z"
      },
      {
        "duration": 11,
        "start_time": "2022-07-31T04:47:35.060Z"
      },
      {
        "duration": 26,
        "start_time": "2022-07-31T04:47:35.073Z"
      },
      {
        "duration": 5,
        "start_time": "2022-07-31T04:47:35.101Z"
      },
      {
        "duration": 15,
        "start_time": "2022-07-31T04:47:35.108Z"
      },
      {
        "duration": 6,
        "start_time": "2022-07-31T04:47:35.126Z"
      },
      {
        "duration": 10,
        "start_time": "2022-07-31T04:47:35.134Z"
      },
      {
        "duration": 150,
        "start_time": "2022-07-31T04:47:35.146Z"
      },
      {
        "duration": 6,
        "start_time": "2022-07-31T04:47:35.297Z"
      },
      {
        "duration": 5,
        "start_time": "2022-07-31T04:48:28.627Z"
      },
      {
        "duration": 2102,
        "start_time": "2022-07-31T05:24:44.749Z"
      },
      {
        "duration": 3,
        "start_time": "2022-07-31T05:24:46.854Z"
      },
      {
        "duration": 10,
        "start_time": "2022-07-31T05:24:46.859Z"
      },
      {
        "duration": 48,
        "start_time": "2022-07-31T05:24:46.871Z"
      },
      {
        "duration": 9,
        "start_time": "2022-07-31T05:24:46.921Z"
      },
      {
        "duration": 15,
        "start_time": "2022-07-31T05:24:46.932Z"
      },
      {
        "duration": 29,
        "start_time": "2022-07-31T05:24:46.949Z"
      },
      {
        "duration": 7,
        "start_time": "2022-07-31T05:24:46.980Z"
      },
      {
        "duration": 11,
        "start_time": "2022-07-31T05:24:46.988Z"
      },
      {
        "duration": 23,
        "start_time": "2022-07-31T05:24:47.002Z"
      },
      {
        "duration": 10,
        "start_time": "2022-07-31T05:24:47.027Z"
      },
      {
        "duration": 159,
        "start_time": "2022-07-31T05:24:47.039Z"
      },
      {
        "duration": 6,
        "start_time": "2022-07-31T05:24:47.200Z"
      },
      {
        "duration": 16,
        "start_time": "2022-07-31T05:24:47.208Z"
      },
      {
        "duration": 23,
        "start_time": "2022-07-31T05:24:47.226Z"
      },
      {
        "duration": 15,
        "start_time": "2022-07-31T05:24:47.251Z"
      },
      {
        "duration": 602,
        "start_time": "2022-07-31T05:24:47.268Z"
      },
      {
        "duration": 7,
        "start_time": "2022-07-31T05:24:47.872Z"
      },
      {
        "duration": 413,
        "start_time": "2022-07-31T05:24:47.880Z"
      },
      {
        "duration": 255,
        "start_time": "2022-07-31T05:24:48.294Z"
      },
      {
        "duration": 10,
        "start_time": "2022-07-31T05:24:48.552Z"
      },
      {
        "duration": 174,
        "start_time": "2022-07-31T05:24:48.564Z"
      },
      {
        "duration": 8,
        "start_time": "2022-07-31T05:24:48.740Z"
      },
      {
        "duration": 186,
        "start_time": "2022-07-31T05:24:48.750Z"
      },
      {
        "duration": 449,
        "start_time": "2022-07-31T05:24:48.938Z"
      },
      {
        "duration": 543,
        "start_time": "2022-07-31T05:24:49.389Z"
      },
      {
        "duration": 3,
        "start_time": "2022-07-31T05:24:49.934Z"
      },
      {
        "duration": 15,
        "start_time": "2022-07-31T05:24:49.940Z"
      },
      {
        "duration": 97,
        "start_time": "2022-07-31T05:24:50.031Z"
      },
      {
        "duration": 91,
        "start_time": "2022-07-31T05:24:50.136Z"
      },
      {
        "duration": 4,
        "start_time": "2022-07-31T05:24:54.165Z"
      },
      {
        "duration": 79,
        "start_time": "2022-07-31T05:25:00.307Z"
      },
      {
        "duration": 3,
        "start_time": "2022-07-31T05:25:23.959Z"
      },
      {
        "duration": 2354,
        "start_time": "2022-07-31T05:44:56.399Z"
      },
      {
        "duration": 4,
        "start_time": "2022-07-31T05:44:58.755Z"
      },
      {
        "duration": 20,
        "start_time": "2022-07-31T05:44:58.761Z"
      },
      {
        "duration": 41,
        "start_time": "2022-07-31T05:44:58.783Z"
      },
      {
        "duration": 13,
        "start_time": "2022-07-31T05:44:58.827Z"
      },
      {
        "duration": 23,
        "start_time": "2022-07-31T05:44:58.841Z"
      },
      {
        "duration": 41,
        "start_time": "2022-07-31T05:44:58.866Z"
      },
      {
        "duration": 6,
        "start_time": "2022-07-31T05:44:58.909Z"
      },
      {
        "duration": 7,
        "start_time": "2022-07-31T05:44:58.923Z"
      },
      {
        "duration": 15,
        "start_time": "2022-07-31T05:44:58.934Z"
      },
      {
        "duration": 19,
        "start_time": "2022-07-31T05:44:58.951Z"
      },
      {
        "duration": 158,
        "start_time": "2022-07-31T05:44:58.971Z"
      },
      {
        "duration": 10,
        "start_time": "2022-07-31T05:44:59.132Z"
      },
      {
        "duration": 16,
        "start_time": "2022-07-31T05:44:59.143Z"
      },
      {
        "duration": 13,
        "start_time": "2022-07-31T05:44:59.161Z"
      },
      {
        "duration": 8,
        "start_time": "2022-07-31T05:44:59.176Z"
      },
      {
        "duration": 646,
        "start_time": "2022-07-31T05:44:59.185Z"
      },
      {
        "duration": 17,
        "start_time": "2022-07-31T05:44:59.832Z"
      },
      {
        "duration": 501,
        "start_time": "2022-07-31T05:44:59.851Z"
      },
      {
        "duration": 220,
        "start_time": "2022-07-31T05:45:00.354Z"
      },
      {
        "duration": 8,
        "start_time": "2022-07-31T05:45:00.576Z"
      },
      {
        "duration": 221,
        "start_time": "2022-07-31T05:45:00.586Z"
      },
      {
        "duration": 18,
        "start_time": "2022-07-31T05:45:00.808Z"
      },
      {
        "duration": 187,
        "start_time": "2022-07-31T05:45:00.828Z"
      },
      {
        "duration": 460,
        "start_time": "2022-07-31T05:45:01.017Z"
      },
      {
        "duration": 527,
        "start_time": "2022-07-31T05:45:01.479Z"
      },
      {
        "duration": 4,
        "start_time": "2022-07-31T05:45:02.008Z"
      },
      {
        "duration": 16,
        "start_time": "2022-07-31T05:45:02.023Z"
      },
      {
        "duration": 92,
        "start_time": "2022-07-31T05:45:02.042Z"
      },
      {
        "duration": 195,
        "start_time": "2022-07-31T05:45:02.141Z"
      },
      {
        "duration": 17,
        "start_time": "2022-07-31T05:45:02.338Z"
      },
      {
        "duration": 12,
        "start_time": "2022-07-31T05:45:02.357Z"
      },
      {
        "duration": 53,
        "start_time": "2022-07-31T05:45:02.371Z"
      },
      {
        "duration": 17,
        "start_time": "2022-07-31T05:45:02.426Z"
      },
      {
        "duration": 88,
        "start_time": "2022-07-31T05:45:02.445Z"
      },
      {
        "duration": 10,
        "start_time": "2022-07-31T05:45:02.535Z"
      },
      {
        "duration": 98,
        "start_time": "2022-07-31T05:45:02.547Z"
      },
      {
        "duration": 79,
        "start_time": "2022-07-31T05:45:02.647Z"
      }
    ],
    "colab": {
      "collapsed_sections": [],
      "provenance": []
    },
    "kernelspec": {
      "display_name": "Python 3 (ipykernel)",
      "language": "python",
      "name": "python3"
    },
    "language_info": {
      "codemirror_mode": {
        "name": "ipython",
        "version": 3
      },
      "file_extension": ".py",
      "mimetype": "text/x-python",
      "name": "python",
      "nbconvert_exporter": "python",
      "pygments_lexer": "ipython3",
      "version": "3.9.5"
    },
    "toc": {
      "base_numbering": 1,
      "nav_menu": {},
      "number_sections": true,
      "sideBar": true,
      "skip_h1_title": true,
      "title_cell": "Table of Contents",
      "title_sidebar": "Contents",
      "toc_cell": false,
      "toc_position": {},
      "toc_section_display": true,
      "toc_window_display": false
    }
  },
  "nbformat": 4,
  "nbformat_minor": 0
}