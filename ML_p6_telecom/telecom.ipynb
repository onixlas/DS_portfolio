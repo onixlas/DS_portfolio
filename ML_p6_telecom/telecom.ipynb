{
  "cells": [
    {
      "cell_type": "markdown",
      "metadata": {
        "id": "4sNGrZabs_l8"
      },
      "source": [
        "# Рекомендация тарифов"
      ]
    },
    {
      "cell_type": "markdown",
      "source": [
        "![](https://upload.wikimedia.org/wikipedia/commons/thumb/b/b0/Various_smartphones_-_Android%2C_Blackberry%2C_Windows_Phone%2C_and_iOS.jpg/640px-Various_smartphones_-_Android%2C_Blackberry%2C_Windows_Phone%2C_and_iOS.jpg 'Carlos Varela')"
      ],
      "metadata": {
        "id": "QolpLdlAuuFO"
      }
    },
    {
      "cell_type": "markdown",
      "metadata": {
        "id": "GW5s7-CYs_l9"
      },
      "source": [
        "Оператор мобильной связи «Мегалайн» выяснил: многие клиенты пользуются архивными тарифами. Они хотят построить систему, способную проанализировать поведение клиентов и предложить пользователям новый тариф: «Смарт» или «Ультра».\n",
        "\n",
        "В нашем распоряжении данные о поведении клиентов, которые уже перешли на эти тарифы. Нужно построить модель для задачи классификации, которая выберет подходящий тариф.\n",
        "\n",
        "Построим модель с максимально большим значением метрики *accuracy*."
      ]
    },
    {
      "cell_type": "markdown",
      "metadata": {
        "id": "lNq4hVBUs_l_"
      },
      "source": [
        "## Загрузка и изучение данных"
      ]
    },
    {
      "cell_type": "markdown",
      "metadata": {
        "id": "-ta8mYS_s_mA"
      },
      "source": [
        "Загрузим файл с данными и посмотрим на них повнимательнее."
      ]
    },
    {
      "cell_type": "code",
      "execution_count": 60,
      "metadata": {
        "id": "hY6oJdcIs_mB"
      },
      "outputs": [],
      "source": [
        "import pandas as pd\n",
        "\n",
        "from sklearn.model_selection import train_test_split\n",
        "from sklearn.tree import DecisionTreeClassifier\n",
        "from sklearn.metrics import accuracy_score\n",
        "from sklearn.ensemble import RandomForestClassifier\n",
        "from sklearn.linear_model import LogisticRegression\n",
        "from sklearn.model_selection import GridSearchCV\n",
        "from sklearn.dummy import DummyClassifier\n",
        "from sklearn.model_selection import cross_val_score\n",
        "\n",
        "import seaborn as sns\n",
        "import matplotlib.pyplot as plt"
      ]
    },
    {
      "cell_type": "code",
      "source": [
        "sns.set_style('darkgrid')\n",
        "sns.set(rc={'figure.figsize': (15, 5)})"
      ],
      "metadata": {
        "id": "ps5MT3kZu6dt"
      },
      "execution_count": 61,
      "outputs": []
    },
    {
      "cell_type": "code",
      "source": [
        "! gdown 1MKt_QSIC2GvNH1xIUcj6t0VFNjwLUmiV"
      ],
      "metadata": {
        "colab": {
          "base_uri": "https://localhost:8080/"
        },
        "id": "4ZCWvtZgtaIX",
        "outputId": "ee9aef9a-c2c3-4115-9132-256bb25e3644"
      },
      "execution_count": 62,
      "outputs": [
        {
          "output_type": "stream",
          "name": "stdout",
          "text": [
            "Downloading...\n",
            "From: https://drive.google.com/uc?id=1MKt_QSIC2GvNH1xIUcj6t0VFNjwLUmiV\n",
            "To: /content/users_behavior.csv\n",
            "\r  0% 0.00/134k [00:00<?, ?B/s]\r100% 134k/134k [00:00<00:00, 77.1MB/s]\n"
          ]
        }
      ]
    },
    {
      "cell_type": "code",
      "execution_count": 63,
      "metadata": {
        "id": "p8EGLYEcs_mE"
      },
      "outputs": [],
      "source": [
        "df = pd.read_csv('/content/users_behavior.csv')"
      ]
    },
    {
      "cell_type": "code",
      "execution_count": 64,
      "metadata": {
        "colab": {
          "base_uri": "https://localhost:8080/",
          "height": 206
        },
        "id": "ZO-KkEIUs_mF",
        "outputId": "893880e9-8b66-4e23-9b08-49fd7c8b9373"
      },
      "outputs": [
        {
          "output_type": "execute_result",
          "data": {
            "text/plain": [
              "   calls  minutes  messages   mb_used  is_ultra\n",
              "0   40.0   311.90      83.0  19915.42         0\n",
              "1   85.0   516.75      56.0  22696.96         0\n",
              "2   77.0   467.66      86.0  21060.45         0\n",
              "3  106.0   745.53      81.0   8437.39         1\n",
              "4   66.0   418.74       1.0  14502.75         0"
            ],
            "text/html": [
              "\n",
              "  <div id=\"df-3d76acf5-19b6-4186-b647-53cc781941a9\">\n",
              "    <div class=\"colab-df-container\">\n",
              "      <div>\n",
              "<style scoped>\n",
              "    .dataframe tbody tr th:only-of-type {\n",
              "        vertical-align: middle;\n",
              "    }\n",
              "\n",
              "    .dataframe tbody tr th {\n",
              "        vertical-align: top;\n",
              "    }\n",
              "\n",
              "    .dataframe thead th {\n",
              "        text-align: right;\n",
              "    }\n",
              "</style>\n",
              "<table border=\"1\" class=\"dataframe\">\n",
              "  <thead>\n",
              "    <tr style=\"text-align: right;\">\n",
              "      <th></th>\n",
              "      <th>calls</th>\n",
              "      <th>minutes</th>\n",
              "      <th>messages</th>\n",
              "      <th>mb_used</th>\n",
              "      <th>is_ultra</th>\n",
              "    </tr>\n",
              "  </thead>\n",
              "  <tbody>\n",
              "    <tr>\n",
              "      <th>0</th>\n",
              "      <td>40.0</td>\n",
              "      <td>311.90</td>\n",
              "      <td>83.0</td>\n",
              "      <td>19915.42</td>\n",
              "      <td>0</td>\n",
              "    </tr>\n",
              "    <tr>\n",
              "      <th>1</th>\n",
              "      <td>85.0</td>\n",
              "      <td>516.75</td>\n",
              "      <td>56.0</td>\n",
              "      <td>22696.96</td>\n",
              "      <td>0</td>\n",
              "    </tr>\n",
              "    <tr>\n",
              "      <th>2</th>\n",
              "      <td>77.0</td>\n",
              "      <td>467.66</td>\n",
              "      <td>86.0</td>\n",
              "      <td>21060.45</td>\n",
              "      <td>0</td>\n",
              "    </tr>\n",
              "    <tr>\n",
              "      <th>3</th>\n",
              "      <td>106.0</td>\n",
              "      <td>745.53</td>\n",
              "      <td>81.0</td>\n",
              "      <td>8437.39</td>\n",
              "      <td>1</td>\n",
              "    </tr>\n",
              "    <tr>\n",
              "      <th>4</th>\n",
              "      <td>66.0</td>\n",
              "      <td>418.74</td>\n",
              "      <td>1.0</td>\n",
              "      <td>14502.75</td>\n",
              "      <td>0</td>\n",
              "    </tr>\n",
              "  </tbody>\n",
              "</table>\n",
              "</div>\n",
              "      <button class=\"colab-df-convert\" onclick=\"convertToInteractive('df-3d76acf5-19b6-4186-b647-53cc781941a9')\"\n",
              "              title=\"Convert this dataframe to an interactive table.\"\n",
              "              style=\"display:none;\">\n",
              "        \n",
              "  <svg xmlns=\"http://www.w3.org/2000/svg\" height=\"24px\"viewBox=\"0 0 24 24\"\n",
              "       width=\"24px\">\n",
              "    <path d=\"M0 0h24v24H0V0z\" fill=\"none\"/>\n",
              "    <path d=\"M18.56 5.44l.94 2.06.94-2.06 2.06-.94-2.06-.94-.94-2.06-.94 2.06-2.06.94zm-11 1L8.5 8.5l.94-2.06 2.06-.94-2.06-.94L8.5 2.5l-.94 2.06-2.06.94zm10 10l.94 2.06.94-2.06 2.06-.94-2.06-.94-.94-2.06-.94 2.06-2.06.94z\"/><path d=\"M17.41 7.96l-1.37-1.37c-.4-.4-.92-.59-1.43-.59-.52 0-1.04.2-1.43.59L10.3 9.45l-7.72 7.72c-.78.78-.78 2.05 0 2.83L4 21.41c.39.39.9.59 1.41.59.51 0 1.02-.2 1.41-.59l7.78-7.78 2.81-2.81c.8-.78.8-2.07 0-2.86zM5.41 20L4 18.59l7.72-7.72 1.47 1.35L5.41 20z\"/>\n",
              "  </svg>\n",
              "      </button>\n",
              "      \n",
              "  <style>\n",
              "    .colab-df-container {\n",
              "      display:flex;\n",
              "      flex-wrap:wrap;\n",
              "      gap: 12px;\n",
              "    }\n",
              "\n",
              "    .colab-df-convert {\n",
              "      background-color: #E8F0FE;\n",
              "      border: none;\n",
              "      border-radius: 50%;\n",
              "      cursor: pointer;\n",
              "      display: none;\n",
              "      fill: #1967D2;\n",
              "      height: 32px;\n",
              "      padding: 0 0 0 0;\n",
              "      width: 32px;\n",
              "    }\n",
              "\n",
              "    .colab-df-convert:hover {\n",
              "      background-color: #E2EBFA;\n",
              "      box-shadow: 0px 1px 2px rgba(60, 64, 67, 0.3), 0px 1px 3px 1px rgba(60, 64, 67, 0.15);\n",
              "      fill: #174EA6;\n",
              "    }\n",
              "\n",
              "    [theme=dark] .colab-df-convert {\n",
              "      background-color: #3B4455;\n",
              "      fill: #D2E3FC;\n",
              "    }\n",
              "\n",
              "    [theme=dark] .colab-df-convert:hover {\n",
              "      background-color: #434B5C;\n",
              "      box-shadow: 0px 1px 3px 1px rgba(0, 0, 0, 0.15);\n",
              "      filter: drop-shadow(0px 1px 2px rgba(0, 0, 0, 0.3));\n",
              "      fill: #FFFFFF;\n",
              "    }\n",
              "  </style>\n",
              "\n",
              "      <script>\n",
              "        const buttonEl =\n",
              "          document.querySelector('#df-3d76acf5-19b6-4186-b647-53cc781941a9 button.colab-df-convert');\n",
              "        buttonEl.style.display =\n",
              "          google.colab.kernel.accessAllowed ? 'block' : 'none';\n",
              "\n",
              "        async function convertToInteractive(key) {\n",
              "          const element = document.querySelector('#df-3d76acf5-19b6-4186-b647-53cc781941a9');\n",
              "          const dataTable =\n",
              "            await google.colab.kernel.invokeFunction('convertToInteractive',\n",
              "                                                     [key], {});\n",
              "          if (!dataTable) return;\n",
              "\n",
              "          const docLinkHtml = 'Like what you see? Visit the ' +\n",
              "            '<a target=\"_blank\" href=https://colab.research.google.com/notebooks/data_table.ipynb>data table notebook</a>'\n",
              "            + ' to learn more about interactive tables.';\n",
              "          element.innerHTML = '';\n",
              "          dataTable['output_type'] = 'display_data';\n",
              "          await google.colab.output.renderOutput(dataTable, element);\n",
              "          const docLink = document.createElement('div');\n",
              "          docLink.innerHTML = docLinkHtml;\n",
              "          element.appendChild(docLink);\n",
              "        }\n",
              "      </script>\n",
              "    </div>\n",
              "  </div>\n",
              "  "
            ]
          },
          "metadata": {},
          "execution_count": 64
        }
      ],
      "source": [
        "df.head()"
      ]
    },
    {
      "cell_type": "code",
      "execution_count": 65,
      "metadata": {
        "colab": {
          "base_uri": "https://localhost:8080/"
        },
        "id": "XOLW-1qbs_mG",
        "outputId": "2ca26b46-7d39-4c32-abdd-6dd4e2285201"
      },
      "outputs": [
        {
          "output_type": "stream",
          "name": "stdout",
          "text": [
            "<class 'pandas.core.frame.DataFrame'>\n",
            "RangeIndex: 3214 entries, 0 to 3213\n",
            "Data columns (total 5 columns):\n",
            " #   Column    Non-Null Count  Dtype  \n",
            "---  ------    --------------  -----  \n",
            " 0   calls     3214 non-null   float64\n",
            " 1   minutes   3214 non-null   float64\n",
            " 2   messages  3214 non-null   float64\n",
            " 3   mb_used   3214 non-null   float64\n",
            " 4   is_ultra  3214 non-null   int64  \n",
            "dtypes: float64(4), int64(1)\n",
            "memory usage: 125.7 KB\n"
          ]
        }
      ],
      "source": [
        "df.info()"
      ]
    },
    {
      "cell_type": "code",
      "execution_count": 92,
      "metadata": {
        "scrolled": true,
        "colab": {
          "base_uri": "https://localhost:8080/",
          "height": 206
        },
        "id": "V-9sd0dws_mH",
        "outputId": "16892bc4-0a1d-41da-f63f-2e022ee5979a"
      },
      "outputs": [
        {
          "output_type": "execute_result",
          "data": {
            "text/plain": [
              "           count          mean          std  min         25%        50%  \\\n",
              "calls     3214.0     63.038892    33.236368  0.0     40.0000     62.000   \n",
              "minutes   3214.0    438.208787   234.569872  0.0    274.5750    430.600   \n",
              "messages  3214.0     38.281269    36.148326  0.0      9.0000     30.000   \n",
              "mb_used   3214.0  17207.673836  7570.968246  0.0  12491.9025  16943.235   \n",
              "is_ultra  3214.0      0.306472     0.461100  0.0      0.0000      0.000   \n",
              "\n",
              "                 75%       max  \n",
              "calls        82.0000    244.00  \n",
              "minutes     571.9275   1632.06  \n",
              "messages     57.0000    224.00  \n",
              "mb_used   21424.7000  49745.73  \n",
              "is_ultra      1.0000      1.00  "
            ],
            "text/html": [
              "\n",
              "  <div id=\"df-42910e34-67ef-4293-b29c-7e9c63a265b5\">\n",
              "    <div class=\"colab-df-container\">\n",
              "      <div>\n",
              "<style scoped>\n",
              "    .dataframe tbody tr th:only-of-type {\n",
              "        vertical-align: middle;\n",
              "    }\n",
              "\n",
              "    .dataframe tbody tr th {\n",
              "        vertical-align: top;\n",
              "    }\n",
              "\n",
              "    .dataframe thead th {\n",
              "        text-align: right;\n",
              "    }\n",
              "</style>\n",
              "<table border=\"1\" class=\"dataframe\">\n",
              "  <thead>\n",
              "    <tr style=\"text-align: right;\">\n",
              "      <th></th>\n",
              "      <th>count</th>\n",
              "      <th>mean</th>\n",
              "      <th>std</th>\n",
              "      <th>min</th>\n",
              "      <th>25%</th>\n",
              "      <th>50%</th>\n",
              "      <th>75%</th>\n",
              "      <th>max</th>\n",
              "    </tr>\n",
              "  </thead>\n",
              "  <tbody>\n",
              "    <tr>\n",
              "      <th>calls</th>\n",
              "      <td>3214.0</td>\n",
              "      <td>63.038892</td>\n",
              "      <td>33.236368</td>\n",
              "      <td>0.0</td>\n",
              "      <td>40.0000</td>\n",
              "      <td>62.000</td>\n",
              "      <td>82.0000</td>\n",
              "      <td>244.00</td>\n",
              "    </tr>\n",
              "    <tr>\n",
              "      <th>minutes</th>\n",
              "      <td>3214.0</td>\n",
              "      <td>438.208787</td>\n",
              "      <td>234.569872</td>\n",
              "      <td>0.0</td>\n",
              "      <td>274.5750</td>\n",
              "      <td>430.600</td>\n",
              "      <td>571.9275</td>\n",
              "      <td>1632.06</td>\n",
              "    </tr>\n",
              "    <tr>\n",
              "      <th>messages</th>\n",
              "      <td>3214.0</td>\n",
              "      <td>38.281269</td>\n",
              "      <td>36.148326</td>\n",
              "      <td>0.0</td>\n",
              "      <td>9.0000</td>\n",
              "      <td>30.000</td>\n",
              "      <td>57.0000</td>\n",
              "      <td>224.00</td>\n",
              "    </tr>\n",
              "    <tr>\n",
              "      <th>mb_used</th>\n",
              "      <td>3214.0</td>\n",
              "      <td>17207.673836</td>\n",
              "      <td>7570.968246</td>\n",
              "      <td>0.0</td>\n",
              "      <td>12491.9025</td>\n",
              "      <td>16943.235</td>\n",
              "      <td>21424.7000</td>\n",
              "      <td>49745.73</td>\n",
              "    </tr>\n",
              "    <tr>\n",
              "      <th>is_ultra</th>\n",
              "      <td>3214.0</td>\n",
              "      <td>0.306472</td>\n",
              "      <td>0.461100</td>\n",
              "      <td>0.0</td>\n",
              "      <td>0.0000</td>\n",
              "      <td>0.000</td>\n",
              "      <td>1.0000</td>\n",
              "      <td>1.00</td>\n",
              "    </tr>\n",
              "  </tbody>\n",
              "</table>\n",
              "</div>\n",
              "      <button class=\"colab-df-convert\" onclick=\"convertToInteractive('df-42910e34-67ef-4293-b29c-7e9c63a265b5')\"\n",
              "              title=\"Convert this dataframe to an interactive table.\"\n",
              "              style=\"display:none;\">\n",
              "        \n",
              "  <svg xmlns=\"http://www.w3.org/2000/svg\" height=\"24px\"viewBox=\"0 0 24 24\"\n",
              "       width=\"24px\">\n",
              "    <path d=\"M0 0h24v24H0V0z\" fill=\"none\"/>\n",
              "    <path d=\"M18.56 5.44l.94 2.06.94-2.06 2.06-.94-2.06-.94-.94-2.06-.94 2.06-2.06.94zm-11 1L8.5 8.5l.94-2.06 2.06-.94-2.06-.94L8.5 2.5l-.94 2.06-2.06.94zm10 10l.94 2.06.94-2.06 2.06-.94-2.06-.94-.94-2.06-.94 2.06-2.06.94z\"/><path d=\"M17.41 7.96l-1.37-1.37c-.4-.4-.92-.59-1.43-.59-.52 0-1.04.2-1.43.59L10.3 9.45l-7.72 7.72c-.78.78-.78 2.05 0 2.83L4 21.41c.39.39.9.59 1.41.59.51 0 1.02-.2 1.41-.59l7.78-7.78 2.81-2.81c.8-.78.8-2.07 0-2.86zM5.41 20L4 18.59l7.72-7.72 1.47 1.35L5.41 20z\"/>\n",
              "  </svg>\n",
              "      </button>\n",
              "      \n",
              "  <style>\n",
              "    .colab-df-container {\n",
              "      display:flex;\n",
              "      flex-wrap:wrap;\n",
              "      gap: 12px;\n",
              "    }\n",
              "\n",
              "    .colab-df-convert {\n",
              "      background-color: #E8F0FE;\n",
              "      border: none;\n",
              "      border-radius: 50%;\n",
              "      cursor: pointer;\n",
              "      display: none;\n",
              "      fill: #1967D2;\n",
              "      height: 32px;\n",
              "      padding: 0 0 0 0;\n",
              "      width: 32px;\n",
              "    }\n",
              "\n",
              "    .colab-df-convert:hover {\n",
              "      background-color: #E2EBFA;\n",
              "      box-shadow: 0px 1px 2px rgba(60, 64, 67, 0.3), 0px 1px 3px 1px rgba(60, 64, 67, 0.15);\n",
              "      fill: #174EA6;\n",
              "    }\n",
              "\n",
              "    [theme=dark] .colab-df-convert {\n",
              "      background-color: #3B4455;\n",
              "      fill: #D2E3FC;\n",
              "    }\n",
              "\n",
              "    [theme=dark] .colab-df-convert:hover {\n",
              "      background-color: #434B5C;\n",
              "      box-shadow: 0px 1px 3px 1px rgba(0, 0, 0, 0.15);\n",
              "      filter: drop-shadow(0px 1px 2px rgba(0, 0, 0, 0.3));\n",
              "      fill: #FFFFFF;\n",
              "    }\n",
              "  </style>\n",
              "\n",
              "      <script>\n",
              "        const buttonEl =\n",
              "          document.querySelector('#df-42910e34-67ef-4293-b29c-7e9c63a265b5 button.colab-df-convert');\n",
              "        buttonEl.style.display =\n",
              "          google.colab.kernel.accessAllowed ? 'block' : 'none';\n",
              "\n",
              "        async function convertToInteractive(key) {\n",
              "          const element = document.querySelector('#df-42910e34-67ef-4293-b29c-7e9c63a265b5');\n",
              "          const dataTable =\n",
              "            await google.colab.kernel.invokeFunction('convertToInteractive',\n",
              "                                                     [key], {});\n",
              "          if (!dataTable) return;\n",
              "\n",
              "          const docLinkHtml = 'Like what you see? Visit the ' +\n",
              "            '<a target=\"_blank\" href=https://colab.research.google.com/notebooks/data_table.ipynb>data table notebook</a>'\n",
              "            + ' to learn more about interactive tables.';\n",
              "          element.innerHTML = '';\n",
              "          dataTable['output_type'] = 'display_data';\n",
              "          await google.colab.output.renderOutput(dataTable, element);\n",
              "          const docLink = document.createElement('div');\n",
              "          docLink.innerHTML = docLinkHtml;\n",
              "          element.appendChild(docLink);\n",
              "        }\n",
              "      </script>\n",
              "    </div>\n",
              "  </div>\n",
              "  "
            ]
          },
          "metadata": {},
          "execution_count": 92
        }
      ],
      "source": [
        "df.describe().T"
      ]
    },
    {
      "cell_type": "code",
      "execution_count": 67,
      "metadata": {
        "colab": {
          "base_uri": "https://localhost:8080/"
        },
        "id": "tSXRc2PDs_mH",
        "outputId": "3025aae2-cab9-465c-c7ef-4a326504483a"
      },
      "outputs": [
        {
          "output_type": "execute_result",
          "data": {
            "text/plain": [
              "0"
            ]
          },
          "metadata": {},
          "execution_count": 67
        }
      ],
      "source": [
        "df.duplicated().sum()"
      ]
    },
    {
      "cell_type": "markdown",
      "metadata": {
        "id": "rvzjZJR1s_mI"
      },
      "source": [
        "В нашем распоряжении файл с 3214 записями о клиентах. Каждый объект в наборе данных — это информация о поведении одного пользователя за месяц. Известно:\n",
        "* `сalls` — количество звонков,\n",
        "* `minutes` — суммарная длительность звонков в минутах,\n",
        "* `messages` — количество sms-сообщений,\n",
        "* `mb_used` — израсходованный интернет-трафик в Мб,\n",
        "* `is_ultra` — каким тарифом пользовался в течение месяца («Ультра» — 1, «Смарт» — 0).\n",
        "\n",
        "Из вывода команды _df.info()_ видно, что пропусков в данных нет, типы данных определились корректно. Дубликатов данных не найдено. Похоже, что значительной предобработки данных не потребуется.\n",
        "\n",
        "Познакомимся с данными в отдельных колонках, чтобы лучше понимать, с чем нам придётся работать."
      ]
    },
    {
      "cell_type": "markdown",
      "metadata": {
        "id": "pz1Ouvwts_mJ"
      },
      "source": [
        "### `calls`"
      ]
    },
    {
      "cell_type": "markdown",
      "metadata": {
        "id": "Kagi8t2Ns_mJ"
      },
      "source": [
        "Построим гистограмму распределения и «ящик с усами» для данных из колонки `calls`."
      ]
    },
    {
      "cell_type": "code",
      "source": [
        "f, [axs_hist, axs_box] = plt.subplots(2, 1,\n",
        "                                     figsize=(15, 5), \n",
        "                                     sharex=True,\n",
        "                                     gridspec_kw=dict(height_ratios=[4,1]))\n",
        "sns.histplot(data=df, x='calls', kde=True, ax=axs_hist)\\\n",
        ".set(title='Гистограмма распределения количества звонков',\n",
        "     ylabel='Количество записей')\n",
        "sns.boxplot(data=df, x='calls', ax=axs_box)\\\n",
        ".set(xlabel='Количество звонков');"
      ],
      "metadata": {
        "colab": {
          "base_uri": "https://localhost:8080/",
          "height": 355
        },
        "id": "vd3j4a64u0aY",
        "outputId": "c7d70b36-eb14-47c7-d2aa-6f258147f256"
      },
      "execution_count": 68,
      "outputs": [
        {
          "output_type": "display_data",
          "data": {
            "text/plain": [
              "<Figure size 1080x360 with 2 Axes>"
            ],
            "image/png": "[encoded data removed]"
          },
          "metadata": {}
        }
      ]
    },
    {
      "cell_type": "markdown",
      "metadata": {
        "id": "z7Z0TFWZs_mL"
      },
      "source": [
        "### _minutes_"
      ]
    },
    {
      "cell_type": "markdown",
      "metadata": {
        "id": "YkJoen7zs_mL"
      },
      "source": [
        "Построим гистограмму распределения и «ящик с усами» для данных из колонки `minutes`."
      ]
    },
    {
      "cell_type": "code",
      "source": [
        "f, [axs_hist, axs_box] = plt.subplots(2, 1,\n",
        "                                     figsize=(15, 5), \n",
        "                                     sharex=True,\n",
        "                                     gridspec_kw=dict(height_ratios=[4,1]))\n",
        "sns.histplot(data=df, x='minutes', kde=True, ax=axs_hist)\\\n",
        ".set(title='Гистограмма распределения продолжительности звонков',\n",
        "     ylabel='Количество записей')\n",
        "sns.boxplot(data=df, x='minutes', ax=axs_box)\\\n",
        ".set(xlabel='Суммарная длительность звонков (мин)');"
      ],
      "metadata": {
        "colab": {
          "base_uri": "https://localhost:8080/",
          "height": 355
        },
        "id": "IqcQAGGcvax8",
        "outputId": "c47eecb7-d4e4-4762-9fdd-96679bac663d"
      },
      "execution_count": 69,
      "outputs": [
        {
          "output_type": "display_data",
          "data": {
            "text/plain": [
              "<Figure size 1080x360 with 2 Axes>"
            ],
            "image/png": "[encoded data removed]"
          },
          "metadata": {}
        }
      ]
    },
    {
      "cell_type": "markdown",
      "metadata": {
        "id": "8LoYqD4qs_mM"
      },
      "source": [
        "### _messages_"
      ]
    },
    {
      "cell_type": "markdown",
      "metadata": {
        "id": "WKG_ipcLs_mM"
      },
      "source": [
        "Построим гистограмму распределения и «ящик с усами» для данных из колонки `messages`."
      ]
    },
    {
      "cell_type": "code",
      "source": [
        "f, [axs_hist, axs_box] = plt.subplots(2, 1,\n",
        "                                     figsize=(15, 5), \n",
        "                                     sharex=True,\n",
        "                                     gridspec_kw=dict(height_ratios=[4,1]))\n",
        "sns.histplot(data=df, x='messages', kde=True, ax=axs_hist)\\\n",
        ".set(title='Гистограмма распределения количества сообщений',\n",
        "     ylabel='Количество записей')\n",
        "sns.boxplot(data=df, x='messages', ax=axs_box)\\\n",
        ".set(xlabel='Количество сообщений');"
      ],
      "metadata": {
        "colab": {
          "base_uri": "https://localhost:8080/",
          "height": 355
        },
        "id": "VeasH9-ZvydO",
        "outputId": "aca3419a-6de1-475d-c48e-0385b14265d8"
      },
      "execution_count": 70,
      "outputs": [
        {
          "output_type": "display_data",
          "data": {
            "text/plain": [
              "<Figure size 1080x360 with 2 Axes>"
            ],
            "image/png": "[encoded data removed]"
          },
          "metadata": {}
        }
      ]
    },
    {
      "cell_type": "markdown",
      "metadata": {
        "id": "A57inY8Ws_mO"
      },
      "source": [
        "### _mb_used_"
      ]
    },
    {
      "cell_type": "markdown",
      "metadata": {
        "id": "nY7fBttgs_mO"
      },
      "source": [
        "Построим гистограмму распределения и «ящик с усами» для данных из колонки `mb_used`."
      ]
    },
    {
      "cell_type": "code",
      "source": [
        "f, [axs_hist, axs_box] = plt.subplots(2, 1,\n",
        "                                     figsize=(15, 5), \n",
        "                                     sharex=True,\n",
        "                                     gridspec_kw=dict(height_ratios=[4,1]))\n",
        "sns.histplot(data=df, x='mb_used', kde=True, ax=axs_hist)\\\n",
        ".set(title='Гистограмма распределения израсходованного трафика',\n",
        "     ylabel='Количество записей')\n",
        "sns.boxplot(data=df, x='mb_used', ax=axs_box)\\\n",
        ".set(xlabel='Израсходованный трафик (Мб)');"
      ],
      "metadata": {
        "colab": {
          "base_uri": "https://localhost:8080/",
          "height": 355
        },
        "id": "PXRMKTi1wC0D",
        "outputId": "00d8795d-2a2b-4d84-9a3c-791b3d26729a"
      },
      "execution_count": 71,
      "outputs": [
        {
          "output_type": "display_data",
          "data": {
            "text/plain": [
              "<Figure size 1080x360 with 2 Axes>"
            ],
            "image/png": "[encoded data removed]"
          },
          "metadata": {}
        }
      ]
    },
    {
      "cell_type": "markdown",
      "metadata": {
        "id": "b9pwSWEws_mP"
      },
      "source": [
        "### _is_ultra_"
      ]
    },
    {
      "cell_type": "markdown",
      "metadata": {
        "id": "_QidrbIus_mP"
      },
      "source": [
        "Оценим баланс данных в колонке `is_ultra`."
      ]
    },
    {
      "cell_type": "code",
      "source": [
        "df.is_ultra.value_counts(normalize=True).to_frame()"
      ],
      "metadata": {
        "colab": {
          "base_uri": "https://localhost:8080/",
          "height": 112
        },
        "id": "QEPp2a7y2li7",
        "outputId": "0ba2f8aa-8e21-4ab8-b277-512b94a07f82"
      },
      "execution_count": 72,
      "outputs": [
        {
          "output_type": "execute_result",
          "data": {
            "text/plain": [
              "   is_ultra\n",
              "0  0.693528\n",
              "1  0.306472"
            ],
            "text/html": [
              "\n",
              "  <div id=\"df-3651162d-91af-4238-a2b2-c0dccc8e2cb8\">\n",
              "    <div class=\"colab-df-container\">\n",
              "      <div>\n",
              "<style scoped>\n",
              "    .dataframe tbody tr th:only-of-type {\n",
              "        vertical-align: middle;\n",
              "    }\n",
              "\n",
              "    .dataframe tbody tr th {\n",
              "        vertical-align: top;\n",
              "    }\n",
              "\n",
              "    .dataframe thead th {\n",
              "        text-align: right;\n",
              "    }\n",
              "</style>\n",
              "<table border=\"1\" class=\"dataframe\">\n",
              "  <thead>\n",
              "    <tr style=\"text-align: right;\">\n",
              "      <th></th>\n",
              "      <th>is_ultra</th>\n",
              "    </tr>\n",
              "  </thead>\n",
              "  <tbody>\n",
              "    <tr>\n",
              "      <th>0</th>\n",
              "      <td>0.693528</td>\n",
              "    </tr>\n",
              "    <tr>\n",
              "      <th>1</th>\n",
              "      <td>0.306472</td>\n",
              "    </tr>\n",
              "  </tbody>\n",
              "</table>\n",
              "</div>\n",
              "      <button class=\"colab-df-convert\" onclick=\"convertToInteractive('df-3651162d-91af-4238-a2b2-c0dccc8e2cb8')\"\n",
              "              title=\"Convert this dataframe to an interactive table.\"\n",
              "              style=\"display:none;\">\n",
              "        \n",
              "  <svg xmlns=\"http://www.w3.org/2000/svg\" height=\"24px\"viewBox=\"0 0 24 24\"\n",
              "       width=\"24px\">\n",
              "    <path d=\"M0 0h24v24H0V0z\" fill=\"none\"/>\n",
              "    <path d=\"M18.56 5.44l.94 2.06.94-2.06 2.06-.94-2.06-.94-.94-2.06-.94 2.06-2.06.94zm-11 1L8.5 8.5l.94-2.06 2.06-.94-2.06-.94L8.5 2.5l-.94 2.06-2.06.94zm10 10l.94 2.06.94-2.06 2.06-.94-2.06-.94-.94-2.06-.94 2.06-2.06.94z\"/><path d=\"M17.41 7.96l-1.37-1.37c-.4-.4-.92-.59-1.43-.59-.52 0-1.04.2-1.43.59L10.3 9.45l-7.72 7.72c-.78.78-.78 2.05 0 2.83L4 21.41c.39.39.9.59 1.41.59.51 0 1.02-.2 1.41-.59l7.78-7.78 2.81-2.81c.8-.78.8-2.07 0-2.86zM5.41 20L4 18.59l7.72-7.72 1.47 1.35L5.41 20z\"/>\n",
              "  </svg>\n",
              "      </button>\n",
              "      \n",
              "  <style>\n",
              "    .colab-df-container {\n",
              "      display:flex;\n",
              "      flex-wrap:wrap;\n",
              "      gap: 12px;\n",
              "    }\n",
              "\n",
              "    .colab-df-convert {\n",
              "      background-color: #E8F0FE;\n",
              "      border: none;\n",
              "      border-radius: 50%;\n",
              "      cursor: pointer;\n",
              "      display: none;\n",
              "      fill: #1967D2;\n",
              "      height: 32px;\n",
              "      padding: 0 0 0 0;\n",
              "      width: 32px;\n",
              "    }\n",
              "\n",
              "    .colab-df-convert:hover {\n",
              "      background-color: #E2EBFA;\n",
              "      box-shadow: 0px 1px 2px rgba(60, 64, 67, 0.3), 0px 1px 3px 1px rgba(60, 64, 67, 0.15);\n",
              "      fill: #174EA6;\n",
              "    }\n",
              "\n",
              "    [theme=dark] .colab-df-convert {\n",
              "      background-color: #3B4455;\n",
              "      fill: #D2E3FC;\n",
              "    }\n",
              "\n",
              "    [theme=dark] .colab-df-convert:hover {\n",
              "      background-color: #434B5C;\n",
              "      box-shadow: 0px 1px 3px 1px rgba(0, 0, 0, 0.15);\n",
              "      filter: drop-shadow(0px 1px 2px rgba(0, 0, 0, 0.3));\n",
              "      fill: #FFFFFF;\n",
              "    }\n",
              "  </style>\n",
              "\n",
              "      <script>\n",
              "        const buttonEl =\n",
              "          document.querySelector('#df-3651162d-91af-4238-a2b2-c0dccc8e2cb8 button.colab-df-convert');\n",
              "        buttonEl.style.display =\n",
              "          google.colab.kernel.accessAllowed ? 'block' : 'none';\n",
              "\n",
              "        async function convertToInteractive(key) {\n",
              "          const element = document.querySelector('#df-3651162d-91af-4238-a2b2-c0dccc8e2cb8');\n",
              "          const dataTable =\n",
              "            await google.colab.kernel.invokeFunction('convertToInteractive',\n",
              "                                                     [key], {});\n",
              "          if (!dataTable) return;\n",
              "\n",
              "          const docLinkHtml = 'Like what you see? Visit the ' +\n",
              "            '<a target=\"_blank\" href=https://colab.research.google.com/notebooks/data_table.ipynb>data table notebook</a>'\n",
              "            + ' to learn more about interactive tables.';\n",
              "          element.innerHTML = '';\n",
              "          dataTable['output_type'] = 'display_data';\n",
              "          await google.colab.output.renderOutput(dataTable, element);\n",
              "          const docLink = document.createElement('div');\n",
              "          docLink.innerHTML = docLinkHtml;\n",
              "          element.appendChild(docLink);\n",
              "        }\n",
              "      </script>\n",
              "    </div>\n",
              "  </div>\n",
              "  "
            ]
          },
          "metadata": {},
          "execution_count": 72
        }
      ]
    },
    {
      "cell_type": "code",
      "source": [
        "ax = sns.countplot(data=df, y='is_ultra')\n",
        "ax.set(xlabel='Количество записей',\n",
        "     ylabel='Тариф',\n",
        "     title='Количество записей о пользователях с различными тарифами')\n",
        "ax.set_yticklabels(['Смарт', 'Ультра']);"
      ],
      "metadata": {
        "colab": {
          "base_uri": "https://localhost:8080/",
          "height": 355
        },
        "id": "5GtqGk4Rwfyp",
        "outputId": "162f85e6-1dc3-43d3-dfb8-badf8430a684"
      },
      "execution_count": 73,
      "outputs": [
        {
          "output_type": "display_data",
          "data": {
            "text/plain": [
              "<Figure size 1080x360 with 1 Axes>"
            ],
            "image/png": "[encoded data removed]"
          },
          "metadata": {}
        }
      ]
    },
    {
      "cell_type": "markdown",
      "metadata": {
        "id": "WJHsjh1ps_mQ"
      },
      "source": [
        "### Вывод\n",
        "\n",
        "После загрузки и предварительного изучения данных каких-либо существенных проблем выявлено не было. На графиках boxplot видно некоторое количество выбросов, но эта ситуация вполне нормальна. Из гистограммы для колонки `is_ultra` видно, что данных о пользователях тарифа _smart_ у нас больше, чем данных о пользователях тарифа _ultra_."
      ]
    },
    {
      "cell_type": "markdown",
      "metadata": {
        "id": "kGUDm6IAs_mS"
      },
      "source": [
        "## Разбиение данных на выборки\n",
        "\n",
        "Итак, нам надо решить задачу классификации. Для этого необходимо разделить наши данные на две части: параметры и целевые данные. Так как мы будем классифицировать клиентов на потенциальных пользователей тарифов _ultra_ и _smart_, то в качестве целевых данных будем использовать колонку `is_ultra`. Все остальные данные будут параметрами."
      ]
    },
    {
      "cell_type": "code",
      "execution_count": 74,
      "metadata": {
        "id": "dUL4tWaqs_mS"
      },
      "outputs": [],
      "source": [
        "features = df.drop('is_ultra', axis=1)\n",
        "target = df['is_ultra']"
      ]
    },
    {
      "cell_type": "markdown",
      "metadata": {
        "id": "4uk6csx9s_mS"
      },
      "source": [
        "Теперь из данных необходимо выделить тестовую выборку. Для разделения выборок удобно воспользоваться фукнцией _train_test_split_ библиотеки _sklearn_. Для тестовой выборки возьмём 25% наших данных."
      ]
    },
    {
      "cell_type": "code",
      "execution_count": 75,
      "metadata": {
        "id": "kQwOdi61s_mT"
      },
      "outputs": [],
      "source": [
        "X_train, X_test, y_train, y_test = train_test_split(features, target, train_size=.75, \n",
        "                                                    random_state=42, stratify=target)"
      ]
    },
    {
      "cell_type": "code",
      "source": [
        "print(\"Train:\", X_train.shape, y_train.shape)\n",
        "print(\"Test:\", X_test.shape, y_test.shape)"
      ],
      "metadata": {
        "colab": {
          "base_uri": "https://localhost:8080/"
        },
        "id": "-QmBGd6U24qh",
        "outputId": "3a4ef562-e92b-4f5e-d170-4d6a9037fbd9"
      },
      "execution_count": 76,
      "outputs": [
        {
          "output_type": "stream",
          "name": "stdout",
          "text": [
            "Train: (2410, 4) (2410,)\n",
            "Test: (804, 4) (804,)\n"
          ]
        }
      ]
    },
    {
      "cell_type": "markdown",
      "metadata": {
        "id": "yxJIWl2ts_mU"
      },
      "source": [
        "## Исследование моделей\n",
        "\n",
        "Давайте проведём несколько экспериментов с имеющимися данными. Обучим и проверим несколько моделей с разными гипер-параметрами и посмотрим какая из моделей лучше подходит для нашей задачи. \n",
        "\n",
        "Начнём, пожалуй, с решающего дерева, потом посадим случайный лес, а на закуску оставим логистическую регрессию. Все модели мы ранее загрузили из библиотеки _sklearn_, гипер-параметры для каждой модели подробно описаны в документации библиотеки.\n",
        "\n",
        "Модели будем оценивать по метрике _accuracy_."
      ]
    },
    {
      "cell_type": "markdown",
      "metadata": {
        "id": "0auRvOrLs_mU"
      },
      "source": [
        "### Решающее дерево _(decision tree)_"
      ]
    },
    {
      "cell_type": "markdown",
      "metadata": {
        "id": "aormPOn4s_mU"
      },
      "source": [
        "Для нахождения наилучшего решающего дерева для нашей задачи проверим следующие диапазоны гипер-параметров:\n",
        "* максимальная глубина дерева _(max_depth)_ от 1 до 30;\n",
        "* минимальное количество объектов для ветвления _(min_samples_split)_ от 2 до 5."
      ]
    },
    {
      "cell_type": "code",
      "execution_count": 77,
      "metadata": {
        "scrolled": true,
        "colab": {
          "base_uri": "https://localhost:8080/"
        },
        "id": "JzoIbH_ys_mV",
        "outputId": "561c9845-77db-4704-bbd4-506c04f9a88d"
      },
      "outputs": [
        {
          "output_type": "stream",
          "name": "stdout",
          "text": [
            "CPU times: user 7.16 s, sys: 12.5 ms, total: 7.17 s\n",
            "Wall time: 7.17 s\n"
          ]
        }
      ],
      "source": [
        "%%time\n",
        "params = {'max_depth': range(1, 31),\n",
        "         'min_samples_split': range(2, 6)}\n",
        "dtc = DecisionTreeClassifier(random_state=42)\n",
        "\n",
        "best_dtc = GridSearchCV(estimator=dtc, param_grid=params, scoring='accuracy')\n",
        "best_dtc.fit(X_train, y_train)\n",
        "best_params_dtc = best_dtc.best_params_\n",
        "best_score_dtc = best_dtc.best_score_"
      ]
    },
    {
      "cell_type": "code",
      "execution_count": 78,
      "metadata": {
        "colab": {
          "base_uri": "https://localhost:8080/"
        },
        "id": "dUeOSaDqs_mW",
        "outputId": "ebaaed0d-e499-4b51-e0b2-44e322da68fa"
      },
      "outputs": [
        {
          "output_type": "stream",
          "name": "stdout",
          "text": [
            "Accuracy наилучшей модели на валидационной выборке: 0.796 \n",
            " Глубина дерева: 7 \n",
            " Минимальное количество объектов для ветвления: 4\n"
          ]
        }
      ],
      "source": [
        "print(\"Accuracy наилучшей модели на валидационной выборке:\", round(best_score_dtc, 3), '\\n',\n",
        "      \"Глубина дерева:\", best_params_dtc['max_depth'], '\\n',\n",
        "      \"Минимальное количество объектов для ветвления:\", best_params_dtc['min_samples_split'])"
      ]
    },
    {
      "cell_type": "markdown",
      "metadata": {
        "id": "IbSjfnSms_mW"
      },
      "source": [
        "Итак, применив одно решающее дерево мы получили на валидационных данных метрику _accuracy_ 0,796. Эта метрика была получена для дерева глубиной 7."
      ]
    },
    {
      "cell_type": "markdown",
      "metadata": {
        "id": "VL1EYTmAs_mW"
      },
      "source": [
        "### Случайный лес _(random forest)_"
      ]
    },
    {
      "cell_type": "markdown",
      "metadata": {
        "id": "bra8BKi-s_mX"
      },
      "source": [
        "Для нахождения наилучшего случайного леса для нашей задачи проверим следующие диапазоны гипер-параметров:\n",
        "* количество деревьев в лесе _(n_estimators)_ от 80 до 120;\n",
        "* максимальная глубина деревьев _(max_depth)_ от 5 до 20;\n",
        "* минимальное количество объектов для ветвления _(min_samples_split)_ от 2 до 5."
      ]
    },
    {
      "cell_type": "code",
      "execution_count": 79,
      "metadata": {
        "colab": {
          "base_uri": "https://localhost:8080/"
        },
        "id": "vOSDCGzas_mX",
        "outputId": "b06a9b22-6492-49a6-ea78-2e07fafed73a"
      },
      "outputs": [
        {
          "output_type": "stream",
          "name": "stdout",
          "text": [
            "CPU times: user 21.5 s, sys: 1.18 s, total: 22.7 s\n",
            "Wall time: 15min 44s\n"
          ]
        }
      ],
      "source": [
        "%%time\n",
        "params = {'max_depth': range(1, 31),\n",
        "         'min_samples_split': range(2, 6),\n",
        "         'n_estimators': range(80, 130, 10)}\n",
        "rfc = RandomForestClassifier(random_state=42)\n",
        "\n",
        "best_rfc = GridSearchCV(estimator=rfc, param_grid=params, scoring='accuracy', n_jobs=-1)\n",
        "best_rfc.fit(X_train, y_train)\n",
        "best_params_rfc = best_rfc.best_params_\n",
        "best_score_rfc = best_rfc.best_score_"
      ]
    },
    {
      "cell_type": "code",
      "execution_count": 80,
      "metadata": {
        "colab": {
          "base_uri": "https://localhost:8080/"
        },
        "id": "h3lmqSXss_mY",
        "outputId": "33da6ccc-d6b8-4f9f-f970-f734abec5d8b"
      },
      "outputs": [
        {
          "output_type": "stream",
          "name": "stdout",
          "text": [
            "Accuracy наилучшей модели на валидационной выборке: 0.802 \n",
            " Количество деревьев в лесу: 120 \n",
            " Глубина дерева: 13 \n",
            " Минимальное количество объектов для ветвления: 5\n"
          ]
        }
      ],
      "source": [
        "print(\"Accuracy наилучшей модели на валидационной выборке:\", round(best_score_rfc, 3), '\\n',\n",
        "      \"Количество деревьев в лесу:\", best_params_rfc['n_estimators'], '\\n',\n",
        "      \"Глубина дерева:\", best_params_rfc['max_depth'], '\\n',\n",
        "      \"Минимальное количество объектов для ветвления:\", best_params_rfc['min_samples_split'])"
      ]
    },
    {
      "cell_type": "markdown",
      "metadata": {
        "id": "LnVs1QDOs_mZ"
      },
      "source": [
        "Итак, применив случайный лес решающих деревьев мы получили на валидационных данных метрику _accuracy_ 0,802. Эта метрика была получена для леса из 120 деревьев глубиной 13."
      ]
    },
    {
      "cell_type": "markdown",
      "metadata": {
        "id": "1VAXJ07us_mZ"
      },
      "source": [
        "### Логистическая регрессия _(logit classifier)_"
      ]
    },
    {
      "cell_type": "markdown",
      "metadata": {
        "id": "RFTJzljas_mZ"
      },
      "source": [
        "Построим логистическую регрессию с решателем _lbfgs_ и посмотрим на среднеквадратическую ошибку для неё."
      ]
    },
    {
      "cell_type": "code",
      "execution_count": 81,
      "metadata": {
        "colab": {
          "base_uri": "https://localhost:8080/"
        },
        "id": "yuCpthsrs_ma",
        "outputId": "2be30dd9-0278-41f1-a1ec-4e1f05fe5b0b"
      },
      "outputs": [
        {
          "output_type": "stream",
          "name": "stdout",
          "text": [
            "CPU times: user 129 ms, sys: 36.6 ms, total: 165 ms\n",
            "Wall time: 471 ms\n"
          ]
        }
      ],
      "source": [
        "%%time\n",
        "params = {'solver': ['lbfgs'],\n",
        "         'C': [0.8, 0.9, 1.0]}\n",
        "\n",
        "lr = LogisticRegression(random_state=42)\n",
        "\n",
        "best_lr = GridSearchCV(estimator=lr, param_grid=params, scoring='accuracy', n_jobs=-1)\n",
        "best_lr.fit(X_train, y_train)\n",
        "best_params_lr = best_lr.best_params_\n",
        "best_score_lr = best_lr.best_score_"
      ]
    },
    {
      "cell_type": "code",
      "execution_count": 82,
      "metadata": {
        "colab": {
          "base_uri": "https://localhost:8080/"
        },
        "id": "seiuFfTcs_ma",
        "outputId": "933c52bd-8095-4921-cbb7-7e7e3fff8036"
      },
      "outputs": [
        {
          "output_type": "stream",
          "name": "stdout",
          "text": [
            "Accuracy наилучшей модели на валидационной выборке: 0.721 \n",
            " Параметр регуляризации: 0.8\n"
          ]
        }
      ],
      "source": [
        "print(\"Accuracy наилучшей модели на валидационной выборке:\", round(best_score_lr, 3), '\\n',\n",
        "      \"Параметр регуляризации:\", best_params_lr['C'])"
      ]
    },
    {
      "cell_type": "markdown",
      "metadata": {
        "id": "MOg5aAHKs_ma"
      },
      "source": [
        "Итак, применив логистическую регрессию мы получили на валидационных данных метрику _accuracy_ 0,721. Маловато будет!"
      ]
    },
    {
      "cell_type": "markdown",
      "source": [
        "Построим сводный график с результатами кросс-валидации."
      ],
      "metadata": {
        "id": "AIwgLP_H4ajT"
      }
    },
    {
      "cell_type": "code",
      "source": [
        "cv_dt = DecisionTreeClassifier(random_state=42, **best_params_dtc)"
      ],
      "metadata": {
        "id": "Fkv2QGskBf2p"
      },
      "execution_count": 83,
      "outputs": []
    },
    {
      "cell_type": "code",
      "source": [
        "cv_rf = RandomForestClassifier(random_state=42, **best_params_rfc)"
      ],
      "metadata": {
        "id": "WA4rvFA1BsGC"
      },
      "execution_count": 84,
      "outputs": []
    },
    {
      "cell_type": "code",
      "source": [
        "cv_lr = LogisticRegression(random_state=42, **best_params_lr)"
      ],
      "metadata": {
        "id": "5ziV-RkTBwpq"
      },
      "execution_count": 85,
      "outputs": []
    },
    {
      "cell_type": "code",
      "source": [
        "scores = []"
      ],
      "metadata": {
        "id": "7qDZCaoaB4T8"
      },
      "execution_count": 86,
      "outputs": []
    },
    {
      "cell_type": "code",
      "source": [
        "scores.append(cross_val_score(cv_dt, X_train, y_train, scoring='accuracy', cv=10))\n",
        "scores.append(cross_val_score(cv_rf, X_train, y_train, scoring='accuracy', cv=10))\n",
        "scores.append(cross_val_score(cv_lr, X_train, y_train, scoring='accuracy', cv=10))"
      ],
      "metadata": {
        "id": "kRVmmzkm4fL7"
      },
      "execution_count": 87,
      "outputs": []
    },
    {
      "cell_type": "code",
      "source": [
        "scores = pd.DataFrame(scores, index=['Решающее дерево', 'Случайный лес', 'Логистическая регрессия'])"
      ],
      "metadata": {
        "id": "UJ0t7zi1CM6m"
      },
      "execution_count": 88,
      "outputs": []
    },
    {
      "cell_type": "code",
      "source": [
        "sns.boxplot(data=scores.T, orient='h', showmeans=True, \n",
        "                    meanprops={'marker': 'x',\n",
        "                               'markeredgecolor': 'black',\n",
        "                               'markersize': '10'})\\\n",
        ".set(title='Сравнение метрики accuracy после кросс-валидации для различных моделей',\n",
        "     xlabel='Accuracy',\n",
        "     ylabel='Модель');"
      ],
      "metadata": {
        "colab": {
          "base_uri": "https://localhost:8080/",
          "height": 355
        },
        "id": "WozUxpdbCikj",
        "outputId": "e9fb3b3e-2866-482c-90b2-90be1e93af52"
      },
      "execution_count": 89,
      "outputs": [
        {
          "output_type": "display_data",
          "data": {
            "text/plain": [
              "<Figure size 1080x360 with 1 Axes>"
            ],
            "image/png": "[encoded data removed]"
          },
          "metadata": {}
        }
      ]
    },
    {
      "cell_type": "markdown",
      "metadata": {
        "id": "xv9yVoqis_mc"
      },
      "source": [
        "### Вывод\n",
        "\n",
        "Мы провели несколько экспериментов с различными моделями и различными наборами гипер-параметров. Модели сравнивали модели по метрике _accuracy_ на валидационных данных. Лучше всего себя показал случайный лес из 120 деревьев (метрика _accuracy_ 0,802, довольно неплохо).\n",
        "\n",
        "| Модель         | Accuracy     | \n",
        "|--------------|-----------:|\n",
        "| Решающее дерево | 0,796      | \n",
        "| Случайный лес      | 0,802  | \n",
        "| Логистическая регрессия      | 0,721 | "
      ]
    },
    {
      "cell_type": "markdown",
      "metadata": {
        "id": "jWlHJEGts_mg"
      },
      "source": [
        "## Проверка модели на адекватность"
      ]
    },
    {
      "cell_type": "markdown",
      "metadata": {
        "id": "I-UsTmqJs_mg"
      },
      "source": [
        "Убедимся, что выбранная нами модель действительно даёт стоящие прогнозы.\n",
        "\n",
        "На этапе предварительного изучения данных мы заметили, что в нашей таблице пользователей тарифа _smart_ в два с лишним раза больше, чем пользователей тарифа _ultra_. А это значит, что если бы мы создали модель, которая всех пользователей просто относила бы к тарифу _smart_, то её метрика _accuracy_ была бы довольно неплохой (модель была бы права в более чем половине случаев). Посчитаем метрику _accuracy_ для такой модели и сравним с метрикой случайного леса."
      ]
    },
    {
      "cell_type": "code",
      "execution_count": 90,
      "metadata": {
        "id": "o1Gs5D2Xs_mg",
        "outputId": "cd477287-6aea-4ae8-800e-d6b54cc40ec7",
        "colab": {
          "base_uri": "https://localhost:8080/"
        }
      },
      "outputs": [
        {
          "output_type": "stream",
          "name": "stdout",
          "text": [
            "Метрика accuracy на тестовых данных: 0.694\n"
          ]
        }
      ],
      "source": [
        "dc = DummyClassifier(strategy='most_frequent')\n",
        "dc.fit(X_train, y_train)\n",
        "\n",
        "dummy_pred_test = dc.predict(X_test)\n",
        "dummy_accuracy = accuracy_score(y_test, dummy_pred_test)\n",
        "print('Метрика accuracy на тестовых данных:', round(dummy_accuracy, 3))"
      ]
    },
    {
      "cell_type": "markdown",
      "metadata": {
        "id": "mAxdfs0fs_mg"
      },
      "source": [
        "**Вывод**\n",
        "\n",
        "Как видно, если бы мы создали модель, которая всех пользователей относила к классу _smart_, то метрика _accuracy_ такой модели на тестовых данных была бы равна 0,694. Ранее выбранная нами модель случайного леса обеспечивала точность прогнозов на кросс-валидации 0,802, что заметно больше. При этом следует понимать, что столь высокая точность «глупой» модели обеспечивается за счёт того, что данных о пользователях тарифа _smart_ существенно больше. Если бы в данных пользователи обоих тарифов были представлены одинаково, точность «глупой» модели снизилась бы до ~0,5.\n",
        "\n",
        "Отдельно стоит отметить, что в зависимости от цели моделирования может меняться и метрика. Например, если бизнесу необходима модель, которая бы с высокой точностью находила именно потенциальных пользователей тарифа _ultra_ (предположим, что он более выгодный), то следовало бы изменить метрику. В этом случае эффективность «глупой» модели, относящей всех к тарифу _smart_ была бы просто нулевой."
      ]
    },
    {
      "cell_type": "markdown",
      "source": [
        "| Модель         | Accuracy     | \n",
        "|--------------|-----------:|\n",
        "| Решающее дерево | 0,796      | \n",
        "| Случайный лес      | 0,802  | \n",
        "| Логистическая регрессия      | 0,721 | \n",
        "| Проверка на адекватность      | 0,694 | "
      ],
      "metadata": {
        "id": "a5OBkJiq7JQv"
      }
    },
    {
      "cell_type": "markdown",
      "metadata": {
        "id": "ZIyimbngs_md"
      },
      "source": [
        "## Проверка модели на тестовой выборке\n",
        "\n",
        "Проверим, как выбранный случайный лес покажет себя на тестовой выборке."
      ]
    },
    {
      "cell_type": "code",
      "execution_count": 91,
      "metadata": {
        "id": "acNGwJ8Gs_md",
        "outputId": "3172e7ec-36bc-463c-ce5c-0f2e75b79823",
        "colab": {
          "base_uri": "https://localhost:8080/"
        }
      },
      "outputs": [
        {
          "output_type": "stream",
          "name": "stdout",
          "text": [
            "Метрика accuracy на тестовых данных: 0.8121890547263682\n"
          ]
        }
      ],
      "source": [
        "pred_test = best_rfc.predict(X_test)\n",
        "ultimate_accuracy = accuracy_score(y_test, pred_test)\n",
        "print('Метрика accuracy на тестовых данных:', ultimate_accuracy)"
      ]
    },
    {
      "cell_type": "markdown",
      "metadata": {
        "id": "UiiUzyN8s_me"
      },
      "source": [
        "**Вывод**\n",
        "\n",
        "Отобранная модель при проверке на тестовых данных показывает уровень _accuracy_ 0,812, что даже больше, чем на валидационных данных. В контексте задачи этот результат можно считать достаточно хорошим."
      ]
    },
    {
      "cell_type": "markdown",
      "metadata": {
        "id": "cIAfuk6os_mf"
      },
      "source": [
        "## Общий вывод по проекту\n",
        "\n",
        "Целью данного проекта была разработка модели, позволяющей рекомендовать тариф _smart_ или _ultra_ для пользователей старых тарифов. \n",
        "\n",
        "Для этого использовались данные о клиентах, уже подключенных к тарифам _smart_ и _ultra_. Данные были разделены на обучающую и тестовую выборки.\n",
        "\n",
        "Мы провели серию экспериментов с различными моделями и различными наборами гипер-параметров. Все модели сравнивались между собой по метрике _accuracy_ на кросс-валидации. Анализ показал, что для имеющегося набора данных наилучший результат показывает модель случайного леса из 120 деревьев глубиной 13.\n",
        "\n",
        "Выбранная модель была проверена на тестовых данных, при этом метрика _accuracy_ составила 0,812, что в рамках данной задачи можно считать весьма хорошим результатом.\n",
        "\n",
        "Данная модель позволит отбирать пользователей, которые готовы перейти на более выгодный для компании тариф и разрабатывать для них таргетированную рекламу, что может существенно снизить расходы бизнеса."
      ]
    }
  ],
  "metadata": {
    "ExecuteTimeLog": [
      {
        "duration": 482,
        "start_time": "2022-05-31T16:46:24.004Z"
      },
      {
        "duration": 110,
        "start_time": "2022-05-31T16:46:40.855Z"
      },
      {
        "duration": 16,
        "start_time": "2022-05-31T16:47:44.134Z"
      },
      {
        "duration": 12,
        "start_time": "2022-05-31T16:47:52.343Z"
      },
      {
        "duration": 23,
        "start_time": "2022-05-31T16:48:10.533Z"
      },
      {
        "duration": 6,
        "start_time": "2022-05-31T16:52:12.008Z"
      },
      {
        "duration": 786,
        "start_time": "2022-05-31T16:54:19.207Z"
      },
      {
        "duration": 198,
        "start_time": "2022-05-31T16:54:41.158Z"
      },
      {
        "duration": 136,
        "start_time": "2022-05-31T16:54:58.841Z"
      },
      {
        "duration": 140,
        "start_time": "2022-05-31T16:55:07.380Z"
      },
      {
        "duration": 133,
        "start_time": "2022-05-31T16:55:48.774Z"
      },
      {
        "duration": 139,
        "start_time": "2022-05-31T16:56:00.530Z"
      },
      {
        "duration": 99,
        "start_time": "2022-05-31T16:56:19.107Z"
      },
      {
        "duration": 110,
        "start_time": "2022-05-31T16:56:51.637Z"
      },
      {
        "duration": 168,
        "start_time": "2022-05-31T16:57:02.917Z"
      },
      {
        "duration": 137,
        "start_time": "2022-05-31T16:59:03.371Z"
      },
      {
        "duration": 143,
        "start_time": "2022-05-31T16:59:06.485Z"
      },
      {
        "duration": 116,
        "start_time": "2022-05-31T16:59:14.149Z"
      },
      {
        "duration": 130,
        "start_time": "2022-05-31T17:00:00.343Z"
      },
      {
        "duration": 95,
        "start_time": "2022-05-31T17:00:06.517Z"
      },
      {
        "duration": 128,
        "start_time": "2022-05-31T17:01:19.910Z"
      },
      {
        "duration": 153,
        "start_time": "2022-05-31T17:01:27.566Z"
      },
      {
        "duration": 121,
        "start_time": "2022-05-31T17:02:11.861Z"
      },
      {
        "duration": 107,
        "start_time": "2022-05-31T17:02:18.040Z"
      },
      {
        "duration": 772,
        "start_time": "2022-05-31T17:06:27.974Z"
      },
      {
        "duration": 4,
        "start_time": "2022-05-31T17:11:27.379Z"
      },
      {
        "duration": 9,
        "start_time": "2022-05-31T17:16:21.158Z"
      },
      {
        "duration": 38,
        "start_time": "2022-05-31T17:21:15.247Z"
      },
      {
        "duration": 3,
        "start_time": "2022-05-31T17:26:36.319Z"
      },
      {
        "duration": 3,
        "start_time": "2022-05-31T17:28:52.013Z"
      },
      {
        "duration": 18161,
        "start_time": "2022-05-31T17:35:58.164Z"
      },
      {
        "duration": 17555,
        "start_time": "2022-05-31T17:37:05.275Z"
      },
      {
        "duration": 17405,
        "start_time": "2022-05-31T17:37:37.841Z"
      },
      {
        "duration": 17420,
        "start_time": "2022-05-31T17:38:19.868Z"
      },
      {
        "duration": 12,
        "start_time": "2022-05-31T17:44:31.417Z"
      },
      {
        "duration": 1280655,
        "start_time": "2022-05-31T17:50:28.006Z"
      },
      {
        "duration": 0,
        "start_time": "2022-05-31T18:11:48.663Z"
      },
      {
        "duration": 0,
        "start_time": "2022-05-31T18:11:48.664Z"
      },
      {
        "duration": 0,
        "start_time": "2022-05-31T18:11:48.666Z"
      },
      {
        "duration": 17460,
        "start_time": "2022-05-31T18:11:53.205Z"
      },
      {
        "duration": 3,
        "start_time": "2022-05-31T18:12:35.311Z"
      },
      {
        "duration": 90943,
        "start_time": "2022-05-31T18:13:13.993Z"
      },
      {
        "duration": 12,
        "start_time": "2022-05-31T18:14:51.287Z"
      },
      {
        "duration": 13,
        "start_time": "2022-05-31T18:14:59.560Z"
      },
      {
        "duration": 24,
        "start_time": "2022-05-31T18:15:06.134Z"
      },
      {
        "duration": 23,
        "start_time": "2022-05-31T18:15:09.575Z"
      },
      {
        "duration": 93807,
        "start_time": "2022-05-31T18:15:37.533Z"
      },
      {
        "duration": 3,
        "start_time": "2022-05-31T18:18:12.854Z"
      },
      {
        "duration": 17353,
        "start_time": "2022-05-31T18:19:22.215Z"
      },
      {
        "duration": 80846,
        "start_time": "2022-05-31T18:21:14.438Z"
      },
      {
        "duration": 21,
        "start_time": "2022-05-31T18:22:47.141Z"
      },
      {
        "duration": 489697,
        "start_time": "2022-05-31T18:23:09.252Z"
      },
      {
        "duration": 5,
        "start_time": "2022-05-31T18:32:21.881Z"
      },
      {
        "duration": 5,
        "start_time": "2022-05-31T18:32:54.545Z"
      },
      {
        "duration": 32,
        "start_time": "2022-05-31T18:33:04.833Z"
      },
      {
        "duration": 21,
        "start_time": "2022-05-31T18:33:08.608Z"
      },
      {
        "duration": 27,
        "start_time": "2022-05-31T18:33:14.603Z"
      },
      {
        "duration": 21,
        "start_time": "2022-05-31T18:33:29.825Z"
      },
      {
        "duration": 22,
        "start_time": "2022-05-31T18:33:35.416Z"
      },
      {
        "duration": 3,
        "start_time": "2022-05-31T18:34:03.565Z"
      },
      {
        "duration": 32,
        "start_time": "2022-05-31T18:34:03.570Z"
      },
      {
        "duration": 10,
        "start_time": "2022-05-31T18:34:03.604Z"
      },
      {
        "duration": 16,
        "start_time": "2022-05-31T18:34:03.615Z"
      },
      {
        "duration": 27,
        "start_time": "2022-05-31T18:34:03.633Z"
      },
      {
        "duration": 6,
        "start_time": "2022-05-31T18:34:03.661Z"
      },
      {
        "duration": 146,
        "start_time": "2022-05-31T18:34:03.668Z"
      },
      {
        "duration": 111,
        "start_time": "2022-05-31T18:34:03.816Z"
      },
      {
        "duration": 236,
        "start_time": "2022-05-31T18:34:03.929Z"
      },
      {
        "duration": 128,
        "start_time": "2022-05-31T18:34:04.167Z"
      },
      {
        "duration": 174,
        "start_time": "2022-05-31T18:34:04.298Z"
      },
      {
        "duration": 126,
        "start_time": "2022-05-31T18:34:04.474Z"
      },
      {
        "duration": 151,
        "start_time": "2022-05-31T18:34:04.602Z"
      },
      {
        "duration": 108,
        "start_time": "2022-05-31T18:34:04.754Z"
      },
      {
        "duration": 135,
        "start_time": "2022-05-31T18:34:04.864Z"
      },
      {
        "duration": 4,
        "start_time": "2022-05-31T18:34:05.001Z"
      },
      {
        "duration": 21,
        "start_time": "2022-05-31T18:34:05.007Z"
      },
      {
        "duration": 18259,
        "start_time": "2022-05-31T18:34:05.030Z"
      },
      {
        "duration": 6,
        "start_time": "2022-05-31T18:34:23.291Z"
      },
      {
        "duration": 370976,
        "start_time": "2022-05-31T18:34:23.298Z"
      },
      {
        "duration": 0,
        "start_time": "2022-05-31T18:40:34.276Z"
      },
      {
        "duration": 0,
        "start_time": "2022-05-31T18:40:34.277Z"
      },
      {
        "duration": 0,
        "start_time": "2022-05-31T18:40:34.279Z"
      },
      {
        "duration": 3,
        "start_time": "2022-05-31T18:40:42.378Z"
      },
      {
        "duration": 18033,
        "start_time": "2022-05-31T18:40:53.799Z"
      },
      {
        "duration": 5,
        "start_time": "2022-05-31T18:41:17.425Z"
      },
      {
        "duration": 3151,
        "start_time": "2022-05-31T18:41:23.589Z"
      },
      {
        "duration": 11,
        "start_time": "2022-05-31T18:41:40.988Z"
      },
      {
        "duration": 3135,
        "start_time": "2022-05-31T18:42:45.368Z"
      },
      {
        "duration": 3,
        "start_time": "2022-05-31T18:43:04.182Z"
      },
      {
        "duration": 3313,
        "start_time": "2022-05-31T18:43:11.998Z"
      },
      {
        "duration": 12,
        "start_time": "2022-05-31T18:44:12.619Z"
      },
      {
        "duration": 79,
        "start_time": "2022-05-31T18:44:22.717Z"
      },
      {
        "duration": 10,
        "start_time": "2022-05-31T18:44:27.653Z"
      },
      {
        "duration": 3518,
        "start_time": "2022-05-31T18:44:58.153Z"
      },
      {
        "duration": 146,
        "start_time": "2022-05-31T18:45:42.220Z"
      },
      {
        "duration": 4,
        "start_time": "2022-05-31T18:46:17.754Z"
      },
      {
        "duration": 80,
        "start_time": "2022-05-31T18:47:13.208Z"
      },
      {
        "duration": 3876,
        "start_time": "2022-05-31T18:48:06.730Z"
      },
      {
        "duration": 3604,
        "start_time": "2022-05-31T18:48:28.218Z"
      },
      {
        "duration": 3792,
        "start_time": "2022-05-31T18:48:58.713Z"
      },
      {
        "duration": 3582,
        "start_time": "2022-05-31T18:49:22.985Z"
      },
      {
        "duration": 3712,
        "start_time": "2022-05-31T18:49:38.651Z"
      },
      {
        "duration": 4023,
        "start_time": "2022-05-31T18:49:48.294Z"
      },
      {
        "duration": 895,
        "start_time": "2022-05-31T18:50:10.951Z"
      },
      {
        "duration": 829,
        "start_time": "2022-05-31T18:50:47.997Z"
      },
      {
        "duration": 909,
        "start_time": "2022-05-31T18:50:54.136Z"
      },
      {
        "duration": 851,
        "start_time": "2022-05-31T18:51:23.959Z"
      },
      {
        "duration": 493542,
        "start_time": "2022-05-31T18:51:48.487Z"
      },
      {
        "duration": 6,
        "start_time": "2022-05-31T19:01:35.423Z"
      },
      {
        "duration": 3,
        "start_time": "2022-05-31T19:03:49.374Z"
      },
      {
        "duration": 498177,
        "start_time": "2022-05-31T19:04:50.190Z"
      },
      {
        "duration": 23,
        "start_time": "2022-05-31T19:13:08.369Z"
      },
      {
        "duration": 21,
        "start_time": "2022-05-31T19:13:19.252Z"
      },
      {
        "duration": 5,
        "start_time": "2022-05-31T19:13:26.781Z"
      },
      {
        "duration": 20,
        "start_time": "2022-05-31T19:13:41.224Z"
      },
      {
        "duration": 816,
        "start_time": "2022-06-01T03:41:02.834Z"
      },
      {
        "duration": 115,
        "start_time": "2022-06-01T03:41:03.652Z"
      },
      {
        "duration": 14,
        "start_time": "2022-06-01T03:41:03.769Z"
      },
      {
        "duration": 9,
        "start_time": "2022-06-01T03:41:03.785Z"
      },
      {
        "duration": 20,
        "start_time": "2022-06-01T03:41:03.795Z"
      },
      {
        "duration": 6,
        "start_time": "2022-06-01T03:41:03.816Z"
      },
      {
        "duration": 552,
        "start_time": "2022-06-01T03:41:03.823Z"
      },
      {
        "duration": 92,
        "start_time": "2022-06-01T03:41:04.377Z"
      },
      {
        "duration": 129,
        "start_time": "2022-06-01T03:41:04.471Z"
      },
      {
        "duration": 107,
        "start_time": "2022-06-01T03:41:04.603Z"
      },
      {
        "duration": 124,
        "start_time": "2022-06-01T03:41:04.712Z"
      },
      {
        "duration": 92,
        "start_time": "2022-06-01T03:41:04.838Z"
      },
      {
        "duration": 124,
        "start_time": "2022-06-01T03:41:04.932Z"
      },
      {
        "duration": 98,
        "start_time": "2022-06-01T03:41:05.058Z"
      },
      {
        "duration": 141,
        "start_time": "2022-06-01T03:41:05.158Z"
      },
      {
        "duration": 3,
        "start_time": "2022-06-01T03:41:05.301Z"
      },
      {
        "duration": 8,
        "start_time": "2022-06-01T03:41:05.306Z"
      },
      {
        "duration": 16198,
        "start_time": "2022-06-01T03:41:05.316Z"
      },
      {
        "duration": 4,
        "start_time": "2022-06-01T03:41:21.515Z"
      },
      {
        "duration": 442243,
        "start_time": "2022-06-01T03:41:21.521Z"
      },
      {
        "duration": 4,
        "start_time": "2022-06-01T03:48:43.766Z"
      },
      {
        "duration": 29,
        "start_time": "2022-06-01T03:48:43.771Z"
      },
      {
        "duration": 18,
        "start_time": "2022-06-01T03:48:43.801Z"
      },
      {
        "duration": 124,
        "start_time": "2022-06-01T03:48:43.821Z"
      },
      {
        "duration": 61,
        "start_time": "2022-06-01T06:50:21.633Z"
      },
      {
        "duration": 1053,
        "start_time": "2022-06-01T06:50:28.771Z"
      },
      {
        "duration": 31,
        "start_time": "2022-06-01T06:50:29.826Z"
      },
      {
        "duration": 19,
        "start_time": "2022-06-01T06:50:29.858Z"
      },
      {
        "duration": 11,
        "start_time": "2022-06-01T06:50:29.879Z"
      },
      {
        "duration": 38,
        "start_time": "2022-06-01T06:50:29.892Z"
      },
      {
        "duration": 7,
        "start_time": "2022-06-01T06:50:29.932Z"
      },
      {
        "duration": 685,
        "start_time": "2022-06-01T06:50:29.941Z"
      },
      {
        "duration": 117,
        "start_time": "2022-06-01T06:50:30.628Z"
      },
      {
        "duration": 167,
        "start_time": "2022-06-01T06:50:30.747Z"
      },
      {
        "duration": 143,
        "start_time": "2022-06-01T06:50:30.917Z"
      },
      {
        "duration": 155,
        "start_time": "2022-06-01T06:50:31.063Z"
      },
      {
        "duration": 116,
        "start_time": "2022-06-01T06:50:31.220Z"
      },
      {
        "duration": 151,
        "start_time": "2022-06-01T06:50:31.338Z"
      },
      {
        "duration": 123,
        "start_time": "2022-06-01T06:50:31.491Z"
      },
      {
        "duration": 169,
        "start_time": "2022-06-01T06:50:31.616Z"
      },
      {
        "duration": 5,
        "start_time": "2022-06-01T06:50:31.788Z"
      },
      {
        "duration": 21,
        "start_time": "2022-06-01T06:50:31.800Z"
      },
      {
        "duration": 31,
        "start_time": "2022-06-01T06:50:31.823Z"
      },
      {
        "duration": 19489,
        "start_time": "2022-06-01T06:50:31.857Z"
      },
      {
        "duration": 5,
        "start_time": "2022-06-01T06:50:51.348Z"
      },
      {
        "duration": 538898,
        "start_time": "2022-06-01T06:50:51.355Z"
      },
      {
        "duration": 6,
        "start_time": "2022-06-01T06:59:50.255Z"
      },
      {
        "duration": 24,
        "start_time": "2022-06-01T06:59:50.262Z"
      },
      {
        "duration": 21,
        "start_time": "2022-06-01T06:59:50.300Z"
      },
      {
        "duration": 9,
        "start_time": "2022-06-01T06:59:50.324Z"
      },
      {
        "duration": 9,
        "start_time": "2022-06-01T07:18:42.200Z"
      },
      {
        "duration": 28,
        "start_time": "2022-06-01T16:10:33.492Z"
      },
      {
        "duration": 47,
        "start_time": "2022-06-01T16:10:37.413Z"
      },
      {
        "duration": 57,
        "start_time": "2022-06-01T16:15:01.540Z"
      },
      {
        "duration": 1171,
        "start_time": "2022-06-01T16:15:09.207Z"
      },
      {
        "duration": 110,
        "start_time": "2022-06-01T16:15:10.380Z"
      },
      {
        "duration": 18,
        "start_time": "2022-06-01T16:15:10.491Z"
      },
      {
        "duration": 14,
        "start_time": "2022-06-01T16:15:10.511Z"
      },
      {
        "duration": 35,
        "start_time": "2022-06-01T16:15:10.526Z"
      },
      {
        "duration": 7,
        "start_time": "2022-06-01T16:15:10.564Z"
      },
      {
        "duration": 670,
        "start_time": "2022-06-01T16:15:10.573Z"
      },
      {
        "duration": 122,
        "start_time": "2022-06-01T16:15:11.245Z"
      },
      {
        "duration": 196,
        "start_time": "2022-06-01T16:15:11.368Z"
      },
      {
        "duration": 135,
        "start_time": "2022-06-01T16:15:11.568Z"
      },
      {
        "duration": 174,
        "start_time": "2022-06-01T16:15:11.704Z"
      },
      {
        "duration": 122,
        "start_time": "2022-06-01T16:15:11.880Z"
      },
      {
        "duration": 162,
        "start_time": "2022-06-01T16:15:12.004Z"
      },
      {
        "duration": 128,
        "start_time": "2022-06-01T16:15:12.168Z"
      },
      {
        "duration": 149,
        "start_time": "2022-06-01T16:15:12.298Z"
      },
      {
        "duration": 4,
        "start_time": "2022-06-01T16:15:12.449Z"
      },
      {
        "duration": 92,
        "start_time": "2022-06-01T16:15:12.455Z"
      },
      {
        "duration": 17,
        "start_time": "2022-06-01T16:15:23.800Z"
      },
      {
        "duration": 12,
        "start_time": "2022-06-01T16:17:02.083Z"
      },
      {
        "duration": 11,
        "start_time": "2022-06-01T16:17:32.004Z"
      },
      {
        "duration": 3,
        "start_time": "2022-06-01T16:20:05.684Z"
      },
      {
        "duration": 7,
        "start_time": "2022-06-01T16:20:15.843Z"
      },
      {
        "duration": 6196,
        "start_time": "2022-06-01T16:29:03.855Z"
      },
      {
        "duration": 5,
        "start_time": "2022-06-01T16:30:14.388Z"
      },
      {
        "duration": 6115,
        "start_time": "2022-06-01T16:30:24.961Z"
      },
      {
        "duration": 6,
        "start_time": "2022-06-01T16:30:33.810Z"
      },
      {
        "duration": 5,
        "start_time": "2022-06-01T16:32:53.999Z"
      },
      {
        "duration": 4,
        "start_time": "2022-06-01T16:35:49.681Z"
      },
      {
        "duration": 56124,
        "start_time": "2022-06-01T16:35:58.333Z"
      },
      {
        "duration": 467712,
        "start_time": "2022-06-01T16:37:05.950Z"
      },
      {
        "duration": 4,
        "start_time": "2022-06-01T16:44:53.664Z"
      },
      {
        "duration": 3,
        "start_time": "2022-06-01T16:44:57.774Z"
      },
      {
        "duration": 37,
        "start_time": "2022-06-01T16:44:57.779Z"
      },
      {
        "duration": 11,
        "start_time": "2022-06-01T16:44:57.819Z"
      },
      {
        "duration": 18,
        "start_time": "2022-06-01T16:44:57.832Z"
      },
      {
        "duration": 26,
        "start_time": "2022-06-01T16:44:57.853Z"
      },
      {
        "duration": 6,
        "start_time": "2022-06-01T16:44:57.880Z"
      },
      {
        "duration": 154,
        "start_time": "2022-06-01T16:44:57.887Z"
      },
      {
        "duration": 108,
        "start_time": "2022-06-01T16:44:58.043Z"
      },
      {
        "duration": 149,
        "start_time": "2022-06-01T16:44:58.153Z"
      },
      {
        "duration": 128,
        "start_time": "2022-06-01T16:44:58.304Z"
      },
      {
        "duration": 143,
        "start_time": "2022-06-01T16:44:58.435Z"
      },
      {
        "duration": 111,
        "start_time": "2022-06-01T16:44:58.579Z"
      },
      {
        "duration": 152,
        "start_time": "2022-06-01T16:44:58.692Z"
      },
      {
        "duration": 140,
        "start_time": "2022-06-01T16:44:58.846Z"
      },
      {
        "duration": 150,
        "start_time": "2022-06-01T16:44:58.988Z"
      },
      {
        "duration": 4,
        "start_time": "2022-06-01T16:44:59.140Z"
      },
      {
        "duration": 15,
        "start_time": "2022-06-01T16:44:59.145Z"
      },
      {
        "duration": 6183,
        "start_time": "2022-06-01T16:44:59.162Z"
      },
      {
        "duration": 4,
        "start_time": "2022-06-01T16:45:05.347Z"
      },
      {
        "duration": 1010235,
        "start_time": "2022-06-01T16:45:05.353Z"
      },
      {
        "duration": 4,
        "start_time": "2022-06-01T17:01:55.590Z"
      },
      {
        "duration": 439,
        "start_time": "2022-06-01T17:01:55.595Z"
      },
      {
        "duration": 129,
        "start_time": "2022-06-01T17:01:56.127Z"
      },
      {
        "duration": 6898,
        "start_time": "2022-06-01T18:03:00.038Z"
      },
      {
        "duration": 7887,
        "start_time": "2022-06-01T18:03:58.344Z"
      },
      {
        "duration": 3329,
        "start_time": "2022-06-01T18:04:09.406Z"
      },
      {
        "duration": 3061,
        "start_time": "2022-06-01T18:04:23.774Z"
      },
      {
        "duration": 583,
        "start_time": "2022-06-01T18:04:31.443Z"
      },
      {
        "duration": 813,
        "start_time": "2022-06-01T18:04:40.023Z"
      },
      {
        "duration": 18,
        "start_time": "2022-06-01T18:04:59.822Z"
      },
      {
        "duration": 800,
        "start_time": "2022-06-01T18:05:05.629Z"
      },
      {
        "duration": 534,
        "start_time": "2022-06-01T18:05:23.998Z"
      },
      {
        "duration": 1511,
        "start_time": "2022-06-01T18:05:37.725Z"
      },
      {
        "duration": 617,
        "start_time": "2022-06-01T18:05:44.711Z"
      },
      {
        "duration": 11,
        "start_time": "2022-06-01T18:06:30.247Z"
      },
      {
        "duration": 4,
        "start_time": "2022-06-01T18:06:38.678Z"
      },
      {
        "duration": 31,
        "start_time": "2022-06-01T18:27:28.874Z"
      },
      {
        "duration": 1346,
        "start_time": "2022-06-01T20:00:15.002Z"
      },
      {
        "duration": 117,
        "start_time": "2022-06-01T20:00:25.075Z"
      },
      {
        "duration": 17,
        "start_time": "2022-06-01T20:00:25.802Z"
      },
      {
        "duration": 12,
        "start_time": "2022-06-01T20:00:26.969Z"
      },
      {
        "duration": 4,
        "start_time": "2022-06-01T20:00:36.353Z"
      },
      {
        "duration": 8,
        "start_time": "2022-06-01T20:00:39.490Z"
      },
      {
        "duration": 6,
        "start_time": "2022-06-01T20:03:30.999Z"
      },
      {
        "duration": 7,
        "start_time": "2022-06-01T20:05:14.122Z"
      },
      {
        "duration": 1026,
        "start_time": "2022-06-02T09:07:22.158Z"
      },
      {
        "duration": 32,
        "start_time": "2022-06-02T09:07:23.186Z"
      },
      {
        "duration": 30,
        "start_time": "2022-06-02T09:07:23.220Z"
      },
      {
        "duration": 45,
        "start_time": "2022-06-02T09:07:23.251Z"
      },
      {
        "duration": 58,
        "start_time": "2022-06-02T09:07:23.299Z"
      },
      {
        "duration": 52,
        "start_time": "2022-06-02T09:07:23.359Z"
      },
      {
        "duration": 721,
        "start_time": "2022-06-02T09:07:23.414Z"
      },
      {
        "duration": 114,
        "start_time": "2022-06-02T09:07:24.144Z"
      },
      {
        "duration": 174,
        "start_time": "2022-06-02T09:07:24.259Z"
      },
      {
        "duration": 163,
        "start_time": "2022-06-02T09:07:24.435Z"
      },
      {
        "duration": 164,
        "start_time": "2022-06-02T09:07:24.600Z"
      },
      {
        "duration": 114,
        "start_time": "2022-06-02T09:07:24.767Z"
      },
      {
        "duration": 168,
        "start_time": "2022-06-02T09:07:24.883Z"
      },
      {
        "duration": 128,
        "start_time": "2022-06-02T09:07:25.055Z"
      },
      {
        "duration": 177,
        "start_time": "2022-06-02T09:07:25.185Z"
      },
      {
        "duration": 5,
        "start_time": "2022-06-02T09:07:25.364Z"
      },
      {
        "duration": 41,
        "start_time": "2022-06-02T09:07:25.370Z"
      },
      {
        "duration": 6267,
        "start_time": "2022-06-02T09:07:25.413Z"
      },
      {
        "duration": 5,
        "start_time": "2022-06-02T09:07:31.683Z"
      },
      {
        "duration": 1084409,
        "start_time": "2022-06-02T09:07:31.690Z"
      },
      {
        "duration": 6,
        "start_time": "2022-06-02T09:25:36.101Z"
      },
      {
        "duration": 638,
        "start_time": "2022-06-02T09:25:36.109Z"
      },
      {
        "duration": 6,
        "start_time": "2022-06-02T09:25:36.750Z"
      },
      {
        "duration": 136,
        "start_time": "2022-06-02T09:25:36.757Z"
      },
      {
        "duration": 6,
        "start_time": "2022-06-02T09:25:36.895Z"
      }
    ],
    "kernelspec": {
      "display_name": "Python 3",
      "language": "python",
      "name": "python3"
    },
    "language_info": {
      "codemirror_mode": {
        "name": "ipython",
        "version": 3
      },
      "file_extension": ".py",
      "mimetype": "text/x-python",
      "name": "python",
      "nbconvert_exporter": "python",
      "pygments_lexer": "ipython3",
      "version": "3.9.2"
    },
    "toc": {
      "base_numbering": 1,
      "nav_menu": {},
      "number_sections": true,
      "sideBar": true,
      "skip_h1_title": true,
      "title_cell": "Table of Contents",
      "title_sidebar": "Contents",
      "toc_cell": false,
      "toc_position": {},
      "toc_section_display": true,
      "toc_window_display": false
    },
    "colab": {
      "provenance": [],
      "collapsed_sections": [],
      "toc_visible": true
    }
  },
  "nbformat": 4,
  "nbformat_minor": 0
}